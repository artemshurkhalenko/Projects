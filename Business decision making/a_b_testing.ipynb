{
 "cells": [
  {
   "cell_type": "markdown",
   "metadata": {},
   "source": [
    "# Принятие решений в бизнесе"
   ]
  },
  {
   "cell_type": "markdown",
   "metadata": {},
   "source": [
    "**Заказчик**: крупный интернет-магазин"
   ]
  },
  {
   "cell_type": "markdown",
   "metadata": {},
   "source": [
    "**Цели исследования**: \n",
    "\n",
    "1. приоретизировать гипотезы по увеличению выручки интернет-магазина;\n",
    "2. провести А/В тест, проанализировать его результаты и принять один из вариантов решений:\n",
    "- остановка теста и фиксация победы одной из групп;\n",
    "- остановка теста и фиксация отсутствия отличий между группами;\n",
    "- продолжение теста.\n"
   ]
  },
  {
   "cell_type": "markdown",
   "metadata": {},
   "source": [
    "**Входные данные**:"
   ]
  },
  {
   "cell_type": "markdown",
   "metadata": {},
   "source": [
    "**1.** Файл /datasets/hypothesis.csv.\n",
    "- Hypothesis — краткое описание гипотезы;\n",
    "- Reach — охват пользователей по 10-балльной шкале;\n",
    "- Impact — влияние на пользователей по 10-балльной шкале;\n",
    "- Confidence — уверенность в гипотезе по 10-балльной шкале;\n",
    "- Efforts — затраты ресурсов на проверку гипотезы по 10-балльной шкале. Чем больше значение Efforts, тем дороже проверка гипотезы."
   ]
  },
  {
   "cell_type": "markdown",
   "metadata": {},
   "source": [
    "**2.** Файл /datasets/orders.csv.\n",
    "- transactionId — идентификатор заказа;\n",
    "- visitorId — идентификатор пользователя, совершившего заказ;\n",
    "- date — дата, когда был совершён заказ;\n",
    "- revenue — выручка заказа;\n",
    "- group — группа A/B-теста, в которую попал заказ.\n",
    "\n",
    "**3.** Файл /datasets/visitors.csv.\n",
    "- date — дата;\n",
    "- group — группа A/B-теста;\n",
    "- visitors — количество пользователей в указанную дату в указанной группе A/B-теста"
   ]
  },
  {
   "cell_type": "markdown",
   "metadata": {},
   "source": [
    "**Ход исследования**:"
   ]
  },
  {
   "cell_type": "markdown",
   "metadata": {},
   "source": [
    "Наше исследование можно разделить на три этапа:\n",
    "\n",
    "1. **Обзор и предобработка данных** (откроем все датасеты, проверим их на дубли, пропуски и формат данных);\n",
    "2. **Приоретизация гипотез** (приоретизируем гипотезы с помощью разных фреймворков и проведем анализ получившихся результатов);\n",
    "3. **Анализ А/В теста** (сравним разные метрики двух групп, построим наглядные графики и примем решение по результатам тестирования."
   ]
  },
  {
   "cell_type": "markdown",
   "metadata": {},
   "source": [
    "## Обзор и предобработка данных"
   ]
  },
  {
   "cell_type": "markdown",
   "metadata": {},
   "source": [
    "В первой части исследования мы ознакомимся с данными, проверим их на наличие пропусков и дубликатов, посмотрим на формат данных в столбцах."
   ]
  },
  {
   "cell_type": "code",
   "execution_count": 1,
   "metadata": {},
   "outputs": [],
   "source": [
    "# Импортируем все необходимые библиотеки\n",
    "\n",
    "import pandas as pd\n",
    "import numpy as np\n",
    "import matplotlib.pyplot as plt\n",
    "import datetime as dt\n",
    "import scipy.stats as stats\n",
    "from matplotlib.pyplot import figure"
   ]
  },
  {
   "cell_type": "markdown",
   "metadata": {},
   "source": [
    "- Рассмотрим датасет ***hypotesis***"
   ]
  },
  {
   "cell_type": "code",
   "execution_count": 2,
   "metadata": {},
   "outputs": [],
   "source": [
    "hypothesis = pd.read_csv('/datasets/hypothesis.csv')"
   ]
  },
  {
   "cell_type": "code",
   "execution_count": 3,
   "metadata": {},
   "outputs": [
    {
     "name": "stdout",
     "output_type": "stream",
     "text": [
      "<class 'pandas.core.frame.DataFrame'>\n",
      "RangeIndex: 9 entries, 0 to 8\n",
      "Data columns (total 5 columns):\n",
      " #   Column      Non-Null Count  Dtype \n",
      "---  ------      --------------  ----- \n",
      " 0   Hypothesis  9 non-null      object\n",
      " 1   Reach       9 non-null      int64 \n",
      " 2   Impact      9 non-null      int64 \n",
      " 3   Confidence  9 non-null      int64 \n",
      " 4   Efforts     9 non-null      int64 \n",
      "dtypes: int64(4), object(1)\n",
      "memory usage: 488.0+ bytes\n"
     ]
    },
    {
     "data": {
      "text/html": [
       "<div>\n",
       "<style scoped>\n",
       "    .dataframe tbody tr th:only-of-type {\n",
       "        vertical-align: middle;\n",
       "    }\n",
       "\n",
       "    .dataframe tbody tr th {\n",
       "        vertical-align: top;\n",
       "    }\n",
       "\n",
       "    .dataframe thead th {\n",
       "        text-align: right;\n",
       "    }\n",
       "</style>\n",
       "<table border=\"1\" class=\"dataframe\">\n",
       "  <thead>\n",
       "    <tr style=\"text-align: right;\">\n",
       "      <th></th>\n",
       "      <th>Hypothesis</th>\n",
       "      <th>Reach</th>\n",
       "      <th>Impact</th>\n",
       "      <th>Confidence</th>\n",
       "      <th>Efforts</th>\n",
       "    </tr>\n",
       "  </thead>\n",
       "  <tbody>\n",
       "    <tr>\n",
       "      <th>0</th>\n",
       "      <td>Добавить два новых канала привлечения трафика,...</td>\n",
       "      <td>3</td>\n",
       "      <td>10</td>\n",
       "      <td>8</td>\n",
       "      <td>6</td>\n",
       "    </tr>\n",
       "    <tr>\n",
       "      <th>1</th>\n",
       "      <td>Запустить собственную службу доставки, что сок...</td>\n",
       "      <td>2</td>\n",
       "      <td>5</td>\n",
       "      <td>4</td>\n",
       "      <td>10</td>\n",
       "    </tr>\n",
       "    <tr>\n",
       "      <th>2</th>\n",
       "      <td>Добавить блоки рекомендаций товаров на сайт ин...</td>\n",
       "      <td>8</td>\n",
       "      <td>3</td>\n",
       "      <td>7</td>\n",
       "      <td>3</td>\n",
       "    </tr>\n",
       "    <tr>\n",
       "      <th>3</th>\n",
       "      <td>Изменить структура категорий, что увеличит кон...</td>\n",
       "      <td>8</td>\n",
       "      <td>3</td>\n",
       "      <td>3</td>\n",
       "      <td>8</td>\n",
       "    </tr>\n",
       "    <tr>\n",
       "      <th>4</th>\n",
       "      <td>Изменить цвет фона главной страницы, чтобы уве...</td>\n",
       "      <td>3</td>\n",
       "      <td>1</td>\n",
       "      <td>1</td>\n",
       "      <td>1</td>\n",
       "    </tr>\n",
       "    <tr>\n",
       "      <th>5</th>\n",
       "      <td>Добавить страницу отзывов клиентов о магазине,...</td>\n",
       "      <td>3</td>\n",
       "      <td>2</td>\n",
       "      <td>2</td>\n",
       "      <td>3</td>\n",
       "    </tr>\n",
       "    <tr>\n",
       "      <th>6</th>\n",
       "      <td>Показать на главной странице баннеры с актуаль...</td>\n",
       "      <td>5</td>\n",
       "      <td>3</td>\n",
       "      <td>8</td>\n",
       "      <td>3</td>\n",
       "    </tr>\n",
       "    <tr>\n",
       "      <th>7</th>\n",
       "      <td>Добавить форму подписки на все основные страни...</td>\n",
       "      <td>10</td>\n",
       "      <td>7</td>\n",
       "      <td>8</td>\n",
       "      <td>5</td>\n",
       "    </tr>\n",
       "    <tr>\n",
       "      <th>8</th>\n",
       "      <td>Запустить акцию, дающую скидку на товар в день...</td>\n",
       "      <td>1</td>\n",
       "      <td>9</td>\n",
       "      <td>9</td>\n",
       "      <td>5</td>\n",
       "    </tr>\n",
       "  </tbody>\n",
       "</table>\n",
       "</div>"
      ],
      "text/plain": [
       "                                          Hypothesis  Reach  Impact  \\\n",
       "0  Добавить два новых канала привлечения трафика,...      3      10   \n",
       "1  Запустить собственную службу доставки, что сок...      2       5   \n",
       "2  Добавить блоки рекомендаций товаров на сайт ин...      8       3   \n",
       "3  Изменить структура категорий, что увеличит кон...      8       3   \n",
       "4  Изменить цвет фона главной страницы, чтобы уве...      3       1   \n",
       "5  Добавить страницу отзывов клиентов о магазине,...      3       2   \n",
       "6  Показать на главной странице баннеры с актуаль...      5       3   \n",
       "7  Добавить форму подписки на все основные страни...     10       7   \n",
       "8  Запустить акцию, дающую скидку на товар в день...      1       9   \n",
       "\n",
       "   Confidence  Efforts  \n",
       "0           8        6  \n",
       "1           4       10  \n",
       "2           7        3  \n",
       "3           3        8  \n",
       "4           1        1  \n",
       "5           2        3  \n",
       "6           8        3  \n",
       "7           8        5  \n",
       "8           9        5  "
      ]
     },
     "execution_count": 3,
     "metadata": {},
     "output_type": "execute_result"
    }
   ],
   "source": [
    "hypothesis.info()\n",
    "hypothesis"
   ]
  },
  {
   "cell_type": "markdown",
   "metadata": {},
   "source": [
    "Переведем названия столбцов в нижний регистр, в соответствии с хорошим стилем и снимем ограничение на ширину столбцов."
   ]
  },
  {
   "cell_type": "code",
   "execution_count": 4,
   "metadata": {},
   "outputs": [],
   "source": [
    "hypothesis.columns = hypothesis.columns.str.lower()\n",
    "pd.set_option('display.max_colwidth', None)"
   ]
  },
  {
   "cell_type": "code",
   "execution_count": 5,
   "metadata": {},
   "outputs": [
    {
     "data": {
      "text/html": [
       "<div>\n",
       "<style scoped>\n",
       "    .dataframe tbody tr th:only-of-type {\n",
       "        vertical-align: middle;\n",
       "    }\n",
       "\n",
       "    .dataframe tbody tr th {\n",
       "        vertical-align: top;\n",
       "    }\n",
       "\n",
       "    .dataframe thead th {\n",
       "        text-align: right;\n",
       "    }\n",
       "</style>\n",
       "<table border=\"1\" class=\"dataframe\">\n",
       "  <thead>\n",
       "    <tr style=\"text-align: right;\">\n",
       "      <th></th>\n",
       "      <th>hypothesis</th>\n",
       "      <th>reach</th>\n",
       "      <th>impact</th>\n",
       "      <th>confidence</th>\n",
       "      <th>efforts</th>\n",
       "    </tr>\n",
       "  </thead>\n",
       "  <tbody>\n",
       "    <tr>\n",
       "      <th>0</th>\n",
       "      <td>Добавить два новых канала привлечения трафика, что позволит привлекать на 30% больше пользователей</td>\n",
       "      <td>3</td>\n",
       "      <td>10</td>\n",
       "      <td>8</td>\n",
       "      <td>6</td>\n",
       "    </tr>\n",
       "    <tr>\n",
       "      <th>1</th>\n",
       "      <td>Запустить собственную службу доставки, что сократит срок доставки заказов</td>\n",
       "      <td>2</td>\n",
       "      <td>5</td>\n",
       "      <td>4</td>\n",
       "      <td>10</td>\n",
       "    </tr>\n",
       "    <tr>\n",
       "      <th>2</th>\n",
       "      <td>Добавить блоки рекомендаций товаров на сайт интернет магазина, чтобы повысить конверсию и средний чек заказа</td>\n",
       "      <td>8</td>\n",
       "      <td>3</td>\n",
       "      <td>7</td>\n",
       "      <td>3</td>\n",
       "    </tr>\n",
       "    <tr>\n",
       "      <th>3</th>\n",
       "      <td>Изменить структура категорий, что увеличит конверсию, т.к. пользователи быстрее найдут нужный товар</td>\n",
       "      <td>8</td>\n",
       "      <td>3</td>\n",
       "      <td>3</td>\n",
       "      <td>8</td>\n",
       "    </tr>\n",
       "    <tr>\n",
       "      <th>4</th>\n",
       "      <td>Изменить цвет фона главной страницы, чтобы увеличить вовлеченность пользователей</td>\n",
       "      <td>3</td>\n",
       "      <td>1</td>\n",
       "      <td>1</td>\n",
       "      <td>1</td>\n",
       "    </tr>\n",
       "    <tr>\n",
       "      <th>5</th>\n",
       "      <td>Добавить страницу отзывов клиентов о магазине, что позволит увеличить количество заказов</td>\n",
       "      <td>3</td>\n",
       "      <td>2</td>\n",
       "      <td>2</td>\n",
       "      <td>3</td>\n",
       "    </tr>\n",
       "    <tr>\n",
       "      <th>6</th>\n",
       "      <td>Показать на главной странице баннеры с актуальными акциями и распродажами, чтобы увеличить конверсию</td>\n",
       "      <td>5</td>\n",
       "      <td>3</td>\n",
       "      <td>8</td>\n",
       "      <td>3</td>\n",
       "    </tr>\n",
       "    <tr>\n",
       "      <th>7</th>\n",
       "      <td>Добавить форму подписки на все основные страницы, чтобы собрать базу клиентов для email-рассылок</td>\n",
       "      <td>10</td>\n",
       "      <td>7</td>\n",
       "      <td>8</td>\n",
       "      <td>5</td>\n",
       "    </tr>\n",
       "    <tr>\n",
       "      <th>8</th>\n",
       "      <td>Запустить акцию, дающую скидку на товар в день рождения</td>\n",
       "      <td>1</td>\n",
       "      <td>9</td>\n",
       "      <td>9</td>\n",
       "      <td>5</td>\n",
       "    </tr>\n",
       "  </tbody>\n",
       "</table>\n",
       "</div>"
      ],
      "text/plain": [
       "                                                                                                     hypothesis  \\\n",
       "0            Добавить два новых канала привлечения трафика, что позволит привлекать на 30% больше пользователей   \n",
       "1                                     Запустить собственную службу доставки, что сократит срок доставки заказов   \n",
       "2  Добавить блоки рекомендаций товаров на сайт интернет магазина, чтобы повысить конверсию и средний чек заказа   \n",
       "3           Изменить структура категорий, что увеличит конверсию, т.к. пользователи быстрее найдут нужный товар   \n",
       "4                              Изменить цвет фона главной страницы, чтобы увеличить вовлеченность пользователей   \n",
       "5                      Добавить страницу отзывов клиентов о магазине, что позволит увеличить количество заказов   \n",
       "6          Показать на главной странице баннеры с актуальными акциями и распродажами, чтобы увеличить конверсию   \n",
       "7              Добавить форму подписки на все основные страницы, чтобы собрать базу клиентов для email-рассылок   \n",
       "8                                                       Запустить акцию, дающую скидку на товар в день рождения   \n",
       "\n",
       "   reach  impact  confidence  efforts  \n",
       "0      3      10           8        6  \n",
       "1      2       5           4       10  \n",
       "2      8       3           7        3  \n",
       "3      8       3           3        8  \n",
       "4      3       1           1        1  \n",
       "5      3       2           2        3  \n",
       "6      5       3           8        3  \n",
       "7     10       7           8        5  \n",
       "8      1       9           9        5  "
      ]
     },
     "execution_count": 5,
     "metadata": {},
     "output_type": "execute_result"
    }
   ],
   "source": [
    "hypothesis"
   ]
  },
  {
   "cell_type": "markdown",
   "metadata": {},
   "source": [
    "- Рассмотрим датасет ***orders***"
   ]
  },
  {
   "cell_type": "code",
   "execution_count": 6,
   "metadata": {},
   "outputs": [],
   "source": [
    "orders = pd.read_csv('/datasets/orders.csv')"
   ]
  },
  {
   "cell_type": "code",
   "execution_count": 7,
   "metadata": {},
   "outputs": [
    {
     "name": "stdout",
     "output_type": "stream",
     "text": [
      "<class 'pandas.core.frame.DataFrame'>\n",
      "RangeIndex: 1197 entries, 0 to 1196\n",
      "Data columns (total 5 columns):\n",
      " #   Column         Non-Null Count  Dtype \n",
      "---  ------         --------------  ----- \n",
      " 0   transactionId  1197 non-null   int64 \n",
      " 1   visitorId      1197 non-null   int64 \n",
      " 2   date           1197 non-null   object\n",
      " 3   revenue        1197 non-null   int64 \n",
      " 4   group          1197 non-null   object\n",
      "dtypes: int64(3), object(2)\n",
      "memory usage: 46.9+ KB\n"
     ]
    },
    {
     "data": {
      "text/html": [
       "<div>\n",
       "<style scoped>\n",
       "    .dataframe tbody tr th:only-of-type {\n",
       "        vertical-align: middle;\n",
       "    }\n",
       "\n",
       "    .dataframe tbody tr th {\n",
       "        vertical-align: top;\n",
       "    }\n",
       "\n",
       "    .dataframe thead th {\n",
       "        text-align: right;\n",
       "    }\n",
       "</style>\n",
       "<table border=\"1\" class=\"dataframe\">\n",
       "  <thead>\n",
       "    <tr style=\"text-align: right;\">\n",
       "      <th></th>\n",
       "      <th>transactionId</th>\n",
       "      <th>visitorId</th>\n",
       "      <th>date</th>\n",
       "      <th>revenue</th>\n",
       "      <th>group</th>\n",
       "    </tr>\n",
       "  </thead>\n",
       "  <tbody>\n",
       "    <tr>\n",
       "      <th>0</th>\n",
       "      <td>3667963787</td>\n",
       "      <td>3312258926</td>\n",
       "      <td>2019-08-15</td>\n",
       "      <td>1650</td>\n",
       "      <td>B</td>\n",
       "    </tr>\n",
       "    <tr>\n",
       "      <th>1</th>\n",
       "      <td>2804400009</td>\n",
       "      <td>3642806036</td>\n",
       "      <td>2019-08-15</td>\n",
       "      <td>730</td>\n",
       "      <td>B</td>\n",
       "    </tr>\n",
       "    <tr>\n",
       "      <th>2</th>\n",
       "      <td>2961555356</td>\n",
       "      <td>4069496402</td>\n",
       "      <td>2019-08-15</td>\n",
       "      <td>400</td>\n",
       "      <td>A</td>\n",
       "    </tr>\n",
       "    <tr>\n",
       "      <th>3</th>\n",
       "      <td>3797467345</td>\n",
       "      <td>1196621759</td>\n",
       "      <td>2019-08-15</td>\n",
       "      <td>9759</td>\n",
       "      <td>B</td>\n",
       "    </tr>\n",
       "    <tr>\n",
       "      <th>4</th>\n",
       "      <td>2282983706</td>\n",
       "      <td>2322279887</td>\n",
       "      <td>2019-08-15</td>\n",
       "      <td>2308</td>\n",
       "      <td>B</td>\n",
       "    </tr>\n",
       "    <tr>\n",
       "      <th>...</th>\n",
       "      <td>...</td>\n",
       "      <td>...</td>\n",
       "      <td>...</td>\n",
       "      <td>...</td>\n",
       "      <td>...</td>\n",
       "    </tr>\n",
       "    <tr>\n",
       "      <th>1192</th>\n",
       "      <td>2662137336</td>\n",
       "      <td>3733762160</td>\n",
       "      <td>2019-08-14</td>\n",
       "      <td>6490</td>\n",
       "      <td>B</td>\n",
       "    </tr>\n",
       "    <tr>\n",
       "      <th>1193</th>\n",
       "      <td>2203539145</td>\n",
       "      <td>370388673</td>\n",
       "      <td>2019-08-14</td>\n",
       "      <td>3190</td>\n",
       "      <td>A</td>\n",
       "    </tr>\n",
       "    <tr>\n",
       "      <th>1194</th>\n",
       "      <td>1807773912</td>\n",
       "      <td>573423106</td>\n",
       "      <td>2019-08-14</td>\n",
       "      <td>10550</td>\n",
       "      <td>A</td>\n",
       "    </tr>\n",
       "    <tr>\n",
       "      <th>1195</th>\n",
       "      <td>1947021204</td>\n",
       "      <td>1614305549</td>\n",
       "      <td>2019-08-14</td>\n",
       "      <td>100</td>\n",
       "      <td>A</td>\n",
       "    </tr>\n",
       "    <tr>\n",
       "      <th>1196</th>\n",
       "      <td>3936777065</td>\n",
       "      <td>2108080724</td>\n",
       "      <td>2019-08-15</td>\n",
       "      <td>202740</td>\n",
       "      <td>B</td>\n",
       "    </tr>\n",
       "  </tbody>\n",
       "</table>\n",
       "<p>1197 rows × 5 columns</p>\n",
       "</div>"
      ],
      "text/plain": [
       "      transactionId   visitorId        date  revenue group\n",
       "0        3667963787  3312258926  2019-08-15     1650     B\n",
       "1        2804400009  3642806036  2019-08-15      730     B\n",
       "2        2961555356  4069496402  2019-08-15      400     A\n",
       "3        3797467345  1196621759  2019-08-15     9759     B\n",
       "4        2282983706  2322279887  2019-08-15     2308     B\n",
       "...             ...         ...         ...      ...   ...\n",
       "1192     2662137336  3733762160  2019-08-14     6490     B\n",
       "1193     2203539145   370388673  2019-08-14     3190     A\n",
       "1194     1807773912   573423106  2019-08-14    10550     A\n",
       "1195     1947021204  1614305549  2019-08-14      100     A\n",
       "1196     3936777065  2108080724  2019-08-15   202740     B\n",
       "\n",
       "[1197 rows x 5 columns]"
      ]
     },
     "execution_count": 7,
     "metadata": {},
     "output_type": "execute_result"
    }
   ],
   "source": [
    "orders.info()\n",
    "orders"
   ]
  },
  {
   "cell_type": "code",
   "execution_count": 8,
   "metadata": {},
   "outputs": [],
   "source": [
    "# Приведем названия столбцов к хорошему стилю\n",
    "\n",
    "orders.rename(columns={'transactionId':'transaction_id', 'visitorId':'visitor_id'}, inplace=True)"
   ]
  },
  {
   "cell_type": "code",
   "execution_count": 9,
   "metadata": {},
   "outputs": [
    {
     "data": {
      "text/plain": [
       "transaction_id    0\n",
       "visitor_id        0\n",
       "date              0\n",
       "revenue           0\n",
       "group             0\n",
       "dtype: int64"
      ]
     },
     "execution_count": 9,
     "metadata": {},
     "output_type": "execute_result"
    }
   ],
   "source": [
    "# Проверим датафрейм на пропуски\n",
    "\n",
    "orders.isna().sum()"
   ]
  },
  {
   "cell_type": "code",
   "execution_count": 10,
   "metadata": {},
   "outputs": [
    {
     "data": {
      "text/plain": [
       "0"
      ]
     },
     "execution_count": 10,
     "metadata": {},
     "output_type": "execute_result"
    }
   ],
   "source": [
    "# Также проверяем датафрейм на дубли\n",
    "\n",
    "orders.duplicated().sum()"
   ]
  },
  {
   "cell_type": "markdown",
   "metadata": {},
   "source": [
    "Пропусков и дублей нет, но смущает то, что столбец `date` имеет формат `object`, нужно исправить его на корректный."
   ]
  },
  {
   "cell_type": "code",
   "execution_count": 11,
   "metadata": {},
   "outputs": [],
   "source": [
    "orders['date'] = pd.to_datetime(orders['date'])"
   ]
  },
  {
   "cell_type": "markdown",
   "metadata": {},
   "source": [
    "- Рассмотрим датасет ***visitors***"
   ]
  },
  {
   "cell_type": "code",
   "execution_count": 12,
   "metadata": {},
   "outputs": [],
   "source": [
    "visitors = pd.read_csv('/datasets/visitors.csv')"
   ]
  },
  {
   "cell_type": "code",
   "execution_count": 13,
   "metadata": {},
   "outputs": [
    {
     "name": "stdout",
     "output_type": "stream",
     "text": [
      "<class 'pandas.core.frame.DataFrame'>\n",
      "RangeIndex: 62 entries, 0 to 61\n",
      "Data columns (total 3 columns):\n",
      " #   Column    Non-Null Count  Dtype \n",
      "---  ------    --------------  ----- \n",
      " 0   date      62 non-null     object\n",
      " 1   group     62 non-null     object\n",
      " 2   visitors  62 non-null     int64 \n",
      "dtypes: int64(1), object(2)\n",
      "memory usage: 1.6+ KB\n"
     ]
    },
    {
     "data": {
      "text/html": [
       "<div>\n",
       "<style scoped>\n",
       "    .dataframe tbody tr th:only-of-type {\n",
       "        vertical-align: middle;\n",
       "    }\n",
       "\n",
       "    .dataframe tbody tr th {\n",
       "        vertical-align: top;\n",
       "    }\n",
       "\n",
       "    .dataframe thead th {\n",
       "        text-align: right;\n",
       "    }\n",
       "</style>\n",
       "<table border=\"1\" class=\"dataframe\">\n",
       "  <thead>\n",
       "    <tr style=\"text-align: right;\">\n",
       "      <th></th>\n",
       "      <th>date</th>\n",
       "      <th>group</th>\n",
       "      <th>visitors</th>\n",
       "    </tr>\n",
       "  </thead>\n",
       "  <tbody>\n",
       "    <tr>\n",
       "      <th>0</th>\n",
       "      <td>2019-08-01</td>\n",
       "      <td>A</td>\n",
       "      <td>719</td>\n",
       "    </tr>\n",
       "    <tr>\n",
       "      <th>1</th>\n",
       "      <td>2019-08-02</td>\n",
       "      <td>A</td>\n",
       "      <td>619</td>\n",
       "    </tr>\n",
       "    <tr>\n",
       "      <th>2</th>\n",
       "      <td>2019-08-03</td>\n",
       "      <td>A</td>\n",
       "      <td>507</td>\n",
       "    </tr>\n",
       "    <tr>\n",
       "      <th>3</th>\n",
       "      <td>2019-08-04</td>\n",
       "      <td>A</td>\n",
       "      <td>717</td>\n",
       "    </tr>\n",
       "    <tr>\n",
       "      <th>4</th>\n",
       "      <td>2019-08-05</td>\n",
       "      <td>A</td>\n",
       "      <td>756</td>\n",
       "    </tr>\n",
       "    <tr>\n",
       "      <th>...</th>\n",
       "      <td>...</td>\n",
       "      <td>...</td>\n",
       "      <td>...</td>\n",
       "    </tr>\n",
       "    <tr>\n",
       "      <th>57</th>\n",
       "      <td>2019-08-27</td>\n",
       "      <td>B</td>\n",
       "      <td>720</td>\n",
       "    </tr>\n",
       "    <tr>\n",
       "      <th>58</th>\n",
       "      <td>2019-08-28</td>\n",
       "      <td>B</td>\n",
       "      <td>654</td>\n",
       "    </tr>\n",
       "    <tr>\n",
       "      <th>59</th>\n",
       "      <td>2019-08-29</td>\n",
       "      <td>B</td>\n",
       "      <td>531</td>\n",
       "    </tr>\n",
       "    <tr>\n",
       "      <th>60</th>\n",
       "      <td>2019-08-30</td>\n",
       "      <td>B</td>\n",
       "      <td>490</td>\n",
       "    </tr>\n",
       "    <tr>\n",
       "      <th>61</th>\n",
       "      <td>2019-08-31</td>\n",
       "      <td>B</td>\n",
       "      <td>718</td>\n",
       "    </tr>\n",
       "  </tbody>\n",
       "</table>\n",
       "<p>62 rows × 3 columns</p>\n",
       "</div>"
      ],
      "text/plain": [
       "          date group  visitors\n",
       "0   2019-08-01     A       719\n",
       "1   2019-08-02     A       619\n",
       "2   2019-08-03     A       507\n",
       "3   2019-08-04     A       717\n",
       "4   2019-08-05     A       756\n",
       "..         ...   ...       ...\n",
       "57  2019-08-27     B       720\n",
       "58  2019-08-28     B       654\n",
       "59  2019-08-29     B       531\n",
       "60  2019-08-30     B       490\n",
       "61  2019-08-31     B       718\n",
       "\n",
       "[62 rows x 3 columns]"
      ]
     },
     "execution_count": 13,
     "metadata": {},
     "output_type": "execute_result"
    }
   ],
   "source": [
    "visitors.info()\n",
    "visitors"
   ]
  },
  {
   "cell_type": "code",
   "execution_count": 14,
   "metadata": {},
   "outputs": [
    {
     "data": {
      "text/plain": [
       "date        0\n",
       "group       0\n",
       "visitors    0\n",
       "dtype: int64"
      ]
     },
     "execution_count": 14,
     "metadata": {},
     "output_type": "execute_result"
    }
   ],
   "source": [
    "# Проверим датафрей на пропуски\n",
    "\n",
    "visitors.isna().sum()"
   ]
  },
  {
   "cell_type": "code",
   "execution_count": 15,
   "metadata": {},
   "outputs": [
    {
     "data": {
      "text/plain": [
       "0"
      ]
     },
     "execution_count": 15,
     "metadata": {},
     "output_type": "execute_result"
    }
   ],
   "source": [
    "# Также проверяем датафрейм на дубли\n",
    "\n",
    "visitors.duplicated().sum()"
   ]
  },
  {
   "cell_type": "markdown",
   "metadata": {},
   "source": [
    "Пропусков и дублей нет, но смущает то, что столбец `date`, как и в датасете *orders* имеет формат `object`, нужно исправить его на корректный."
   ]
  },
  {
   "cell_type": "code",
   "execution_count": 16,
   "metadata": {},
   "outputs": [],
   "source": [
    "visitors['date'] = pd.to_datetime(visitors['date'])"
   ]
  },
  {
   "cell_type": "markdown",
   "metadata": {},
   "source": [
    "**Вывод**:\n",
    "Первая часть исследования позади. Мы ознакомились с данными, проверили их на наличие пропусков и дубликатов, привели названия столбцов к единому стилю и перевели столбцы в нужный формат там, где это было нужно. "
   ]
  },
  {
   "cell_type": "markdown",
   "metadata": {},
   "source": [
    "## Приоретизация гипотез"
   ]
  },
  {
   "cell_type": "markdown",
   "metadata": {},
   "source": [
    "Во второй части исследования для приоретизации гипотез мы будем использовать два фреймворка: **ICE** и **RICE**. После применения второго, нам нужно будет указать, как изменилась приоретизация гипотез и объяснить почему."
   ]
  },
  {
   "cell_type": "markdown",
   "metadata": {},
   "source": [
    "### Применяем фреймворк ICE дя приоретизации гипотез"
   ]
  },
  {
   "cell_type": "markdown",
   "metadata": {},
   "source": [
    "Для применения данного метода нам понадобится три компонента датафрейма *hypothesis*: `impact`, `confidence` и `efforts` (влияние, уверенность, усилия)"
   ]
  },
  {
   "cell_type": "code",
   "execution_count": 17,
   "metadata": {},
   "outputs": [
    {
     "data": {
      "text/html": [
       "<div>\n",
       "<style scoped>\n",
       "    .dataframe tbody tr th:only-of-type {\n",
       "        vertical-align: middle;\n",
       "    }\n",
       "\n",
       "    .dataframe tbody tr th {\n",
       "        vertical-align: top;\n",
       "    }\n",
       "\n",
       "    .dataframe thead th {\n",
       "        text-align: right;\n",
       "    }\n",
       "</style>\n",
       "<table border=\"1\" class=\"dataframe\">\n",
       "  <thead>\n",
       "    <tr style=\"text-align: right;\">\n",
       "      <th></th>\n",
       "      <th>hypothesis</th>\n",
       "      <th>ICE</th>\n",
       "    </tr>\n",
       "  </thead>\n",
       "  <tbody>\n",
       "    <tr>\n",
       "      <th>8</th>\n",
       "      <td>Запустить акцию, дающую скидку на товар в день рождения</td>\n",
       "      <td>16.20</td>\n",
       "    </tr>\n",
       "    <tr>\n",
       "      <th>0</th>\n",
       "      <td>Добавить два новых канала привлечения трафика, что позволит привлекать на 30% больше пользователей</td>\n",
       "      <td>13.33</td>\n",
       "    </tr>\n",
       "    <tr>\n",
       "      <th>7</th>\n",
       "      <td>Добавить форму подписки на все основные страницы, чтобы собрать базу клиентов для email-рассылок</td>\n",
       "      <td>11.20</td>\n",
       "    </tr>\n",
       "    <tr>\n",
       "      <th>6</th>\n",
       "      <td>Показать на главной странице баннеры с актуальными акциями и распродажами, чтобы увеличить конверсию</td>\n",
       "      <td>8.00</td>\n",
       "    </tr>\n",
       "    <tr>\n",
       "      <th>2</th>\n",
       "      <td>Добавить блоки рекомендаций товаров на сайт интернет магазина, чтобы повысить конверсию и средний чек заказа</td>\n",
       "      <td>7.00</td>\n",
       "    </tr>\n",
       "    <tr>\n",
       "      <th>1</th>\n",
       "      <td>Запустить собственную службу доставки, что сократит срок доставки заказов</td>\n",
       "      <td>2.00</td>\n",
       "    </tr>\n",
       "    <tr>\n",
       "      <th>5</th>\n",
       "      <td>Добавить страницу отзывов клиентов о магазине, что позволит увеличить количество заказов</td>\n",
       "      <td>1.33</td>\n",
       "    </tr>\n",
       "    <tr>\n",
       "      <th>3</th>\n",
       "      <td>Изменить структура категорий, что увеличит конверсию, т.к. пользователи быстрее найдут нужный товар</td>\n",
       "      <td>1.12</td>\n",
       "    </tr>\n",
       "    <tr>\n",
       "      <th>4</th>\n",
       "      <td>Изменить цвет фона главной страницы, чтобы увеличить вовлеченность пользователей</td>\n",
       "      <td>1.00</td>\n",
       "    </tr>\n",
       "  </tbody>\n",
       "</table>\n",
       "</div>"
      ],
      "text/plain": [
       "                                                                                                     hypothesis  \\\n",
       "8                                                       Запустить акцию, дающую скидку на товар в день рождения   \n",
       "0            Добавить два новых канала привлечения трафика, что позволит привлекать на 30% больше пользователей   \n",
       "7              Добавить форму подписки на все основные страницы, чтобы собрать базу клиентов для email-рассылок   \n",
       "6          Показать на главной странице баннеры с актуальными акциями и распродажами, чтобы увеличить конверсию   \n",
       "2  Добавить блоки рекомендаций товаров на сайт интернет магазина, чтобы повысить конверсию и средний чек заказа   \n",
       "1                                     Запустить собственную службу доставки, что сократит срок доставки заказов   \n",
       "5                      Добавить страницу отзывов клиентов о магазине, что позволит увеличить количество заказов   \n",
       "3           Изменить структура категорий, что увеличит конверсию, т.к. пользователи быстрее найдут нужный товар   \n",
       "4                              Изменить цвет фона главной страницы, чтобы увеличить вовлеченность пользователей   \n",
       "\n",
       "     ICE  \n",
       "8  16.20  \n",
       "0  13.33  \n",
       "7  11.20  \n",
       "6   8.00  \n",
       "2   7.00  \n",
       "1   2.00  \n",
       "5   1.33  \n",
       "3   1.12  \n",
       "4   1.00  "
      ]
     },
     "execution_count": 17,
     "metadata": {},
     "output_type": "execute_result"
    }
   ],
   "source": [
    "hypothesis['ICE'] = (hypothesis['impact'] * hypothesis['confidence']) / hypothesis['efforts']\n",
    "hypothesis[['hypothesis', 'ICE']].sort_values(by='ICE', ascending=False).round(2)"
   ]
  },
  {
   "cell_type": "code",
   "execution_count": 18,
   "metadata": {},
   "outputs": [
    {
     "data": {
      "image/png": "[encoded data removed]",
      "text/plain": [
       "<Figure size 432x288 with 1 Axes>"
      ]
     },
     "metadata": {
      "needs_background": "light"
     },
     "output_type": "display_data"
    }
   ],
   "source": [
    "# Визуализируем получившийся результат\n",
    "\n",
    "hypothesis[['hypothesis', 'ICE']].set_index('hypothesis')\\\n",
    ".sort_values(by='ICE').plot(kind='barh', title='Приоритет гипотезы методом ICE', color='#01a3d4', alpha=0.7);"
   ]
  },
  {
   "cell_type": "markdown",
   "metadata": {},
   "source": [
    "По итогу применения метода **ICE** можно выделить ТОП-5 гипотез, на которые стоит обратить внимание:\n",
    "`8`, `0`, `7`, `6`, `2`. Возглавляет список гипотеза под номером `8`."
   ]
  },
  {
   "cell_type": "markdown",
   "metadata": {},
   "source": [
    "### Применяем фреймворк RICE для приоретизации гипотез"
   ]
  },
  {
   "cell_type": "markdown",
   "metadata": {},
   "source": [
    "Чтобы применить метод RICE для приоретизации гипотез, добавим к предыдущему коду компонент Reach(охват)."
   ]
  },
  {
   "cell_type": "code",
   "execution_count": 19,
   "metadata": {},
   "outputs": [
    {
     "data": {
      "text/html": [
       "<div>\n",
       "<style scoped>\n",
       "    .dataframe tbody tr th:only-of-type {\n",
       "        vertical-align: middle;\n",
       "    }\n",
       "\n",
       "    .dataframe tbody tr th {\n",
       "        vertical-align: top;\n",
       "    }\n",
       "\n",
       "    .dataframe thead th {\n",
       "        text-align: right;\n",
       "    }\n",
       "</style>\n",
       "<table border=\"1\" class=\"dataframe\">\n",
       "  <thead>\n",
       "    <tr style=\"text-align: right;\">\n",
       "      <th></th>\n",
       "      <th>hypothesis</th>\n",
       "      <th>RICE</th>\n",
       "    </tr>\n",
       "  </thead>\n",
       "  <tbody>\n",
       "    <tr>\n",
       "      <th>7</th>\n",
       "      <td>Добавить форму подписки на все основные страницы, чтобы собрать базу клиентов для email-рассылок</td>\n",
       "      <td>112.0</td>\n",
       "    </tr>\n",
       "    <tr>\n",
       "      <th>2</th>\n",
       "      <td>Добавить блоки рекомендаций товаров на сайт интернет магазина, чтобы повысить конверсию и средний чек заказа</td>\n",
       "      <td>56.0</td>\n",
       "    </tr>\n",
       "    <tr>\n",
       "      <th>0</th>\n",
       "      <td>Добавить два новых канала привлечения трафика, что позволит привлекать на 30% больше пользователей</td>\n",
       "      <td>40.0</td>\n",
       "    </tr>\n",
       "    <tr>\n",
       "      <th>6</th>\n",
       "      <td>Показать на главной странице баннеры с актуальными акциями и распродажами, чтобы увеличить конверсию</td>\n",
       "      <td>40.0</td>\n",
       "    </tr>\n",
       "    <tr>\n",
       "      <th>8</th>\n",
       "      <td>Запустить акцию, дающую скидку на товар в день рождения</td>\n",
       "      <td>16.2</td>\n",
       "    </tr>\n",
       "    <tr>\n",
       "      <th>3</th>\n",
       "      <td>Изменить структура категорий, что увеличит конверсию, т.к. пользователи быстрее найдут нужный товар</td>\n",
       "      <td>9.0</td>\n",
       "    </tr>\n",
       "    <tr>\n",
       "      <th>1</th>\n",
       "      <td>Запустить собственную службу доставки, что сократит срок доставки заказов</td>\n",
       "      <td>4.0</td>\n",
       "    </tr>\n",
       "    <tr>\n",
       "      <th>5</th>\n",
       "      <td>Добавить страницу отзывов клиентов о магазине, что позволит увеличить количество заказов</td>\n",
       "      <td>4.0</td>\n",
       "    </tr>\n",
       "    <tr>\n",
       "      <th>4</th>\n",
       "      <td>Изменить цвет фона главной страницы, чтобы увеличить вовлеченность пользователей</td>\n",
       "      <td>3.0</td>\n",
       "    </tr>\n",
       "  </tbody>\n",
       "</table>\n",
       "</div>"
      ],
      "text/plain": [
       "                                                                                                     hypothesis  \\\n",
       "7              Добавить форму подписки на все основные страницы, чтобы собрать базу клиентов для email-рассылок   \n",
       "2  Добавить блоки рекомендаций товаров на сайт интернет магазина, чтобы повысить конверсию и средний чек заказа   \n",
       "0            Добавить два новых канала привлечения трафика, что позволит привлекать на 30% больше пользователей   \n",
       "6          Показать на главной странице баннеры с актуальными акциями и распродажами, чтобы увеличить конверсию   \n",
       "8                                                       Запустить акцию, дающую скидку на товар в день рождения   \n",
       "3           Изменить структура категорий, что увеличит конверсию, т.к. пользователи быстрее найдут нужный товар   \n",
       "1                                     Запустить собственную службу доставки, что сократит срок доставки заказов   \n",
       "5                      Добавить страницу отзывов клиентов о магазине, что позволит увеличить количество заказов   \n",
       "4                              Изменить цвет фона главной страницы, чтобы увеличить вовлеченность пользователей   \n",
       "\n",
       "    RICE  \n",
       "7  112.0  \n",
       "2   56.0  \n",
       "0   40.0  \n",
       "6   40.0  \n",
       "8   16.2  \n",
       "3    9.0  \n",
       "1    4.0  \n",
       "5    4.0  \n",
       "4    3.0  "
      ]
     },
     "execution_count": 19,
     "metadata": {},
     "output_type": "execute_result"
    }
   ],
   "source": [
    "hypothesis['RICE'] = (hypothesis['reach'] * hypothesis['impact'] * hypothesis['confidence']) / hypothesis['efforts']\n",
    "hypothesis[['hypothesis', 'RICE']].sort_values(by='RICE', ascending=False)"
   ]
  },
  {
   "cell_type": "code",
   "execution_count": 20,
   "metadata": {},
   "outputs": [
    {
     "data": {
      "image/png": "[encoded data removed]",
      "text/plain": [
       "<Figure size 432x288 with 1 Axes>"
      ]
     },
     "metadata": {
      "needs_background": "light"
     },
     "output_type": "display_data"
    }
   ],
   "source": [
    "# Визуализируем получившийся результат\n",
    "\n",
    "hypothesis[['hypothesis', 'RICE']]\\\n",
    ".set_index('hypothesis').sort_values(by='RICE')\\\n",
    ".plot(kind='barh', title='Приоритет гипотезы методом RICE', color='#01a3d4', alpha=0.7);"
   ]
  },
  {
   "cell_type": "markdown",
   "metadata": {},
   "source": [
    "Относительно метода **ICE**, порядок приоретизации гипотез изменился на следующий: `7`, `2`, `6`, `0`, `8`. Теперь на первом месте гипотеза под номером `7`."
   ]
  },
  {
   "cell_type": "markdown",
   "metadata": {},
   "source": [
    "**Вывод**:\n",
    "\n",
    "Метод **RICE** учитывает охват пользователей, которых изменение затронет, поэтому и приоритет зависит от этого показателя. Гипотеза под номером `7` имеет самый большой показатель *reach* равный 10 (из 10 возможных) среди всех представленных гипотез. Гипотеза под номером `2` тоже имеет довольно выстокий показатель *reach* равный 8. А вот гипотеза под номером `3` при идентичном показателе охвата в топ не входит вообще, потому что просаживается по остальным компонентам.  "
   ]
  },
  {
   "cell_type": "markdown",
   "metadata": {},
   "source": [
    "## Анализ A/B теста"
   ]
  },
  {
   "cell_type": "markdown",
   "metadata": {},
   "source": [
    "Узнаем, сколько групп участвуют в нашем тесте"
   ]
  },
  {
   "cell_type": "code",
   "execution_count": 21,
   "metadata": {},
   "outputs": [
    {
     "data": {
      "text/plain": [
       "array(['B', 'A'], dtype=object)"
      ]
     },
     "execution_count": 21,
     "metadata": {},
     "output_type": "execute_result"
    }
   ],
   "source": [
    "orders['group'].unique()"
   ]
  },
  {
   "cell_type": "markdown",
   "metadata": {},
   "source": [
    "В тесте участвуют две группы - `A` и `B`"
   ]
  },
  {
   "cell_type": "markdown",
   "metadata": {},
   "source": [
    "Посичтаем количество пользователей в каждой группе:"
   ]
  },
  {
   "cell_type": "code",
   "execution_count": 22,
   "metadata": {},
   "outputs": [
    {
     "data": {
      "text/plain": [
       "503"
      ]
     },
     "execution_count": 22,
     "metadata": {},
     "output_type": "execute_result"
    }
   ],
   "source": [
    "# Количество пользователей в группе A\n",
    "orders['visitor_id'][orders['group'] == \"A\"].nunique()"
   ]
  },
  {
   "cell_type": "code",
   "execution_count": 23,
   "metadata": {},
   "outputs": [
    {
     "data": {
      "text/plain": [
       "586"
      ]
     },
     "execution_count": 23,
     "metadata": {},
     "output_type": "execute_result"
    }
   ],
   "source": [
    "# Количество пользователей в группе B\n",
    "orders['visitor_id'][orders['group'] == \"B\"].nunique()"
   ]
  },
  {
   "cell_type": "markdown",
   "metadata": {},
   "source": [
    "Количество участников:\n",
    "    \n",
    "- Группа `A` **503**\n",
    "- Группа `B` **586**\n",
    "    \n",
    "У второй группы имеется небольшой перевес - около **16%**. В целом количества обоих групп соизмеримы для проведения теста."
   ]
  },
  {
   "cell_type": "markdown",
   "metadata": {},
   "source": [
    "Даты проведения тестирования:"
   ]
  },
  {
   "cell_type": "code",
   "execution_count": 24,
   "metadata": {},
   "outputs": [
    {
     "data": {
      "text/plain": [
       "Timestamp('2019-08-01 00:00:00')"
      ]
     },
     "execution_count": 24,
     "metadata": {},
     "output_type": "execute_result"
    }
   ],
   "source": [
    "orders['date'].min()"
   ]
  },
  {
   "cell_type": "code",
   "execution_count": 25,
   "metadata": {},
   "outputs": [
    {
     "data": {
      "text/plain": [
       "Timestamp('2019-08-31 00:00:00')"
      ]
     },
     "execution_count": 25,
     "metadata": {},
     "output_type": "execute_result"
    }
   ],
   "source": [
    "orders['date'].max()"
   ]
  },
  {
   "cell_type": "markdown",
   "metadata": {},
   "source": [
    "Видим, что тест проводился в промежутке с 01.08.2019 г. по 31.08.2019 г."
   ]
  },
  {
   "cell_type": "markdown",
   "metadata": {},
   "source": [
    "Проверим есть ли пользователи, участвовавшие в нескольких группах теста одновременно:"
   ]
  },
  {
   "cell_type": "code",
   "execution_count": 26,
   "metadata": {},
   "outputs": [
    {
     "data": {
      "text/plain": [
       "group    58\n",
       "dtype: int64"
      ]
     },
     "execution_count": 26,
     "metadata": {},
     "output_type": "execute_result"
    }
   ],
   "source": [
    "orders.groupby('visitor_id').agg({'group' : 'nunique'}).query('group > 1').count()"
   ]
  },
  {
   "cell_type": "markdown",
   "metadata": {},
   "source": [
    "В процентном соотношении количество пользователей, попавших в две группы теста составляет **4.8%**, что не превышает **5%**, так что мы можем оставить данные об этих пользователях."
   ]
  },
  {
   "cell_type": "markdown",
   "metadata": {},
   "source": [
    "Расчет **кумулятивных метрик**"
   ]
  },
  {
   "cell_type": "markdown",
   "metadata": {},
   "source": [
    "Для расчета кумулятивных(накапливаемых) данных и построения по ним графиков нам понадобится агрегированный датафрейм, содержащий следующую информацию:\n",
    "\n",
    "- дата;\n",
    "- группа исследования (А / В);\n",
    "- значение среднего чека;\n",
    "- кумулятивное кол-во посетителей магазина;\n",
    "- кумулятивное кол-во заказов и пользователей, которые их оформили."
   ]
  },
  {
   "cell_type": "code",
   "execution_count": 27,
   "metadata": {},
   "outputs": [],
   "source": [
    "# Создаем массив уникальных пар значений дат и групп теста\n",
    "\n",
    "dates_grouped = orders[['date', 'group']].drop_duplicates()"
   ]
  },
  {
   "cell_type": "code",
   "execution_count": 28,
   "metadata": {},
   "outputs": [
    {
     "data": {
      "text/html": [
       "<div>\n",
       "<style scoped>\n",
       "    .dataframe tbody tr th:only-of-type {\n",
       "        vertical-align: middle;\n",
       "    }\n",
       "\n",
       "    .dataframe tbody tr th {\n",
       "        vertical-align: top;\n",
       "    }\n",
       "\n",
       "    .dataframe thead th {\n",
       "        text-align: right;\n",
       "    }\n",
       "</style>\n",
       "<table border=\"1\" class=\"dataframe\">\n",
       "  <thead>\n",
       "    <tr style=\"text-align: right;\">\n",
       "      <th></th>\n",
       "      <th>date</th>\n",
       "      <th>group</th>\n",
       "      <th>transaction_id</th>\n",
       "      <th>visitor_id</th>\n",
       "      <th>revenue</th>\n",
       "    </tr>\n",
       "  </thead>\n",
       "  <tbody>\n",
       "    <tr>\n",
       "      <th>55</th>\n",
       "      <td>2019-08-01</td>\n",
       "      <td>A</td>\n",
       "      <td>24</td>\n",
       "      <td>20</td>\n",
       "      <td>148579</td>\n",
       "    </tr>\n",
       "    <tr>\n",
       "      <th>66</th>\n",
       "      <td>2019-08-01</td>\n",
       "      <td>B</td>\n",
       "      <td>21</td>\n",
       "      <td>20</td>\n",
       "      <td>101217</td>\n",
       "    </tr>\n",
       "    <tr>\n",
       "      <th>175</th>\n",
       "      <td>2019-08-02</td>\n",
       "      <td>A</td>\n",
       "      <td>44</td>\n",
       "      <td>38</td>\n",
       "      <td>242401</td>\n",
       "    </tr>\n",
       "    <tr>\n",
       "      <th>173</th>\n",
       "      <td>2019-08-02</td>\n",
       "      <td>B</td>\n",
       "      <td>45</td>\n",
       "      <td>43</td>\n",
       "      <td>266748</td>\n",
       "    </tr>\n",
       "    <tr>\n",
       "      <th>291</th>\n",
       "      <td>2019-08-03</td>\n",
       "      <td>A</td>\n",
       "      <td>68</td>\n",
       "      <td>62</td>\n",
       "      <td>354874</td>\n",
       "    </tr>\n",
       "    <tr>\n",
       "      <th>310</th>\n",
       "      <td>2019-08-03</td>\n",
       "      <td>B</td>\n",
       "      <td>61</td>\n",
       "      <td>59</td>\n",
       "      <td>380996</td>\n",
       "    </tr>\n",
       "    <tr>\n",
       "      <th>499</th>\n",
       "      <td>2019-08-04</td>\n",
       "      <td>A</td>\n",
       "      <td>84</td>\n",
       "      <td>77</td>\n",
       "      <td>425699</td>\n",
       "    </tr>\n",
       "    <tr>\n",
       "      <th>498</th>\n",
       "      <td>2019-08-04</td>\n",
       "      <td>B</td>\n",
       "      <td>78</td>\n",
       "      <td>75</td>\n",
       "      <td>489567</td>\n",
       "    </tr>\n",
       "    <tr>\n",
       "      <th>698</th>\n",
       "      <td>2019-08-05</td>\n",
       "      <td>A</td>\n",
       "      <td>109</td>\n",
       "      <td>100</td>\n",
       "      <td>549917</td>\n",
       "    </tr>\n",
       "    <tr>\n",
       "      <th>699</th>\n",
       "      <td>2019-08-05</td>\n",
       "      <td>B</td>\n",
       "      <td>101</td>\n",
       "      <td>98</td>\n",
       "      <td>581995</td>\n",
       "    </tr>\n",
       "  </tbody>\n",
       "</table>\n",
       "</div>"
      ],
      "text/plain": [
       "          date group  transaction_id  visitor_id  revenue\n",
       "55  2019-08-01     A              24          20   148579\n",
       "66  2019-08-01     B              21          20   101217\n",
       "175 2019-08-02     A              44          38   242401\n",
       "173 2019-08-02     B              45          43   266748\n",
       "291 2019-08-03     A              68          62   354874\n",
       "310 2019-08-03     B              61          59   380996\n",
       "499 2019-08-04     A              84          77   425699\n",
       "498 2019-08-04     B              78          75   489567\n",
       "698 2019-08-05     A             109         100   549917\n",
       "699 2019-08-05     B             101          98   581995"
      ]
     },
     "execution_count": 28,
     "metadata": {},
     "output_type": "execute_result"
    }
   ],
   "source": [
    "# Получаем агрегированные кумулятивные по дням данные о заказах \n",
    "\n",
    "orders_aggregated = dates_grouped.apply(\n",
    "    lambda x: orders[\n",
    "        np.logical_and(\n",
    "            orders['date'] <= x['date'], orders['group'] == x['group']\n",
    "        )\n",
    "    ].agg(\n",
    "        {\n",
    "            'date': 'max',\n",
    "            'group': 'max',\n",
    "            'transaction_id': 'nunique',\n",
    "            'visitor_id': 'nunique',\n",
    "            'revenue': 'sum',\n",
    "        }\n",
    "    ),\n",
    "    axis=1,\n",
    ").sort_values(by=['date', 'group'])\n",
    "\n",
    "orders_aggregated.head(10)"
   ]
  },
  {
   "cell_type": "code",
   "execution_count": 29,
   "metadata": {},
   "outputs": [
    {
     "data": {
      "text/html": [
       "<div>\n",
       "<style scoped>\n",
       "    .dataframe tbody tr th:only-of-type {\n",
       "        vertical-align: middle;\n",
       "    }\n",
       "\n",
       "    .dataframe tbody tr th {\n",
       "        vertical-align: top;\n",
       "    }\n",
       "\n",
       "    .dataframe thead th {\n",
       "        text-align: right;\n",
       "    }\n",
       "</style>\n",
       "<table border=\"1\" class=\"dataframe\">\n",
       "  <thead>\n",
       "    <tr style=\"text-align: right;\">\n",
       "      <th></th>\n",
       "      <th>date</th>\n",
       "      <th>group</th>\n",
       "      <th>visitors</th>\n",
       "    </tr>\n",
       "  </thead>\n",
       "  <tbody>\n",
       "    <tr>\n",
       "      <th>55</th>\n",
       "      <td>2019-08-01</td>\n",
       "      <td>A</td>\n",
       "      <td>719</td>\n",
       "    </tr>\n",
       "    <tr>\n",
       "      <th>66</th>\n",
       "      <td>2019-08-01</td>\n",
       "      <td>B</td>\n",
       "      <td>713</td>\n",
       "    </tr>\n",
       "    <tr>\n",
       "      <th>175</th>\n",
       "      <td>2019-08-02</td>\n",
       "      <td>A</td>\n",
       "      <td>1338</td>\n",
       "    </tr>\n",
       "    <tr>\n",
       "      <th>173</th>\n",
       "      <td>2019-08-02</td>\n",
       "      <td>B</td>\n",
       "      <td>1294</td>\n",
       "    </tr>\n",
       "    <tr>\n",
       "      <th>291</th>\n",
       "      <td>2019-08-03</td>\n",
       "      <td>A</td>\n",
       "      <td>1845</td>\n",
       "    </tr>\n",
       "    <tr>\n",
       "      <th>310</th>\n",
       "      <td>2019-08-03</td>\n",
       "      <td>B</td>\n",
       "      <td>1803</td>\n",
       "    </tr>\n",
       "    <tr>\n",
       "      <th>499</th>\n",
       "      <td>2019-08-04</td>\n",
       "      <td>A</td>\n",
       "      <td>2562</td>\n",
       "    </tr>\n",
       "    <tr>\n",
       "      <th>498</th>\n",
       "      <td>2019-08-04</td>\n",
       "      <td>B</td>\n",
       "      <td>2573</td>\n",
       "    </tr>\n",
       "    <tr>\n",
       "      <th>698</th>\n",
       "      <td>2019-08-05</td>\n",
       "      <td>A</td>\n",
       "      <td>3318</td>\n",
       "    </tr>\n",
       "    <tr>\n",
       "      <th>699</th>\n",
       "      <td>2019-08-05</td>\n",
       "      <td>B</td>\n",
       "      <td>3280</td>\n",
       "    </tr>\n",
       "  </tbody>\n",
       "</table>\n",
       "</div>"
      ],
      "text/plain": [
       "          date group  visitors\n",
       "55  2019-08-01     A       719\n",
       "66  2019-08-01     B       713\n",
       "175 2019-08-02     A      1338\n",
       "173 2019-08-02     B      1294\n",
       "291 2019-08-03     A      1845\n",
       "310 2019-08-03     B      1803\n",
       "499 2019-08-04     A      2562\n",
       "498 2019-08-04     B      2573\n",
       "698 2019-08-05     A      3318\n",
       "699 2019-08-05     B      3280"
      ]
     },
     "execution_count": 29,
     "metadata": {},
     "output_type": "execute_result"
    }
   ],
   "source": [
    "# Получаем агрегированные кумулятивные по дням данные о посетителях интернет-магазина \n",
    "\n",
    "visitors_aggregated = dates_grouped.apply(\n",
    "    lambda x: visitors[\n",
    "        np.logical_and(\n",
    "            visitors['date'] <= x['date'], visitors['group'] == x['group']\n",
    "        )\n",
    "    ].agg({'date': 'max', 'group': 'max', 'visitors': 'sum'}),\n",
    "    axis=1,\n",
    ").sort_values(by=['date', 'group'])\n",
    "\n",
    "visitors_aggregated.head(10)"
   ]
  },
  {
   "cell_type": "code",
   "execution_count": 30,
   "metadata": {},
   "outputs": [],
   "source": [
    "# Объединяем кумулятивные данные в одной таблице\n",
    "\n",
    "cumulative_data = orders_aggregated.merge(visitors_aggregated, \n",
    "                                        left_on=['date', 'group'], \n",
    "                                        right_on=['date', 'group'])\n",
    "# Присваиваем столбцам понятные названия\n",
    "\n",
    "cumulative_data.columns = ['date', 'group', 'orders', 'buyers', 'revenue', 'visitors']"
   ]
  },
  {
   "cell_type": "code",
   "execution_count": 31,
   "metadata": {},
   "outputs": [],
   "source": [
    "# Добавляем к нашему датафрейму столбец с конверсией\n",
    "\n",
    "cumulative_data['conversion'] = cumulative_data['orders'] / cumulative_data['visitors']"
   ]
  },
  {
   "cell_type": "markdown",
   "metadata": {},
   "source": [
    "Создаем два датафрейма с разбивкой по исследуемым группам"
   ]
  },
  {
   "cell_type": "code",
   "execution_count": 32,
   "metadata": {},
   "outputs": [],
   "source": [
    "# Датафрейм с кумулятивным количеством заказов и кумулятивной выручкой по дням в группе А\n",
    "\n",
    "cumulative_revenue_a = cumulative_data[cumulative_data['group']=='A'][['date','revenue', 'orders']]\n",
    "\n",
    "# Датафрейм с кумулятивным количеством заказов и кумулятивной выручкой по дням в группе B\n",
    "\n",
    "cumulative_revenue_b = cumulative_data[cumulative_data['group']=='B'][['date','revenue', 'orders']]"
   ]
  },
  {
   "cell_type": "markdown",
   "metadata": {},
   "source": [
    "### График кумулятивной выручки по группам"
   ]
  },
  {
   "cell_type": "code",
   "execution_count": 33,
   "metadata": {},
   "outputs": [
    {
     "data": {
      "image/png": "[encoded data removed]",
      "text/plain": [
       "<Figure size 960x480 with 1 Axes>"
      ]
     },
     "metadata": {
      "needs_background": "light"
     },
     "output_type": "display_data"
    }
   ],
   "source": [
    "figure(figsize=(12, 6), dpi=80)\n",
    "\n",
    "# Строим график выручки группы А\n",
    "\n",
    "plt.plot(cumulative_revenue_a['date'], cumulative_revenue_a['revenue'], label='A')\n",
    "\n",
    "# Строим график выручки группы B\n",
    "\n",
    "plt.plot(cumulative_revenue_b['date'], cumulative_revenue_b['revenue'], label='B')\n",
    "\n",
    "plt.title('График кумулятивной выручки по группам А и В')\n",
    "plt.xticks(rotation=35)\n",
    "plt.xlabel('Дата')\n",
    "plt.ylabel('Выручка')\n",
    "plt.legend();"
   ]
  },
  {
   "cell_type": "markdown",
   "metadata": {},
   "source": [
    "**Промежуточный вывод**:"
   ]
  },
  {
   "cell_type": "markdown",
   "metadata": {},
   "source": [
    "- Выручка группы `А` растет линейно и последовательно, но меньшими темпами, чем у группы `В`;\n",
    "- У группы `В` после 17 августа ннаблюдается резкий скачкообразный рост. Возможно, был всплеск числа заказов, либо появились очень дорогие заказы. "
   ]
  },
  {
   "cell_type": "markdown",
   "metadata": {},
   "source": [
    "### График кумулятивного среднего чека по группам"
   ]
  },
  {
   "cell_type": "code",
   "execution_count": 34,
   "metadata": {},
   "outputs": [
    {
     "data": {
      "image/png": "[encoded data removed]",
      "text/plain": [
       "<Figure size 960x480 with 1 Axes>"
      ]
     },
     "metadata": {
      "needs_background": "light"
     },
     "output_type": "display_data"
    }
   ],
   "source": [
    "figure(figsize=(12, 6), dpi=80)\n",
    "\n",
    "# Строим график кумулятивного среднего чека группы А\n",
    "\n",
    "plt.plot(cumulative_revenue_a['date'], cumulative_revenue_a['revenue']/cumulative_revenue_a['orders'], label='A')\n",
    "\n",
    "# Строим график кумулятивного среднего чека группы В\n",
    "\n",
    "plt.plot(cumulative_revenue_b['date'], cumulative_revenue_b['revenue']/cumulative_revenue_b['orders'], label='B')\n",
    "\n",
    "plt.title('График кумулятивного среднего чека по группам А и В')\n",
    "plt.xticks(rotation=35)\n",
    "plt.xlabel('Дата')\n",
    "plt.ylabel('Средний чек')\n",
    "plt.legend();"
   ]
  },
  {
   "cell_type": "markdown",
   "metadata": {},
   "source": [
    "**Промежуточный вывод**:"
   ]
  },
  {
   "cell_type": "markdown",
   "metadata": {},
   "source": [
    "- Кумулятивный средний чек группы `А` рос скачками, но стабилизировался после 13 августа;\n",
    "- Кумулятивный средний чек группы `B` на графике показывает резкий подъем после 17 августа, что может подтверждать ранее выдвинутую версию о появлении дорогих заказов."
   ]
  },
  {
   "cell_type": "markdown",
   "metadata": {},
   "source": [
    "### График относительного изменения кумулятивного среднего чека группы В к группе А"
   ]
  },
  {
   "cell_type": "code",
   "execution_count": 35,
   "metadata": {},
   "outputs": [],
   "source": [
    "# Собираем данные в одном датафрейме\n",
    "\n",
    "merged_cumulative_ab = cumulative_revenue_a.merge(cumulative_revenue_b, \n",
    "                                                   left_on='date',\n",
    "                                                   right_on='date',\n",
    "                                                   how='left',\n",
    "                                                   suffixes=['_a', '_b'])"
   ]
  },
  {
   "cell_type": "code",
   "execution_count": 36,
   "metadata": {},
   "outputs": [
    {
     "data": {
      "image/png": "[encoded data removed]",
      "text/plain": [
       "<Figure size 960x480 with 1 Axes>"
      ]
     },
     "metadata": {
      "needs_background": "light"
     },
     "output_type": "display_data"
    }
   ],
   "source": [
    "figure(figsize=(12, 6), dpi=80)\n",
    "\n",
    "# Строим отношение средних чеков\n",
    "\n",
    "plt.plot(merged_cumulative_ab['date'], (merged_cumulative_ab['revenue_b']/merged_cumulative_ab['orders_b'])\n",
    "         /(merged_cumulative_ab['revenue_a']/merged_cumulative_ab['orders_a'])-1)\n",
    "\n",
    "# Добавляем ось X\n",
    "                                 \n",
    "plt.axhline(y=0, color='grey', linestyle='--')\n",
    "plt.xticks(rotation=35)\n",
    "plt.xlabel('Дата')\n",
    "plt.ylabel('Относительное изменение среднего чека')\n",
    "plt.title('График относительного изменения кумулятивного среднего чека группы В к группе А');"
   ]
  },
  {
   "cell_type": "markdown",
   "metadata": {},
   "source": [
    "**Промежуточные выводы**:"
   ]
  },
  {
   "cell_type": "markdown",
   "metadata": {},
   "source": [
    "В нескольких точках график различия между сегментами резко «скачет». Однозначно есть крупные, дорогие заказы."
   ]
  },
  {
   "cell_type": "markdown",
   "metadata": {},
   "source": [
    "### График кумулятивного среднего количества заказов на поситетеля по группам"
   ]
  },
  {
   "cell_type": "code",
   "execution_count": 37,
   "metadata": {},
   "outputs": [],
   "source": [
    "# отделяем данные по группе A\n",
    "\n",
    "cumulative_orders_a = cumulative_data[cumulative_data['group']=='A']\n",
    "\n",
    "# отделяем данные по группе B\n",
    "\n",
    "cumulative_orders_b = cumulative_data[cumulative_data['group']=='B']"
   ]
  },
  {
   "cell_type": "code",
   "execution_count": 38,
   "metadata": {},
   "outputs": [
    {
     "data": {
      "image/png": "[encoded data removed]",
      "text/plain": [
       "<Figure size 960x480 with 1 Axes>"
      ]
     },
     "metadata": {
      "needs_background": "light"
     },
     "output_type": "display_data"
    }
   ],
   "source": [
    "plt.figure(figsize=(12, 6), dpi=80)\n",
    "\n",
    "cumulative_data['conversion'] = cumulative_data['orders']/cumulative_data['visitors']\n",
    " \n",
    "cumulative_data_a = cumulative_data[cumulative_data['group']=='A']\n",
    "cumulative_data_b = cumulative_data[cumulative_data['group']=='B']\n",
    "\n",
    "# Строим график выручки группы А\n",
    "\n",
    "plt.plot(cumulative_data_a['date'], cumulative_data_a['conversion'], label='A')\n",
    "\n",
    "# Строим график выручки группы B\n",
    "\n",
    "plt.plot(cumulative_data_b['date'], cumulative_data_b['conversion'], label='B')\n",
    "\n",
    "plt.title('График кумулятивного среднего кол-ва заказов на посетителя по группам А и В')\n",
    "plt.xticks(rotation=35)\n",
    "plt.xlabel('Дата')\n",
    "plt.ylabel('Среднее количество заказов')\n",
    "plt.legend();"
   ]
  },
  {
   "cell_type": "markdown",
   "metadata": {},
   "source": [
    "**Промежуточные выводы**:"
   ]
  },
  {
   "cell_type": "markdown",
   "metadata": {},
   "source": [
    "Кумулятивное среднее количество заказов группы `B` почти на всем протяжении исследования гораздо выше, чем у группы `A`. В начале тестирования динамика была \"рваная\", но ближе к середине значения стабилизировались."
   ]
  },
  {
   "cell_type": "markdown",
   "metadata": {},
   "source": [
    "### График относительного изменения кумулятивного среднего количества заказов на посетителя группы В к группе А"
   ]
  },
  {
   "cell_type": "code",
   "execution_count": 39,
   "metadata": {},
   "outputs": [],
   "source": [
    "# Собираем данные в одном датафрейме\n",
    "\n",
    "cumulative_orders_ab = cumulative_orders_a.merge(cumulative_orders_b, \n",
    "                                                   left_on='date',\n",
    "                                                   right_on='date',\n",
    "                                                   how='left',\n",
    "                                                   suffixes=['_a', '_b'])"
   ]
  },
  {
   "cell_type": "code",
   "execution_count": 40,
   "metadata": {},
   "outputs": [
    {
     "data": {
      "image/png": "[encoded data removed]",
      "text/plain": [
       "<Figure size 960x480 with 1 Axes>"
      ]
     },
     "metadata": {
      "needs_background": "light"
     },
     "output_type": "display_data"
    }
   ],
   "source": [
    "figure(figsize=(12, 6), dpi=80)\n",
    "\n",
    "# Строим отношение средних чеков\n",
    "\n",
    "plt.plot(cumulative_orders_ab['date'], cumulative_orders_ab['orders_b'] / cumulative_orders_ab['orders_a'] - 1)\n",
    "\n",
    "# Добавляем ось X\n",
    "                                 \n",
    "plt.axhline(y=0, color='grey', linestyle='--')\n",
    "plt.axhline(y=0.15, color='black', linestyle='--')\n",
    "plt.xticks(rotation=35)\n",
    "plt.xlabel('Дата')\n",
    "plt.ylabel('Относительное изменение среднего чека')\n",
    "plt.title('График относительного изменения кумулятивного среднего чека группы В к группе А');"
   ]
  },
  {
   "cell_type": "markdown",
   "metadata": {},
   "source": [
    "**Промежуточные выводы**:"
   ]
  },
  {
   "cell_type": "markdown",
   "metadata": {},
   "source": [
    "В начале теста кумулятивный средний чек группы `B` немного проигрывал группе `A`, но далее ситуация изменилась и показатель второй группы начал расти"
   ]
  },
  {
   "cell_type": "markdown",
   "metadata": {},
   "source": [
    "### Точечный график количества заказов по пользователям"
   ]
  },
  {
   "cell_type": "code",
   "execution_count": 41,
   "metadata": {},
   "outputs": [],
   "source": [
    "orders_by_users = (\n",
    "    orders.groupby('visitor_id', as_index=False)\n",
    "    .agg({'transaction_id': 'nunique'})\n",
    ")\n",
    "orders_by_users.columns =  ['visitor_id', 'orders']             "
   ]
  },
  {
   "cell_type": "code",
   "execution_count": 42,
   "metadata": {},
   "outputs": [
    {
     "data": {
      "image/png": "[encoded data removed]",
      "text/plain": [
       "<Figure size 720x400 with 1 Axes>"
      ]
     },
     "metadata": {
      "needs_background": "light"
     },
     "output_type": "display_data"
    }
   ],
   "source": [
    "figure(figsize=(9, 5), dpi=80)\n",
    "# Строим гистограмму кол-ва заказов на пользователя\n",
    "\n",
    "plt.hist(orders_by_users['orders']) \n",
    "plt.title('Количество заказов на пользователя')\n",
    "plt.xlabel('Количество заказов')\n",
    "plt.ylabel('Количество пользователей')\n",
    "plt.show() "
   ]
  },
  {
   "cell_type": "code",
   "execution_count": 43,
   "metadata": {},
   "outputs": [
    {
     "data": {
      "text/html": [
       "<div>\n",
       "<style scoped>\n",
       "    .dataframe tbody tr th:only-of-type {\n",
       "        vertical-align: middle;\n",
       "    }\n",
       "\n",
       "    .dataframe tbody tr th {\n",
       "        vertical-align: top;\n",
       "    }\n",
       "\n",
       "    .dataframe thead th {\n",
       "        text-align: right;\n",
       "    }\n",
       "</style>\n",
       "<table border=\"1\" class=\"dataframe\">\n",
       "  <thead>\n",
       "    <tr style=\"text-align: right;\">\n",
       "      <th></th>\n",
       "      <th>visitor_id</th>\n",
       "      <th>orders</th>\n",
       "    </tr>\n",
       "  </thead>\n",
       "  <tbody>\n",
       "    <tr>\n",
       "      <th>count</th>\n",
       "      <td>1.031000e+03</td>\n",
       "      <td>1031.000000</td>\n",
       "    </tr>\n",
       "    <tr>\n",
       "      <th>mean</th>\n",
       "      <td>2.130713e+09</td>\n",
       "      <td>1.161009</td>\n",
       "    </tr>\n",
       "    <tr>\n",
       "      <th>std</th>\n",
       "      <td>1.228157e+09</td>\n",
       "      <td>0.724919</td>\n",
       "    </tr>\n",
       "    <tr>\n",
       "      <th>min</th>\n",
       "      <td>5.114589e+06</td>\n",
       "      <td>1.000000</td>\n",
       "    </tr>\n",
       "    <tr>\n",
       "      <th>25%</th>\n",
       "      <td>1.048013e+09</td>\n",
       "      <td>1.000000</td>\n",
       "    </tr>\n",
       "    <tr>\n",
       "      <th>50%</th>\n",
       "      <td>2.147999e+09</td>\n",
       "      <td>1.000000</td>\n",
       "    </tr>\n",
       "    <tr>\n",
       "      <th>75%</th>\n",
       "      <td>3.154897e+09</td>\n",
       "      <td>1.000000</td>\n",
       "    </tr>\n",
       "    <tr>\n",
       "      <th>max</th>\n",
       "      <td>4.283872e+09</td>\n",
       "      <td>11.000000</td>\n",
       "    </tr>\n",
       "  </tbody>\n",
       "</table>\n",
       "</div>"
      ],
      "text/plain": [
       "         visitor_id       orders\n",
       "count  1.031000e+03  1031.000000\n",
       "mean   2.130713e+09     1.161009\n",
       "std    1.228157e+09     0.724919\n",
       "min    5.114589e+06     1.000000\n",
       "25%    1.048013e+09     1.000000\n",
       "50%    2.147999e+09     1.000000\n",
       "75%    3.154897e+09     1.000000\n",
       "max    4.283872e+09    11.000000"
      ]
     },
     "execution_count": 43,
     "metadata": {},
     "output_type": "execute_result"
    }
   ],
   "source": [
    "# Посмотрим на описательные характеристики\n",
    "\n",
    "orders_by_users.describe()"
   ]
  },
  {
   "cell_type": "code",
   "execution_count": 44,
   "metadata": {},
   "outputs": [
    {
     "data": {
      "image/png": "[encoded data removed]",
      "text/plain": [
       "<Figure size 800x480 with 1 Axes>"
      ]
     },
     "metadata": {
      "needs_background": "light"
     },
     "output_type": "display_data"
    }
   ],
   "source": [
    "figure(figsize=(10, 6), dpi=80)\n",
    "x_values = pd.Series(range(0,len(orders_by_users)))\n",
    "\n",
    "# Строим scatter-диаграмму\n",
    "\n",
    "plt.scatter(x_values, orders_by_users['orders'])\n",
    "plt.title('Количество заказов на пользователя')\n",
    "plt.xlabel('Пользователи')\n",
    "plt.ylabel('Количество заказов')\n",
    "plt.show()"
   ]
  },
  {
   "cell_type": "markdown",
   "metadata": {},
   "source": [
    "**Промежуточные выводы**:"
   ]
  },
  {
   "cell_type": "markdown",
   "metadata": {},
   "source": [
    "\"Средний\" пользователь делает один, максимум два заказа, но есть и такие, кто оформил 11 заказов за месяц. Пользователей, совершивших больше двух заказов огораздо меньше. Пока мы не можем сказать, два заказа - это много или мало. Думаю, ситуация прояснится, когда мы посчитаем 95-й и 99-й перцентили и тем самым определим аномальных пользователй."
   ]
  },
  {
   "cell_type": "markdown",
   "metadata": {},
   "source": [
    "### Считаем 95-й и 99-й перцентили количества заказов на пользователя"
   ]
  },
  {
   "cell_type": "code",
   "execution_count": 45,
   "metadata": {},
   "outputs": [
    {
     "data": {
      "text/plain": [
       "array([2., 4.])"
      ]
     },
     "execution_count": 45,
     "metadata": {},
     "output_type": "execute_result"
    }
   ],
   "source": [
    "np.percentile(orders_by_users['orders'], [95, 99])"
   ]
  },
  {
   "cell_type": "markdown",
   "metadata": {},
   "source": [
    "**Промежуточные выводы**:"
   ]
  },
  {
   "cell_type": "markdown",
   "metadata": {},
   "source": [
    "Только **5%** пользователей оформляют больше 2 заказов, и только **1%** пользователей больше 4 заказов. Обозначим границу для определения аномальных пользователей в **4 заказа**."
   ]
  },
  {
   "cell_type": "markdown",
   "metadata": {},
   "source": [
    "### Точечный график стоимости заказов"
   ]
  },
  {
   "cell_type": "code",
   "execution_count": 46,
   "metadata": {},
   "outputs": [
    {
     "data": {
      "image/png": "[encoded data removed]",
      "text/plain": [
       "<Figure size 432x288 with 1 Axes>"
      ]
     },
     "metadata": {
      "needs_background": "light"
     },
     "output_type": "display_data"
    }
   ],
   "source": [
    "# Строим гистограмму стоимости заказов\n",
    "\n",
    "plt.hist(orders['revenue']) \n",
    "plt.title('Стоимость заказов на пользователя')\n",
    "plt.xlabel('Стоимость заказов')\n",
    "plt.ylabel('Количество пользователей')\n",
    "plt.show()"
   ]
  },
  {
   "cell_type": "code",
   "execution_count": 47,
   "metadata": {},
   "outputs": [
    {
     "data": {
      "text/html": [
       "<div>\n",
       "<style scoped>\n",
       "    .dataframe tbody tr th:only-of-type {\n",
       "        vertical-align: middle;\n",
       "    }\n",
       "\n",
       "    .dataframe tbody tr th {\n",
       "        vertical-align: top;\n",
       "    }\n",
       "\n",
       "    .dataframe thead th {\n",
       "        text-align: right;\n",
       "    }\n",
       "</style>\n",
       "<table border=\"1\" class=\"dataframe\">\n",
       "  <thead>\n",
       "    <tr style=\"text-align: right;\">\n",
       "      <th></th>\n",
       "      <th>transaction_id</th>\n",
       "      <th>visitor_id</th>\n",
       "      <th>revenue</th>\n",
       "    </tr>\n",
       "  </thead>\n",
       "  <tbody>\n",
       "    <tr>\n",
       "      <th>count</th>\n",
       "      <td>1.197000e+03</td>\n",
       "      <td>1.197000e+03</td>\n",
       "      <td>1.197000e+03</td>\n",
       "    </tr>\n",
       "    <tr>\n",
       "      <th>mean</th>\n",
       "      <td>2.155621e+09</td>\n",
       "      <td>2.165960e+09</td>\n",
       "      <td>8.348006e+03</td>\n",
       "    </tr>\n",
       "    <tr>\n",
       "      <th>std</th>\n",
       "      <td>1.229085e+09</td>\n",
       "      <td>1.236014e+09</td>\n",
       "      <td>3.919113e+04</td>\n",
       "    </tr>\n",
       "    <tr>\n",
       "      <th>min</th>\n",
       "      <td>1.062393e+06</td>\n",
       "      <td>5.114589e+06</td>\n",
       "      <td>5.000000e+01</td>\n",
       "    </tr>\n",
       "    <tr>\n",
       "      <th>25%</th>\n",
       "      <td>1.166776e+09</td>\n",
       "      <td>1.111826e+09</td>\n",
       "      <td>1.220000e+03</td>\n",
       "    </tr>\n",
       "    <tr>\n",
       "      <th>50%</th>\n",
       "      <td>2.145194e+09</td>\n",
       "      <td>2.217985e+09</td>\n",
       "      <td>2.978000e+03</td>\n",
       "    </tr>\n",
       "    <tr>\n",
       "      <th>75%</th>\n",
       "      <td>3.237740e+09</td>\n",
       "      <td>3.177606e+09</td>\n",
       "      <td>8.290000e+03</td>\n",
       "    </tr>\n",
       "    <tr>\n",
       "      <th>max</th>\n",
       "      <td>4.293856e+09</td>\n",
       "      <td>4.283872e+09</td>\n",
       "      <td>1.294500e+06</td>\n",
       "    </tr>\n",
       "  </tbody>\n",
       "</table>\n",
       "</div>"
      ],
      "text/plain": [
       "       transaction_id    visitor_id       revenue\n",
       "count    1.197000e+03  1.197000e+03  1.197000e+03\n",
       "mean     2.155621e+09  2.165960e+09  8.348006e+03\n",
       "std      1.229085e+09  1.236014e+09  3.919113e+04\n",
       "min      1.062393e+06  5.114589e+06  5.000000e+01\n",
       "25%      1.166776e+09  1.111826e+09  1.220000e+03\n",
       "50%      2.145194e+09  2.217985e+09  2.978000e+03\n",
       "75%      3.237740e+09  3.177606e+09  8.290000e+03\n",
       "max      4.293856e+09  4.283872e+09  1.294500e+06"
      ]
     },
     "execution_count": 47,
     "metadata": {},
     "output_type": "execute_result"
    }
   ],
   "source": [
    "# Посмотрим на описательные характеристики\n",
    "\n",
    "orders.describe()"
   ]
  },
  {
   "cell_type": "code",
   "execution_count": 48,
   "metadata": {},
   "outputs": [
    {
     "data": {
      "image/png": "[encoded data removed]",
      "text/plain": [
       "<Figure size 800x480 with 1 Axes>"
      ]
     },
     "metadata": {
      "needs_background": "light"
     },
     "output_type": "display_data"
    }
   ],
   "source": [
    "figure(figsize=(10, 6), dpi=80)\n",
    "x_values = pd.Series(range(0,len(orders['revenue'])))\n",
    "\n",
    "# Строим scatter-диаграмму стоимости заказов\n",
    "\n",
    "plt.scatter(x_values, orders['revenue'])\n",
    "plt.title('Распределение стоимости заказов по пользотелям')\n",
    "plt.xlabel('Пользователи')\n",
    "plt.ylabel('Стоимость заказов')\n",
    "plt.show()"
   ]
  },
  {
   "cell_type": "markdown",
   "metadata": {},
   "source": [
    "Стоимость заказов обычно не превышает **100.000**, но на точечном графике мы можем наблюдать два выброса (один около **200к**, другой выше **1.2 млн**), которые могут искажать результаты нашего исследования. Построим еще один график, но уже с учетом этих выбросов. Scatter-диаграмма позволит разобраться более детально."
   ]
  },
  {
   "cell_type": "code",
   "execution_count": 49,
   "metadata": {},
   "outputs": [
    {
     "data": {
      "image/png": "[encoded data removed]",
      "text/plain": [
       "<Figure size 800x480 with 1 Axes>"
      ]
     },
     "metadata": {
      "needs_background": "light"
     },
     "output_type": "display_data"
    }
   ],
   "source": [
    "# Строим scatter-диаграмму стоимости заказов с фильтрацией выбросов\n",
    "\n",
    "figure(figsize=(10, 6), dpi=80)\n",
    "x_values = pd.Series(range(0,len(orders['revenue'])))\n",
    "\n",
    "# Ограничим значения по оси Y\n",
    "\n",
    "plt.ylim(0, 150000)\n",
    "\n",
    "plt.scatter(x_values, orders['revenue'])\n",
    "plt.title('Распределение стоимости заказов по пользотелям')\n",
    "plt.xlabel('Пользователи')\n",
    "plt.ylabel('Стоимость заказов')\n",
    "plt.show()"
   ]
  },
  {
   "cell_type": "markdown",
   "metadata": {},
   "source": [
    "**Промежуточные выводы**:"
   ]
  },
  {
   "cell_type": "markdown",
   "metadata": {},
   "source": [
    "- Стоимость заказов большинства пользователей не превышает  **20.000**;\n",
    "- средняя сумма одного заказа составляет **8.300**;\n",
    "- Есть пользователи, совершившие заказы на суммы **20.000** - **90.000**, но их гораздо меньше.\n",
    "\n",
    "Чтобы определить границу аномальных заказов, посчитаем 95-й и 99-й перцентили стоимости заказов."
   ]
  },
  {
   "cell_type": "markdown",
   "metadata": {},
   "source": [
    "### Считаем 95-й и 99-й перцентили стоимости заказов"
   ]
  },
  {
   "cell_type": "code",
   "execution_count": 50,
   "metadata": {},
   "outputs": [
    {
     "data": {
      "text/plain": [
       "array([28000. , 58233.2])"
      ]
     },
     "execution_count": 50,
     "metadata": {},
     "output_type": "execute_result"
    }
   ],
   "source": [
    "np.percentile(orders['revenue'], [95, 99])"
   ]
  },
  {
   "cell_type": "markdown",
   "metadata": {},
   "source": [
    "**Промежуточные выводы**:"
   ]
  },
  {
   "cell_type": "markdown",
   "metadata": {},
   "source": [
    "Только **5%** пользователей оформляют заказы стоимостью свыше **28.000** и лишь **1%** пользователей совершают покупку на сумму свыше **58.233**. Обозначим границу аномальных заказов в **58.233** (99-й перцентиль)."
   ]
  },
  {
   "cell_type": "markdown",
   "metadata": {},
   "source": [
    "### Статистическая значимость различий в среднем количестве заказов на посетителя между группами по \"сырым\" данным"
   ]
  },
  {
   "cell_type": "markdown",
   "metadata": {},
   "source": [
    "Сформируем нулевую и альтернативную гипотезы:\n",
    "\n",
    "- H_0: различий в количестве заказов на посетителя между группами нет\n",
    "- H_1: различия в количестве заказов на посетителя группами есть\n",
    "\n",
    "Уровень статистической значимости определим как $\\alpha = 0.05$"
   ]
  },
  {
   "cell_type": "markdown",
   "metadata": {},
   "source": [
    "Создадим переменные ***orders_by_users_a*** и ***orders_by_users_b*** со столбцами `['userId', 'orders']`. В них для пользователей, которые заказывали хотя бы 1 раз, укажем число совершённых заказов. "
   ]
  },
  {
   "cell_type": "code",
   "execution_count": 51,
   "metadata": {},
   "outputs": [],
   "source": [
    "orders_by_users_a = (\n",
    "    orders[orders['group'] == 'A']\n",
    "    .groupby('visitor_id', as_index=False)\n",
    "    .agg({'transaction_id': pd.Series.nunique})\n",
    ")\n",
    "orders_by_users_a.columns = ['visitor_id', 'orders']\n",
    "\n",
    "orders_by_users_b = (\n",
    "    orders[orders['group'] == 'B']\n",
    "    .groupby('visitor_id', as_index=False)\n",
    "    .agg({'transaction_id': pd.Series.nunique})\n",
    ")\n",
    "orders_by_users_b.columns = ['visitor_id', 'orders']"
   ]
  },
  {
   "cell_type": "markdown",
   "metadata": {},
   "source": [
    "Создадим переменные, которые будут содержать в качестве значения результат метода для расчёта персентилей:"
   ]
  },
  {
   "cell_type": "code",
   "execution_count": 52,
   "metadata": {},
   "outputs": [],
   "source": [
    "a_lot_of_orders = np.percentile(orders_by_users['orders'], 99)\n",
    "very_expensive_orders = np.percentile(orders['revenue'], 99)"
   ]
  },
  {
   "cell_type": "code",
   "execution_count": 53,
   "metadata": {},
   "outputs": [],
   "source": [
    "# Сделаем срезы пользователей с числом заказов больше 4 — users_with_many_orders\n",
    "# И стоимостью заказа свыше 58233 - users_with_expensive_orders\n",
    "\n",
    "users_with_many_orders = pd.concat(\n",
    "    [\n",
    "        orders_by_users_a[orders_by_users_a['orders'] > a_lot_of_orders]['visitor_id'],\n",
    "        orders_by_users_b[orders_by_users_b['orders'] > a_lot_of_orders]['visitor_id'],\n",
    "    ],\n",
    "    axis=0,\n",
    ")\n",
    "users_with_expensive_orders = orders[orders['revenue'] > very_expensive_orders]['visitor_id']\n",
    "\n",
    "abnormal_users = (\n",
    "    pd.concat([users_with_many_orders, users_with_expensive_orders], axis=0)\n",
    "    .drop_duplicates()\n",
    "    .sort_values()\n",
    ")"
   ]
  },
  {
   "cell_type": "markdown",
   "metadata": {},
   "source": [
    "Объявим переменные ***sample_a*** и ***sample_b***. В них пользователям из разных групп будет соответствовать количество заказов. Тем, кто ничего не заказал, будут соответствовать нули. Это нужно, чтобы подготовить выборки к проверке критерием Манна-Уитни."
   ]
  },
  {
   "cell_type": "code",
   "execution_count": 54,
   "metadata": {},
   "outputs": [],
   "source": [
    "sample_a = pd.concat([orders_by_users_a['orders'],\n",
    "                      pd.Series(\n",
    "                          0, \n",
    "                          index=np.arange(visitors[visitors['group'] == 'A']['visitors'].sum() - \n",
    "                                          len(orders_by_users_a['orders'])), \n",
    "                          name='orders')],axis=0\n",
    "                    )\n",
    "\n",
    "sample_b = pd.concat([orders_by_users_b['orders'],\n",
    "                      pd.Series(\n",
    "                          0, \n",
    "                          index=np.arange(visitors[visitors['group'] == 'B']['visitors'].sum() - \n",
    "                                          len(orders_by_users_b['orders'])), \n",
    "                          name='orders')],axis=0\n",
    "                    )"
   ]
  },
  {
   "cell_type": "markdown",
   "metadata": {},
   "source": [
    "Подготовим выборки количества заказов по пользователям по группам теста:    "
   ]
  },
  {
   "cell_type": "code",
   "execution_count": 55,
   "metadata": {},
   "outputs": [],
   "source": [
    "sample_a_filtered = pd.concat(\n",
    "    [\n",
    "        orders_by_users_a[\n",
    "            np.logical_not(orders_by_users_a['visitor_id'].isin(abnormal_users))\n",
    "        ]['orders'],\n",
    "        pd.Series(\n",
    "            0,\n",
    "            index=np.arange(\n",
    "                visitors[visitors['group'] == 'A']['visitors'].sum() - len(orders_by_users_a['orders'])\n",
    "            ),\n",
    "            name='orders',\n",
    "        ),\n",
    "    ],\n",
    "    axis=0,\n",
    ")\n",
    "\n",
    "sample_b_filtered = pd.concat(\n",
    "    [\n",
    "        orders_by_users_b[\n",
    "            np.logical_not(orders_by_users_b['visitor_id'].isin(abnormal_users))\n",
    "        ]['orders'],\n",
    "        pd.Series(\n",
    "            0,\n",
    "            index=np.arange(\n",
    "                visitors[visitors['group'] == 'B']['visitors'].sum() - len(orders_by_users_b['orders'])\n",
    "            ),\n",
    "            name='orders',\n",
    "        ),\n",
    "    ],\n",
    "    axis=0,\n",
    ")"
   ]
  },
  {
   "cell_type": "code",
   "execution_count": 56,
   "metadata": {},
   "outputs": [
    {
     "name": "stdout",
     "output_type": "stream",
     "text": [
      "значение p_value:0.014\n",
      "относительный прирост среднего количества заказов на посетителя группы B:0.153\n"
     ]
    }
   ],
   "source": [
    "# Чтобы рассчитать статистическую значимость различий в среднем чеке, передадим критерию mannwhitneyu() данные о заказах\n",
    "# А ещё найдём относительные различия в среднем чеке между группами\n",
    "\n",
    "print('значение p_value:''{0:.3f}'.format(stats.mannwhitneyu(sample_a_filtered, sample_b_filtered)[1]))\n",
    "print('относительный прирост среднего количества заказов на посетителя группы B:''{0:.3f}'\\\n",
    "      .format(sample_b_filtered.mean()/sample_a_filtered.mean()-1)) \n"
   ]
  },
  {
   "cell_type": "markdown",
   "metadata": {},
   "source": [
    "**Промежуточный вывод**:"
   ]
  },
  {
   "cell_type": "markdown",
   "metadata": {},
   "source": [
    "P-value: **0.014**, что гораздо меньше уровня статистической значимости **0.05**\n",
    "\n",
    "\n",
    "Отвергаем нулевую гипотезу, основания считать группы разными есть.\n",
    "\n",
    "\n",
    "Относительный прирост группы `В` к группе `А`: **15.3%**\n",
    "\n",
    "Посмотрим на результат расчетов, после исключения из данных аномальных пользователей."
   ]
  },
  {
   "cell_type": "markdown",
   "metadata": {},
   "source": [
    "### Статистическая значимость различий в среднем чеке заказа между группами по \"сырым\" данным"
   ]
  },
  {
   "cell_type": "markdown",
   "metadata": {},
   "source": [
    "Сформируем нулевую и альтернативную гипотезы:\n",
    "\n",
    "- H_0: различий в среднем чеке между группами нет\n",
    "- H_1: различия в среднем чеке между группами есть\n",
    "\n",
    "Уровень статистической значимости определим как $\\alpha = 0.05$"
   ]
  },
  {
   "cell_type": "code",
   "execution_count": 57,
   "metadata": {},
   "outputs": [
    {
     "name": "stdout",
     "output_type": "stream",
     "text": [
      "значение p_value:0.729\n",
      "относительный прирост среднего чека группы B:0.259\n"
     ]
    }
   ],
   "source": [
    "# Чтобы рассчитать статистическую значимость различий в среднем чеке, передадим критерию mannwhitneyu() данные о выручке\n",
    "# А ещё найдём относительные различия в среднем чеке между группами\n",
    "\n",
    "print('значение p_value:''{0:.3f}'.format(stats.mannwhitneyu(\n",
    "    orders[orders['group']=='A']['revenue'],\n",
    "    orders[orders['group']=='B']['revenue'])[1]))\n",
    "\n",
    "print('относительный прирост среднего чека группы B:''{0:.3f}'.format(orders[orders['group']=='B']['revenue'].mean() / \n",
    "                       orders[orders['group']=='A']['revenue'].mean()-1))"
   ]
  },
  {
   "cell_type": "markdown",
   "metadata": {},
   "source": [
    "**Промежуточный вывод**:"
   ]
  },
  {
   "cell_type": "markdown",
   "metadata": {},
   "source": [
    "P-value: **0.729**\n",
    "\n",
    "\n",
    "Не получилось отвергнуть нулевую гипотезу, нет оснований считать группы разными.\n",
    "\n",
    "\n",
    "Относительный прирост группы `В` к группе `А`: **25.9%**\n",
    "\n",
    "Посмотрим на результат расчетов, после исключения из данных аномальных пользователей."
   ]
  },
  {
   "cell_type": "markdown",
   "metadata": {},
   "source": [
    "### Статистическая значимость различий в среднем количестве заказов на посетителя между группами по \"очищенным\" данным"
   ]
  },
  {
   "cell_type": "code",
   "execution_count": 58,
   "metadata": {},
   "outputs": [
    {
     "data": {
      "text/plain": [
       "15"
      ]
     },
     "execution_count": 58,
     "metadata": {},
     "output_type": "execute_result"
    }
   ],
   "source": [
    "# Узнаем, сколько всего аномальных пользователей атрибутом shape\n",
    "\n",
    "abnormal_users.shape[0]"
   ]
  },
  {
   "cell_type": "markdown",
   "metadata": {},
   "source": [
    "Посчитаем относительные потери пользователей, чтобы получить более полную картину о масштабе потерь:"
   ]
  },
  {
   "cell_type": "code",
   "execution_count": 59,
   "metadata": {},
   "outputs": [],
   "source": [
    "# В знаменатель берем уникальных пользователей\n",
    "\n",
    "relative_users = abnormal_users.nunique() / orders['visitor_id'].nunique()"
   ]
  },
  {
   "cell_type": "code",
   "execution_count": 60,
   "metadata": {},
   "outputs": [
    {
     "data": {
      "text/plain": [
       "0.014548981571290009"
      ]
     },
     "execution_count": 60,
     "metadata": {},
     "output_type": "execute_result"
    }
   ],
   "source": [
    "# Проверяем количество относительных потерь пользователей\n",
    "\n",
    "relative_users"
   ]
  },
  {
   "cell_type": "markdown",
   "metadata": {},
   "source": [
    "Относительные потери пользователей в процентном соотношении составили **1.4%**"
   ]
  },
  {
   "cell_type": "code",
   "execution_count": 61,
   "metadata": {},
   "outputs": [
    {
     "name": "stdout",
     "output_type": "stream",
     "text": [
      "значение p_value:0.014\n",
      "относительный прирост среднего количества заказов на пользователя группы B:0.153\n"
     ]
    }
   ],
   "source": [
    "print('значение p_value:''{0:.3f}'.format(stats.mannwhitneyu(sample_a_filtered, sample_b_filtered)[1]))\n",
    "print('относительный прирост среднего количества заказов на пользователя группы B:''{0:.3f}'\\\n",
    "      .format(sample_b_filtered.mean()/sample_a_filtered.mean()-1))"
   ]
  },
  {
   "cell_type": "markdown",
   "metadata": {},
   "source": [
    "**Промежуточный вывод**:"
   ]
  },
  {
   "cell_type": "markdown",
   "metadata": {},
   "source": [
    "P-value: **0.016**, что гораздо меньше уровня статистической значимости **0.05**\n",
    "\n",
    "\n",
    "Отвергаем нулевую гипотезу, основаня считать группы разными есть.\n",
    "\n",
    "\n",
    "Относительный прирост группы `В` к группе `А`: **14.9%**\n",
    "\n",
    "Однозначно, различия между средним количеством заказов на посетителя в исследуемых группах на \"очищенных\" данных есть. Группа `B` выигрывает почти на 15 процентов."
   ]
  },
  {
   "cell_type": "markdown",
   "metadata": {},
   "source": [
    "### Статистическая значимость различий в среднем чеке заказа между группами по \"очищенным\" данным"
   ]
  },
  {
   "cell_type": "markdown",
   "metadata": {},
   "source": [
    "Сформируем нулевую и альтернативную гипотезы по \"очищенным\" данным:\n",
    "\n",
    "- H_0: различий в среднем чеке между очищенными группами нет\n",
    "- H_1: различия в среднем чеке между очищенными группами есть\n",
    "\n",
    "Уровень статистической значимости определим как $\\alpha = 0.05$"
   ]
  },
  {
   "cell_type": "markdown",
   "metadata": {},
   "source": [
    "Посчитаем статистическую значимость различий в среднем чеке заказа между исследуемыми группами теста по очищенным от аномальных значений данным."
   ]
  },
  {
   "cell_type": "code",
   "execution_count": 62,
   "metadata": {},
   "outputs": [
    {
     "name": "stdout",
     "output_type": "stream",
     "text": [
      "Значение p-value:0.851\n",
      "Относительный прирост среднего чека очищенной группы B:-0.006\n"
     ]
    }
   ],
   "source": [
    "print('Значение p-value:'\n",
    "    '{0:.3f}'.format(\n",
    "        stats.mannwhitneyu(\n",
    "            orders[\n",
    "                np.logical_and(\n",
    "                    orders['group'] == 'A',\n",
    "                    np.logical_not(orders['visitor_id'].isin(abnormal_users)),\n",
    "                )\n",
    "            ]['revenue'],\n",
    "            orders[\n",
    "                np.logical_and(\n",
    "                    orders['group'] == 'B',\n",
    "                    np.logical_not(orders['visitor_id'].isin(abnormal_users)),\n",
    "                )\n",
    "            ]['revenue'],\n",
    "        )[1]\n",
    "    )\n",
    ")\n",
    "\n",
    "print('Относительный прирост среднего чека очищенной группы B:'\n",
    "    \"{0:.3f}\".format(\n",
    "        orders[\n",
    "            np.logical_and(\n",
    "                orders['group'] == 'B',\n",
    "                np.logical_not(orders['visitor_id'].isin(abnormal_users)),\n",
    "            )\n",
    "        ]['revenue'].mean()\n",
    "        / orders[\n",
    "            np.logical_and(\n",
    "                orders['group'] == 'A',\n",
    "                np.logical_not(orders['visitor_id'].isin(abnormal_users)),\n",
    "            )\n",
    "        ]['revenue'].mean()\n",
    "        - 1\n",
    "    )\n",
    ")"
   ]
  },
  {
   "cell_type": "markdown",
   "metadata": {},
   "source": [
    "**Промежуточный вывод**:"
   ]
  },
  {
   "cell_type": "markdown",
   "metadata": {},
   "source": [
    "p_value **0.851**, что гораздо больше **0.05** \n",
    "\n",
    "Мы не можем отвергнуть нулевую гипотезу, между исследуемыми группами нет разницы. \n",
    "\n",
    "Относительный прирост среднего очищенной группы `B` к группе `А` составил **-0.006**\n",
    "\n",
    "Можно сказать, что различий между средним чеком исследуемых групп на \"очищенных\" данных нет."
   ]
  },
  {
   "cell_type": "markdown",
   "metadata": {},
   "source": [
    "## Принятие решения по результатам A / B теста и общий вывод"
   ]
  },
  {
   "cell_type": "markdown",
   "metadata": {},
   "source": [
    "Мы проанализировали данные, предоставленные отделом маркетинга крупного интернет-магазина, а именно: приоретизировали гипотезы об увеличении выручки и проанализировали результаты А / В теста. Нами были вынесены некоторые рекомендации:\n",
    "\n",
    "**Приоретизация гипотез**\n",
    "\n",
    "Отделу маркетинга стоит взять во внимание следующие гипотезы (ТОП-5):\n",
    "- Запустить акцию, дающую скидку на товар в день рождения;\n",
    "- Добавить два новых канала привлечения трафика, что позволит привлекать на 30% больше пользователей\t\n",
    "- Добавить форму подписки на все основные страницы, чтобы собрать базу клиентов для email-рассылок\t\n",
    "- Показать на главной странице баннеры с актуальными акциями и распродажами, чтобы увеличить конверсию\t\n",
    "- Добавить блоки рекомендаций товаров на сайт интернет магазина, чтобы повысить конверсию и средний чек заказа\n",
    "\n",
    "Если гипотезы должны учитывать охват пользователей интернет-магазина, то приоритет нужно выставить следующим образом:\n",
    "\n",
    "- Добавить форму подписки на все основные страницы, чтобы собрать базу клиентов для email-рассылок\t\n",
    "- Добавить блоки рекомендаций товаров на сайт интернет магазина, чтобы повысить конверсию и средний чек заказа\t\n",
    "- Добавить два новых канала привлечения трафика, что позволит привлекать на 30% больше пользователей\t\n",
    "- Показать на главной странице баннеры с актуальными акциями и распродажами, чтобы увеличить конверсию\n",
    "\n",
    "**Результаты А / В тестирования**\n",
    "\n",
    "- Различия между средним количеством заказов на посетителя в исследуемых группах как на \"сырых\", так и на \"очищенных\" данных есть. Группа `B` выигрывает почти на 15 процентов\n",
    "- Статистически значимой разницы по среднему чеку между исследуемыми группами `A` и `В` нет как по \"сырым\", так и по \"очищенным\" данным\n",
    "\n",
    "Исходя из изложенного выше, принимаем решение об окончании А / В тестирования, зафиксировав победу группы `B` по показателю среднего количества заказов на посетителя. Оно увеличилось на **15%**"
   ]
  }
 ],
 "metadata": {
  "ExecuteTimeLog": [
   {
    "duration": 51,
    "start_time": "2023-02-25T05:36:57.004Z"
   },
   {
    "duration": 1225,
    "start_time": "2023-02-25T05:37:03.345Z"
   },
   {
    "duration": 81,
    "start_time": "2023-02-25T05:37:05.433Z"
   },
   {
    "duration": 22,
    "start_time": "2023-02-25T05:37:07.820Z"
   },
   {
    "duration": 27,
    "start_time": "2023-02-25T05:39:38.998Z"
   },
   {
    "duration": 16,
    "start_time": "2023-02-25T05:39:39.886Z"
   },
   {
    "duration": 5,
    "start_time": "2023-02-25T05:43:07.376Z"
   },
   {
    "duration": 9,
    "start_time": "2023-02-25T05:43:32.621Z"
   },
   {
    "duration": 4,
    "start_time": "2023-02-25T05:43:43.358Z"
   },
   {
    "duration": 1044,
    "start_time": "2023-02-25T05:43:57.731Z"
   },
   {
    "duration": 27,
    "start_time": "2023-02-25T05:43:58.777Z"
   },
   {
    "duration": 21,
    "start_time": "2023-02-25T05:43:58.805Z"
   },
   {
    "duration": 10,
    "start_time": "2023-02-25T05:44:28.419Z"
   },
   {
    "duration": 3,
    "start_time": "2023-02-25T05:44:39.441Z"
   },
   {
    "duration": 5,
    "start_time": "2023-02-25T05:44:51.011Z"
   },
   {
    "duration": 4,
    "start_time": "2023-02-25T05:45:09.441Z"
   },
   {
    "duration": 11,
    "start_time": "2023-02-25T05:46:02.185Z"
   },
   {
    "duration": 8,
    "start_time": "2023-02-25T05:46:09.398Z"
   },
   {
    "duration": 140,
    "start_time": "2023-02-25T05:47:42.803Z"
   },
   {
    "duration": 108,
    "start_time": "2023-02-25T05:47:56.767Z"
   },
   {
    "duration": 21,
    "start_time": "2023-02-25T05:48:09.079Z"
   },
   {
    "duration": 5,
    "start_time": "2023-02-25T05:48:37.894Z"
   },
   {
    "duration": 1119,
    "start_time": "2023-02-25T05:58:52.912Z"
   },
   {
    "duration": 26,
    "start_time": "2023-02-25T05:58:54.033Z"
   },
   {
    "duration": 21,
    "start_time": "2023-02-25T05:58:54.061Z"
   },
   {
    "duration": 3,
    "start_time": "2023-02-25T05:58:54.084Z"
   },
   {
    "duration": 8,
    "start_time": "2023-02-25T05:58:54.089Z"
   },
   {
    "duration": 38,
    "start_time": "2023-02-25T05:58:54.099Z"
   },
   {
    "duration": 18,
    "start_time": "2023-02-25T05:58:54.138Z"
   },
   {
    "duration": 9,
    "start_time": "2023-02-25T05:58:54.158Z"
   },
   {
    "duration": 7,
    "start_time": "2023-02-25T05:58:54.168Z"
   },
   {
    "duration": 67,
    "start_time": "2023-02-25T05:58:54.176Z"
   },
   {
    "duration": 19,
    "start_time": "2023-02-25T05:58:54.245Z"
   },
   {
    "duration": 99,
    "start_time": "2023-02-25T05:59:30.410Z"
   },
   {
    "duration": 9,
    "start_time": "2023-02-25T05:59:43.750Z"
   },
   {
    "duration": 7,
    "start_time": "2023-02-25T05:59:53.174Z"
   },
   {
    "duration": 8,
    "start_time": "2023-02-25T06:00:18.144Z"
   },
   {
    "duration": 7,
    "start_time": "2023-02-25T06:00:21.893Z"
   },
   {
    "duration": 26,
    "start_time": "2023-02-25T06:00:23.229Z"
   },
   {
    "duration": 20,
    "start_time": "2023-02-25T06:00:25.350Z"
   },
   {
    "duration": 7,
    "start_time": "2023-02-25T06:01:21.589Z"
   },
   {
    "duration": 5,
    "start_time": "2023-02-25T06:02:06.906Z"
   },
   {
    "duration": 4,
    "start_time": "2023-02-25T06:05:38.216Z"
   },
   {
    "duration": 1497,
    "start_time": "2023-02-25T07:09:39.927Z"
   },
   {
    "duration": 1147,
    "start_time": "2023-02-25T07:10:04.019Z"
   },
   {
    "duration": 74,
    "start_time": "2023-02-25T07:10:05.169Z"
   },
   {
    "duration": 33,
    "start_time": "2023-02-25T07:10:05.245Z"
   },
   {
    "duration": 12,
    "start_time": "2023-02-25T07:10:05.280Z"
   },
   {
    "duration": 14,
    "start_time": "2023-02-25T07:10:05.295Z"
   },
   {
    "duration": 82,
    "start_time": "2023-02-25T07:10:05.311Z"
   },
   {
    "duration": 33,
    "start_time": "2023-02-25T07:10:05.395Z"
   },
   {
    "duration": 13,
    "start_time": "2023-02-25T07:10:05.430Z"
   },
   {
    "duration": 22,
    "start_time": "2023-02-25T07:10:05.445Z"
   },
   {
    "duration": 38,
    "start_time": "2023-02-25T07:10:05.470Z"
   },
   {
    "duration": 75,
    "start_time": "2023-02-25T07:10:05.511Z"
   },
   {
    "duration": 28,
    "start_time": "2023-02-25T07:10:05.588Z"
   },
   {
    "duration": 35,
    "start_time": "2023-02-25T07:10:05.618Z"
   },
   {
    "duration": 7,
    "start_time": "2023-02-25T07:10:05.657Z"
   },
   {
    "duration": 15,
    "start_time": "2023-02-25T07:10:05.667Z"
   },
   {
    "duration": 3198,
    "start_time": "2023-02-25T07:10:05.685Z"
   },
   {
    "duration": 3,
    "start_time": "2023-02-25T07:10:34.272Z"
   },
   {
    "duration": 11,
    "start_time": "2023-02-25T07:10:36.796Z"
   },
   {
    "duration": 5,
    "start_time": "2023-02-25T07:11:02.608Z"
   },
   {
    "duration": 1173,
    "start_time": "2023-02-25T07:11:09.495Z"
   },
   {
    "duration": 27,
    "start_time": "2023-02-25T07:11:10.671Z"
   },
   {
    "duration": 27,
    "start_time": "2023-02-25T07:11:10.700Z"
   },
   {
    "duration": 4,
    "start_time": "2023-02-25T07:11:10.729Z"
   },
   {
    "duration": 13,
    "start_time": "2023-02-25T07:11:10.737Z"
   },
   {
    "duration": 41,
    "start_time": "2023-02-25T07:11:10.752Z"
   },
   {
    "duration": 31,
    "start_time": "2023-02-25T07:11:10.795Z"
   },
   {
    "duration": 7,
    "start_time": "2023-02-25T07:11:10.830Z"
   },
   {
    "duration": 12,
    "start_time": "2023-02-25T07:11:10.839Z"
   },
   {
    "duration": 9,
    "start_time": "2023-02-25T07:11:10.853Z"
   },
   {
    "duration": 31,
    "start_time": "2023-02-25T07:11:10.864Z"
   },
   {
    "duration": 29,
    "start_time": "2023-02-25T07:11:10.897Z"
   },
   {
    "duration": 15,
    "start_time": "2023-02-25T07:11:10.930Z"
   },
   {
    "duration": 7,
    "start_time": "2023-02-25T07:11:10.949Z"
   },
   {
    "duration": 9,
    "start_time": "2023-02-25T07:11:10.957Z"
   },
   {
    "duration": 1460,
    "start_time": "2023-02-25T07:11:10.968Z"
   },
   {
    "duration": 4,
    "start_time": "2023-02-25T07:11:42.768Z"
   },
   {
    "duration": 10,
    "start_time": "2023-02-25T07:11:45.228Z"
   },
   {
    "duration": 1321,
    "start_time": "2023-02-25T07:11:53.464Z"
   },
   {
    "duration": 46,
    "start_time": "2023-02-25T07:11:54.788Z"
   },
   {
    "duration": 26,
    "start_time": "2023-02-25T07:11:54.836Z"
   },
   {
    "duration": 5,
    "start_time": "2023-02-25T07:11:54.864Z"
   },
   {
    "duration": 24,
    "start_time": "2023-02-25T07:11:54.872Z"
   },
   {
    "duration": 71,
    "start_time": "2023-02-25T07:11:54.898Z"
   },
   {
    "duration": 33,
    "start_time": "2023-02-25T07:11:54.972Z"
   },
   {
    "duration": 25,
    "start_time": "2023-02-25T07:11:55.008Z"
   },
   {
    "duration": 19,
    "start_time": "2023-02-25T07:11:55.036Z"
   },
   {
    "duration": 10,
    "start_time": "2023-02-25T07:11:55.058Z"
   },
   {
    "duration": 45,
    "start_time": "2023-02-25T07:11:55.070Z"
   },
   {
    "duration": 26,
    "start_time": "2023-02-25T07:11:55.117Z"
   },
   {
    "duration": 8,
    "start_time": "2023-02-25T07:11:55.145Z"
   },
   {
    "duration": 9,
    "start_time": "2023-02-25T07:11:55.155Z"
   },
   {
    "duration": 11,
    "start_time": "2023-02-25T07:11:55.166Z"
   },
   {
    "duration": 30,
    "start_time": "2023-02-25T07:11:55.179Z"
   },
   {
    "duration": 97,
    "start_time": "2023-02-25T07:20:32.914Z"
   },
   {
    "duration": 171,
    "start_time": "2023-02-25T07:20:45.400Z"
   },
   {
    "duration": 160,
    "start_time": "2023-02-25T07:21:27.204Z"
   },
   {
    "duration": 247,
    "start_time": "2023-02-25T07:21:51.985Z"
   },
   {
    "duration": 200,
    "start_time": "2023-02-25T07:22:00.592Z"
   },
   {
    "duration": 235,
    "start_time": "2023-02-25T07:22:05.917Z"
   },
   {
    "duration": 308,
    "start_time": "2023-02-25T07:22:55.002Z"
   },
   {
    "duration": 134,
    "start_time": "2023-02-25T07:23:53.153Z"
   },
   {
    "duration": 299,
    "start_time": "2023-02-25T07:24:09.024Z"
   },
   {
    "duration": 407,
    "start_time": "2023-02-25T07:25:27.670Z"
   },
   {
    "duration": 288,
    "start_time": "2023-02-25T07:25:55.724Z"
   },
   {
    "duration": 332,
    "start_time": "2023-02-25T07:26:44.116Z"
   },
   {
    "duration": 275,
    "start_time": "2023-02-25T07:26:59.981Z"
   },
   {
    "duration": 298,
    "start_time": "2023-02-25T07:27:23.933Z"
   },
   {
    "duration": 265,
    "start_time": "2023-02-25T07:27:36.638Z"
   },
   {
    "duration": 273,
    "start_time": "2023-02-25T07:32:58.698Z"
   },
   {
    "duration": 346,
    "start_time": "2023-02-25T07:33:04.654Z"
   },
   {
    "duration": 418,
    "start_time": "2023-02-25T07:33:22.063Z"
   },
   {
    "duration": 271,
    "start_time": "2023-02-25T07:33:48.666Z"
   },
   {
    "duration": 16,
    "start_time": "2023-02-25T07:38:01.153Z"
   },
   {
    "duration": 12,
    "start_time": "2023-02-25T07:38:12.541Z"
   },
   {
    "duration": 155,
    "start_time": "2023-02-25T07:39:25.626Z"
   },
   {
    "duration": 271,
    "start_time": "2023-02-25T07:39:41.638Z"
   },
   {
    "duration": 258,
    "start_time": "2023-02-25T07:54:29.418Z"
   },
   {
    "duration": 371,
    "start_time": "2023-02-25T07:55:44.232Z"
   },
   {
    "duration": 165,
    "start_time": "2023-02-25T07:56:52.582Z"
   },
   {
    "duration": 49,
    "start_time": "2023-02-26T03:52:33.952Z"
   },
   {
    "duration": 1217,
    "start_time": "2023-02-26T03:53:29.037Z"
   },
   {
    "duration": 62,
    "start_time": "2023-02-26T03:53:30.256Z"
   },
   {
    "duration": 22,
    "start_time": "2023-02-26T03:53:30.320Z"
   },
   {
    "duration": 30,
    "start_time": "2023-02-26T03:53:30.344Z"
   },
   {
    "duration": 29,
    "start_time": "2023-02-26T03:53:30.377Z"
   },
   {
    "duration": 98,
    "start_time": "2023-02-26T03:53:30.408Z"
   },
   {
    "duration": 28,
    "start_time": "2023-02-26T03:53:30.508Z"
   },
   {
    "duration": 45,
    "start_time": "2023-02-26T03:53:30.537Z"
   },
   {
    "duration": 29,
    "start_time": "2023-02-26T03:53:30.585Z"
   },
   {
    "duration": 23,
    "start_time": "2023-02-26T03:53:30.616Z"
   },
   {
    "duration": 78,
    "start_time": "2023-02-26T03:53:30.641Z"
   },
   {
    "duration": 17,
    "start_time": "2023-02-26T03:53:30.721Z"
   },
   {
    "duration": 46,
    "start_time": "2023-02-26T03:53:30.741Z"
   },
   {
    "duration": 29,
    "start_time": "2023-02-26T03:53:30.791Z"
   },
   {
    "duration": 56,
    "start_time": "2023-02-26T03:53:30.822Z"
   },
   {
    "duration": 34,
    "start_time": "2023-02-26T03:53:30.880Z"
   },
   {
    "duration": 257,
    "start_time": "2023-02-26T03:53:30.916Z"
   },
   {
    "duration": 23,
    "start_time": "2023-02-26T03:53:31.175Z"
   },
   {
    "duration": 166,
    "start_time": "2023-02-26T03:53:31.200Z"
   },
   {
    "duration": 6,
    "start_time": "2023-02-26T03:53:31.368Z"
   },
   {
    "duration": 137,
    "start_time": "2023-02-26T03:53:31.386Z"
   },
   {
    "duration": 10,
    "start_time": "2023-02-26T03:54:50.804Z"
   },
   {
    "duration": 26,
    "start_time": "2023-02-26T03:55:30.112Z"
   },
   {
    "duration": 6,
    "start_time": "2023-02-26T03:55:51.368Z"
   },
   {
    "duration": 10,
    "start_time": "2023-02-26T03:57:11.417Z"
   },
   {
    "duration": 7,
    "start_time": "2023-02-26T03:58:04.802Z"
   },
   {
    "duration": 14,
    "start_time": "2023-02-26T03:58:07.250Z"
   },
   {
    "duration": 7,
    "start_time": "2023-02-26T03:58:15.674Z"
   },
   {
    "duration": 22,
    "start_time": "2023-02-26T03:58:17.445Z"
   },
   {
    "duration": 25,
    "start_time": "2023-02-26T04:02:41.860Z"
   },
   {
    "duration": 33,
    "start_time": "2023-02-26T04:02:55.469Z"
   },
   {
    "duration": 16,
    "start_time": "2023-02-26T04:03:50.013Z"
   },
   {
    "duration": 28,
    "start_time": "2023-02-26T04:04:24.093Z"
   },
   {
    "duration": 11,
    "start_time": "2023-02-26T04:04:37.496Z"
   },
   {
    "duration": 34,
    "start_time": "2023-02-26T04:04:54.357Z"
   },
   {
    "duration": 1147,
    "start_time": "2023-02-26T04:07:58.875Z"
   },
   {
    "duration": 32,
    "start_time": "2023-02-26T04:08:00.025Z"
   },
   {
    "duration": 30,
    "start_time": "2023-02-26T04:08:00.060Z"
   },
   {
    "duration": 5,
    "start_time": "2023-02-26T04:08:00.092Z"
   },
   {
    "duration": 33,
    "start_time": "2023-02-26T04:08:00.100Z"
   },
   {
    "duration": 37,
    "start_time": "2023-02-26T04:08:00.136Z"
   },
   {
    "duration": 26,
    "start_time": "2023-02-26T04:08:00.175Z"
   },
   {
    "duration": 17,
    "start_time": "2023-02-26T04:08:00.202Z"
   },
   {
    "duration": 18,
    "start_time": "2023-02-26T04:08:00.220Z"
   },
   {
    "duration": 32,
    "start_time": "2023-02-26T04:08:00.240Z"
   },
   {
    "duration": 22,
    "start_time": "2023-02-26T04:08:00.275Z"
   },
   {
    "duration": 45,
    "start_time": "2023-02-26T04:08:00.300Z"
   },
   {
    "duration": 36,
    "start_time": "2023-02-26T04:08:00.348Z"
   },
   {
    "duration": 24,
    "start_time": "2023-02-26T04:08:00.388Z"
   },
   {
    "duration": 39,
    "start_time": "2023-02-26T04:08:00.414Z"
   },
   {
    "duration": 35,
    "start_time": "2023-02-26T04:08:00.456Z"
   },
   {
    "duration": 43,
    "start_time": "2023-02-26T04:08:00.493Z"
   },
   {
    "duration": 385,
    "start_time": "2023-02-26T04:08:00.539Z"
   },
   {
    "duration": 16,
    "start_time": "2023-02-26T04:08:00.927Z"
   },
   {
    "duration": 246,
    "start_time": "2023-02-26T04:08:00.946Z"
   },
   {
    "duration": 169,
    "start_time": "2023-02-26T04:08:01.194Z"
   },
   {
    "duration": 0,
    "start_time": "2023-02-26T04:08:01.365Z"
   },
   {
    "duration": 187,
    "start_time": "2023-02-26T04:08:18.106Z"
   },
   {
    "duration": 8,
    "start_time": "2023-02-26T04:09:10.007Z"
   },
   {
    "duration": 206,
    "start_time": "2023-02-26T04:09:12.047Z"
   },
   {
    "duration": 165,
    "start_time": "2023-02-26T04:09:14.763Z"
   },
   {
    "duration": 11,
    "start_time": "2023-02-26T04:12:36.252Z"
   },
   {
    "duration": 159,
    "start_time": "2023-02-26T04:12:41.965Z"
   },
   {
    "duration": 127,
    "start_time": "2023-02-26T05:53:06.169Z"
   },
   {
    "duration": 134,
    "start_time": "2023-02-26T05:53:11.734Z"
   },
   {
    "duration": 9,
    "start_time": "2023-02-26T06:03:12.804Z"
   },
   {
    "duration": 7,
    "start_time": "2023-02-26T06:10:54.469Z"
   },
   {
    "duration": 11,
    "start_time": "2023-02-26T06:13:15.322Z"
   },
   {
    "duration": 253,
    "start_time": "2023-02-26T06:14:03.549Z"
   },
   {
    "duration": 170,
    "start_time": "2023-02-26T06:14:10.475Z"
   },
   {
    "duration": 175,
    "start_time": "2023-02-26T06:14:16.652Z"
   },
   {
    "duration": 178,
    "start_time": "2023-02-26T06:14:27.675Z"
   },
   {
    "duration": 55,
    "start_time": "2023-02-26T06:15:40.555Z"
   },
   {
    "duration": 199,
    "start_time": "2023-02-26T06:17:09.816Z"
   },
   {
    "duration": 274,
    "start_time": "2023-02-26T06:17:21.558Z"
   },
   {
    "duration": 201,
    "start_time": "2023-02-26T06:17:27.297Z"
   },
   {
    "duration": 213,
    "start_time": "2023-02-26T06:17:37.628Z"
   },
   {
    "duration": 218,
    "start_time": "2023-02-26T06:18:48.868Z"
   },
   {
    "duration": 226,
    "start_time": "2023-02-26T06:19:32.833Z"
   },
   {
    "duration": 184,
    "start_time": "2023-02-26T06:27:23.487Z"
   },
   {
    "duration": 266,
    "start_time": "2023-02-26T06:28:05.440Z"
   },
   {
    "duration": 13,
    "start_time": "2023-02-26T06:30:44.124Z"
   },
   {
    "duration": 224,
    "start_time": "2023-02-26T06:31:35.076Z"
   },
   {
    "duration": 185,
    "start_time": "2023-02-26T06:31:44.128Z"
   },
   {
    "duration": 6,
    "start_time": "2023-02-26T06:48:51.314Z"
   },
   {
    "duration": 1328,
    "start_time": "2023-02-26T06:49:32.913Z"
   },
   {
    "duration": 25,
    "start_time": "2023-02-26T06:49:34.243Z"
   },
   {
    "duration": 29,
    "start_time": "2023-02-26T06:49:34.271Z"
   },
   {
    "duration": 4,
    "start_time": "2023-02-26T06:49:34.301Z"
   },
   {
    "duration": 25,
    "start_time": "2023-02-26T06:49:34.308Z"
   },
   {
    "duration": 39,
    "start_time": "2023-02-26T06:49:34.334Z"
   },
   {
    "duration": 20,
    "start_time": "2023-02-26T06:49:34.375Z"
   },
   {
    "duration": 5,
    "start_time": "2023-02-26T06:49:34.396Z"
   },
   {
    "duration": 17,
    "start_time": "2023-02-26T06:49:34.403Z"
   },
   {
    "duration": 13,
    "start_time": "2023-02-26T06:49:34.422Z"
   },
   {
    "duration": 7,
    "start_time": "2023-02-26T06:49:34.437Z"
   },
   {
    "duration": 17,
    "start_time": "2023-02-26T06:49:34.446Z"
   },
   {
    "duration": 35,
    "start_time": "2023-02-26T06:49:34.465Z"
   },
   {
    "duration": 10,
    "start_time": "2023-02-26T06:49:34.504Z"
   },
   {
    "duration": 20,
    "start_time": "2023-02-26T06:49:34.516Z"
   },
   {
    "duration": 16,
    "start_time": "2023-02-26T06:49:34.538Z"
   },
   {
    "duration": 20,
    "start_time": "2023-02-26T06:49:34.556Z"
   },
   {
    "duration": 312,
    "start_time": "2023-02-26T06:49:34.578Z"
   },
   {
    "duration": 14,
    "start_time": "2023-02-26T06:49:34.893Z"
   },
   {
    "duration": 176,
    "start_time": "2023-02-26T06:49:34.909Z"
   },
   {
    "duration": 6,
    "start_time": "2023-02-26T06:49:35.087Z"
   },
   {
    "duration": 234,
    "start_time": "2023-02-26T06:49:35.095Z"
   },
   {
    "duration": 157,
    "start_time": "2023-02-26T06:49:35.330Z"
   },
   {
    "duration": 11,
    "start_time": "2023-02-26T06:49:35.490Z"
   },
   {
    "duration": 55,
    "start_time": "2023-02-26T06:49:35.503Z"
   },
   {
    "duration": 0,
    "start_time": "2023-02-26T06:49:35.561Z"
   },
   {
    "duration": 0,
    "start_time": "2023-02-26T06:49:35.562Z"
   },
   {
    "duration": 0,
    "start_time": "2023-02-26T06:49:35.563Z"
   },
   {
    "duration": 0,
    "start_time": "2023-02-26T06:49:35.564Z"
   },
   {
    "duration": 0,
    "start_time": "2023-02-26T06:49:35.566Z"
   },
   {
    "duration": 1129,
    "start_time": "2023-02-26T06:49:55.196Z"
   },
   {
    "duration": 23,
    "start_time": "2023-02-26T06:49:56.327Z"
   },
   {
    "duration": 21,
    "start_time": "2023-02-26T06:49:56.352Z"
   },
   {
    "duration": 3,
    "start_time": "2023-02-26T06:49:56.375Z"
   },
   {
    "duration": 12,
    "start_time": "2023-02-26T06:49:56.385Z"
   },
   {
    "duration": 36,
    "start_time": "2023-02-26T06:49:56.399Z"
   },
   {
    "duration": 20,
    "start_time": "2023-02-26T06:49:56.437Z"
   },
   {
    "duration": 5,
    "start_time": "2023-02-26T06:49:56.459Z"
   },
   {
    "duration": 9,
    "start_time": "2023-02-26T06:49:56.466Z"
   },
   {
    "duration": 8,
    "start_time": "2023-02-26T06:49:56.476Z"
   },
   {
    "duration": 6,
    "start_time": "2023-02-26T06:49:56.486Z"
   },
   {
    "duration": 18,
    "start_time": "2023-02-26T06:49:56.494Z"
   },
   {
    "duration": 17,
    "start_time": "2023-02-26T06:49:56.513Z"
   },
   {
    "duration": 8,
    "start_time": "2023-02-26T06:49:56.532Z"
   },
   {
    "duration": 11,
    "start_time": "2023-02-26T06:49:56.541Z"
   },
   {
    "duration": 5,
    "start_time": "2023-02-26T06:49:56.553Z"
   },
   {
    "duration": 34,
    "start_time": "2023-02-26T06:49:56.560Z"
   },
   {
    "duration": 267,
    "start_time": "2023-02-26T06:49:56.595Z"
   },
   {
    "duration": 23,
    "start_time": "2023-02-26T06:49:56.863Z"
   },
   {
    "duration": 166,
    "start_time": "2023-02-26T06:49:56.887Z"
   },
   {
    "duration": 6,
    "start_time": "2023-02-26T06:49:57.055Z"
   },
   {
    "duration": 171,
    "start_time": "2023-02-26T06:49:57.063Z"
   },
   {
    "duration": 135,
    "start_time": "2023-02-26T06:49:57.236Z"
   },
   {
    "duration": 6,
    "start_time": "2023-02-26T06:49:57.386Z"
   },
   {
    "duration": 38,
    "start_time": "2023-02-26T06:49:57.394Z"
   },
   {
    "duration": 0,
    "start_time": "2023-02-26T06:49:57.433Z"
   },
   {
    "duration": 0,
    "start_time": "2023-02-26T06:49:57.435Z"
   },
   {
    "duration": 0,
    "start_time": "2023-02-26T06:49:57.436Z"
   },
   {
    "duration": 0,
    "start_time": "2023-02-26T06:49:57.437Z"
   },
   {
    "duration": 0,
    "start_time": "2023-02-26T06:49:57.438Z"
   },
   {
    "duration": 5,
    "start_time": "2023-02-26T06:50:30.264Z"
   },
   {
    "duration": 8,
    "start_time": "2023-02-26T06:50:33.757Z"
   },
   {
    "duration": 318,
    "start_time": "2023-02-26T06:50:35.953Z"
   },
   {
    "duration": 203,
    "start_time": "2023-02-26T06:50:39.860Z"
   },
   {
    "duration": 8,
    "start_time": "2023-02-26T06:50:44.815Z"
   },
   {
    "duration": 805,
    "start_time": "2023-02-26T06:50:47.021Z"
   },
   {
    "duration": 9,
    "start_time": "2023-02-26T06:51:29.673Z"
   },
   {
    "duration": 266,
    "start_time": "2023-02-26T06:51:31.549Z"
   },
   {
    "duration": 274,
    "start_time": "2023-02-26T06:51:41.696Z"
   },
   {
    "duration": 296,
    "start_time": "2023-02-26T06:52:35.009Z"
   },
   {
    "duration": 304,
    "start_time": "2023-02-26T06:52:56.905Z"
   },
   {
    "duration": 394,
    "start_time": "2023-02-26T06:53:43.007Z"
   },
   {
    "duration": 301,
    "start_time": "2023-02-26T06:54:01.409Z"
   },
   {
    "duration": 301,
    "start_time": "2023-02-26T06:55:31.647Z"
   },
   {
    "duration": 198,
    "start_time": "2023-02-26T06:55:49.560Z"
   },
   {
    "duration": 245,
    "start_time": "2023-02-26T06:55:55.568Z"
   },
   {
    "duration": 316,
    "start_time": "2023-02-26T06:57:19.419Z"
   },
   {
    "duration": 220,
    "start_time": "2023-02-26T06:57:29.595Z"
   },
   {
    "duration": 203,
    "start_time": "2023-02-26T06:57:33.800Z"
   },
   {
    "duration": 10,
    "start_time": "2023-02-26T07:05:23.937Z"
   },
   {
    "duration": 15,
    "start_time": "2023-02-26T07:05:54.630Z"
   },
   {
    "duration": 7,
    "start_time": "2023-02-26T07:06:34.811Z"
   },
   {
    "duration": 13,
    "start_time": "2023-02-26T07:07:26.982Z"
   },
   {
    "duration": 8,
    "start_time": "2023-02-26T07:07:29.004Z"
   },
   {
    "duration": 9,
    "start_time": "2023-02-26T07:08:01.027Z"
   },
   {
    "duration": 113,
    "start_time": "2023-02-26T07:08:09.863Z"
   },
   {
    "duration": 132,
    "start_time": "2023-02-26T07:08:16.783Z"
   },
   {
    "duration": 131,
    "start_time": "2023-02-26T07:09:32.620Z"
   },
   {
    "duration": 30,
    "start_time": "2023-02-26T07:12:33.911Z"
   },
   {
    "duration": 7,
    "start_time": "2023-02-26T07:12:46.224Z"
   },
   {
    "duration": 8,
    "start_time": "2023-02-26T07:13:10.148Z"
   },
   {
    "duration": 115,
    "start_time": "2023-02-26T07:14:00.828Z"
   },
   {
    "duration": 10,
    "start_time": "2023-02-26T07:14:15.207Z"
   },
   {
    "duration": 18,
    "start_time": "2023-02-26T07:14:27.175Z"
   },
   {
    "duration": 11,
    "start_time": "2023-02-26T07:14:57.879Z"
   },
   {
    "duration": 8,
    "start_time": "2023-02-26T07:14:59.568Z"
   },
   {
    "duration": 135,
    "start_time": "2023-02-26T07:16:01.108Z"
   },
   {
    "duration": 11,
    "start_time": "2023-02-26T07:17:12.880Z"
   },
   {
    "duration": 8,
    "start_time": "2023-02-26T07:17:15.252Z"
   },
   {
    "duration": 122,
    "start_time": "2023-02-26T07:17:32.125Z"
   },
   {
    "duration": 113,
    "start_time": "2023-02-26T07:19:04.934Z"
   },
   {
    "duration": 129,
    "start_time": "2023-02-26T07:19:19.396Z"
   },
   {
    "duration": 123,
    "start_time": "2023-02-26T07:19:23.955Z"
   },
   {
    "duration": 122,
    "start_time": "2023-02-26T07:20:41.264Z"
   },
   {
    "duration": 173,
    "start_time": "2023-02-26T09:47:09.019Z"
   },
   {
    "duration": 181,
    "start_time": "2023-02-26T09:47:26.402Z"
   },
   {
    "duration": 18,
    "start_time": "2023-02-26T09:48:23.509Z"
   },
   {
    "duration": 14,
    "start_time": "2023-02-26T09:49:26.982Z"
   },
   {
    "duration": 18,
    "start_time": "2023-02-26T09:49:32.094Z"
   },
   {
    "duration": 1078,
    "start_time": "2023-02-26T10:12:09.383Z"
   },
   {
    "duration": 26,
    "start_time": "2023-02-26T10:12:10.463Z"
   },
   {
    "duration": 22,
    "start_time": "2023-02-26T10:12:10.492Z"
   },
   {
    "duration": 3,
    "start_time": "2023-02-26T10:12:10.516Z"
   },
   {
    "duration": 10,
    "start_time": "2023-02-26T10:12:10.520Z"
   },
   {
    "duration": 34,
    "start_time": "2023-02-26T10:12:10.531Z"
   },
   {
    "duration": 19,
    "start_time": "2023-02-26T10:12:10.566Z"
   },
   {
    "duration": 20,
    "start_time": "2023-02-26T10:12:10.589Z"
   },
   {
    "duration": 9,
    "start_time": "2023-02-26T10:12:10.610Z"
   },
   {
    "duration": 7,
    "start_time": "2023-02-26T10:12:10.621Z"
   },
   {
    "duration": 8,
    "start_time": "2023-02-26T10:12:10.630Z"
   },
   {
    "duration": 15,
    "start_time": "2023-02-26T10:12:10.640Z"
   },
   {
    "duration": 16,
    "start_time": "2023-02-26T10:12:10.656Z"
   },
   {
    "duration": 8,
    "start_time": "2023-02-26T10:12:10.673Z"
   },
   {
    "duration": 23,
    "start_time": "2023-02-26T10:12:10.683Z"
   },
   {
    "duration": 5,
    "start_time": "2023-02-26T10:12:10.708Z"
   },
   {
    "duration": 15,
    "start_time": "2023-02-26T10:12:10.715Z"
   },
   {
    "duration": 262,
    "start_time": "2023-02-26T10:12:10.732Z"
   },
   {
    "duration": 18,
    "start_time": "2023-02-26T10:12:10.996Z"
   },
   {
    "duration": 151,
    "start_time": "2023-02-26T10:12:11.016Z"
   },
   {
    "duration": 6,
    "start_time": "2023-02-26T10:12:11.169Z"
   },
   {
    "duration": 173,
    "start_time": "2023-02-26T10:12:11.185Z"
   },
   {
    "duration": 130,
    "start_time": "2023-02-26T10:12:11.360Z"
   },
   {
    "duration": 7,
    "start_time": "2023-02-26T10:12:11.492Z"
   },
   {
    "duration": 10,
    "start_time": "2023-02-26T10:12:11.501Z"
   },
   {
    "duration": 8,
    "start_time": "2023-02-26T10:12:11.513Z"
   },
   {
    "duration": 302,
    "start_time": "2023-02-26T10:12:11.523Z"
   },
   {
    "duration": 213,
    "start_time": "2023-02-26T10:12:11.829Z"
   },
   {
    "duration": 7,
    "start_time": "2023-02-26T10:12:12.044Z"
   },
   {
    "duration": 325,
    "start_time": "2023-02-26T10:12:12.053Z"
   },
   {
    "duration": 10,
    "start_time": "2023-02-26T10:12:12.385Z"
   },
   {
    "duration": 18,
    "start_time": "2023-02-26T10:12:12.397Z"
   },
   {
    "duration": 37,
    "start_time": "2023-02-26T10:12:12.417Z"
   },
   {
    "duration": 131,
    "start_time": "2023-02-26T10:12:12.455Z"
   },
   {
    "duration": 136,
    "start_time": "2023-02-26T10:12:12.588Z"
   },
   {
    "duration": 9,
    "start_time": "2023-02-26T10:12:12.726Z"
   },
   {
    "duration": 20,
    "start_time": "2023-02-26T10:12:12.737Z"
   },
   {
    "duration": 23,
    "start_time": "2023-02-26T10:12:12.759Z"
   },
   {
    "duration": 135,
    "start_time": "2023-02-26T10:12:12.783Z"
   },
   {
    "duration": 220,
    "start_time": "2023-02-26T10:12:12.921Z"
   },
   {
    "duration": 54,
    "start_time": "2023-02-26T10:21:38.184Z"
   },
   {
    "duration": 50,
    "start_time": "2023-02-26T10:22:07.514Z"
   },
   {
    "duration": 108,
    "start_time": "2023-02-26T10:22:18.610Z"
   },
   {
    "duration": 15,
    "start_time": "2023-02-26T10:22:51.087Z"
   },
   {
    "duration": 10,
    "start_time": "2023-02-26T10:23:20.311Z"
   },
   {
    "duration": 7,
    "start_time": "2023-02-26T10:23:53.068Z"
   },
   {
    "duration": 6,
    "start_time": "2023-02-26T10:24:10.131Z"
   },
   {
    "duration": 10,
    "start_time": "2023-02-26T10:30:35.412Z"
   },
   {
    "duration": 18,
    "start_time": "2023-02-26T10:31:58.701Z"
   },
   {
    "duration": 18,
    "start_time": "2023-02-26T10:32:40.602Z"
   },
   {
    "duration": 16,
    "start_time": "2023-02-26T10:33:10.303Z"
   },
   {
    "duration": 19,
    "start_time": "2023-02-26T10:33:18.690Z"
   },
   {
    "duration": 5,
    "start_time": "2023-02-26T10:43:01.114Z"
   },
   {
    "duration": 4,
    "start_time": "2023-02-26T10:46:38.913Z"
   },
   {
    "duration": 215,
    "start_time": "2023-02-26T10:46:40.336Z"
   },
   {
    "duration": 8,
    "start_time": "2023-02-26T10:51:06.256Z"
   },
   {
    "duration": 56,
    "start_time": "2023-02-26T10:51:07.631Z"
   },
   {
    "duration": 301,
    "start_time": "2023-02-26T10:51:16.791Z"
   },
   {
    "duration": 284,
    "start_time": "2023-02-26T10:54:10.458Z"
   },
   {
    "duration": 150,
    "start_time": "2023-02-26T10:59:52.507Z"
   },
   {
    "duration": 6,
    "start_time": "2023-02-26T11:00:28.601Z"
   },
   {
    "duration": 20,
    "start_time": "2023-02-26T11:00:55.883Z"
   },
   {
    "duration": 6,
    "start_time": "2023-02-26T11:00:59.916Z"
   },
   {
    "duration": 133,
    "start_time": "2023-02-26T11:01:02.274Z"
   },
   {
    "duration": 136,
    "start_time": "2023-02-26T11:01:08.810Z"
   },
   {
    "duration": 160,
    "start_time": "2023-02-26T11:03:15.457Z"
   },
   {
    "duration": 271,
    "start_time": "2023-02-26T11:09:17.605Z"
   },
   {
    "duration": 225,
    "start_time": "2023-02-26T11:09:44.200Z"
   },
   {
    "duration": 113,
    "start_time": "2023-02-26T11:12:51.156Z"
   },
   {
    "duration": 201,
    "start_time": "2023-02-26T11:12:58.620Z"
   },
   {
    "duration": 141,
    "start_time": "2023-02-26T11:13:21.644Z"
   },
   {
    "duration": 123,
    "start_time": "2023-02-26T11:13:32.715Z"
   },
   {
    "duration": 42,
    "start_time": "2023-02-26T11:13:55.329Z"
   },
   {
    "duration": 128,
    "start_time": "2023-02-26T11:14:01.724Z"
   },
   {
    "duration": 98,
    "start_time": "2023-02-26T11:14:10.713Z"
   },
   {
    "duration": 139,
    "start_time": "2023-02-26T11:14:16.132Z"
   },
   {
    "duration": 164,
    "start_time": "2023-02-26T11:14:23.832Z"
   },
   {
    "duration": 1038,
    "start_time": "2023-02-26T12:15:40.991Z"
   },
   {
    "duration": 24,
    "start_time": "2023-02-26T12:15:42.031Z"
   },
   {
    "duration": 20,
    "start_time": "2023-02-26T12:15:42.057Z"
   },
   {
    "duration": 4,
    "start_time": "2023-02-26T12:15:42.078Z"
   },
   {
    "duration": 12,
    "start_time": "2023-02-26T12:15:42.084Z"
   },
   {
    "duration": 35,
    "start_time": "2023-02-26T12:15:42.098Z"
   },
   {
    "duration": 19,
    "start_time": "2023-02-26T12:15:42.134Z"
   },
   {
    "duration": 9,
    "start_time": "2023-02-26T12:15:42.155Z"
   },
   {
    "duration": 12,
    "start_time": "2023-02-26T12:15:42.166Z"
   },
   {
    "duration": 11,
    "start_time": "2023-02-26T12:15:42.179Z"
   },
   {
    "duration": 8,
    "start_time": "2023-02-26T12:15:42.191Z"
   },
   {
    "duration": 22,
    "start_time": "2023-02-26T12:15:42.200Z"
   },
   {
    "duration": 16,
    "start_time": "2023-02-26T12:15:42.224Z"
   },
   {
    "duration": 6,
    "start_time": "2023-02-26T12:15:42.243Z"
   },
   {
    "duration": 10,
    "start_time": "2023-02-26T12:15:42.250Z"
   },
   {
    "duration": 27,
    "start_time": "2023-02-26T12:15:42.262Z"
   },
   {
    "duration": 37,
    "start_time": "2023-02-26T12:15:42.291Z"
   },
   {
    "duration": 270,
    "start_time": "2023-02-26T12:15:42.330Z"
   },
   {
    "duration": 16,
    "start_time": "2023-02-26T12:15:42.602Z"
   },
   {
    "duration": 280,
    "start_time": "2023-02-26T12:15:42.621Z"
   },
   {
    "duration": 6,
    "start_time": "2023-02-26T12:15:42.903Z"
   },
   {
    "duration": 200,
    "start_time": "2023-02-26T12:15:42.911Z"
   },
   {
    "duration": 145,
    "start_time": "2023-02-26T12:15:43.112Z"
   },
   {
    "duration": 7,
    "start_time": "2023-02-26T12:15:43.259Z"
   },
   {
    "duration": 19,
    "start_time": "2023-02-26T12:15:43.268Z"
   },
   {
    "duration": 15,
    "start_time": "2023-02-26T12:15:43.289Z"
   },
   {
    "duration": 293,
    "start_time": "2023-02-26T12:15:43.305Z"
   },
   {
    "duration": 201,
    "start_time": "2023-02-26T12:15:43.600Z"
   },
   {
    "duration": 6,
    "start_time": "2023-02-26T12:15:43.802Z"
   },
   {
    "duration": 307,
    "start_time": "2023-02-26T12:15:43.809Z"
   },
   {
    "duration": 4,
    "start_time": "2023-02-26T12:15:44.118Z"
   },
   {
    "duration": 221,
    "start_time": "2023-02-26T12:15:44.124Z"
   },
   {
    "duration": 8,
    "start_time": "2023-02-26T12:15:44.346Z"
   },
   {
    "duration": 334,
    "start_time": "2023-02-26T12:15:44.355Z"
   },
   {
    "duration": 7,
    "start_time": "2023-02-26T12:15:44.690Z"
   },
   {
    "duration": 143,
    "start_time": "2023-02-26T12:15:44.698Z"
   },
   {
    "duration": 16,
    "start_time": "2023-02-26T12:15:44.842Z"
   },
   {
    "duration": 240,
    "start_time": "2023-02-26T12:15:44.860Z"
   },
   {
    "duration": 6,
    "start_time": "2023-02-26T12:15:45.101Z"
   },
   {
    "duration": 1055,
    "start_time": "2023-02-26T12:30:42.960Z"
   },
   {
    "duration": 24,
    "start_time": "2023-02-26T12:30:44.016Z"
   },
   {
    "duration": 1067,
    "start_time": "2023-02-26T12:30:58.853Z"
   },
   {
    "duration": 1365,
    "start_time": "2023-02-27T07:07:52.249Z"
   },
   {
    "duration": 95,
    "start_time": "2023-02-27T07:07:53.620Z"
   },
   {
    "duration": 22,
    "start_time": "2023-02-27T07:07:53.716Z"
   },
   {
    "duration": 4,
    "start_time": "2023-02-27T07:07:53.740Z"
   },
   {
    "duration": 10,
    "start_time": "2023-02-27T07:07:53.746Z"
   },
   {
    "duration": 100,
    "start_time": "2023-02-27T07:07:53.757Z"
   },
   {
    "duration": 19,
    "start_time": "2023-02-27T07:07:53.858Z"
   },
   {
    "duration": 3,
    "start_time": "2023-02-27T07:07:53.879Z"
   },
   {
    "duration": 7,
    "start_time": "2023-02-27T07:07:53.884Z"
   },
   {
    "duration": 6,
    "start_time": "2023-02-27T07:07:53.893Z"
   },
   {
    "duration": 5,
    "start_time": "2023-02-27T07:07:53.901Z"
   },
   {
    "duration": 68,
    "start_time": "2023-02-27T07:07:53.907Z"
   },
   {
    "duration": 18,
    "start_time": "2023-02-27T07:07:53.977Z"
   },
   {
    "duration": 15,
    "start_time": "2023-02-27T07:07:53.996Z"
   },
   {
    "duration": 8,
    "start_time": "2023-02-27T07:07:54.013Z"
   },
   {
    "duration": 8,
    "start_time": "2023-02-27T07:07:54.022Z"
   },
   {
    "duration": 17,
    "start_time": "2023-02-27T07:07:54.032Z"
   },
   {
    "duration": 335,
    "start_time": "2023-02-27T07:07:54.051Z"
   },
   {
    "duration": 22,
    "start_time": "2023-02-27T07:07:54.388Z"
   },
   {
    "duration": 383,
    "start_time": "2023-02-27T07:07:54.421Z"
   },
   {
    "duration": 14,
    "start_time": "2023-02-27T07:07:54.806Z"
   },
   {
    "duration": 205,
    "start_time": "2023-02-27T07:07:54.822Z"
   },
   {
    "duration": 183,
    "start_time": "2023-02-27T07:07:55.029Z"
   },
   {
    "duration": 9,
    "start_time": "2023-02-27T07:07:55.214Z"
   },
   {
    "duration": 23,
    "start_time": "2023-02-27T07:07:55.225Z"
   },
   {
    "duration": 10,
    "start_time": "2023-02-27T07:07:55.250Z"
   },
   {
    "duration": 402,
    "start_time": "2023-02-27T07:07:55.262Z"
   },
   {
    "duration": 259,
    "start_time": "2023-02-27T07:07:55.669Z"
   },
   {
    "duration": 7,
    "start_time": "2023-02-27T07:07:55.930Z"
   },
   {
    "duration": 366,
    "start_time": "2023-02-27T07:07:55.939Z"
   },
   {
    "duration": 5,
    "start_time": "2023-02-27T07:07:56.310Z"
   },
   {
    "duration": 232,
    "start_time": "2023-02-27T07:07:56.321Z"
   },
   {
    "duration": 7,
    "start_time": "2023-02-27T07:07:56.555Z"
   },
   {
    "duration": 333,
    "start_time": "2023-02-27T07:07:56.563Z"
   },
   {
    "duration": 9,
    "start_time": "2023-02-27T07:07:56.898Z"
   },
   {
    "duration": 140,
    "start_time": "2023-02-27T07:07:56.909Z"
   },
   {
    "duration": 16,
    "start_time": "2023-02-27T07:07:57.051Z"
   },
   {
    "duration": 270,
    "start_time": "2023-02-27T07:07:57.068Z"
   },
   {
    "duration": 7,
    "start_time": "2023-02-27T07:07:57.340Z"
   },
   {
    "duration": 143,
    "start_time": "2023-02-27T07:15:50.883Z"
   },
   {
    "duration": 141,
    "start_time": "2023-02-27T07:15:57.260Z"
   },
   {
    "duration": 20,
    "start_time": "2023-02-27T07:16:31.476Z"
   },
   {
    "duration": 11,
    "start_time": "2023-02-27T07:18:07.999Z"
   },
   {
    "duration": 21,
    "start_time": "2023-02-27T07:18:22.338Z"
   },
   {
    "duration": 167,
    "start_time": "2023-02-27T07:20:10.467Z"
   },
   {
    "duration": 172,
    "start_time": "2023-02-27T07:27:45.538Z"
   },
   {
    "duration": 169,
    "start_time": "2023-02-27T07:29:16.916Z"
   },
   {
    "duration": 154,
    "start_time": "2023-02-27T07:29:37.868Z"
   },
   {
    "duration": 159,
    "start_time": "2023-02-27T07:30:46.901Z"
   },
   {
    "duration": 169,
    "start_time": "2023-02-27T07:33:52.792Z"
   },
   {
    "duration": 1773,
    "start_time": "2023-02-27T07:34:06.396Z"
   },
   {
    "duration": 235,
    "start_time": "2023-02-27T07:36:44.454Z"
   },
   {
    "duration": 271,
    "start_time": "2023-02-27T07:37:13.551Z"
   },
   {
    "duration": 136,
    "start_time": "2023-02-27T07:37:33.277Z"
   },
   {
    "duration": 178,
    "start_time": "2023-02-27T07:44:41.766Z"
   },
   {
    "duration": 173,
    "start_time": "2023-02-27T07:45:20.809Z"
   },
   {
    "duration": 201,
    "start_time": "2023-02-27T07:45:29.671Z"
   },
   {
    "duration": 190,
    "start_time": "2023-02-27T07:45:44.863Z"
   },
   {
    "duration": 181,
    "start_time": "2023-02-27T07:45:53.567Z"
   },
   {
    "duration": 213,
    "start_time": "2023-02-27T07:46:01.079Z"
   },
   {
    "duration": 173,
    "start_time": "2023-02-27T07:46:05.718Z"
   },
   {
    "duration": 213,
    "start_time": "2023-02-27T07:49:44.307Z"
   },
   {
    "duration": 177,
    "start_time": "2023-02-27T07:49:58.633Z"
   },
   {
    "duration": 164,
    "start_time": "2023-02-27T07:50:06.663Z"
   },
   {
    "duration": 6,
    "start_time": "2023-02-27T08:00:34.439Z"
   },
   {
    "duration": 65,
    "start_time": "2023-02-27T13:45:04.500Z"
   },
   {
    "duration": 1324,
    "start_time": "2023-02-27T13:45:25.157Z"
   },
   {
    "duration": 74,
    "start_time": "2023-02-27T13:45:26.482Z"
   },
   {
    "duration": 27,
    "start_time": "2023-02-27T13:45:26.558Z"
   },
   {
    "duration": 4,
    "start_time": "2023-02-27T13:45:26.587Z"
   },
   {
    "duration": 34,
    "start_time": "2023-02-27T13:45:26.594Z"
   },
   {
    "duration": 116,
    "start_time": "2023-02-27T13:45:26.630Z"
   },
   {
    "duration": 19,
    "start_time": "2023-02-27T13:45:26.749Z"
   },
   {
    "duration": 8,
    "start_time": "2023-02-27T13:45:26.769Z"
   },
   {
    "duration": 23,
    "start_time": "2023-02-27T13:45:26.778Z"
   },
   {
    "duration": 28,
    "start_time": "2023-02-27T13:45:26.803Z"
   },
   {
    "duration": 6,
    "start_time": "2023-02-27T13:45:26.833Z"
   },
   {
    "duration": 62,
    "start_time": "2023-02-27T13:45:26.841Z"
   },
   {
    "duration": 20,
    "start_time": "2023-02-27T13:45:26.905Z"
   },
   {
    "duration": 7,
    "start_time": "2023-02-27T13:45:26.929Z"
   },
   {
    "duration": 9,
    "start_time": "2023-02-27T13:45:26.938Z"
   },
   {
    "duration": 13,
    "start_time": "2023-02-27T13:45:26.949Z"
   },
   {
    "duration": 18,
    "start_time": "2023-02-27T13:45:26.964Z"
   },
   {
    "duration": 323,
    "start_time": "2023-02-27T13:45:26.983Z"
   },
   {
    "duration": 15,
    "start_time": "2023-02-27T13:45:27.309Z"
   },
   {
    "duration": 273,
    "start_time": "2023-02-27T13:45:27.325Z"
   },
   {
    "duration": 8,
    "start_time": "2023-02-27T13:45:27.603Z"
   },
   {
    "duration": 215,
    "start_time": "2023-02-27T13:45:27.613Z"
   },
   {
    "duration": 153,
    "start_time": "2023-02-27T13:45:27.829Z"
   },
   {
    "duration": 7,
    "start_time": "2023-02-27T13:45:27.984Z"
   },
   {
    "duration": 5,
    "start_time": "2023-02-27T13:45:28.006Z"
   },
   {
    "duration": 26,
    "start_time": "2023-02-27T13:45:28.012Z"
   },
   {
    "duration": 308,
    "start_time": "2023-02-27T13:45:28.039Z"
   },
   {
    "duration": 241,
    "start_time": "2023-02-27T13:45:28.349Z"
   },
   {
    "duration": 11,
    "start_time": "2023-02-27T13:45:28.592Z"
   },
   {
    "duration": 383,
    "start_time": "2023-02-27T13:45:28.606Z"
   },
   {
    "duration": 5,
    "start_time": "2023-02-27T13:45:28.990Z"
   },
   {
    "duration": 253,
    "start_time": "2023-02-27T13:45:29.002Z"
   },
   {
    "duration": 8,
    "start_time": "2023-02-27T13:45:29.257Z"
   },
   {
    "duration": 364,
    "start_time": "2023-02-27T13:45:29.267Z"
   },
   {
    "duration": 8,
    "start_time": "2023-02-27T13:45:29.633Z"
   },
   {
    "duration": 175,
    "start_time": "2023-02-27T13:45:29.643Z"
   },
   {
    "duration": 14,
    "start_time": "2023-02-27T13:45:29.820Z"
   },
   {
    "duration": 279,
    "start_time": "2023-02-27T13:45:29.836Z"
   },
   {
    "duration": 6,
    "start_time": "2023-02-27T13:45:30.117Z"
   },
   {
    "duration": 181,
    "start_time": "2023-02-27T13:45:30.126Z"
   },
   {
    "duration": 19,
    "start_time": "2023-02-27T13:45:30.312Z"
   },
   {
    "duration": 187,
    "start_time": "2023-02-27T13:45:30.333Z"
   },
   {
    "duration": 194,
    "start_time": "2023-02-27T13:45:30.522Z"
   },
   {
    "duration": 4,
    "start_time": "2023-02-27T13:45:30.718Z"
   },
   {
    "duration": 208,
    "start_time": "2023-02-27T13:45:30.724Z"
   },
   {
    "duration": 112,
    "start_time": "2023-02-27T13:50:50.206Z"
   },
   {
    "duration": 238,
    "start_time": "2023-02-27T13:51:17.861Z"
   },
   {
    "duration": 13,
    "start_time": "2023-02-27T13:51:27.233Z"
   },
   {
    "duration": 158,
    "start_time": "2023-02-27T14:11:52.927Z"
   },
   {
    "duration": 9,
    "start_time": "2023-02-27T14:11:54.958Z"
   },
   {
    "duration": 21,
    "start_time": "2023-02-27T14:11:56.877Z"
   },
   {
    "duration": 129,
    "start_time": "2023-02-27T14:18:53.033Z"
   },
   {
    "duration": 11,
    "start_time": "2023-02-27T14:18:53.753Z"
   },
   {
    "duration": 11,
    "start_time": "2023-02-27T14:21:28.628Z"
   },
   {
    "duration": 1151,
    "start_time": "2023-02-27T14:21:58.031Z"
   },
   {
    "duration": 32,
    "start_time": "2023-02-27T14:21:59.184Z"
   },
   {
    "duration": 37,
    "start_time": "2023-02-27T14:21:59.229Z"
   },
   {
    "duration": 5,
    "start_time": "2023-02-27T14:21:59.268Z"
   },
   {
    "duration": 11,
    "start_time": "2023-02-27T14:21:59.275Z"
   },
   {
    "duration": 55,
    "start_time": "2023-02-27T14:21:59.288Z"
   },
   {
    "duration": 21,
    "start_time": "2023-02-27T14:21:59.345Z"
   },
   {
    "duration": 3,
    "start_time": "2023-02-27T14:21:59.368Z"
   },
   {
    "duration": 12,
    "start_time": "2023-02-27T14:21:59.372Z"
   },
   {
    "duration": 9,
    "start_time": "2023-02-27T14:21:59.385Z"
   },
   {
    "duration": 15,
    "start_time": "2023-02-27T14:21:59.396Z"
   },
   {
    "duration": 48,
    "start_time": "2023-02-27T14:21:59.414Z"
   },
   {
    "duration": 18,
    "start_time": "2023-02-27T14:21:59.465Z"
   },
   {
    "duration": 6,
    "start_time": "2023-02-27T14:21:59.486Z"
   },
   {
    "duration": 50,
    "start_time": "2023-02-27T14:21:59.494Z"
   },
   {
    "duration": 7,
    "start_time": "2023-02-27T14:21:59.545Z"
   },
   {
    "duration": 13,
    "start_time": "2023-02-27T14:21:59.554Z"
   },
   {
    "duration": 305,
    "start_time": "2023-02-27T14:21:59.569Z"
   },
   {
    "duration": 12,
    "start_time": "2023-02-27T14:21:59.875Z"
   },
   {
    "duration": 288,
    "start_time": "2023-02-27T14:21:59.889Z"
   },
   {
    "duration": 7,
    "start_time": "2023-02-27T14:22:00.179Z"
   },
   {
    "duration": 225,
    "start_time": "2023-02-27T14:22:00.188Z"
   },
   {
    "duration": 153,
    "start_time": "2023-02-27T14:22:00.415Z"
   },
   {
    "duration": 7,
    "start_time": "2023-02-27T14:22:00.569Z"
   },
   {
    "duration": 53,
    "start_time": "2023-02-27T14:22:00.577Z"
   },
   {
    "duration": 101,
    "start_time": "2023-02-27T14:22:00.632Z"
   },
   {
    "duration": 399,
    "start_time": "2023-02-27T14:22:00.737Z"
   },
   {
    "duration": 274,
    "start_time": "2023-02-27T14:22:01.144Z"
   },
   {
    "duration": 7,
    "start_time": "2023-02-27T14:22:01.420Z"
   },
   {
    "duration": 433,
    "start_time": "2023-02-27T14:22:01.428Z"
   },
   {
    "duration": 6,
    "start_time": "2023-02-27T14:22:01.863Z"
   },
   {
    "duration": 296,
    "start_time": "2023-02-27T14:22:01.871Z"
   },
   {
    "duration": 8,
    "start_time": "2023-02-27T14:22:02.169Z"
   },
   {
    "duration": 387,
    "start_time": "2023-02-27T14:22:02.178Z"
   },
   {
    "duration": 7,
    "start_time": "2023-02-27T14:22:02.567Z"
   },
   {
    "duration": 180,
    "start_time": "2023-02-27T14:22:02.576Z"
   },
   {
    "duration": 17,
    "start_time": "2023-02-27T14:22:02.757Z"
   },
   {
    "duration": 274,
    "start_time": "2023-02-27T14:22:02.775Z"
   },
   {
    "duration": 6,
    "start_time": "2023-02-27T14:22:03.051Z"
   },
   {
    "duration": 184,
    "start_time": "2023-02-27T14:22:03.059Z"
   },
   {
    "duration": 22,
    "start_time": "2023-02-27T14:22:03.247Z"
   },
   {
    "duration": 208,
    "start_time": "2023-02-27T14:22:03.271Z"
   },
   {
    "duration": 198,
    "start_time": "2023-02-27T14:22:03.481Z"
   },
   {
    "duration": 6,
    "start_time": "2023-02-27T14:22:03.681Z"
   },
   {
    "duration": 256,
    "start_time": "2023-02-27T14:22:03.688Z"
   },
   {
    "duration": 0,
    "start_time": "2023-02-27T14:22:03.946Z"
   },
   {
    "duration": 0,
    "start_time": "2023-02-27T14:22:03.947Z"
   },
   {
    "duration": 0,
    "start_time": "2023-02-27T14:22:03.948Z"
   },
   {
    "duration": 0,
    "start_time": "2023-02-27T14:22:03.949Z"
   },
   {
    "duration": 12,
    "start_time": "2023-02-27T14:22:27.896Z"
   },
   {
    "duration": 252,
    "start_time": "2023-02-27T14:23:11.577Z"
   },
   {
    "duration": 11,
    "start_time": "2023-02-27T14:23:15.264Z"
   },
   {
    "duration": 151,
    "start_time": "2023-02-27T14:28:30.741Z"
   },
   {
    "duration": 10,
    "start_time": "2023-02-27T14:28:33.037Z"
   },
   {
    "duration": 22,
    "start_time": "2023-02-27T14:28:34.572Z"
   },
   {
    "duration": 15,
    "start_time": "2023-02-27T14:52:38.330Z"
   },
   {
    "duration": 12,
    "start_time": "2023-02-27T14:53:33.780Z"
   },
   {
    "duration": 922,
    "start_time": "2023-02-27T15:14:53.068Z"
   },
   {
    "duration": 13,
    "start_time": "2023-02-27T15:15:33.903Z"
   },
   {
    "duration": 9,
    "start_time": "2023-02-27T15:15:50.560Z"
   },
   {
    "duration": 8,
    "start_time": "2023-02-27T15:16:01.331Z"
   },
   {
    "duration": 4,
    "start_time": "2023-02-27T15:16:50.986Z"
   },
   {
    "duration": 12,
    "start_time": "2023-02-27T15:23:51.738Z"
   },
   {
    "duration": 1181,
    "start_time": "2023-02-27T15:25:19.639Z"
   },
   {
    "duration": 32,
    "start_time": "2023-02-27T15:25:20.825Z"
   },
   {
    "duration": 26,
    "start_time": "2023-02-27T15:25:20.859Z"
   },
   {
    "duration": 6,
    "start_time": "2023-02-27T15:25:20.887Z"
   },
   {
    "duration": 56,
    "start_time": "2023-02-27T15:25:20.894Z"
   },
   {
    "duration": 37,
    "start_time": "2023-02-27T15:25:20.953Z"
   },
   {
    "duration": 23,
    "start_time": "2023-02-27T15:25:20.991Z"
   },
   {
    "duration": 39,
    "start_time": "2023-02-27T15:25:21.016Z"
   },
   {
    "duration": 8,
    "start_time": "2023-02-27T15:25:21.057Z"
   },
   {
    "duration": 10,
    "start_time": "2023-02-27T15:25:21.068Z"
   },
   {
    "duration": 27,
    "start_time": "2023-02-27T15:25:21.079Z"
   },
   {
    "duration": 63,
    "start_time": "2023-02-27T15:25:21.107Z"
   },
   {
    "duration": 18,
    "start_time": "2023-02-27T15:25:21.172Z"
   },
   {
    "duration": 22,
    "start_time": "2023-02-27T15:25:21.193Z"
   },
   {
    "duration": 42,
    "start_time": "2023-02-27T15:25:21.217Z"
   },
   {
    "duration": 7,
    "start_time": "2023-02-27T15:25:21.261Z"
   },
   {
    "duration": 23,
    "start_time": "2023-02-27T15:25:21.270Z"
   },
   {
    "duration": 368,
    "start_time": "2023-02-27T15:25:21.295Z"
   },
   {
    "duration": 12,
    "start_time": "2023-02-27T15:25:21.666Z"
   },
   {
    "duration": 330,
    "start_time": "2023-02-27T15:25:21.680Z"
   },
   {
    "duration": 7,
    "start_time": "2023-02-27T15:25:22.023Z"
   },
   {
    "duration": 239,
    "start_time": "2023-02-27T15:25:22.032Z"
   },
   {
    "duration": 164,
    "start_time": "2023-02-27T15:25:22.272Z"
   },
   {
    "duration": 8,
    "start_time": "2023-02-27T15:25:22.438Z"
   },
   {
    "duration": 15,
    "start_time": "2023-02-27T15:25:22.447Z"
   },
   {
    "duration": 7,
    "start_time": "2023-02-27T15:25:22.464Z"
   },
   {
    "duration": 357,
    "start_time": "2023-02-27T15:25:22.472Z"
   },
   {
    "duration": 265,
    "start_time": "2023-02-27T15:25:22.834Z"
   },
   {
    "duration": 20,
    "start_time": "2023-02-27T15:25:23.103Z"
   },
   {
    "duration": 352,
    "start_time": "2023-02-27T15:25:23.125Z"
   },
   {
    "duration": 5,
    "start_time": "2023-02-27T15:25:23.478Z"
   },
   {
    "duration": 276,
    "start_time": "2023-02-27T15:25:23.484Z"
   },
   {
    "duration": 8,
    "start_time": "2023-02-27T15:25:23.762Z"
   },
   {
    "duration": 357,
    "start_time": "2023-02-27T15:25:23.771Z"
   },
   {
    "duration": 28,
    "start_time": "2023-02-27T15:25:24.130Z"
   },
   {
    "duration": 217,
    "start_time": "2023-02-27T15:25:24.160Z"
   },
   {
    "duration": 30,
    "start_time": "2023-02-27T15:25:24.380Z"
   },
   {
    "duration": 256,
    "start_time": "2023-02-27T15:25:24.415Z"
   },
   {
    "duration": 5,
    "start_time": "2023-02-27T15:25:24.673Z"
   },
   {
    "duration": 189,
    "start_time": "2023-02-27T15:25:24.680Z"
   },
   {
    "duration": 19,
    "start_time": "2023-02-27T15:25:24.871Z"
   },
   {
    "duration": 187,
    "start_time": "2023-02-27T15:25:24.903Z"
   },
   {
    "duration": 198,
    "start_time": "2023-02-27T15:25:25.092Z"
   },
   {
    "duration": 5,
    "start_time": "2023-02-27T15:25:25.292Z"
   },
   {
    "duration": 272,
    "start_time": "2023-02-27T15:25:25.313Z"
   },
   {
    "duration": 17,
    "start_time": "2023-02-27T15:25:25.587Z"
   },
   {
    "duration": 183,
    "start_time": "2023-02-27T15:25:25.605Z"
   },
   {
    "duration": 6,
    "start_time": "2023-02-27T15:25:25.789Z"
   },
   {
    "duration": 46,
    "start_time": "2023-02-27T15:25:25.797Z"
   },
   {
    "duration": 11,
    "start_time": "2023-02-27T15:25:25.845Z"
   },
   {
    "duration": 7,
    "start_time": "2023-02-27T15:25:25.858Z"
   },
   {
    "duration": 6,
    "start_time": "2023-02-27T15:25:25.867Z"
   },
   {
    "duration": 8,
    "start_time": "2023-02-27T15:25:25.875Z"
   },
   {
    "duration": 128,
    "start_time": "2023-02-27T15:25:25.885Z"
   },
   {
    "duration": 21,
    "start_time": "2023-02-27T15:27:15.777Z"
   },
   {
    "duration": 37,
    "start_time": "2023-02-27T15:27:23.320Z"
   },
   {
    "duration": 26,
    "start_time": "2023-02-27T15:27:27.344Z"
   },
   {
    "duration": 21,
    "start_time": "2023-02-27T15:27:36.373Z"
   },
   {
    "duration": 21,
    "start_time": "2023-02-27T15:27:50.040Z"
   },
   {
    "duration": 24,
    "start_time": "2023-02-27T15:28:24.582Z"
   },
   {
    "duration": 22,
    "start_time": "2023-02-27T15:29:20.999Z"
   },
   {
    "duration": 1278,
    "start_time": "2023-02-28T12:52:43.279Z"
   },
   {
    "duration": 76,
    "start_time": "2023-02-28T12:52:44.559Z"
   },
   {
    "duration": 21,
    "start_time": "2023-02-28T12:52:44.637Z"
   },
   {
    "duration": 3,
    "start_time": "2023-02-28T12:52:44.660Z"
   },
   {
    "duration": 17,
    "start_time": "2023-02-28T12:52:44.666Z"
   },
   {
    "duration": 92,
    "start_time": "2023-02-28T12:52:44.685Z"
   },
   {
    "duration": 20,
    "start_time": "2023-02-28T12:52:44.779Z"
   },
   {
    "duration": 4,
    "start_time": "2023-02-28T12:52:44.801Z"
   },
   {
    "duration": 8,
    "start_time": "2023-02-28T12:52:44.806Z"
   },
   {
    "duration": 9,
    "start_time": "2023-02-28T12:52:44.816Z"
   },
   {
    "duration": 5,
    "start_time": "2023-02-28T12:52:44.826Z"
   },
   {
    "duration": 62,
    "start_time": "2023-02-28T12:52:44.833Z"
   },
   {
    "duration": 16,
    "start_time": "2023-02-28T12:52:44.897Z"
   },
   {
    "duration": 6,
    "start_time": "2023-02-28T12:52:44.916Z"
   },
   {
    "duration": 6,
    "start_time": "2023-02-28T12:52:44.924Z"
   },
   {
    "duration": 5,
    "start_time": "2023-02-28T12:52:44.932Z"
   },
   {
    "duration": 13,
    "start_time": "2023-02-28T12:52:44.938Z"
   },
   {
    "duration": 303,
    "start_time": "2023-02-28T12:52:44.952Z"
   },
   {
    "duration": 12,
    "start_time": "2023-02-28T12:52:45.257Z"
   },
   {
    "duration": 268,
    "start_time": "2023-02-28T12:52:45.270Z"
   },
   {
    "duration": 5,
    "start_time": "2023-02-28T12:52:45.540Z"
   },
   {
    "duration": 184,
    "start_time": "2023-02-28T12:52:45.547Z"
   },
   {
    "duration": 126,
    "start_time": "2023-02-28T12:52:45.733Z"
   },
   {
    "duration": 7,
    "start_time": "2023-02-28T12:52:45.860Z"
   },
   {
    "duration": 9,
    "start_time": "2023-02-28T12:52:45.869Z"
   },
   {
    "duration": 10,
    "start_time": "2023-02-28T12:52:45.880Z"
   },
   {
    "duration": 290,
    "start_time": "2023-02-28T12:52:45.891Z"
   },
   {
    "duration": 222,
    "start_time": "2023-02-28T12:52:46.182Z"
   },
   {
    "duration": 6,
    "start_time": "2023-02-28T12:52:46.405Z"
   },
   {
    "duration": 366,
    "start_time": "2023-02-28T12:52:46.413Z"
   },
   {
    "duration": 6,
    "start_time": "2023-02-28T12:52:46.781Z"
   },
   {
    "duration": 272,
    "start_time": "2023-02-28T12:52:46.788Z"
   },
   {
    "duration": 7,
    "start_time": "2023-02-28T12:52:47.062Z"
   },
   {
    "duration": 358,
    "start_time": "2023-02-28T12:52:47.071Z"
   },
   {
    "duration": 7,
    "start_time": "2023-02-28T12:52:47.431Z"
   },
   {
    "duration": 145,
    "start_time": "2023-02-28T12:52:47.439Z"
   },
   {
    "duration": 19,
    "start_time": "2023-02-28T12:52:47.586Z"
   },
   {
    "duration": 205,
    "start_time": "2023-02-28T12:52:47.607Z"
   },
   {
    "duration": 4,
    "start_time": "2023-02-28T12:52:47.814Z"
   },
   {
    "duration": 152,
    "start_time": "2023-02-28T12:52:47.820Z"
   },
   {
    "duration": 28,
    "start_time": "2023-02-28T12:52:47.975Z"
   },
   {
    "duration": 149,
    "start_time": "2023-02-28T12:52:48.005Z"
   },
   {
    "duration": 167,
    "start_time": "2023-02-28T12:52:48.156Z"
   },
   {
    "duration": 5,
    "start_time": "2023-02-28T12:52:48.324Z"
   },
   {
    "duration": 230,
    "start_time": "2023-02-28T12:52:48.330Z"
   },
   {
    "duration": 9,
    "start_time": "2023-02-28T12:52:48.562Z"
   },
   {
    "duration": 138,
    "start_time": "2023-02-28T12:52:48.572Z"
   },
   {
    "duration": 6,
    "start_time": "2023-02-28T12:52:48.712Z"
   },
   {
    "duration": 26,
    "start_time": "2023-02-28T12:52:48.719Z"
   },
   {
    "duration": 17,
    "start_time": "2023-02-28T12:52:48.746Z"
   },
   {
    "duration": 15,
    "start_time": "2023-02-28T12:52:48.764Z"
   },
   {
    "duration": 5,
    "start_time": "2023-02-28T12:52:48.781Z"
   },
   {
    "duration": 13,
    "start_time": "2023-02-28T12:52:48.788Z"
   },
   {
    "duration": 23,
    "start_time": "2023-02-28T12:52:48.802Z"
   },
   {
    "duration": 23,
    "start_time": "2023-02-28T12:54:11.202Z"
   },
   {
    "duration": 1328,
    "start_time": "2023-02-28T13:00:48.674Z"
   },
   {
    "duration": 14,
    "start_time": "2023-02-28T13:01:03.842Z"
   },
   {
    "duration": 13,
    "start_time": "2023-02-28T13:02:59.793Z"
   },
   {
    "duration": 249,
    "start_time": "2023-02-28T13:22:50.103Z"
   },
   {
    "duration": 9,
    "start_time": "2023-02-28T13:22:57.277Z"
   },
   {
    "duration": 164,
    "start_time": "2023-02-28T13:24:08.791Z"
   },
   {
    "duration": 7,
    "start_time": "2023-02-28T13:24:28.882Z"
   },
   {
    "duration": 6,
    "start_time": "2023-02-28T13:25:39.268Z"
   },
   {
    "duration": 1348,
    "start_time": "2023-02-28T13:25:40.743Z"
   },
   {
    "duration": 1369,
    "start_time": "2023-02-28T13:26:03.363Z"
   },
   {
    "duration": 1516,
    "start_time": "2023-02-28T13:26:20.431Z"
   },
   {
    "duration": 9,
    "start_time": "2023-02-28T13:27:28.117Z"
   },
   {
    "duration": 9,
    "start_time": "2023-02-28T13:27:35.084Z"
   },
   {
    "duration": 12,
    "start_time": "2023-02-28T13:28:00.124Z"
   },
   {
    "duration": 10,
    "start_time": "2023-02-28T13:31:25.078Z"
   },
   {
    "duration": 5,
    "start_time": "2023-02-28T13:31:28.687Z"
   },
   {
    "duration": 4,
    "start_time": "2023-02-28T13:31:32.137Z"
   },
   {
    "duration": 15,
    "start_time": "2023-02-28T13:31:35.264Z"
   },
   {
    "duration": 7,
    "start_time": "2023-02-28T13:32:31.119Z"
   },
   {
    "duration": 5,
    "start_time": "2023-02-28T13:32:35.297Z"
   },
   {
    "duration": 4,
    "start_time": "2023-02-28T13:32:39.466Z"
   },
   {
    "duration": 15,
    "start_time": "2023-02-28T13:33:02.527Z"
   },
   {
    "duration": 16,
    "start_time": "2023-02-28T13:34:04.774Z"
   },
   {
    "duration": 70,
    "start_time": "2023-02-28T13:37:17.346Z"
   },
   {
    "duration": 91,
    "start_time": "2023-02-28T13:38:36.168Z"
   },
   {
    "duration": 11,
    "start_time": "2023-02-28T13:40:17.045Z"
   },
   {
    "duration": 1126,
    "start_time": "2023-02-28T13:40:24.245Z"
   },
   {
    "duration": 26,
    "start_time": "2023-02-28T13:40:25.373Z"
   },
   {
    "duration": 20,
    "start_time": "2023-02-28T13:40:25.401Z"
   },
   {
    "duration": 17,
    "start_time": "2023-02-28T13:40:25.423Z"
   },
   {
    "duration": 13,
    "start_time": "2023-02-28T13:40:25.444Z"
   },
   {
    "duration": 46,
    "start_time": "2023-02-28T13:40:25.459Z"
   },
   {
    "duration": 18,
    "start_time": "2023-02-28T13:40:25.507Z"
   },
   {
    "duration": 7,
    "start_time": "2023-02-28T13:40:25.527Z"
   },
   {
    "duration": 15,
    "start_time": "2023-02-28T13:40:25.536Z"
   },
   {
    "duration": 10,
    "start_time": "2023-02-28T13:40:25.553Z"
   },
   {
    "duration": 15,
    "start_time": "2023-02-28T13:40:25.565Z"
   },
   {
    "duration": 18,
    "start_time": "2023-02-28T13:40:25.582Z"
   },
   {
    "duration": 18,
    "start_time": "2023-02-28T13:40:25.601Z"
   },
   {
    "duration": 6,
    "start_time": "2023-02-28T13:40:25.623Z"
   },
   {
    "duration": 14,
    "start_time": "2023-02-28T13:40:25.631Z"
   },
   {
    "duration": 6,
    "start_time": "2023-02-28T13:40:25.647Z"
   },
   {
    "duration": 13,
    "start_time": "2023-02-28T13:40:25.655Z"
   },
   {
    "duration": 321,
    "start_time": "2023-02-28T13:40:25.670Z"
   },
   {
    "duration": 16,
    "start_time": "2023-02-28T13:40:25.993Z"
   },
   {
    "duration": 276,
    "start_time": "2023-02-28T13:40:26.010Z"
   },
   {
    "duration": 5,
    "start_time": "2023-02-28T13:40:26.288Z"
   },
   {
    "duration": 198,
    "start_time": "2023-02-28T13:40:26.295Z"
   },
   {
    "duration": 136,
    "start_time": "2023-02-28T13:40:26.495Z"
   },
   {
    "duration": 6,
    "start_time": "2023-02-28T13:40:26.632Z"
   },
   {
    "duration": 8,
    "start_time": "2023-02-28T13:40:26.640Z"
   },
   {
    "duration": 18,
    "start_time": "2023-02-28T13:40:26.649Z"
   },
   {
    "duration": 385,
    "start_time": "2023-02-28T13:40:26.669Z"
   },
   {
    "duration": 240,
    "start_time": "2023-02-28T13:40:27.055Z"
   },
   {
    "duration": 11,
    "start_time": "2023-02-28T13:40:27.297Z"
   },
   {
    "duration": 325,
    "start_time": "2023-02-28T13:40:27.310Z"
   },
   {
    "duration": 5,
    "start_time": "2023-02-28T13:40:27.636Z"
   },
   {
    "duration": 228,
    "start_time": "2023-02-28T13:40:27.643Z"
   },
   {
    "duration": 7,
    "start_time": "2023-02-28T13:40:27.873Z"
   },
   {
    "duration": 376,
    "start_time": "2023-02-28T13:40:27.882Z"
   },
   {
    "duration": 7,
    "start_time": "2023-02-28T13:40:28.260Z"
   },
   {
    "duration": 149,
    "start_time": "2023-02-28T13:40:28.268Z"
   },
   {
    "duration": 15,
    "start_time": "2023-02-28T13:40:28.419Z"
   },
   {
    "duration": 247,
    "start_time": "2023-02-28T13:40:28.435Z"
   },
   {
    "duration": 5,
    "start_time": "2023-02-28T13:40:28.683Z"
   },
   {
    "duration": 181,
    "start_time": "2023-02-28T13:40:28.690Z"
   },
   {
    "duration": 16,
    "start_time": "2023-02-28T13:40:28.876Z"
   },
   {
    "duration": 162,
    "start_time": "2023-02-28T13:40:28.894Z"
   },
   {
    "duration": 186,
    "start_time": "2023-02-28T13:40:29.058Z"
   },
   {
    "duration": 6,
    "start_time": "2023-02-28T13:40:29.246Z"
   },
   {
    "duration": 245,
    "start_time": "2023-02-28T13:40:29.253Z"
   },
   {
    "duration": 11,
    "start_time": "2023-02-28T13:40:29.500Z"
   },
   {
    "duration": 152,
    "start_time": "2023-02-28T13:40:29.513Z"
   },
   {
    "duration": 7,
    "start_time": "2023-02-28T13:40:29.666Z"
   },
   {
    "duration": 13,
    "start_time": "2023-02-28T13:40:29.675Z"
   },
   {
    "duration": 23,
    "start_time": "2023-02-28T13:40:29.689Z"
   },
   {
    "duration": 11,
    "start_time": "2023-02-28T13:40:29.713Z"
   },
   {
    "duration": 11,
    "start_time": "2023-02-28T13:40:29.725Z"
   },
   {
    "duration": 5,
    "start_time": "2023-02-28T13:40:29.737Z"
   },
   {
    "duration": 14,
    "start_time": "2023-02-28T13:40:29.744Z"
   },
   {
    "duration": 6,
    "start_time": "2023-02-28T13:40:29.760Z"
   },
   {
    "duration": 14,
    "start_time": "2023-02-28T13:40:29.768Z"
   },
   {
    "duration": 21,
    "start_time": "2023-02-28T13:40:29.784Z"
   },
   {
    "duration": 20,
    "start_time": "2023-02-28T13:40:29.807Z"
   },
   {
    "duration": 54,
    "start_time": "2023-03-01T11:24:38.043Z"
   },
   {
    "duration": 1237,
    "start_time": "2023-03-01T11:24:44.958Z"
   },
   {
    "duration": 87,
    "start_time": "2023-03-01T11:24:46.198Z"
   },
   {
    "duration": 21,
    "start_time": "2023-03-01T11:24:46.286Z"
   },
   {
    "duration": 3,
    "start_time": "2023-03-01T11:24:46.309Z"
   },
   {
    "duration": 18,
    "start_time": "2023-03-01T11:24:46.314Z"
   },
   {
    "duration": 118,
    "start_time": "2023-03-01T11:24:46.333Z"
   },
   {
    "duration": 19,
    "start_time": "2023-03-01T11:24:46.452Z"
   },
   {
    "duration": 3,
    "start_time": "2023-03-01T11:24:46.472Z"
   },
   {
    "duration": 9,
    "start_time": "2023-03-01T11:24:46.477Z"
   },
   {
    "duration": 8,
    "start_time": "2023-03-01T11:24:46.488Z"
   },
   {
    "duration": 5,
    "start_time": "2023-03-01T11:24:46.497Z"
   },
   {
    "duration": 73,
    "start_time": "2023-03-01T11:24:46.503Z"
   },
   {
    "duration": 15,
    "start_time": "2023-03-01T11:24:46.578Z"
   },
   {
    "duration": 7,
    "start_time": "2023-03-01T11:24:46.594Z"
   },
   {
    "duration": 6,
    "start_time": "2023-03-01T11:24:46.602Z"
   },
   {
    "duration": 7,
    "start_time": "2023-03-01T11:24:46.610Z"
   },
   {
    "duration": 19,
    "start_time": "2023-03-01T11:24:46.618Z"
   },
   {
    "duration": 244,
    "start_time": "2023-03-01T11:24:46.639Z"
   },
   {
    "duration": 10,
    "start_time": "2023-03-01T11:24:46.885Z"
   },
   {
    "duration": 240,
    "start_time": "2023-03-01T11:24:46.896Z"
   },
   {
    "duration": 13,
    "start_time": "2023-03-01T11:24:47.137Z"
   },
   {
    "duration": 159,
    "start_time": "2023-03-01T11:24:47.151Z"
   },
   {
    "duration": 136,
    "start_time": "2023-03-01T11:24:47.312Z"
   },
   {
    "duration": 5,
    "start_time": "2023-03-01T11:24:47.450Z"
   },
   {
    "duration": 7,
    "start_time": "2023-03-01T11:24:47.457Z"
   },
   {
    "duration": 8,
    "start_time": "2023-03-01T11:24:47.466Z"
   },
   {
    "duration": 254,
    "start_time": "2023-03-01T11:24:47.475Z"
   },
   {
    "duration": 195,
    "start_time": "2023-03-01T11:24:47.732Z"
   },
   {
    "duration": 6,
    "start_time": "2023-03-01T11:24:47.929Z"
   },
   {
    "duration": 360,
    "start_time": "2023-03-01T11:24:47.937Z"
   },
   {
    "duration": 4,
    "start_time": "2023-03-01T11:24:48.299Z"
   },
   {
    "duration": 203,
    "start_time": "2023-03-01T11:24:48.305Z"
   },
   {
    "duration": 7,
    "start_time": "2023-03-01T11:24:48.510Z"
   },
   {
    "duration": 321,
    "start_time": "2023-03-01T11:24:48.518Z"
   },
   {
    "duration": 8,
    "start_time": "2023-03-01T11:24:48.840Z"
   },
   {
    "duration": 129,
    "start_time": "2023-03-01T11:24:48.850Z"
   },
   {
    "duration": 13,
    "start_time": "2023-03-01T11:24:48.980Z"
   },
   {
    "duration": 193,
    "start_time": "2023-03-01T11:24:48.994Z"
   },
   {
    "duration": 4,
    "start_time": "2023-03-01T11:24:49.189Z"
   },
   {
    "duration": 137,
    "start_time": "2023-03-01T11:24:49.194Z"
   },
   {
    "duration": 23,
    "start_time": "2023-03-01T11:24:49.333Z"
   },
   {
    "duration": 143,
    "start_time": "2023-03-01T11:24:49.357Z"
   },
   {
    "duration": 148,
    "start_time": "2023-03-01T11:24:49.501Z"
   },
   {
    "duration": 5,
    "start_time": "2023-03-01T11:24:49.650Z"
   },
   {
    "duration": 208,
    "start_time": "2023-03-01T11:24:49.657Z"
   },
   {
    "duration": 8,
    "start_time": "2023-03-01T11:24:49.867Z"
   },
   {
    "duration": 131,
    "start_time": "2023-03-01T11:24:49.877Z"
   },
   {
    "duration": 6,
    "start_time": "2023-03-01T11:24:50.010Z"
   },
   {
    "duration": 18,
    "start_time": "2023-03-01T11:24:50.017Z"
   },
   {
    "duration": 15,
    "start_time": "2023-03-01T11:24:50.036Z"
   },
   {
    "duration": 8,
    "start_time": "2023-03-01T11:24:50.053Z"
   },
   {
    "duration": 7,
    "start_time": "2023-03-01T11:24:50.063Z"
   },
   {
    "duration": 5,
    "start_time": "2023-03-01T11:24:50.072Z"
   },
   {
    "duration": 10,
    "start_time": "2023-03-01T11:24:50.078Z"
   },
   {
    "duration": 11,
    "start_time": "2023-03-01T11:24:50.089Z"
   },
   {
    "duration": 6,
    "start_time": "2023-03-01T11:24:50.102Z"
   },
   {
    "duration": 7,
    "start_time": "2023-03-01T11:24:50.110Z"
   },
   {
    "duration": 30,
    "start_time": "2023-03-01T11:24:50.118Z"
   },
   {
    "duration": 22,
    "start_time": "2023-03-01T11:26:12.546Z"
   },
   {
    "duration": 13,
    "start_time": "2023-03-01T11:27:35.353Z"
   },
   {
    "duration": 12,
    "start_time": "2023-03-01T11:39:04.606Z"
   },
   {
    "duration": 9,
    "start_time": "2023-03-01T11:39:37.613Z"
   },
   {
    "duration": 22,
    "start_time": "2023-03-01T11:40:19.898Z"
   },
   {
    "duration": 10,
    "start_time": "2023-03-01T12:42:03.531Z"
   },
   {
    "duration": 24,
    "start_time": "2023-03-01T12:42:38.088Z"
   },
   {
    "duration": 14,
    "start_time": "2023-03-01T12:43:30.167Z"
   },
   {
    "duration": 1185,
    "start_time": "2023-03-01T12:44:00.330Z"
   },
   {
    "duration": 29,
    "start_time": "2023-03-01T12:44:01.517Z"
   },
   {
    "duration": 26,
    "start_time": "2023-03-01T12:44:01.547Z"
   },
   {
    "duration": 19,
    "start_time": "2023-03-01T12:44:01.575Z"
   },
   {
    "duration": 28,
    "start_time": "2023-03-01T12:44:01.595Z"
   },
   {
    "duration": 66,
    "start_time": "2023-03-01T12:44:01.625Z"
   },
   {
    "duration": 23,
    "start_time": "2023-03-01T12:44:01.693Z"
   },
   {
    "duration": 32,
    "start_time": "2023-03-01T12:44:01.718Z"
   },
   {
    "duration": 56,
    "start_time": "2023-03-01T12:44:01.752Z"
   },
   {
    "duration": 36,
    "start_time": "2023-03-01T12:44:01.811Z"
   },
   {
    "duration": 25,
    "start_time": "2023-03-01T12:44:01.849Z"
   },
   {
    "duration": 63,
    "start_time": "2023-03-01T12:44:01.875Z"
   },
   {
    "duration": 56,
    "start_time": "2023-03-01T12:44:01.940Z"
   },
   {
    "duration": 24,
    "start_time": "2023-03-01T12:44:01.998Z"
   },
   {
    "duration": 32,
    "start_time": "2023-03-01T12:44:02.024Z"
   },
   {
    "duration": 22,
    "start_time": "2023-03-01T12:44:02.058Z"
   },
   {
    "duration": 36,
    "start_time": "2023-03-01T12:44:02.082Z"
   },
   {
    "duration": 282,
    "start_time": "2023-03-01T12:44:02.119Z"
   },
   {
    "duration": 14,
    "start_time": "2023-03-01T12:44:02.403Z"
   },
   {
    "duration": 273,
    "start_time": "2023-03-01T12:44:02.419Z"
   },
   {
    "duration": 5,
    "start_time": "2023-03-01T12:44:02.694Z"
   },
   {
    "duration": 199,
    "start_time": "2023-03-01T12:44:02.701Z"
   },
   {
    "duration": 139,
    "start_time": "2023-03-01T12:44:02.901Z"
   },
   {
    "duration": 8,
    "start_time": "2023-03-01T12:44:03.047Z"
   },
   {
    "duration": 24,
    "start_time": "2023-03-01T12:44:03.057Z"
   },
   {
    "duration": 22,
    "start_time": "2023-03-01T12:44:03.083Z"
   },
   {
    "duration": 331,
    "start_time": "2023-03-01T12:44:03.107Z"
   },
   {
    "duration": 218,
    "start_time": "2023-03-01T12:44:03.449Z"
   },
   {
    "duration": 7,
    "start_time": "2023-03-01T12:44:03.669Z"
   },
   {
    "duration": 309,
    "start_time": "2023-03-01T12:44:03.678Z"
   },
   {
    "duration": 4,
    "start_time": "2023-03-01T12:44:03.989Z"
   },
   {
    "duration": 240,
    "start_time": "2023-03-01T12:44:03.995Z"
   },
   {
    "duration": 14,
    "start_time": "2023-03-01T12:44:04.237Z"
   },
   {
    "duration": 321,
    "start_time": "2023-03-01T12:44:04.253Z"
   },
   {
    "duration": 6,
    "start_time": "2023-03-01T12:44:04.576Z"
   },
   {
    "duration": 152,
    "start_time": "2023-03-01T12:44:04.584Z"
   },
   {
    "duration": 21,
    "start_time": "2023-03-01T12:44:04.738Z"
   },
   {
    "duration": 225,
    "start_time": "2023-03-01T12:44:04.761Z"
   },
   {
    "duration": 5,
    "start_time": "2023-03-01T12:44:04.988Z"
   },
   {
    "duration": 163,
    "start_time": "2023-03-01T12:44:04.995Z"
   },
   {
    "duration": 18,
    "start_time": "2023-03-01T12:44:05.159Z"
   },
   {
    "duration": 206,
    "start_time": "2023-03-01T12:44:05.179Z"
   },
   {
    "duration": 181,
    "start_time": "2023-03-01T12:44:05.387Z"
   },
   {
    "duration": 5,
    "start_time": "2023-03-01T12:44:05.570Z"
   },
   {
    "duration": 217,
    "start_time": "2023-03-01T12:44:05.576Z"
   },
   {
    "duration": 10,
    "start_time": "2023-03-01T12:44:05.795Z"
   },
   {
    "duration": 144,
    "start_time": "2023-03-01T12:44:05.807Z"
   },
   {
    "duration": 6,
    "start_time": "2023-03-01T12:44:05.953Z"
   },
   {
    "duration": 26,
    "start_time": "2023-03-01T12:44:05.961Z"
   },
   {
    "duration": 19,
    "start_time": "2023-03-01T12:44:05.989Z"
   },
   {
    "duration": 12,
    "start_time": "2023-03-01T12:44:06.009Z"
   },
   {
    "duration": 31,
    "start_time": "2023-03-01T12:44:06.022Z"
   },
   {
    "duration": 6,
    "start_time": "2023-03-01T12:44:06.055Z"
   },
   {
    "duration": 44,
    "start_time": "2023-03-01T12:44:06.062Z"
   },
   {
    "duration": 41,
    "start_time": "2023-03-01T12:44:06.107Z"
   },
   {
    "duration": 7,
    "start_time": "2023-03-01T12:44:06.150Z"
   },
   {
    "duration": 22,
    "start_time": "2023-03-01T12:44:06.159Z"
   },
   {
    "duration": 25,
    "start_time": "2023-03-01T12:44:06.182Z"
   },
   {
    "duration": 36,
    "start_time": "2023-03-01T12:44:06.209Z"
   },
   {
    "duration": 50,
    "start_time": "2023-03-02T04:35:42.343Z"
   },
   {
    "duration": 1284,
    "start_time": "2023-03-02T04:35:53.238Z"
   },
   {
    "duration": 78,
    "start_time": "2023-03-02T04:35:54.524Z"
   },
   {
    "duration": 18,
    "start_time": "2023-03-02T04:35:54.604Z"
   },
   {
    "duration": 3,
    "start_time": "2023-03-02T04:35:54.624Z"
   },
   {
    "duration": 8,
    "start_time": "2023-03-02T04:35:54.629Z"
   },
   {
    "duration": 104,
    "start_time": "2023-03-02T04:35:54.638Z"
   },
   {
    "duration": 18,
    "start_time": "2023-03-02T04:35:54.743Z"
   },
   {
    "duration": 6,
    "start_time": "2023-03-02T04:35:54.763Z"
   },
   {
    "duration": 18,
    "start_time": "2023-03-02T04:35:54.771Z"
   },
   {
    "duration": 6,
    "start_time": "2023-03-02T04:35:54.792Z"
   },
   {
    "duration": 9,
    "start_time": "2023-03-02T04:35:54.799Z"
   },
   {
    "duration": 58,
    "start_time": "2023-03-02T04:35:54.810Z"
   },
   {
    "duration": 15,
    "start_time": "2023-03-02T04:35:54.869Z"
   },
   {
    "duration": 10,
    "start_time": "2023-03-02T04:35:54.886Z"
   },
   {
    "duration": 7,
    "start_time": "2023-03-02T04:35:54.897Z"
   },
   {
    "duration": 5,
    "start_time": "2023-03-02T04:35:54.906Z"
   },
   {
    "duration": 14,
    "start_time": "2023-03-02T04:35:54.912Z"
   },
   {
    "duration": 285,
    "start_time": "2023-03-02T04:35:54.927Z"
   },
   {
    "duration": 11,
    "start_time": "2023-03-02T04:35:55.213Z"
   },
   {
    "duration": 251,
    "start_time": "2023-03-02T04:35:55.225Z"
   },
   {
    "duration": 10,
    "start_time": "2023-03-02T04:35:55.478Z"
   },
   {
    "duration": 195,
    "start_time": "2023-03-02T04:35:55.490Z"
   },
   {
    "duration": 129,
    "start_time": "2023-03-02T04:35:55.687Z"
   },
   {
    "duration": 7,
    "start_time": "2023-03-02T04:35:55.817Z"
   },
   {
    "duration": 9,
    "start_time": "2023-03-02T04:35:55.825Z"
   },
   {
    "duration": 13,
    "start_time": "2023-03-02T04:35:55.836Z"
   },
   {
    "duration": 279,
    "start_time": "2023-03-02T04:35:55.850Z"
   },
   {
    "duration": 220,
    "start_time": "2023-03-02T04:35:56.132Z"
   },
   {
    "duration": 5,
    "start_time": "2023-03-02T04:35:56.354Z"
   },
   {
    "duration": 406,
    "start_time": "2023-03-02T04:35:56.361Z"
   },
   {
    "duration": 4,
    "start_time": "2023-03-02T04:35:56.768Z"
   },
   {
    "duration": 220,
    "start_time": "2023-03-02T04:35:56.773Z"
   },
   {
    "duration": 6,
    "start_time": "2023-03-02T04:35:56.995Z"
   },
   {
    "duration": 298,
    "start_time": "2023-03-02T04:35:57.003Z"
   },
   {
    "duration": 6,
    "start_time": "2023-03-02T04:35:57.303Z"
   },
   {
    "duration": 140,
    "start_time": "2023-03-02T04:35:57.311Z"
   },
   {
    "duration": 14,
    "start_time": "2023-03-02T04:35:57.453Z"
   },
   {
    "duration": 192,
    "start_time": "2023-03-02T04:35:57.468Z"
   },
   {
    "duration": 5,
    "start_time": "2023-03-02T04:35:57.661Z"
   },
   {
    "duration": 138,
    "start_time": "2023-03-02T04:35:57.667Z"
   },
   {
    "duration": 17,
    "start_time": "2023-03-02T04:35:57.806Z"
   },
   {
    "duration": 155,
    "start_time": "2023-03-02T04:35:57.824Z"
   },
   {
    "duration": 159,
    "start_time": "2023-03-02T04:35:57.981Z"
   },
   {
    "duration": 4,
    "start_time": "2023-03-02T04:35:58.141Z"
   },
   {
    "duration": 202,
    "start_time": "2023-03-02T04:35:58.147Z"
   },
   {
    "duration": 9,
    "start_time": "2023-03-02T04:35:58.350Z"
   },
   {
    "duration": 139,
    "start_time": "2023-03-02T04:35:58.361Z"
   },
   {
    "duration": 8,
    "start_time": "2023-03-02T04:35:58.502Z"
   },
   {
    "duration": 13,
    "start_time": "2023-03-02T04:35:58.512Z"
   },
   {
    "duration": 11,
    "start_time": "2023-03-02T04:35:58.527Z"
   },
   {
    "duration": 6,
    "start_time": "2023-03-02T04:35:58.541Z"
   },
   {
    "duration": 6,
    "start_time": "2023-03-02T04:35:58.549Z"
   },
   {
    "duration": 7,
    "start_time": "2023-03-02T04:35:58.557Z"
   },
   {
    "duration": 10,
    "start_time": "2023-03-02T04:35:58.586Z"
   },
   {
    "duration": 32,
    "start_time": "2023-03-02T04:35:58.598Z"
   },
   {
    "duration": 7,
    "start_time": "2023-03-02T04:35:58.632Z"
   },
   {
    "duration": 6,
    "start_time": "2023-03-02T04:35:58.641Z"
   },
   {
    "duration": 6,
    "start_time": "2023-03-02T04:35:58.649Z"
   },
   {
    "duration": 38,
    "start_time": "2023-03-02T04:35:58.656Z"
   },
   {
    "duration": 11,
    "start_time": "2023-03-02T04:36:26.842Z"
   },
   {
    "duration": 11,
    "start_time": "2023-03-02T04:36:42.817Z"
   },
   {
    "duration": 11,
    "start_time": "2023-03-02T04:36:57.521Z"
   },
   {
    "duration": 11,
    "start_time": "2023-03-02T04:37:00.115Z"
   },
   {
    "duration": 11,
    "start_time": "2023-03-02T04:37:03.521Z"
   },
   {
    "duration": 10,
    "start_time": "2023-03-02T04:39:22.359Z"
   },
   {
    "duration": 100,
    "start_time": "2023-03-02T04:44:38.155Z"
   },
   {
    "duration": 8,
    "start_time": "2023-03-02T04:44:43.301Z"
   },
   {
    "duration": 8,
    "start_time": "2023-03-02T04:45:05.058Z"
   },
   {
    "duration": 7,
    "start_time": "2023-03-02T04:45:08.331Z"
   },
   {
    "duration": 8,
    "start_time": "2023-03-02T04:45:19.877Z"
   },
   {
    "duration": 8,
    "start_time": "2023-03-02T04:45:37.640Z"
   },
   {
    "duration": 1076,
    "start_time": "2023-03-02T04:45:53.037Z"
   },
   {
    "duration": 26,
    "start_time": "2023-03-02T04:45:54.115Z"
   },
   {
    "duration": 20,
    "start_time": "2023-03-02T04:45:54.143Z"
   },
   {
    "duration": 3,
    "start_time": "2023-03-02T04:45:54.164Z"
   },
   {
    "duration": 11,
    "start_time": "2023-03-02T04:45:54.168Z"
   },
   {
    "duration": 39,
    "start_time": "2023-03-02T04:45:54.180Z"
   },
   {
    "duration": 17,
    "start_time": "2023-03-02T04:45:54.221Z"
   },
   {
    "duration": 3,
    "start_time": "2023-03-02T04:45:54.240Z"
   },
   {
    "duration": 8,
    "start_time": "2023-03-02T04:45:54.244Z"
   },
   {
    "duration": 11,
    "start_time": "2023-03-02T04:45:54.256Z"
   },
   {
    "duration": 10,
    "start_time": "2023-03-02T04:45:54.268Z"
   },
   {
    "duration": 18,
    "start_time": "2023-03-02T04:45:54.280Z"
   },
   {
    "duration": 15,
    "start_time": "2023-03-02T04:45:54.300Z"
   },
   {
    "duration": 10,
    "start_time": "2023-03-02T04:45:54.317Z"
   },
   {
    "duration": 14,
    "start_time": "2023-03-02T04:45:54.329Z"
   },
   {
    "duration": 16,
    "start_time": "2023-03-02T04:45:54.345Z"
   },
   {
    "duration": 19,
    "start_time": "2023-03-02T04:45:54.363Z"
   },
   {
    "duration": 270,
    "start_time": "2023-03-02T04:45:54.383Z"
   },
   {
    "duration": 11,
    "start_time": "2023-03-02T04:45:54.655Z"
   },
   {
    "duration": 256,
    "start_time": "2023-03-02T04:45:54.668Z"
   },
   {
    "duration": 9,
    "start_time": "2023-03-02T04:45:54.925Z"
   },
   {
    "duration": 113,
    "start_time": "2023-03-02T04:45:54.935Z"
   },
   {
    "duration": 0,
    "start_time": "2023-03-02T04:45:55.050Z"
   },
   {
    "duration": 0,
    "start_time": "2023-03-02T04:45:55.051Z"
   },
   {
    "duration": 0,
    "start_time": "2023-03-02T04:45:55.053Z"
   },
   {
    "duration": 0,
    "start_time": "2023-03-02T04:45:55.054Z"
   },
   {
    "duration": 0,
    "start_time": "2023-03-02T04:45:55.055Z"
   },
   {
    "duration": 0,
    "start_time": "2023-03-02T04:45:55.056Z"
   },
   {
    "duration": 0,
    "start_time": "2023-03-02T04:45:55.057Z"
   },
   {
    "duration": 0,
    "start_time": "2023-03-02T04:45:55.058Z"
   },
   {
    "duration": 0,
    "start_time": "2023-03-02T04:45:55.058Z"
   },
   {
    "duration": 0,
    "start_time": "2023-03-02T04:45:55.060Z"
   },
   {
    "duration": 0,
    "start_time": "2023-03-02T04:45:55.061Z"
   },
   {
    "duration": 0,
    "start_time": "2023-03-02T04:45:55.062Z"
   },
   {
    "duration": 0,
    "start_time": "2023-03-02T04:45:55.085Z"
   },
   {
    "duration": 1,
    "start_time": "2023-03-02T04:45:55.086Z"
   },
   {
    "duration": 0,
    "start_time": "2023-03-02T04:45:55.088Z"
   },
   {
    "duration": 0,
    "start_time": "2023-03-02T04:45:55.089Z"
   },
   {
    "duration": 0,
    "start_time": "2023-03-02T04:45:55.090Z"
   },
   {
    "duration": 0,
    "start_time": "2023-03-02T04:45:55.091Z"
   },
   {
    "duration": 0,
    "start_time": "2023-03-02T04:45:55.092Z"
   },
   {
    "duration": 0,
    "start_time": "2023-03-02T04:45:55.093Z"
   },
   {
    "duration": 0,
    "start_time": "2023-03-02T04:45:55.094Z"
   },
   {
    "duration": 0,
    "start_time": "2023-03-02T04:45:55.095Z"
   },
   {
    "duration": 0,
    "start_time": "2023-03-02T04:45:55.096Z"
   },
   {
    "duration": 0,
    "start_time": "2023-03-02T04:45:55.097Z"
   },
   {
    "duration": 0,
    "start_time": "2023-03-02T04:45:55.098Z"
   },
   {
    "duration": 0,
    "start_time": "2023-03-02T04:45:55.099Z"
   },
   {
    "duration": 0,
    "start_time": "2023-03-02T04:45:55.100Z"
   },
   {
    "duration": 0,
    "start_time": "2023-03-02T04:45:55.101Z"
   },
   {
    "duration": 0,
    "start_time": "2023-03-02T04:45:55.102Z"
   },
   {
    "duration": 0,
    "start_time": "2023-03-02T04:45:55.103Z"
   },
   {
    "duration": 0,
    "start_time": "2023-03-02T04:45:55.104Z"
   },
   {
    "duration": 0,
    "start_time": "2023-03-02T04:45:55.105Z"
   },
   {
    "duration": 0,
    "start_time": "2023-03-02T04:45:55.106Z"
   },
   {
    "duration": 0,
    "start_time": "2023-03-02T04:45:55.107Z"
   },
   {
    "duration": 0,
    "start_time": "2023-03-02T04:45:55.107Z"
   },
   {
    "duration": 0,
    "start_time": "2023-03-02T04:45:55.108Z"
   },
   {
    "duration": 0,
    "start_time": "2023-03-02T04:45:55.109Z"
   },
   {
    "duration": 0,
    "start_time": "2023-03-02T04:45:55.110Z"
   },
   {
    "duration": 0,
    "start_time": "2023-03-02T04:45:55.110Z"
   },
   {
    "duration": 11,
    "start_time": "2023-03-02T04:46:33.330Z"
   },
   {
    "duration": 5,
    "start_time": "2023-03-02T04:49:45.121Z"
   },
   {
    "duration": 5,
    "start_time": "2023-03-02T04:50:02.848Z"
   },
   {
    "duration": 4,
    "start_time": "2023-03-02T04:50:37.871Z"
   },
   {
    "duration": 9,
    "start_time": "2023-03-02T04:54:37.316Z"
   },
   {
    "duration": 5,
    "start_time": "2023-03-02T04:54:47.696Z"
   },
   {
    "duration": 41,
    "start_time": "2023-03-02T05:01:13.206Z"
   },
   {
    "duration": 5,
    "start_time": "2023-03-02T05:01:22.557Z"
   },
   {
    "duration": 12,
    "start_time": "2023-03-02T05:02:26.546Z"
   },
   {
    "duration": 52,
    "start_time": "2023-03-02T05:03:46.955Z"
   },
   {
    "duration": 14,
    "start_time": "2023-03-02T05:03:59.525Z"
   },
   {
    "duration": 14,
    "start_time": "2023-03-02T05:06:01.105Z"
   },
   {
    "duration": 53,
    "start_time": "2023-03-02T05:06:45.682Z"
   },
   {
    "duration": 8,
    "start_time": "2023-03-02T05:06:58.469Z"
   },
   {
    "duration": 7,
    "start_time": "2023-03-02T05:07:14.061Z"
   },
   {
    "duration": 3,
    "start_time": "2023-03-02T05:07:34.638Z"
   },
   {
    "duration": 1000,
    "start_time": "2023-03-02T05:24:38.818Z"
   },
   {
    "duration": 28,
    "start_time": "2023-03-02T05:24:39.820Z"
   },
   {
    "duration": 21,
    "start_time": "2023-03-02T05:24:39.849Z"
   },
   {
    "duration": 3,
    "start_time": "2023-03-02T05:24:39.873Z"
   },
   {
    "duration": 16,
    "start_time": "2023-03-02T05:24:39.877Z"
   },
   {
    "duration": 40,
    "start_time": "2023-03-02T05:24:39.895Z"
   },
   {
    "duration": 20,
    "start_time": "2023-03-02T05:24:39.936Z"
   },
   {
    "duration": 4,
    "start_time": "2023-03-02T05:24:39.958Z"
   },
   {
    "duration": 6,
    "start_time": "2023-03-02T05:24:39.964Z"
   },
   {
    "duration": 7,
    "start_time": "2023-03-02T05:24:39.972Z"
   },
   {
    "duration": 5,
    "start_time": "2023-03-02T05:24:39.980Z"
   },
   {
    "duration": 18,
    "start_time": "2023-03-02T05:24:39.986Z"
   },
   {
    "duration": 16,
    "start_time": "2023-03-02T05:24:40.006Z"
   },
   {
    "duration": 6,
    "start_time": "2023-03-02T05:24:40.024Z"
   },
   {
    "duration": 18,
    "start_time": "2023-03-02T05:24:40.032Z"
   },
   {
    "duration": 17,
    "start_time": "2023-03-02T05:24:40.052Z"
   },
   {
    "duration": 23,
    "start_time": "2023-03-02T05:24:40.071Z"
   },
   {
    "duration": 264,
    "start_time": "2023-03-02T05:24:40.095Z"
   },
   {
    "duration": 10,
    "start_time": "2023-03-02T05:24:40.361Z"
   },
   {
    "duration": 261,
    "start_time": "2023-03-02T05:24:40.386Z"
   },
   {
    "duration": 5,
    "start_time": "2023-03-02T05:24:40.650Z"
   },
   {
    "duration": 6,
    "start_time": "2023-03-02T05:24:40.657Z"
   },
   {
    "duration": 27,
    "start_time": "2023-03-02T05:24:40.665Z"
   },
   {
    "duration": 5,
    "start_time": "2023-03-02T05:24:40.694Z"
   },
   {
    "duration": 181,
    "start_time": "2023-03-02T05:24:40.701Z"
   },
   {
    "duration": 135,
    "start_time": "2023-03-02T05:24:40.884Z"
   },
   {
    "duration": 6,
    "start_time": "2023-03-02T05:24:41.021Z"
   },
   {
    "duration": 4,
    "start_time": "2023-03-02T05:24:41.031Z"
   },
   {
    "duration": 7,
    "start_time": "2023-03-02T05:24:41.036Z"
   },
   {
    "duration": 305,
    "start_time": "2023-03-02T05:24:41.045Z"
   },
   {
    "duration": 204,
    "start_time": "2023-03-02T05:24:41.352Z"
   },
   {
    "duration": 6,
    "start_time": "2023-03-02T05:24:41.558Z"
   },
   {
    "duration": 383,
    "start_time": "2023-03-02T05:24:41.565Z"
   },
   {
    "duration": 5,
    "start_time": "2023-03-02T05:24:41.950Z"
   },
   {
    "duration": 237,
    "start_time": "2023-03-02T05:24:41.956Z"
   },
   {
    "duration": 7,
    "start_time": "2023-03-02T05:24:42.195Z"
   },
   {
    "duration": 320,
    "start_time": "2023-03-02T05:24:42.203Z"
   },
   {
    "duration": 6,
    "start_time": "2023-03-02T05:24:42.524Z"
   },
   {
    "duration": 141,
    "start_time": "2023-03-02T05:24:42.532Z"
   },
   {
    "duration": 21,
    "start_time": "2023-03-02T05:24:42.675Z"
   },
   {
    "duration": 212,
    "start_time": "2023-03-02T05:24:42.698Z"
   },
   {
    "duration": 5,
    "start_time": "2023-03-02T05:24:42.911Z"
   },
   {
    "duration": 141,
    "start_time": "2023-03-02T05:24:42.917Z"
   },
   {
    "duration": 27,
    "start_time": "2023-03-02T05:24:43.060Z"
   },
   {
    "duration": 151,
    "start_time": "2023-03-02T05:24:43.088Z"
   },
   {
    "duration": 160,
    "start_time": "2023-03-02T05:24:43.241Z"
   },
   {
    "duration": 4,
    "start_time": "2023-03-02T05:24:43.402Z"
   },
   {
    "duration": 212,
    "start_time": "2023-03-02T05:24:43.408Z"
   },
   {
    "duration": 10,
    "start_time": "2023-03-02T05:24:43.622Z"
   },
   {
    "duration": 144,
    "start_time": "2023-03-02T05:24:43.633Z"
   },
   {
    "duration": 10,
    "start_time": "2023-03-02T05:24:43.779Z"
   },
   {
    "duration": 12,
    "start_time": "2023-03-02T05:24:43.791Z"
   },
   {
    "duration": 12,
    "start_time": "2023-03-02T05:24:43.804Z"
   },
   {
    "duration": 10,
    "start_time": "2023-03-02T05:24:43.818Z"
   },
   {
    "duration": 7,
    "start_time": "2023-03-02T05:24:43.829Z"
   },
   {
    "duration": 10,
    "start_time": "2023-03-02T05:24:43.838Z"
   },
   {
    "duration": 9,
    "start_time": "2023-03-02T05:24:43.850Z"
   },
   {
    "duration": 46,
    "start_time": "2023-03-02T05:24:43.860Z"
   },
   {
    "duration": 10,
    "start_time": "2023-03-02T05:24:43.908Z"
   },
   {
    "duration": 9,
    "start_time": "2023-03-02T05:24:43.920Z"
   },
   {
    "duration": 8,
    "start_time": "2023-03-02T05:24:43.930Z"
   },
   {
    "duration": 21,
    "start_time": "2023-03-02T05:24:43.940Z"
   },
   {
    "duration": 235,
    "start_time": "2023-03-02T05:25:44.971Z"
   },
   {
    "duration": 210,
    "start_time": "2023-03-02T05:26:21.820Z"
   },
   {
    "duration": 210,
    "start_time": "2023-03-02T05:27:58.371Z"
   },
   {
    "duration": 219,
    "start_time": "2023-03-02T05:28:12.778Z"
   },
   {
    "duration": 306,
    "start_time": "2023-03-02T05:28:55.541Z"
   },
   {
    "duration": 330,
    "start_time": "2023-03-02T05:29:12.912Z"
   },
   {
    "duration": 223,
    "start_time": "2023-03-02T05:29:38.651Z"
   },
   {
    "duration": 301,
    "start_time": "2023-03-02T05:29:51.697Z"
   },
   {
    "duration": 338,
    "start_time": "2023-03-02T05:30:40.650Z"
   },
   {
    "duration": 6,
    "start_time": "2023-03-02T05:43:16.575Z"
   },
   {
    "duration": 8,
    "start_time": "2023-03-02T05:43:19.692Z"
   },
   {
    "duration": 20,
    "start_time": "2023-03-02T05:43:49.588Z"
   },
   {
    "duration": 4,
    "start_time": "2023-03-02T05:56:19.225Z"
   },
   {
    "duration": 8,
    "start_time": "2023-03-02T05:56:21.473Z"
   },
   {
    "duration": 5,
    "start_time": "2023-03-02T05:56:25.017Z"
   },
   {
    "duration": 4,
    "start_time": "2023-03-02T05:56:27.129Z"
   },
   {
    "duration": 1000,
    "start_time": "2023-03-02T05:56:55.538Z"
   },
   {
    "duration": 29,
    "start_time": "2023-03-02T05:56:56.540Z"
   },
   {
    "duration": 24,
    "start_time": "2023-03-02T05:56:56.570Z"
   },
   {
    "duration": 4,
    "start_time": "2023-03-02T05:56:56.596Z"
   },
   {
    "duration": 15,
    "start_time": "2023-03-02T05:56:56.603Z"
   },
   {
    "duration": 44,
    "start_time": "2023-03-02T05:56:56.621Z"
   },
   {
    "duration": 23,
    "start_time": "2023-03-02T05:56:56.668Z"
   },
   {
    "duration": 12,
    "start_time": "2023-03-02T05:56:56.693Z"
   },
   {
    "duration": 15,
    "start_time": "2023-03-02T05:56:56.707Z"
   },
   {
    "duration": 15,
    "start_time": "2023-03-02T05:56:56.725Z"
   },
   {
    "duration": 7,
    "start_time": "2023-03-02T05:56:56.742Z"
   },
   {
    "duration": 22,
    "start_time": "2023-03-02T05:56:56.751Z"
   },
   {
    "duration": 17,
    "start_time": "2023-03-02T05:56:56.775Z"
   },
   {
    "duration": 7,
    "start_time": "2023-03-02T05:56:56.797Z"
   },
   {
    "duration": 7,
    "start_time": "2023-03-02T05:56:56.805Z"
   },
   {
    "duration": 5,
    "start_time": "2023-03-02T05:56:56.814Z"
   },
   {
    "duration": 16,
    "start_time": "2023-03-02T05:56:56.820Z"
   },
   {
    "duration": 287,
    "start_time": "2023-03-02T05:56:56.837Z"
   },
   {
    "duration": 14,
    "start_time": "2023-03-02T05:56:57.126Z"
   },
   {
    "duration": 266,
    "start_time": "2023-03-02T05:56:57.142Z"
   },
   {
    "duration": 5,
    "start_time": "2023-03-02T05:56:57.409Z"
   },
   {
    "duration": 5,
    "start_time": "2023-03-02T05:56:57.416Z"
   },
   {
    "duration": 11,
    "start_time": "2023-03-02T05:56:57.422Z"
   },
   {
    "duration": 5,
    "start_time": "2023-03-02T05:56:57.434Z"
   },
   {
    "duration": 191,
    "start_time": "2023-03-02T05:56:57.440Z"
   },
   {
    "duration": 153,
    "start_time": "2023-03-02T05:56:57.633Z"
   },
   {
    "duration": 7,
    "start_time": "2023-03-02T05:56:57.788Z"
   },
   {
    "duration": 9,
    "start_time": "2023-03-02T05:56:57.797Z"
   },
   {
    "duration": 12,
    "start_time": "2023-03-02T05:56:57.807Z"
   },
   {
    "duration": 311,
    "start_time": "2023-03-02T05:56:57.821Z"
   },
   {
    "duration": 235,
    "start_time": "2023-03-02T05:56:58.134Z"
   },
   {
    "duration": 19,
    "start_time": "2023-03-02T05:56:58.371Z"
   },
   {
    "duration": 319,
    "start_time": "2023-03-02T05:56:58.392Z"
   },
   {
    "duration": 4,
    "start_time": "2023-03-02T05:56:58.713Z"
   },
   {
    "duration": 243,
    "start_time": "2023-03-02T05:56:58.718Z"
   },
   {
    "duration": 8,
    "start_time": "2023-03-02T05:56:58.962Z"
   },
   {
    "duration": 357,
    "start_time": "2023-03-02T05:56:58.972Z"
   },
   {
    "duration": 7,
    "start_time": "2023-03-02T05:56:59.330Z"
   },
   {
    "duration": 148,
    "start_time": "2023-03-02T05:56:59.338Z"
   },
   {
    "duration": 14,
    "start_time": "2023-03-02T05:56:59.487Z"
   },
   {
    "duration": 208,
    "start_time": "2023-03-02T05:56:59.505Z"
   },
   {
    "duration": 7,
    "start_time": "2023-03-02T05:56:59.714Z"
   },
   {
    "duration": 139,
    "start_time": "2023-03-02T05:56:59.722Z"
   },
   {
    "duration": 23,
    "start_time": "2023-03-02T05:56:59.863Z"
   },
   {
    "duration": 148,
    "start_time": "2023-03-02T05:56:59.888Z"
   },
   {
    "duration": 157,
    "start_time": "2023-03-02T05:57:00.038Z"
   },
   {
    "duration": 5,
    "start_time": "2023-03-02T05:57:00.196Z"
   },
   {
    "duration": 218,
    "start_time": "2023-03-02T05:57:00.202Z"
   },
   {
    "duration": 11,
    "start_time": "2023-03-02T05:57:00.421Z"
   },
   {
    "duration": 161,
    "start_time": "2023-03-02T05:57:00.434Z"
   },
   {
    "duration": 5,
    "start_time": "2023-03-02T05:57:00.597Z"
   },
   {
    "duration": 124,
    "start_time": "2023-03-02T05:57:00.604Z"
   },
   {
    "duration": 0,
    "start_time": "2023-03-02T05:57:00.730Z"
   },
   {
    "duration": 0,
    "start_time": "2023-03-02T05:57:00.731Z"
   },
   {
    "duration": 0,
    "start_time": "2023-03-02T05:57:00.731Z"
   },
   {
    "duration": 0,
    "start_time": "2023-03-02T05:57:00.733Z"
   },
   {
    "duration": 0,
    "start_time": "2023-03-02T05:57:00.734Z"
   },
   {
    "duration": 0,
    "start_time": "2023-03-02T05:57:00.734Z"
   },
   {
    "duration": 0,
    "start_time": "2023-03-02T05:57:00.735Z"
   },
   {
    "duration": 0,
    "start_time": "2023-03-02T05:57:00.736Z"
   },
   {
    "duration": 0,
    "start_time": "2023-03-02T05:57:00.737Z"
   },
   {
    "duration": 0,
    "start_time": "2023-03-02T05:57:00.738Z"
   },
   {
    "duration": 0,
    "start_time": "2023-03-02T05:57:00.739Z"
   },
   {
    "duration": 1073,
    "start_time": "2023-03-02T06:02:26.490Z"
   },
   {
    "duration": 27,
    "start_time": "2023-03-02T06:02:27.565Z"
   },
   {
    "duration": 20,
    "start_time": "2023-03-02T06:02:27.594Z"
   },
   {
    "duration": 3,
    "start_time": "2023-03-02T06:02:27.617Z"
   },
   {
    "duration": 10,
    "start_time": "2023-03-02T06:02:27.622Z"
   },
   {
    "duration": 40,
    "start_time": "2023-03-02T06:02:27.634Z"
   },
   {
    "duration": 20,
    "start_time": "2023-03-02T06:02:27.675Z"
   },
   {
    "duration": 4,
    "start_time": "2023-03-02T06:02:27.697Z"
   },
   {
    "duration": 7,
    "start_time": "2023-03-02T06:02:27.703Z"
   },
   {
    "duration": 6,
    "start_time": "2023-03-02T06:02:27.713Z"
   },
   {
    "duration": 4,
    "start_time": "2023-03-02T06:02:27.721Z"
   },
   {
    "duration": 17,
    "start_time": "2023-03-02T06:02:27.727Z"
   },
   {
    "duration": 43,
    "start_time": "2023-03-02T06:02:27.746Z"
   },
   {
    "duration": 5,
    "start_time": "2023-03-02T06:02:27.791Z"
   },
   {
    "duration": 5,
    "start_time": "2023-03-02T06:02:27.798Z"
   },
   {
    "duration": 4,
    "start_time": "2023-03-02T06:02:27.805Z"
   },
   {
    "duration": 14,
    "start_time": "2023-03-02T06:02:27.811Z"
   },
   {
    "duration": 300,
    "start_time": "2023-03-02T06:02:27.826Z"
   },
   {
    "duration": 11,
    "start_time": "2023-03-02T06:02:28.128Z"
   },
   {
    "duration": 265,
    "start_time": "2023-03-02T06:02:28.141Z"
   },
   {
    "duration": 5,
    "start_time": "2023-03-02T06:02:28.408Z"
   },
   {
    "duration": 5,
    "start_time": "2023-03-02T06:02:28.414Z"
   },
   {
    "duration": 11,
    "start_time": "2023-03-02T06:02:28.420Z"
   },
   {
    "duration": 4,
    "start_time": "2023-03-02T06:02:28.433Z"
   },
   {
    "duration": 194,
    "start_time": "2023-03-02T06:02:28.439Z"
   },
   {
    "duration": 131,
    "start_time": "2023-03-02T06:02:28.635Z"
   },
   {
    "duration": 7,
    "start_time": "2023-03-02T06:02:28.768Z"
   },
   {
    "duration": 6,
    "start_time": "2023-03-02T06:02:28.785Z"
   },
   {
    "duration": 9,
    "start_time": "2023-03-02T06:02:28.793Z"
   },
   {
    "duration": 295,
    "start_time": "2023-03-02T06:02:28.803Z"
   },
   {
    "duration": 216,
    "start_time": "2023-03-02T06:02:29.100Z"
   },
   {
    "duration": 6,
    "start_time": "2023-03-02T06:02:29.317Z"
   },
   {
    "duration": 306,
    "start_time": "2023-03-02T06:02:29.325Z"
   },
   {
    "duration": 4,
    "start_time": "2023-03-02T06:02:29.632Z"
   },
   {
    "duration": 230,
    "start_time": "2023-03-02T06:02:29.638Z"
   },
   {
    "duration": 8,
    "start_time": "2023-03-02T06:02:29.869Z"
   },
   {
    "duration": 326,
    "start_time": "2023-03-02T06:02:29.886Z"
   },
   {
    "duration": 6,
    "start_time": "2023-03-02T06:02:30.214Z"
   },
   {
    "duration": 158,
    "start_time": "2023-03-02T06:02:30.221Z"
   },
   {
    "duration": 15,
    "start_time": "2023-03-02T06:02:30.385Z"
   },
   {
    "duration": 202,
    "start_time": "2023-03-02T06:02:30.402Z"
   },
   {
    "duration": 5,
    "start_time": "2023-03-02T06:02:30.606Z"
   },
   {
    "duration": 179,
    "start_time": "2023-03-02T06:02:30.612Z"
   },
   {
    "duration": 16,
    "start_time": "2023-03-02T06:02:30.792Z"
   },
   {
    "duration": 168,
    "start_time": "2023-03-02T06:02:30.809Z"
   },
   {
    "duration": 157,
    "start_time": "2023-03-02T06:02:30.978Z"
   },
   {
    "duration": 4,
    "start_time": "2023-03-02T06:02:31.136Z"
   },
   {
    "duration": 231,
    "start_time": "2023-03-02T06:02:31.142Z"
   },
   {
    "duration": 12,
    "start_time": "2023-03-02T06:02:31.375Z"
   },
   {
    "duration": 139,
    "start_time": "2023-03-02T06:02:31.389Z"
   },
   {
    "duration": 4,
    "start_time": "2023-03-02T06:02:31.529Z"
   },
   {
    "duration": 33,
    "start_time": "2023-03-02T06:02:31.534Z"
   },
   {
    "duration": 22,
    "start_time": "2023-03-02T06:02:31.570Z"
   },
   {
    "duration": 42,
    "start_time": "2023-03-02T06:02:31.594Z"
   },
   {
    "duration": 23,
    "start_time": "2023-03-02T06:02:31.638Z"
   },
   {
    "duration": 25,
    "start_time": "2023-03-02T06:02:31.663Z"
   },
   {
    "duration": 17,
    "start_time": "2023-03-02T06:02:31.689Z"
   },
   {
    "duration": 17,
    "start_time": "2023-03-02T06:02:31.707Z"
   },
   {
    "duration": 30,
    "start_time": "2023-03-02T06:02:31.726Z"
   },
   {
    "duration": 49,
    "start_time": "2023-03-02T06:02:31.757Z"
   },
   {
    "duration": 6,
    "start_time": "2023-03-02T06:02:31.808Z"
   },
   {
    "duration": 20,
    "start_time": "2023-03-02T06:02:31.815Z"
   },
   {
    "duration": 35,
    "start_time": "2023-03-02T06:02:31.837Z"
   },
   {
    "duration": 781,
    "start_time": "2023-03-02T06:08:29.290Z"
   },
   {
    "duration": 9,
    "start_time": "2023-03-02T06:08:38.694Z"
   },
   {
    "duration": 6,
    "start_time": "2023-03-02T06:15:48.917Z"
   },
   {
    "duration": 5,
    "start_time": "2023-03-02T06:16:00.818Z"
   },
   {
    "duration": 5,
    "start_time": "2023-03-02T06:16:17.299Z"
   },
   {
    "duration": 7,
    "start_time": "2023-03-02T06:16:20.858Z"
   },
   {
    "duration": 8,
    "start_time": "2023-03-02T06:16:46.417Z"
   },
   {
    "duration": 4,
    "start_time": "2023-03-02T06:16:59.370Z"
   },
   {
    "duration": 1139,
    "start_time": "2023-03-02T06:19:50.490Z"
   },
   {
    "duration": 27,
    "start_time": "2023-03-02T06:19:51.631Z"
   },
   {
    "duration": 19,
    "start_time": "2023-03-02T06:19:51.660Z"
   },
   {
    "duration": 19,
    "start_time": "2023-03-02T06:19:51.681Z"
   },
   {
    "duration": 26,
    "start_time": "2023-03-02T06:19:51.702Z"
   },
   {
    "duration": 61,
    "start_time": "2023-03-02T06:19:51.729Z"
   },
   {
    "duration": 18,
    "start_time": "2023-03-02T06:19:51.792Z"
   },
   {
    "duration": 18,
    "start_time": "2023-03-02T06:19:51.812Z"
   },
   {
    "duration": 14,
    "start_time": "2023-03-02T06:19:51.831Z"
   },
   {
    "duration": 31,
    "start_time": "2023-03-02T06:19:51.848Z"
   },
   {
    "duration": 19,
    "start_time": "2023-03-02T06:19:51.880Z"
   },
   {
    "duration": 28,
    "start_time": "2023-03-02T06:19:51.901Z"
   },
   {
    "duration": 15,
    "start_time": "2023-03-02T06:19:51.931Z"
   },
   {
    "duration": 22,
    "start_time": "2023-03-02T06:19:51.948Z"
   },
   {
    "duration": 49,
    "start_time": "2023-03-02T06:19:51.972Z"
   },
   {
    "duration": 14,
    "start_time": "2023-03-02T06:19:52.023Z"
   },
   {
    "duration": 45,
    "start_time": "2023-03-02T06:19:52.039Z"
   },
   {
    "duration": 310,
    "start_time": "2023-03-02T06:19:52.086Z"
   },
   {
    "duration": 12,
    "start_time": "2023-03-02T06:19:52.397Z"
   },
   {
    "duration": 275,
    "start_time": "2023-03-02T06:19:52.411Z"
   },
   {
    "duration": 5,
    "start_time": "2023-03-02T06:19:52.688Z"
   },
   {
    "duration": 21,
    "start_time": "2023-03-02T06:19:52.694Z"
   },
   {
    "duration": 13,
    "start_time": "2023-03-02T06:19:52.717Z"
   },
   {
    "duration": 6,
    "start_time": "2023-03-02T06:19:52.736Z"
   },
   {
    "duration": 181,
    "start_time": "2023-03-02T06:19:52.744Z"
   },
   {
    "duration": 132,
    "start_time": "2023-03-02T06:19:52.926Z"
   },
   {
    "duration": 6,
    "start_time": "2023-03-02T06:19:53.059Z"
   },
   {
    "duration": 17,
    "start_time": "2023-03-02T06:19:53.069Z"
   },
   {
    "duration": 11,
    "start_time": "2023-03-02T06:19:53.087Z"
   },
   {
    "duration": 287,
    "start_time": "2023-03-02T06:19:53.100Z"
   },
   {
    "duration": 224,
    "start_time": "2023-03-02T06:19:53.389Z"
   },
   {
    "duration": 6,
    "start_time": "2023-03-02T06:19:53.616Z"
   },
   {
    "duration": 309,
    "start_time": "2023-03-02T06:19:53.624Z"
   },
   {
    "duration": 5,
    "start_time": "2023-03-02T06:19:53.935Z"
   },
   {
    "duration": 244,
    "start_time": "2023-03-02T06:19:53.942Z"
   },
   {
    "duration": 7,
    "start_time": "2023-03-02T06:19:54.187Z"
   },
   {
    "duration": 339,
    "start_time": "2023-03-02T06:19:54.196Z"
   },
   {
    "duration": 6,
    "start_time": "2023-03-02T06:19:54.537Z"
   },
   {
    "duration": 146,
    "start_time": "2023-03-02T06:19:54.545Z"
   },
   {
    "duration": 15,
    "start_time": "2023-03-02T06:19:54.692Z"
   },
   {
    "duration": 216,
    "start_time": "2023-03-02T06:19:54.708Z"
   },
   {
    "duration": 5,
    "start_time": "2023-03-02T06:19:54.926Z"
   },
   {
    "duration": 146,
    "start_time": "2023-03-02T06:19:54.932Z"
   },
   {
    "duration": 19,
    "start_time": "2023-03-02T06:19:55.080Z"
   },
   {
    "duration": 161,
    "start_time": "2023-03-02T06:19:55.100Z"
   },
   {
    "duration": 161,
    "start_time": "2023-03-02T06:19:55.263Z"
   },
   {
    "duration": 5,
    "start_time": "2023-03-02T06:19:55.425Z"
   },
   {
    "duration": 262,
    "start_time": "2023-03-02T06:19:55.432Z"
   },
   {
    "duration": 10,
    "start_time": "2023-03-02T06:19:55.695Z"
   },
   {
    "duration": 152,
    "start_time": "2023-03-02T06:19:55.706Z"
   },
   {
    "duration": 3,
    "start_time": "2023-03-02T06:19:55.860Z"
   },
   {
    "duration": 36,
    "start_time": "2023-03-02T06:19:55.864Z"
   },
   {
    "duration": 27,
    "start_time": "2023-03-02T06:19:55.902Z"
   },
   {
    "duration": 22,
    "start_time": "2023-03-02T06:19:55.930Z"
   },
   {
    "duration": 53,
    "start_time": "2023-03-02T06:19:55.954Z"
   },
   {
    "duration": 10,
    "start_time": "2023-03-02T06:19:56.009Z"
   },
   {
    "duration": 13,
    "start_time": "2023-03-02T06:19:56.020Z"
   },
   {
    "duration": 24,
    "start_time": "2023-03-02T06:19:56.035Z"
   },
   {
    "duration": 25,
    "start_time": "2023-03-02T06:19:56.060Z"
   },
   {
    "duration": 24,
    "start_time": "2023-03-02T06:19:56.086Z"
   },
   {
    "duration": 32,
    "start_time": "2023-03-02T06:19:56.112Z"
   },
   {
    "duration": 39,
    "start_time": "2023-03-02T06:19:56.146Z"
   },
   {
    "duration": 5,
    "start_time": "2023-03-02T06:19:56.187Z"
   },
   {
    "duration": 5,
    "start_time": "2023-03-02T06:19:56.194Z"
   },
   {
    "duration": 14,
    "start_time": "2023-03-02T06:19:56.200Z"
   },
   {
    "duration": 1336,
    "start_time": "2023-03-03T06:14:56.593Z"
   },
   {
    "duration": 68,
    "start_time": "2023-03-03T06:14:57.931Z"
   },
   {
    "duration": 22,
    "start_time": "2023-03-03T06:14:58.000Z"
   },
   {
    "duration": 11,
    "start_time": "2023-03-03T06:14:58.024Z"
   },
   {
    "duration": 34,
    "start_time": "2023-03-03T06:14:58.036Z"
   },
   {
    "duration": 116,
    "start_time": "2023-03-03T06:14:58.072Z"
   },
   {
    "duration": 25,
    "start_time": "2023-03-03T06:14:58.191Z"
   },
   {
    "duration": 12,
    "start_time": "2023-03-03T06:14:58.218Z"
   },
   {
    "duration": 38,
    "start_time": "2023-03-03T06:14:58.232Z"
   },
   {
    "duration": 17,
    "start_time": "2023-03-03T06:14:58.274Z"
   },
   {
    "duration": 15,
    "start_time": "2023-03-03T06:14:58.292Z"
   },
   {
    "duration": 60,
    "start_time": "2023-03-03T06:14:58.309Z"
   },
   {
    "duration": 17,
    "start_time": "2023-03-03T06:14:58.371Z"
   },
   {
    "duration": 8,
    "start_time": "2023-03-03T06:14:58.389Z"
   },
   {
    "duration": 14,
    "start_time": "2023-03-03T06:14:58.398Z"
   },
   {
    "duration": 9,
    "start_time": "2023-03-03T06:14:58.414Z"
   },
   {
    "duration": 24,
    "start_time": "2023-03-03T06:14:58.424Z"
   },
   {
    "duration": 311,
    "start_time": "2023-03-03T06:14:58.450Z"
   },
   {
    "duration": 13,
    "start_time": "2023-03-03T06:14:58.764Z"
   },
   {
    "duration": 294,
    "start_time": "2023-03-03T06:14:58.779Z"
   },
   {
    "duration": 6,
    "start_time": "2023-03-03T06:14:59.076Z"
   },
   {
    "duration": 9,
    "start_time": "2023-03-03T06:14:59.084Z"
   },
   {
    "duration": 16,
    "start_time": "2023-03-03T06:14:59.095Z"
   },
   {
    "duration": 31,
    "start_time": "2023-03-03T06:14:59.113Z"
   },
   {
    "duration": 188,
    "start_time": "2023-03-03T06:14:59.147Z"
   },
   {
    "duration": 153,
    "start_time": "2023-03-03T06:14:59.337Z"
   },
   {
    "duration": 6,
    "start_time": "2023-03-03T06:14:59.492Z"
   },
   {
    "duration": 25,
    "start_time": "2023-03-03T06:14:59.502Z"
   },
   {
    "duration": 32,
    "start_time": "2023-03-03T06:14:59.529Z"
   },
   {
    "duration": 328,
    "start_time": "2023-03-03T06:14:59.562Z"
   },
   {
    "duration": 246,
    "start_time": "2023-03-03T06:14:59.891Z"
   },
   {
    "duration": 9,
    "start_time": "2023-03-03T06:15:00.140Z"
   },
   {
    "duration": 380,
    "start_time": "2023-03-03T06:15:00.153Z"
   },
   {
    "duration": 13,
    "start_time": "2023-03-03T06:15:00.538Z"
   },
   {
    "duration": 307,
    "start_time": "2023-03-03T06:15:00.553Z"
   },
   {
    "duration": 7,
    "start_time": "2023-03-03T06:15:00.862Z"
   },
   {
    "duration": 385,
    "start_time": "2023-03-03T06:15:00.871Z"
   },
   {
    "duration": 8,
    "start_time": "2023-03-03T06:15:01.258Z"
   },
   {
    "duration": 165,
    "start_time": "2023-03-03T06:15:01.268Z"
   },
   {
    "duration": 20,
    "start_time": "2023-03-03T06:15:01.438Z"
   },
   {
    "duration": 251,
    "start_time": "2023-03-03T06:15:01.459Z"
   },
   {
    "duration": 7,
    "start_time": "2023-03-03T06:15:01.712Z"
   },
   {
    "duration": 189,
    "start_time": "2023-03-03T06:15:01.721Z"
   },
   {
    "duration": 18,
    "start_time": "2023-03-03T06:15:01.912Z"
   },
   {
    "duration": 198,
    "start_time": "2023-03-03T06:15:01.931Z"
   },
   {
    "duration": 186,
    "start_time": "2023-03-03T06:15:02.131Z"
   },
   {
    "duration": 5,
    "start_time": "2023-03-03T06:15:02.319Z"
   },
   {
    "duration": 313,
    "start_time": "2023-03-03T06:15:02.326Z"
   },
   {
    "duration": 17,
    "start_time": "2023-03-03T06:15:02.646Z"
   },
   {
    "duration": 273,
    "start_time": "2023-03-03T06:15:02.666Z"
   },
   {
    "duration": 5,
    "start_time": "2023-03-03T06:15:02.941Z"
   },
   {
    "duration": 15,
    "start_time": "2023-03-03T06:15:02.949Z"
   },
   {
    "duration": 12,
    "start_time": "2023-03-03T06:15:02.966Z"
   },
   {
    "duration": 59,
    "start_time": "2023-03-03T06:15:02.980Z"
   },
   {
    "duration": 40,
    "start_time": "2023-03-03T06:15:03.045Z"
   },
   {
    "duration": 12,
    "start_time": "2023-03-03T06:15:03.087Z"
   },
   {
    "duration": 15,
    "start_time": "2023-03-03T06:15:03.100Z"
   },
   {
    "duration": 129,
    "start_time": "2023-03-03T06:15:03.117Z"
   },
   {
    "duration": 0,
    "start_time": "2023-03-03T06:15:03.248Z"
   },
   {
    "duration": 0,
    "start_time": "2023-03-03T06:15:03.254Z"
   },
   {
    "duration": 0,
    "start_time": "2023-03-03T06:15:03.255Z"
   },
   {
    "duration": 0,
    "start_time": "2023-03-03T06:15:03.256Z"
   },
   {
    "duration": 0,
    "start_time": "2023-03-03T06:15:03.257Z"
   },
   {
    "duration": 0,
    "start_time": "2023-03-03T06:15:03.259Z"
   },
   {
    "duration": 0,
    "start_time": "2023-03-03T06:15:03.260Z"
   },
   {
    "duration": 5,
    "start_time": "2023-03-03T06:15:07.733Z"
   },
   {
    "duration": 8,
    "start_time": "2023-03-03T06:15:18.154Z"
   },
   {
    "duration": 1144,
    "start_time": "2023-03-03T06:15:30.483Z"
   },
   {
    "duration": 37,
    "start_time": "2023-03-03T06:15:31.629Z"
   },
   {
    "duration": 38,
    "start_time": "2023-03-03T06:15:31.667Z"
   },
   {
    "duration": 23,
    "start_time": "2023-03-03T06:15:31.707Z"
   },
   {
    "duration": 74,
    "start_time": "2023-03-03T06:15:31.732Z"
   },
   {
    "duration": 77,
    "start_time": "2023-03-03T06:15:31.808Z"
   },
   {
    "duration": 30,
    "start_time": "2023-03-03T06:15:31.886Z"
   },
   {
    "duration": 42,
    "start_time": "2023-03-03T06:15:31.917Z"
   },
   {
    "duration": 51,
    "start_time": "2023-03-03T06:15:31.961Z"
   },
   {
    "duration": 39,
    "start_time": "2023-03-03T06:15:32.015Z"
   },
   {
    "duration": 22,
    "start_time": "2023-03-03T06:15:32.056Z"
   },
   {
    "duration": 27,
    "start_time": "2023-03-03T06:15:32.080Z"
   },
   {
    "duration": 46,
    "start_time": "2023-03-03T06:15:32.109Z"
   },
   {
    "duration": 47,
    "start_time": "2023-03-03T06:15:32.157Z"
   },
   {
    "duration": 148,
    "start_time": "2023-03-03T06:15:32.206Z"
   },
   {
    "duration": 149,
    "start_time": "2023-03-03T06:15:32.355Z"
   },
   {
    "duration": 61,
    "start_time": "2023-03-03T06:15:32.506Z"
   },
   {
    "duration": 326,
    "start_time": "2023-03-03T06:15:32.569Z"
   },
   {
    "duration": 13,
    "start_time": "2023-03-03T06:15:32.897Z"
   },
   {
    "duration": 290,
    "start_time": "2023-03-03T06:15:32.911Z"
   },
   {
    "duration": 6,
    "start_time": "2023-03-03T06:15:33.203Z"
   },
   {
    "duration": 21,
    "start_time": "2023-03-03T06:15:33.211Z"
   },
   {
    "duration": 48,
    "start_time": "2023-03-03T06:15:33.234Z"
   },
   {
    "duration": 23,
    "start_time": "2023-03-03T06:15:33.284Z"
   },
   {
    "duration": 200,
    "start_time": "2023-03-03T06:15:33.309Z"
   },
   {
    "duration": 151,
    "start_time": "2023-03-03T06:15:33.511Z"
   },
   {
    "duration": 7,
    "start_time": "2023-03-03T06:15:33.664Z"
   },
   {
    "duration": 7,
    "start_time": "2023-03-03T06:15:33.676Z"
   },
   {
    "duration": 18,
    "start_time": "2023-03-03T06:15:33.685Z"
   },
   {
    "duration": 362,
    "start_time": "2023-03-03T06:15:33.705Z"
   },
   {
    "duration": 279,
    "start_time": "2023-03-03T06:15:34.069Z"
   },
   {
    "duration": 7,
    "start_time": "2023-03-03T06:15:34.352Z"
   },
   {
    "duration": 368,
    "start_time": "2023-03-03T06:15:34.360Z"
   },
   {
    "duration": 9,
    "start_time": "2023-03-03T06:15:34.737Z"
   },
   {
    "duration": 276,
    "start_time": "2023-03-03T06:15:34.748Z"
   },
   {
    "duration": 17,
    "start_time": "2023-03-03T06:15:35.027Z"
   },
   {
    "duration": 369,
    "start_time": "2023-03-03T06:15:35.047Z"
   },
   {
    "duration": 20,
    "start_time": "2023-03-03T06:15:35.418Z"
   },
   {
    "duration": 167,
    "start_time": "2023-03-03T06:15:35.441Z"
   },
   {
    "duration": 16,
    "start_time": "2023-03-03T06:15:35.610Z"
   },
   {
    "duration": 393,
    "start_time": "2023-03-03T06:15:35.628Z"
   },
   {
    "duration": 17,
    "start_time": "2023-03-03T06:15:36.023Z"
   },
   {
    "duration": 199,
    "start_time": "2023-03-03T06:15:36.042Z"
   },
   {
    "duration": 20,
    "start_time": "2023-03-03T06:15:36.244Z"
   },
   {
    "duration": 187,
    "start_time": "2023-03-03T06:15:36.267Z"
   },
   {
    "duration": 176,
    "start_time": "2023-03-03T06:15:36.456Z"
   },
   {
    "duration": 11,
    "start_time": "2023-03-03T06:15:36.633Z"
   },
   {
    "duration": 260,
    "start_time": "2023-03-03T06:15:36.646Z"
   },
   {
    "duration": 11,
    "start_time": "2023-03-03T06:15:36.907Z"
   },
   {
    "duration": 181,
    "start_time": "2023-03-03T06:15:36.920Z"
   },
   {
    "duration": 3,
    "start_time": "2023-03-03T06:15:37.103Z"
   },
   {
    "duration": 16,
    "start_time": "2023-03-03T06:15:37.108Z"
   },
   {
    "duration": 31,
    "start_time": "2023-03-03T06:15:37.126Z"
   },
   {
    "duration": 15,
    "start_time": "2023-03-03T06:15:37.159Z"
   },
   {
    "duration": 46,
    "start_time": "2023-03-03T06:15:37.176Z"
   },
   {
    "duration": 11,
    "start_time": "2023-03-03T06:15:37.224Z"
   },
   {
    "duration": 24,
    "start_time": "2023-03-03T06:15:37.236Z"
   },
   {
    "duration": 14,
    "start_time": "2023-03-03T06:15:37.261Z"
   },
   {
    "duration": 19,
    "start_time": "2023-03-03T06:15:37.277Z"
   },
   {
    "duration": 19,
    "start_time": "2023-03-03T06:15:37.297Z"
   },
   {
    "duration": 43,
    "start_time": "2023-03-03T06:15:37.318Z"
   },
   {
    "duration": 5,
    "start_time": "2023-03-03T06:15:37.363Z"
   },
   {
    "duration": 17,
    "start_time": "2023-03-03T06:15:37.369Z"
   },
   {
    "duration": 25,
    "start_time": "2023-03-03T06:15:37.388Z"
   },
   {
    "duration": 45,
    "start_time": "2023-03-03T07:04:23.625Z"
   },
   {
    "duration": 6,
    "start_time": "2023-03-03T07:04:27.421Z"
   },
   {
    "duration": 1233,
    "start_time": "2023-03-03T07:04:35.253Z"
   },
   {
    "duration": 72,
    "start_time": "2023-03-03T07:04:36.488Z"
   },
   {
    "duration": 21,
    "start_time": "2023-03-03T07:04:36.562Z"
   },
   {
    "duration": 3,
    "start_time": "2023-03-03T07:04:36.585Z"
   },
   {
    "duration": 9,
    "start_time": "2023-03-03T07:04:36.590Z"
   },
   {
    "duration": 74,
    "start_time": "2023-03-03T07:04:36.600Z"
   },
   {
    "duration": 26,
    "start_time": "2023-03-03T07:04:36.676Z"
   },
   {
    "duration": 4,
    "start_time": "2023-03-03T07:04:36.704Z"
   },
   {
    "duration": 6,
    "start_time": "2023-03-03T07:04:36.709Z"
   },
   {
    "duration": 8,
    "start_time": "2023-03-03T07:04:36.718Z"
   },
   {
    "duration": 6,
    "start_time": "2023-03-03T07:04:36.728Z"
   },
   {
    "duration": 59,
    "start_time": "2023-03-03T07:04:36.736Z"
   },
   {
    "duration": 15,
    "start_time": "2023-03-03T07:04:36.797Z"
   },
   {
    "duration": 5,
    "start_time": "2023-03-03T07:04:36.813Z"
   },
   {
    "duration": 5,
    "start_time": "2023-03-03T07:04:36.820Z"
   },
   {
    "duration": 5,
    "start_time": "2023-03-03T07:04:36.826Z"
   },
   {
    "duration": 13,
    "start_time": "2023-03-03T07:04:36.832Z"
   },
   {
    "duration": 283,
    "start_time": "2023-03-03T07:04:36.847Z"
   },
   {
    "duration": 11,
    "start_time": "2023-03-03T07:04:37.132Z"
   },
   {
    "duration": 253,
    "start_time": "2023-03-03T07:04:37.145Z"
   },
   {
    "duration": 5,
    "start_time": "2023-03-03T07:04:37.399Z"
   },
   {
    "duration": 16,
    "start_time": "2023-03-03T07:04:37.406Z"
   },
   {
    "duration": 10,
    "start_time": "2023-03-03T07:04:37.423Z"
   },
   {
    "duration": 5,
    "start_time": "2023-03-03T07:04:37.435Z"
   },
   {
    "duration": 177,
    "start_time": "2023-03-03T07:04:37.441Z"
   },
   {
    "duration": 133,
    "start_time": "2023-03-03T07:04:37.621Z"
   },
   {
    "duration": 8,
    "start_time": "2023-03-03T07:04:37.756Z"
   },
   {
    "duration": 4,
    "start_time": "2023-03-03T07:04:37.769Z"
   },
   {
    "duration": 8,
    "start_time": "2023-03-03T07:04:37.775Z"
   },
   {
    "duration": 324,
    "start_time": "2023-03-03T07:04:37.784Z"
   },
   {
    "duration": 231,
    "start_time": "2023-03-03T07:04:38.111Z"
   },
   {
    "duration": 5,
    "start_time": "2023-03-03T07:04:38.344Z"
   },
   {
    "duration": 370,
    "start_time": "2023-03-03T07:04:38.351Z"
   },
   {
    "duration": 4,
    "start_time": "2023-03-03T07:04:38.723Z"
   },
   {
    "duration": 234,
    "start_time": "2023-03-03T07:04:38.728Z"
   },
   {
    "duration": 7,
    "start_time": "2023-03-03T07:04:38.963Z"
   },
   {
    "duration": 287,
    "start_time": "2023-03-03T07:04:38.972Z"
   },
   {
    "duration": 6,
    "start_time": "2023-03-03T07:04:39.260Z"
   },
   {
    "duration": 137,
    "start_time": "2023-03-03T07:04:39.268Z"
   },
   {
    "duration": 24,
    "start_time": "2023-03-03T07:04:39.407Z"
   },
   {
    "duration": 229,
    "start_time": "2023-03-03T07:04:39.432Z"
   },
   {
    "duration": 4,
    "start_time": "2023-03-03T07:04:39.663Z"
   },
   {
    "duration": 142,
    "start_time": "2023-03-03T07:04:39.669Z"
   },
   {
    "duration": 23,
    "start_time": "2023-03-03T07:04:39.812Z"
   },
   {
    "duration": 154,
    "start_time": "2023-03-03T07:04:39.837Z"
   },
   {
    "duration": 155,
    "start_time": "2023-03-03T07:04:39.992Z"
   },
   {
    "duration": 5,
    "start_time": "2023-03-03T07:04:40.149Z"
   },
   {
    "duration": 274,
    "start_time": "2023-03-03T07:04:40.155Z"
   },
   {
    "duration": 13,
    "start_time": "2023-03-03T07:04:40.432Z"
   },
   {
    "duration": 174,
    "start_time": "2023-03-03T07:04:40.448Z"
   },
   {
    "duration": 3,
    "start_time": "2023-03-03T07:04:40.624Z"
   },
   {
    "duration": 11,
    "start_time": "2023-03-03T07:04:40.629Z"
   },
   {
    "duration": 5,
    "start_time": "2023-03-03T07:04:40.641Z"
   },
   {
    "duration": 7,
    "start_time": "2023-03-03T07:04:40.648Z"
   },
   {
    "duration": 29,
    "start_time": "2023-03-03T07:04:40.656Z"
   },
   {
    "duration": 10,
    "start_time": "2023-03-03T07:04:40.687Z"
   },
   {
    "duration": 12,
    "start_time": "2023-03-03T07:04:40.698Z"
   },
   {
    "duration": 6,
    "start_time": "2023-03-03T07:04:40.712Z"
   },
   {
    "duration": 4,
    "start_time": "2023-03-03T07:04:40.719Z"
   },
   {
    "duration": 8,
    "start_time": "2023-03-03T07:04:40.724Z"
   },
   {
    "duration": 19,
    "start_time": "2023-03-03T07:04:40.733Z"
   },
   {
    "duration": 4,
    "start_time": "2023-03-03T07:04:40.754Z"
   },
   {
    "duration": 9,
    "start_time": "2023-03-03T07:04:40.759Z"
   },
   {
    "duration": 15,
    "start_time": "2023-03-03T07:04:40.769Z"
   },
   {
    "duration": 6,
    "start_time": "2023-03-03T07:14:49.575Z"
   },
   {
    "duration": 5,
    "start_time": "2023-03-03T07:17:12.607Z"
   },
   {
    "duration": 4,
    "start_time": "2023-03-03T07:17:21.503Z"
   },
   {
    "duration": 5,
    "start_time": "2023-03-03T07:17:28.190Z"
   },
   {
    "duration": 143,
    "start_time": "2023-03-03T07:26:53.347Z"
   },
   {
    "duration": 143,
    "start_time": "2023-03-03T07:28:13.231Z"
   },
   {
    "duration": 151,
    "start_time": "2023-03-03T07:33:18.964Z"
   },
   {
    "duration": 176,
    "start_time": "2023-03-03T07:33:53.017Z"
   },
   {
    "duration": 1367,
    "start_time": "2023-03-03T10:33:59.204Z"
   },
   {
    "duration": 60,
    "start_time": "2023-03-03T10:34:00.573Z"
   },
   {
    "duration": 22,
    "start_time": "2023-03-03T10:34:00.635Z"
   },
   {
    "duration": 65,
    "start_time": "2023-03-03T10:34:00.658Z"
   },
   {
    "duration": 63,
    "start_time": "2023-03-03T10:34:00.726Z"
   },
   {
    "duration": 199,
    "start_time": "2023-03-03T10:34:00.791Z"
   },
   {
    "duration": 20,
    "start_time": "2023-03-03T10:34:00.992Z"
   },
   {
    "duration": 116,
    "start_time": "2023-03-03T10:34:01.014Z"
   },
   {
    "duration": 93,
    "start_time": "2023-03-03T10:34:01.132Z"
   },
   {
    "duration": 57,
    "start_time": "2023-03-03T10:34:01.227Z"
   },
   {
    "duration": 77,
    "start_time": "2023-03-03T10:34:01.286Z"
   },
   {
    "duration": 81,
    "start_time": "2023-03-03T10:34:01.365Z"
   },
   {
    "duration": 19,
    "start_time": "2023-03-03T10:34:01.448Z"
   },
   {
    "duration": 70,
    "start_time": "2023-03-03T10:34:01.470Z"
   },
   {
    "duration": 50,
    "start_time": "2023-03-03T10:34:01.542Z"
   },
   {
    "duration": 28,
    "start_time": "2023-03-03T10:34:01.594Z"
   },
   {
    "duration": 57,
    "start_time": "2023-03-03T10:34:01.624Z"
   },
   {
    "duration": 331,
    "start_time": "2023-03-03T10:34:01.683Z"
   },
   {
    "duration": 12,
    "start_time": "2023-03-03T10:34:02.016Z"
   },
   {
    "duration": 269,
    "start_time": "2023-03-03T10:34:02.029Z"
   },
   {
    "duration": 5,
    "start_time": "2023-03-03T10:34:02.300Z"
   },
   {
    "duration": 15,
    "start_time": "2023-03-03T10:34:02.313Z"
   },
   {
    "duration": 8,
    "start_time": "2023-03-03T10:34:02.329Z"
   },
   {
    "duration": 21,
    "start_time": "2023-03-03T10:34:02.338Z"
   },
   {
    "duration": 42,
    "start_time": "2023-03-03T10:34:02.361Z"
   },
   {
    "duration": 31,
    "start_time": "2023-03-03T10:34:02.405Z"
   },
   {
    "duration": 12,
    "start_time": "2023-03-03T10:34:02.438Z"
   },
   {
    "duration": 188,
    "start_time": "2023-03-03T10:34:02.451Z"
   },
   {
    "duration": 129,
    "start_time": "2023-03-03T10:34:02.641Z"
   },
   {
    "duration": 6,
    "start_time": "2023-03-03T10:34:02.772Z"
   },
   {
    "duration": 13,
    "start_time": "2023-03-03T10:34:02.780Z"
   },
   {
    "duration": 21,
    "start_time": "2023-03-03T10:34:02.794Z"
   },
   {
    "duration": 293,
    "start_time": "2023-03-03T10:34:02.817Z"
   },
   {
    "duration": 236,
    "start_time": "2023-03-03T10:34:03.113Z"
   },
   {
    "duration": 6,
    "start_time": "2023-03-03T10:34:03.350Z"
   },
   {
    "duration": 401,
    "start_time": "2023-03-03T10:34:03.358Z"
   },
   {
    "duration": 4,
    "start_time": "2023-03-03T10:34:03.761Z"
   },
   {
    "duration": 303,
    "start_time": "2023-03-03T10:34:03.767Z"
   },
   {
    "duration": 7,
    "start_time": "2023-03-03T10:34:04.072Z"
   },
   {
    "duration": 368,
    "start_time": "2023-03-03T10:34:04.080Z"
   },
   {
    "duration": 6,
    "start_time": "2023-03-03T10:34:04.452Z"
   },
   {
    "duration": 136,
    "start_time": "2023-03-03T10:34:04.459Z"
   },
   {
    "duration": 25,
    "start_time": "2023-03-03T10:34:04.597Z"
   },
   {
    "duration": 208,
    "start_time": "2023-03-03T10:34:04.624Z"
   },
   {
    "duration": 5,
    "start_time": "2023-03-03T10:34:04.834Z"
   },
   {
    "duration": 145,
    "start_time": "2023-03-03T10:34:04.840Z"
   },
   {
    "duration": 17,
    "start_time": "2023-03-03T10:34:04.987Z"
   },
   {
    "duration": 172,
    "start_time": "2023-03-03T10:34:05.006Z"
   },
   {
    "duration": 183,
    "start_time": "2023-03-03T10:34:05.180Z"
   },
   {
    "duration": 5,
    "start_time": "2023-03-03T10:34:05.365Z"
   },
   {
    "duration": 223,
    "start_time": "2023-03-03T10:34:05.372Z"
   },
   {
    "duration": 21,
    "start_time": "2023-03-03T10:34:05.597Z"
   },
   {
    "duration": 141,
    "start_time": "2023-03-03T10:34:05.620Z"
   },
   {
    "duration": 5,
    "start_time": "2023-03-03T10:34:05.762Z"
   },
   {
    "duration": 18,
    "start_time": "2023-03-03T10:34:05.769Z"
   },
   {
    "duration": 18,
    "start_time": "2023-03-03T10:34:05.788Z"
   },
   {
    "duration": 29,
    "start_time": "2023-03-03T10:34:05.808Z"
   },
   {
    "duration": 28,
    "start_time": "2023-03-03T10:34:05.838Z"
   },
   {
    "duration": 10,
    "start_time": "2023-03-03T10:34:05.868Z"
   },
   {
    "duration": 24,
    "start_time": "2023-03-03T10:34:05.880Z"
   },
   {
    "duration": 17,
    "start_time": "2023-03-03T10:34:05.907Z"
   },
   {
    "duration": 25,
    "start_time": "2023-03-03T10:34:05.927Z"
   },
   {
    "duration": 21,
    "start_time": "2023-03-03T10:34:05.954Z"
   },
   {
    "duration": 47,
    "start_time": "2023-03-03T10:34:05.977Z"
   },
   {
    "duration": 5,
    "start_time": "2023-03-03T10:34:06.027Z"
   },
   {
    "duration": 11,
    "start_time": "2023-03-03T10:34:06.034Z"
   },
   {
    "duration": 29,
    "start_time": "2023-03-03T10:34:06.047Z"
   },
   {
    "duration": 21,
    "start_time": "2023-03-03T10:46:07.817Z"
   },
   {
    "duration": 11,
    "start_time": "2023-03-03T10:47:57.708Z"
   },
   {
    "duration": 1215,
    "start_time": "2023-03-04T03:47:42.996Z"
   },
   {
    "duration": 64,
    "start_time": "2023-03-04T03:47:44.213Z"
   },
   {
    "duration": 20,
    "start_time": "2023-03-04T03:47:44.279Z"
   },
   {
    "duration": 12,
    "start_time": "2023-03-04T03:47:44.301Z"
   },
   {
    "duration": 33,
    "start_time": "2023-03-04T03:47:44.315Z"
   },
   {
    "duration": 103,
    "start_time": "2023-03-04T03:47:44.349Z"
   },
   {
    "duration": 19,
    "start_time": "2023-03-04T03:47:44.454Z"
   },
   {
    "duration": 7,
    "start_time": "2023-03-04T03:47:44.474Z"
   },
   {
    "duration": 11,
    "start_time": "2023-03-04T03:47:44.482Z"
   },
   {
    "duration": 13,
    "start_time": "2023-03-04T03:47:44.495Z"
   },
   {
    "duration": 12,
    "start_time": "2023-03-04T03:47:44.509Z"
   },
   {
    "duration": 61,
    "start_time": "2023-03-04T03:47:44.523Z"
   },
   {
    "duration": 17,
    "start_time": "2023-03-04T03:47:44.586Z"
   },
   {
    "duration": 6,
    "start_time": "2023-03-04T03:47:44.604Z"
   },
   {
    "duration": 6,
    "start_time": "2023-03-04T03:47:44.612Z"
   },
   {
    "duration": 8,
    "start_time": "2023-03-04T03:47:44.620Z"
   },
   {
    "duration": 14,
    "start_time": "2023-03-04T03:47:44.629Z"
   },
   {
    "duration": 263,
    "start_time": "2023-03-04T03:47:44.644Z"
   },
   {
    "duration": 11,
    "start_time": "2023-03-04T03:47:44.909Z"
   },
   {
    "duration": 259,
    "start_time": "2023-03-04T03:47:44.922Z"
   },
   {
    "duration": 5,
    "start_time": "2023-03-04T03:47:45.183Z"
   },
   {
    "duration": 10,
    "start_time": "2023-03-04T03:47:45.189Z"
   },
   {
    "duration": 10,
    "start_time": "2023-03-04T03:47:45.200Z"
   },
   {
    "duration": 10,
    "start_time": "2023-03-04T03:47:45.211Z"
   },
   {
    "duration": 7,
    "start_time": "2023-03-04T03:47:45.223Z"
   },
   {
    "duration": 12,
    "start_time": "2023-03-04T03:47:45.249Z"
   },
   {
    "duration": 7,
    "start_time": "2023-03-04T03:47:45.263Z"
   },
   {
    "duration": 198,
    "start_time": "2023-03-04T03:47:45.274Z"
   },
   {
    "duration": 135,
    "start_time": "2023-03-04T03:47:45.474Z"
   },
   {
    "duration": 6,
    "start_time": "2023-03-04T03:47:45.610Z"
   },
   {
    "duration": 8,
    "start_time": "2023-03-04T03:47:45.617Z"
   },
   {
    "duration": 13,
    "start_time": "2023-03-04T03:47:45.626Z"
   },
   {
    "duration": 284,
    "start_time": "2023-03-04T03:47:45.640Z"
   },
   {
    "duration": 225,
    "start_time": "2023-03-04T03:47:45.926Z"
   },
   {
    "duration": 6,
    "start_time": "2023-03-04T03:47:46.153Z"
   },
   {
    "duration": 410,
    "start_time": "2023-03-04T03:47:46.161Z"
   },
   {
    "duration": 5,
    "start_time": "2023-03-04T03:47:46.572Z"
   },
   {
    "duration": 248,
    "start_time": "2023-03-04T03:47:46.578Z"
   },
   {
    "duration": 6,
    "start_time": "2023-03-04T03:47:46.828Z"
   },
   {
    "duration": 359,
    "start_time": "2023-03-04T03:47:46.836Z"
   },
   {
    "duration": 6,
    "start_time": "2023-03-04T03:47:47.197Z"
   },
   {
    "duration": 139,
    "start_time": "2023-03-04T03:47:47.205Z"
   },
   {
    "duration": 15,
    "start_time": "2023-03-04T03:47:47.348Z"
   },
   {
    "duration": 217,
    "start_time": "2023-03-04T03:47:47.365Z"
   },
   {
    "duration": 5,
    "start_time": "2023-03-04T03:47:47.584Z"
   },
   {
    "duration": 154,
    "start_time": "2023-03-04T03:47:47.590Z"
   },
   {
    "duration": 17,
    "start_time": "2023-03-04T03:47:47.749Z"
   },
   {
    "duration": 193,
    "start_time": "2023-03-04T03:47:47.768Z"
   },
   {
    "duration": 183,
    "start_time": "2023-03-04T03:47:47.963Z"
   },
   {
    "duration": 5,
    "start_time": "2023-03-04T03:47:48.148Z"
   },
   {
    "duration": 235,
    "start_time": "2023-03-04T03:47:48.155Z"
   },
   {
    "duration": 11,
    "start_time": "2023-03-04T03:47:48.392Z"
   },
   {
    "duration": 183,
    "start_time": "2023-03-04T03:47:48.405Z"
   },
   {
    "duration": 4,
    "start_time": "2023-03-04T03:47:48.590Z"
   },
   {
    "duration": 13,
    "start_time": "2023-03-04T03:47:48.595Z"
   },
   {
    "duration": 10,
    "start_time": "2023-03-04T03:47:48.610Z"
   },
   {
    "duration": 7,
    "start_time": "2023-03-04T03:47:48.622Z"
   },
   {
    "duration": 23,
    "start_time": "2023-03-04T03:47:48.649Z"
   },
   {
    "duration": 9,
    "start_time": "2023-03-04T03:47:48.673Z"
   },
   {
    "duration": 6,
    "start_time": "2023-03-04T03:47:48.684Z"
   },
   {
    "duration": 7,
    "start_time": "2023-03-04T03:47:48.691Z"
   },
   {
    "duration": 7,
    "start_time": "2023-03-04T03:47:48.699Z"
   },
   {
    "duration": 46,
    "start_time": "2023-03-04T03:47:48.707Z"
   },
   {
    "duration": 4,
    "start_time": "2023-03-04T03:47:48.755Z"
   },
   {
    "duration": 13,
    "start_time": "2023-03-04T03:47:48.760Z"
   },
   {
    "duration": 14,
    "start_time": "2023-03-04T03:47:48.774Z"
   },
   {
    "duration": 102,
    "start_time": "2023-03-04T03:49:19.457Z"
   },
   {
    "duration": 11,
    "start_time": "2023-03-04T03:50:11.100Z"
   },
   {
    "duration": 275,
    "start_time": "2023-03-04T03:51:06.297Z"
   },
   {
    "duration": 5,
    "start_time": "2023-03-04T03:57:22.638Z"
   },
   {
    "duration": 6,
    "start_time": "2023-03-04T03:58:05.569Z"
   },
   {
    "duration": 4,
    "start_time": "2023-03-04T03:58:38.871Z"
   },
   {
    "duration": 4,
    "start_time": "2023-03-04T03:58:54.392Z"
   },
   {
    "duration": 5,
    "start_time": "2023-03-04T03:58:59.656Z"
   },
   {
    "duration": 4,
    "start_time": "2023-03-04T03:59:01.493Z"
   },
   {
    "duration": 5,
    "start_time": "2023-03-04T03:59:30.486Z"
   },
   {
    "duration": 9,
    "start_time": "2023-03-04T03:59:35.422Z"
   },
   {
    "duration": 7,
    "start_time": "2023-03-04T03:59:47.294Z"
   },
   {
    "duration": 4,
    "start_time": "2023-03-04T03:59:52.402Z"
   },
   {
    "duration": 4,
    "start_time": "2023-03-04T04:01:00.217Z"
   },
   {
    "duration": 5,
    "start_time": "2023-03-04T04:01:02.120Z"
   },
   {
    "duration": 6,
    "start_time": "2023-03-04T04:01:05.641Z"
   },
   {
    "duration": 3,
    "start_time": "2023-03-04T04:01:13.972Z"
   },
   {
    "duration": 3,
    "start_time": "2023-03-04T04:01:15.288Z"
   },
   {
    "duration": 137,
    "start_time": "2023-03-04T04:10:29.785Z"
   },
   {
    "duration": 172,
    "start_time": "2023-03-04T04:10:45.215Z"
   },
   {
    "duration": 231,
    "start_time": "2023-03-04T04:10:56.248Z"
   },
   {
    "duration": 8,
    "start_time": "2023-03-04T04:18:53.968Z"
   },
   {
    "duration": 10,
    "start_time": "2023-03-04T04:18:57.870Z"
   },
   {
    "duration": 29,
    "start_time": "2023-03-04T04:18:59.332Z"
   },
   {
    "duration": 1171,
    "start_time": "2023-03-04T04:19:13.448Z"
   },
   {
    "duration": 29,
    "start_time": "2023-03-04T04:19:14.620Z"
   },
   {
    "duration": 21,
    "start_time": "2023-03-04T04:19:14.651Z"
   },
   {
    "duration": 3,
    "start_time": "2023-03-04T04:19:14.674Z"
   },
   {
    "duration": 10,
    "start_time": "2023-03-04T04:19:14.678Z"
   },
   {
    "duration": 41,
    "start_time": "2023-03-04T04:19:14.690Z"
   },
   {
    "duration": 20,
    "start_time": "2023-03-04T04:19:14.732Z"
   },
   {
    "duration": 6,
    "start_time": "2023-03-04T04:19:14.754Z"
   },
   {
    "duration": 10,
    "start_time": "2023-03-04T04:19:14.761Z"
   },
   {
    "duration": 7,
    "start_time": "2023-03-04T04:19:14.775Z"
   },
   {
    "duration": 5,
    "start_time": "2023-03-04T04:19:14.784Z"
   },
   {
    "duration": 20,
    "start_time": "2023-03-04T04:19:14.791Z"
   },
   {
    "duration": 37,
    "start_time": "2023-03-04T04:19:14.813Z"
   },
   {
    "duration": 9,
    "start_time": "2023-03-04T04:19:14.853Z"
   },
   {
    "duration": 9,
    "start_time": "2023-03-04T04:19:14.865Z"
   },
   {
    "duration": 4,
    "start_time": "2023-03-04T04:19:14.877Z"
   },
   {
    "duration": 19,
    "start_time": "2023-03-04T04:19:14.883Z"
   },
   {
    "duration": 331,
    "start_time": "2023-03-04T04:19:14.905Z"
   },
   {
    "duration": 17,
    "start_time": "2023-03-04T04:19:15.238Z"
   },
   {
    "duration": 284,
    "start_time": "2023-03-04T04:19:15.256Z"
   },
   {
    "duration": 10,
    "start_time": "2023-03-04T04:19:15.541Z"
   },
   {
    "duration": 19,
    "start_time": "2023-03-04T04:19:15.552Z"
   },
   {
    "duration": 38,
    "start_time": "2023-03-04T04:19:15.572Z"
   },
   {
    "duration": 8,
    "start_time": "2023-03-04T04:19:15.612Z"
   },
   {
    "duration": 6,
    "start_time": "2023-03-04T04:19:15.622Z"
   },
   {
    "duration": 12,
    "start_time": "2023-03-04T04:19:15.630Z"
   },
   {
    "duration": 6,
    "start_time": "2023-03-04T04:19:15.643Z"
   },
   {
    "duration": 169,
    "start_time": "2023-03-04T04:19:15.653Z"
   },
   {
    "duration": 142,
    "start_time": "2023-03-04T04:19:15.824Z"
   },
   {
    "duration": 6,
    "start_time": "2023-03-04T04:19:15.968Z"
   },
   {
    "duration": 6,
    "start_time": "2023-03-04T04:19:15.976Z"
   },
   {
    "duration": 9,
    "start_time": "2023-03-04T04:19:15.984Z"
   },
   {
    "duration": 338,
    "start_time": "2023-03-04T04:19:15.995Z"
   },
   {
    "duration": 278,
    "start_time": "2023-03-04T04:19:16.335Z"
   },
   {
    "duration": 7,
    "start_time": "2023-03-04T04:19:16.615Z"
   },
   {
    "duration": 2691,
    "start_time": "2023-03-05T05:06:56.796Z"
   },
   {
    "duration": 110,
    "start_time": "2023-03-05T05:06:59.491Z"
   },
   {
    "duration": 57,
    "start_time": "2023-03-05T05:06:59.603Z"
   },
   {
    "duration": 24,
    "start_time": "2023-03-05T05:06:59.663Z"
   },
   {
    "duration": 62,
    "start_time": "2023-03-05T05:06:59.689Z"
   },
   {
    "duration": 135,
    "start_time": "2023-03-05T05:06:59.753Z"
   },
   {
    "duration": 21,
    "start_time": "2023-03-05T05:06:59.890Z"
   },
   {
    "duration": 37,
    "start_time": "2023-03-05T05:06:59.946Z"
   },
   {
    "duration": 15,
    "start_time": "2023-03-05T05:06:59.985Z"
   },
   {
    "duration": 24,
    "start_time": "2023-03-05T05:07:00.051Z"
   },
   {
    "duration": 71,
    "start_time": "2023-03-05T05:07:00.077Z"
   },
   {
    "duration": 117,
    "start_time": "2023-03-05T05:07:00.154Z"
   },
   {
    "duration": 19,
    "start_time": "2023-03-05T05:07:00.277Z"
   },
   {
    "duration": 60,
    "start_time": "2023-03-05T05:07:00.297Z"
   },
   {
    "duration": 47,
    "start_time": "2023-03-05T05:07:00.358Z"
   },
   {
    "duration": 42,
    "start_time": "2023-03-05T05:07:00.407Z"
   },
   {
    "duration": 118,
    "start_time": "2023-03-05T05:07:00.451Z"
   },
   {
    "duration": 879,
    "start_time": "2023-03-05T05:07:00.572Z"
   },
   {
    "duration": 36,
    "start_time": "2023-03-05T05:07:01.454Z"
   },
   {
    "duration": 795,
    "start_time": "2023-03-05T05:07:01.493Z"
   },
   {
    "duration": 57,
    "start_time": "2023-03-05T05:07:02.289Z"
   },
   {
    "duration": 47,
    "start_time": "2023-03-05T05:07:02.348Z"
   },
   {
    "duration": 70,
    "start_time": "2023-03-05T05:07:02.397Z"
   },
   {
    "duration": 26,
    "start_time": "2023-03-05T05:07:02.470Z"
   },
   {
    "duration": 61,
    "start_time": "2023-03-05T05:07:02.498Z"
   },
   {
    "duration": 41,
    "start_time": "2023-03-05T05:07:02.562Z"
   },
   {
    "duration": 69,
    "start_time": "2023-03-05T05:07:02.605Z"
   },
   {
    "duration": 507,
    "start_time": "2023-03-05T05:07:02.681Z"
   },
   {
    "duration": 389,
    "start_time": "2023-03-05T05:07:03.191Z"
   },
   {
    "duration": 7,
    "start_time": "2023-03-05T05:07:03.584Z"
   },
   {
    "duration": 5,
    "start_time": "2023-03-05T05:07:03.647Z"
   },
   {
    "duration": 37,
    "start_time": "2023-03-05T05:07:03.654Z"
   },
   {
    "duration": 905,
    "start_time": "2023-03-05T05:07:03.693Z"
   },
   {
    "duration": 640,
    "start_time": "2023-03-05T05:07:04.647Z"
   },
   {
    "duration": 67,
    "start_time": "2023-03-05T05:07:05.289Z"
   },
   {
    "duration": 925,
    "start_time": "2023-03-05T05:07:05.359Z"
   },
   {
    "duration": 59,
    "start_time": "2023-03-05T05:07:06.288Z"
   },
   {
    "duration": 728,
    "start_time": "2023-03-05T05:07:06.353Z"
   },
   {
    "duration": 74,
    "start_time": "2023-03-05T05:07:07.083Z"
   },
   {
    "duration": 826,
    "start_time": "2023-03-05T05:07:07.159Z"
   },
   {
    "duration": 72,
    "start_time": "2023-03-05T05:07:07.988Z"
   },
   {
    "duration": 424,
    "start_time": "2023-03-05T05:07:08.067Z"
   },
   {
    "duration": 78,
    "start_time": "2023-03-05T05:07:08.493Z"
   },
   {
    "duration": 711,
    "start_time": "2023-03-05T05:07:08.573Z"
   },
   {
    "duration": 5,
    "start_time": "2023-03-05T05:07:09.286Z"
   },
   {
    "duration": 398,
    "start_time": "2023-03-05T05:07:09.354Z"
   },
   {
    "duration": 22,
    "start_time": "2023-03-05T05:07:09.754Z"
   },
   {
    "duration": 496,
    "start_time": "2023-03-05T05:07:09.778Z"
   },
   {
    "duration": 596,
    "start_time": "2023-03-05T05:07:10.276Z"
   },
   {
    "duration": 11,
    "start_time": "2023-03-05T05:07:10.875Z"
   },
   {
    "duration": 385,
    "start_time": "2023-03-05T05:07:10.887Z"
   },
   {
    "duration": 6,
    "start_time": "2023-03-05T05:07:11.275Z"
   },
   {
    "duration": 67,
    "start_time": "2023-03-05T05:07:11.283Z"
   },
   {
    "duration": 14,
    "start_time": "2023-03-05T05:07:11.353Z"
   },
   {
    "duration": 24,
    "start_time": "2023-03-05T05:07:11.371Z"
   },
   {
    "duration": 108,
    "start_time": "2023-03-05T05:07:11.454Z"
   },
   {
    "duration": 20,
    "start_time": "2023-03-05T05:07:11.564Z"
   },
   {
    "duration": 6,
    "start_time": "2023-03-05T05:07:11.586Z"
   },
   {
    "duration": 68,
    "start_time": "2023-03-05T05:07:11.593Z"
   },
   {
    "duration": 11,
    "start_time": "2023-03-05T05:07:11.676Z"
   },
   {
    "duration": 83,
    "start_time": "2023-03-05T05:07:11.689Z"
   },
   {
    "duration": 7,
    "start_time": "2023-03-05T05:07:11.775Z"
   },
   {
    "duration": 11,
    "start_time": "2023-03-05T05:07:11.784Z"
   },
   {
    "duration": 47,
    "start_time": "2023-03-05T05:07:11.846Z"
   },
   {
    "duration": 588,
    "start_time": "2023-03-05T05:07:11.895Z"
   },
   {
    "duration": 74,
    "start_time": "2023-03-05T05:07:12.486Z"
   },
   {
    "duration": 1429,
    "start_time": "2023-03-05T05:11:28.088Z"
   },
   {
    "duration": 774,
    "start_time": "2023-03-05T05:11:40.882Z"
   },
   {
    "duration": 2721,
    "start_time": "2023-03-05T05:11:47.066Z"
   },
   {
    "duration": 64,
    "start_time": "2023-03-05T05:11:49.789Z"
   },
   {
    "duration": 35,
    "start_time": "2023-03-05T05:11:49.855Z"
   },
   {
    "duration": 68,
    "start_time": "2023-03-05T05:11:49.892Z"
   },
   {
    "duration": 28,
    "start_time": "2023-03-05T05:11:49.969Z"
   },
   {
    "duration": 64,
    "start_time": "2023-03-05T05:11:49.999Z"
   },
   {
    "duration": 29,
    "start_time": "2023-03-05T05:11:50.065Z"
   },
   {
    "duration": 49,
    "start_time": "2023-03-05T05:11:50.096Z"
   },
   {
    "duration": 41,
    "start_time": "2023-03-05T05:11:50.147Z"
   },
   {
    "duration": 13,
    "start_time": "2023-03-05T05:11:50.190Z"
   },
   {
    "duration": 10,
    "start_time": "2023-03-05T05:11:50.260Z"
   },
   {
    "duration": 38,
    "start_time": "2023-03-05T05:11:50.272Z"
   },
   {
    "duration": 39,
    "start_time": "2023-03-05T05:11:50.356Z"
   },
   {
    "duration": 57,
    "start_time": "2023-03-05T05:11:50.400Z"
   },
   {
    "duration": 37,
    "start_time": "2023-03-05T05:11:50.459Z"
   },
   {
    "duration": 47,
    "start_time": "2023-03-05T05:11:50.499Z"
   },
   {
    "duration": 25,
    "start_time": "2023-03-05T05:11:50.548Z"
   },
   {
    "duration": 896,
    "start_time": "2023-03-05T05:11:50.575Z"
   },
   {
    "duration": 90,
    "start_time": "2023-03-05T05:11:51.473Z"
   },
   {
    "duration": 708,
    "start_time": "2023-03-05T05:11:51.575Z"
   },
   {
    "duration": 5,
    "start_time": "2023-03-05T05:11:52.285Z"
   },
   {
    "duration": 89,
    "start_time": "2023-03-05T05:11:52.292Z"
   },
   {
    "duration": 10,
    "start_time": "2023-03-05T05:11:52.383Z"
   },
   {
    "duration": 53,
    "start_time": "2023-03-05T05:11:52.395Z"
   },
   {
    "duration": 9,
    "start_time": "2023-03-05T05:11:52.452Z"
   },
   {
    "duration": 30,
    "start_time": "2023-03-05T05:11:52.463Z"
   },
   {
    "duration": 63,
    "start_time": "2023-03-05T05:11:52.496Z"
   },
   {
    "duration": 514,
    "start_time": "2023-03-05T05:11:52.561Z"
   },
   {
    "duration": 378,
    "start_time": "2023-03-05T05:11:53.077Z"
   },
   {
    "duration": 8,
    "start_time": "2023-03-05T05:11:53.457Z"
   },
   {
    "duration": 35,
    "start_time": "2023-03-05T05:11:53.467Z"
   },
   {
    "duration": 42,
    "start_time": "2023-03-05T05:11:53.546Z"
   },
   {
    "duration": 958,
    "start_time": "2023-03-05T05:11:53.590Z"
   },
   {
    "duration": 637,
    "start_time": "2023-03-05T05:11:54.553Z"
   },
   {
    "duration": 20,
    "start_time": "2023-03-05T05:11:55.250Z"
   },
   {
    "duration": 705,
    "start_time": "2023-03-05T05:11:55.272Z"
   },
   {
    "duration": 7,
    "start_time": "2023-03-05T05:11:55.979Z"
   },
   {
    "duration": 747,
    "start_time": "2023-03-05T05:11:56.046Z"
   },
   {
    "duration": 11,
    "start_time": "2023-03-05T05:11:56.849Z"
   },
   {
    "duration": 813,
    "start_time": "2023-03-05T05:11:56.866Z"
   },
   {
    "duration": 73,
    "start_time": "2023-03-05T05:11:57.686Z"
   },
   {
    "duration": 489,
    "start_time": "2023-03-05T05:11:57.769Z"
   },
   {
    "duration": 19,
    "start_time": "2023-03-05T05:11:58.260Z"
   },
   {
    "duration": 690,
    "start_time": "2023-03-05T05:11:58.286Z"
   },
   {
    "duration": 7,
    "start_time": "2023-03-05T05:11:58.978Z"
   },
   {
    "duration": 477,
    "start_time": "2023-03-05T05:11:58.987Z"
   },
   {
    "duration": 25,
    "start_time": "2023-03-05T05:11:59.467Z"
   },
   {
    "duration": 526,
    "start_time": "2023-03-05T05:11:59.552Z"
   },
   {
    "duration": 586,
    "start_time": "2023-03-05T05:12:00.081Z"
   },
   {
    "duration": 11,
    "start_time": "2023-03-05T05:12:00.670Z"
   },
   {
    "duration": 461,
    "start_time": "2023-03-05T05:12:00.685Z"
   },
   {
    "duration": 7,
    "start_time": "2023-03-05T05:12:01.148Z"
   },
   {
    "duration": 94,
    "start_time": "2023-03-05T05:12:01.157Z"
   },
   {
    "duration": 96,
    "start_time": "2023-03-05T05:12:01.253Z"
   },
   {
    "duration": 44,
    "start_time": "2023-03-05T05:12:01.352Z"
   },
   {
    "duration": 98,
    "start_time": "2023-03-05T05:12:01.398Z"
   },
   {
    "duration": 64,
    "start_time": "2023-03-05T05:12:01.498Z"
   },
   {
    "duration": 96,
    "start_time": "2023-03-05T05:12:01.564Z"
   },
   {
    "duration": 44,
    "start_time": "2023-03-05T05:12:01.668Z"
   },
   {
    "duration": 53,
    "start_time": "2023-03-05T05:12:01.714Z"
   },
   {
    "duration": 105,
    "start_time": "2023-03-05T05:12:01.769Z"
   },
   {
    "duration": 79,
    "start_time": "2023-03-05T05:12:01.876Z"
   },
   {
    "duration": 58,
    "start_time": "2023-03-05T06:05:05.351Z"
   },
   {
    "duration": 1367,
    "start_time": "2023-03-05T06:05:14.551Z"
   },
   {
    "duration": 59,
    "start_time": "2023-03-05T06:05:15.921Z"
   },
   {
    "duration": 22,
    "start_time": "2023-03-05T06:05:15.982Z"
   },
   {
    "duration": 7,
    "start_time": "2023-03-05T06:05:16.006Z"
   },
   {
    "duration": 19,
    "start_time": "2023-03-05T06:05:16.015Z"
   },
   {
    "duration": 90,
    "start_time": "2023-03-05T06:05:16.035Z"
   },
   {
    "duration": 20,
    "start_time": "2023-03-05T06:05:16.127Z"
   },
   {
    "duration": 5,
    "start_time": "2023-03-05T06:05:16.149Z"
   },
   {
    "duration": 12,
    "start_time": "2023-03-05T06:05:16.156Z"
   },
   {
    "duration": 16,
    "start_time": "2023-03-05T06:05:16.169Z"
   },
   {
    "duration": 16,
    "start_time": "2023-03-05T06:05:16.187Z"
   },
   {
    "duration": 56,
    "start_time": "2023-03-05T06:05:16.204Z"
   },
   {
    "duration": 18,
    "start_time": "2023-03-05T06:05:16.262Z"
   },
   {
    "duration": 10,
    "start_time": "2023-03-05T06:05:16.284Z"
   },
   {
    "duration": 7,
    "start_time": "2023-03-05T06:05:16.296Z"
   },
   {
    "duration": 20,
    "start_time": "2023-03-05T06:05:16.305Z"
   },
   {
    "duration": 19,
    "start_time": "2023-03-05T06:05:16.327Z"
   },
   {
    "duration": 296,
    "start_time": "2023-03-05T06:05:16.349Z"
   },
   {
    "duration": 13,
    "start_time": "2023-03-05T06:05:16.647Z"
   },
   {
    "duration": 284,
    "start_time": "2023-03-05T06:05:16.662Z"
   },
   {
    "duration": 6,
    "start_time": "2023-03-05T06:05:16.947Z"
   },
   {
    "duration": 16,
    "start_time": "2023-03-05T06:05:16.955Z"
   },
   {
    "duration": 10,
    "start_time": "2023-03-05T06:05:16.973Z"
   },
   {
    "duration": 10,
    "start_time": "2023-03-05T06:05:16.985Z"
   },
   {
    "duration": 25,
    "start_time": "2023-03-05T06:05:16.996Z"
   },
   {
    "duration": 19,
    "start_time": "2023-03-05T06:05:17.023Z"
   },
   {
    "duration": 20,
    "start_time": "2023-03-05T06:05:17.044Z"
   },
   {
    "duration": 182,
    "start_time": "2023-03-05T06:05:17.066Z"
   },
   {
    "duration": 141,
    "start_time": "2023-03-05T06:05:17.250Z"
   },
   {
    "duration": 8,
    "start_time": "2023-03-05T06:05:17.393Z"
   },
   {
    "duration": 13,
    "start_time": "2023-03-05T06:05:17.403Z"
   },
   {
    "duration": 22,
    "start_time": "2023-03-05T06:05:17.418Z"
   },
   {
    "duration": 315,
    "start_time": "2023-03-05T06:05:17.442Z"
   },
   {
    "duration": 238,
    "start_time": "2023-03-05T06:05:17.759Z"
   },
   {
    "duration": 7,
    "start_time": "2023-03-05T06:05:17.998Z"
   },
   {
    "duration": 422,
    "start_time": "2023-03-05T06:05:18.006Z"
   },
   {
    "duration": 7,
    "start_time": "2023-03-05T06:05:18.430Z"
   },
   {
    "duration": 118,
    "start_time": "2023-03-05T06:05:18.439Z"
   },
   {
    "duration": 0,
    "start_time": "2023-03-05T06:05:18.559Z"
   },
   {
    "duration": 0,
    "start_time": "2023-03-05T06:05:18.560Z"
   },
   {
    "duration": 0,
    "start_time": "2023-03-05T06:05:18.561Z"
   },
   {
    "duration": 0,
    "start_time": "2023-03-05T06:05:18.562Z"
   },
   {
    "duration": 0,
    "start_time": "2023-03-05T06:05:18.563Z"
   },
   {
    "duration": 0,
    "start_time": "2023-03-05T06:05:18.565Z"
   },
   {
    "duration": 0,
    "start_time": "2023-03-05T06:05:18.566Z"
   },
   {
    "duration": 0,
    "start_time": "2023-03-05T06:05:18.568Z"
   },
   {
    "duration": 0,
    "start_time": "2023-03-05T06:05:18.569Z"
   },
   {
    "duration": 0,
    "start_time": "2023-03-05T06:05:18.570Z"
   },
   {
    "duration": 0,
    "start_time": "2023-03-05T06:05:18.571Z"
   },
   {
    "duration": 0,
    "start_time": "2023-03-05T06:05:18.573Z"
   },
   {
    "duration": 0,
    "start_time": "2023-03-05T06:05:18.574Z"
   },
   {
    "duration": 0,
    "start_time": "2023-03-05T06:05:18.575Z"
   },
   {
    "duration": 0,
    "start_time": "2023-03-05T06:05:18.576Z"
   },
   {
    "duration": 0,
    "start_time": "2023-03-05T06:05:18.578Z"
   },
   {
    "duration": 0,
    "start_time": "2023-03-05T06:05:18.579Z"
   },
   {
    "duration": 0,
    "start_time": "2023-03-05T06:05:18.580Z"
   },
   {
    "duration": 0,
    "start_time": "2023-03-05T06:05:18.582Z"
   },
   {
    "duration": 0,
    "start_time": "2023-03-05T06:05:18.583Z"
   },
   {
    "duration": 0,
    "start_time": "2023-03-05T06:05:18.584Z"
   },
   {
    "duration": 0,
    "start_time": "2023-03-05T06:05:18.585Z"
   },
   {
    "duration": 0,
    "start_time": "2023-03-05T06:05:18.586Z"
   },
   {
    "duration": 0,
    "start_time": "2023-03-05T06:05:18.587Z"
   },
   {
    "duration": 15,
    "start_time": "2023-03-05T06:05:59.636Z"
   },
   {
    "duration": 248,
    "start_time": "2023-03-05T06:06:39.908Z"
   },
   {
    "duration": 1254,
    "start_time": "2023-03-06T06:19:59.311Z"
   },
   {
    "duration": 29,
    "start_time": "2023-03-06T06:20:00.567Z"
   },
   {
    "duration": 27,
    "start_time": "2023-03-06T06:20:00.598Z"
   },
   {
    "duration": 9,
    "start_time": "2023-03-06T06:20:00.628Z"
   },
   {
    "duration": 32,
    "start_time": "2023-03-06T06:20:00.640Z"
   },
   {
    "duration": 76,
    "start_time": "2023-03-06T06:20:00.674Z"
   },
   {
    "duration": 21,
    "start_time": "2023-03-06T06:20:00.751Z"
   },
   {
    "duration": 17,
    "start_time": "2023-03-06T06:20:00.774Z"
   },
   {
    "duration": 32,
    "start_time": "2023-03-06T06:20:00.793Z"
   },
   {
    "duration": 16,
    "start_time": "2023-03-06T06:20:00.829Z"
   },
   {
    "duration": 56,
    "start_time": "2023-03-06T06:20:00.847Z"
   },
   {
    "duration": 56,
    "start_time": "2023-03-06T06:20:00.904Z"
   },
   {
    "duration": 40,
    "start_time": "2023-03-06T06:20:00.962Z"
   },
   {
    "duration": 30,
    "start_time": "2023-03-06T06:20:01.004Z"
   },
   {
    "duration": 40,
    "start_time": "2023-03-06T06:20:01.036Z"
   },
   {
    "duration": 44,
    "start_time": "2023-03-06T06:20:01.077Z"
   },
   {
    "duration": 61,
    "start_time": "2023-03-06T06:20:01.123Z"
   },
   {
    "duration": 348,
    "start_time": "2023-03-06T06:20:01.186Z"
   },
   {
    "duration": 19,
    "start_time": "2023-03-06T06:20:01.536Z"
   },
   {
    "duration": 311,
    "start_time": "2023-03-06T06:20:01.557Z"
   },
   {
    "duration": 5,
    "start_time": "2023-03-06T06:20:01.870Z"
   },
   {
    "duration": 33,
    "start_time": "2023-03-06T06:20:01.876Z"
   },
   {
    "duration": 44,
    "start_time": "2023-03-06T06:20:01.910Z"
   },
   {
    "duration": 37,
    "start_time": "2023-03-06T06:20:01.956Z"
   },
   {
    "duration": 50,
    "start_time": "2023-03-06T06:20:01.995Z"
   },
   {
    "duration": 51,
    "start_time": "2023-03-06T06:20:02.047Z"
   },
   {
    "duration": 13,
    "start_time": "2023-03-06T06:20:02.100Z"
   },
   {
    "duration": 216,
    "start_time": "2023-03-06T06:20:02.117Z"
   },
   {
    "duration": 147,
    "start_time": "2023-03-06T06:20:02.334Z"
   },
   {
    "duration": 7,
    "start_time": "2023-03-06T06:20:02.483Z"
   },
   {
    "duration": 16,
    "start_time": "2023-03-06T06:20:02.491Z"
   },
   {
    "duration": 22,
    "start_time": "2023-03-06T06:20:02.509Z"
   },
   {
    "duration": 325,
    "start_time": "2023-03-06T06:20:02.533Z"
   },
   {
    "duration": 247,
    "start_time": "2023-03-06T06:20:02.860Z"
   },
   {
    "duration": 9,
    "start_time": "2023-03-06T06:20:03.109Z"
   },
   {
    "duration": 394,
    "start_time": "2023-03-06T06:20:03.120Z"
   },
   {
    "duration": 4,
    "start_time": "2023-03-06T06:20:03.516Z"
   },
   {
    "duration": 287,
    "start_time": "2023-03-06T06:20:03.522Z"
   },
   {
    "duration": 8,
    "start_time": "2023-03-06T06:20:03.810Z"
   },
   {
    "duration": 395,
    "start_time": "2023-03-06T06:20:03.820Z"
   },
   {
    "duration": 7,
    "start_time": "2023-03-06T06:20:04.216Z"
   },
   {
    "duration": 208,
    "start_time": "2023-03-06T06:20:04.225Z"
   },
   {
    "duration": 26,
    "start_time": "2023-03-06T06:20:04.435Z"
   },
   {
    "duration": 238,
    "start_time": "2023-03-06T06:20:04.464Z"
   },
   {
    "duration": 6,
    "start_time": "2023-03-06T06:20:04.703Z"
   },
   {
    "duration": 177,
    "start_time": "2023-03-06T06:20:04.711Z"
   },
   {
    "duration": 18,
    "start_time": "2023-03-06T06:20:04.890Z"
   },
   {
    "duration": 185,
    "start_time": "2023-03-06T06:20:04.910Z"
   },
   {
    "duration": 185,
    "start_time": "2023-03-06T06:20:05.097Z"
   },
   {
    "duration": 5,
    "start_time": "2023-03-06T06:20:05.283Z"
   },
   {
    "duration": 183,
    "start_time": "2023-03-06T06:20:05.290Z"
   },
   {
    "duration": 5,
    "start_time": "2023-03-06T06:20:05.474Z"
   },
   {
    "duration": 23,
    "start_time": "2023-03-06T06:20:05.480Z"
   },
   {
    "duration": 11,
    "start_time": "2023-03-06T06:20:05.505Z"
   },
   {
    "duration": 13,
    "start_time": "2023-03-06T06:20:05.518Z"
   },
   {
    "duration": 32,
    "start_time": "2023-03-06T06:20:05.533Z"
   },
   {
    "duration": 13,
    "start_time": "2023-03-06T06:20:05.567Z"
   },
   {
    "duration": 5,
    "start_time": "2023-03-06T06:20:05.581Z"
   },
   {
    "duration": 9,
    "start_time": "2023-03-06T06:20:05.588Z"
   },
   {
    "duration": 19,
    "start_time": "2023-03-06T06:20:05.599Z"
   },
   {
    "duration": 40,
    "start_time": "2023-03-06T06:20:05.620Z"
   },
   {
    "duration": 15,
    "start_time": "2023-03-06T06:20:05.662Z"
   }
  ],
  "kernelspec": {
   "display_name": "Python 3 (ipykernel)",
   "language": "python",
   "name": "python3"
  },
  "language_info": {
   "codemirror_mode": {
    "name": "ipython",
    "version": 3
   },
   "file_extension": ".py",
   "mimetype": "text/x-python",
   "name": "python",
   "nbconvert_exporter": "python",
   "pygments_lexer": "ipython3",
   "version": "3.9.13"
  },
  "toc": {
   "base_numbering": 1,
   "nav_menu": {},
   "number_sections": true,
   "sideBar": true,
   "skip_h1_title": true,
   "title_cell": "Table of Contents",
   "title_sidebar": "Contents",
   "toc_cell": false,
   "toc_position": {},
   "toc_section_display": true,
   "toc_window_display": true
  }
 },
 "nbformat": 4,
 "nbformat_minor": 2
}
