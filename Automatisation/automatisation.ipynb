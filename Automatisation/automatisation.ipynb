{
 "cells": [
  {
   "cell_type": "markdown",
   "id": "5beb2003",
   "metadata": {},
   "source": [
    "# Анализ пользовательского взаимодействия с карточками статей на Яндекс.Дзен"
   ]
  },
  {
   "cell_type": "markdown",
   "id": "9e308eef",
   "metadata": {},
   "source": [
    "## Часть 1 - Составление технического задания"
   ]
  },
  {
   "cell_type": "markdown",
   "id": "4159abf1",
   "metadata": {},
   "source": [
    "**Заказчик**: менеджеры Денис и Валерия"
   ]
  },
  {
   "cell_type": "markdown",
   "id": "2895cc1f",
   "metadata": {},
   "source": [
    "**Цель исследования**: Создать дашборд, который будет отвечать на вопросы менеджеров, а именно:\n",
    "\n",
    "- Сколько взаимодействий пользователей с карточками происходит в системе с разбивкой по темам карточек?\n",
    "- Как много карточек генерируют источники с разными темами?\n",
    "- Как соотносятся темы карточек и темы источников?"
   ]
  },
  {
   "cell_type": "markdown",
   "id": "1d252189",
   "metadata": {},
   "source": [
    "**Техническое задание**:\n",
    "\n",
    "- Бизнес-задача: анализ взаимодействия пользователей с карточками Яндекс.Дзен;\n",
    "- Насколько часто предполагается пользоваться дашбордом: не реже, чем раз в неделю;\n",
    "- Кто будет основным пользователем дашборда: менеджеры по анализу контента;\n",
    "\n",
    "Состав данных для дашборда:\n",
    "\n",
    "- История событий по темам карточек (два графика - абсолютные числа и процентное соотношение);\n",
    "- Разбивка событий по темам источников;\n",
    "- Таблица соответствия тем источников темам карточек;\n",
    "\n",
    "По каким параметрам данные должны группироваться:\n",
    "\n",
    "- Дата и время;\n",
    "- Тема карточки;\n",
    "- Тема источника;\n",
    "- Возрастная группа;\n",
    "\n",
    "Характер данных:\n",
    "\n",
    "- История событий по темам карточек — абсолютные величины с разбивкой по минутам;\n",
    "- Разбивка событий по темам источников — относительные величины (% событий);\n",
    "- Соответствия тем источников темам карточек - абсолютные величины;\n",
    "\n",
    "Важность: все графики имеют равную важность;\n",
    "\n",
    "Источники данных для дашборда: дата-инженеры обещали подготовить для вас агрегирующую таблицу dash_visits. Вот её структура:\n",
    "\n",
    "- `record_id` — первичный ключ,\n",
    "- `item_topic` — тема карточки,\n",
    "- `source_topic` — тема источника,\n",
    "- `age_segment` — возрастной сегмент,\n",
    "- `dt` — дата и время,\n",
    "- `visits` — количество событий.\n",
    "\n",
    "\n",
    "- Таблица хранится в специально подготовленной для вас базе данных zen;\n",
    "- Частота обновления данных: один раз в сутки, в полночь по UTC;\n",
    "- Какие графики должны отображаться и в каком порядке, какие элементы управления должны быть на дашборде (макет дашборда).\n"
   ]
  },
  {
   "cell_type": "markdown",
   "id": "2355d962",
   "metadata": {},
   "source": [
    "## Часть 2 - Создание дашборда"
   ]
  },
  {
   "cell_type": "markdown",
   "id": "dde1a578",
   "metadata": {},
   "source": [
    "Создаем коннекцию к базе"
   ]
  },
  {
   "cell_type": "code",
   "execution_count": 3,
   "id": "5a0be932",
   "metadata": {},
   "outputs": [
    {
     "data": {
      "text/html": [
       "<div>\n",
       "<style scoped>\n",
       "    .dataframe tbody tr th:only-of-type {\n",
       "        vertical-align: middle;\n",
       "    }\n",
       "\n",
       "    .dataframe tbody tr th {\n",
       "        vertical-align: top;\n",
       "    }\n",
       "\n",
       "    .dataframe thead th {\n",
       "        text-align: right;\n",
       "    }\n",
       "</style>\n",
       "<table border=\"1\" class=\"dataframe\">\n",
       "  <thead>\n",
       "    <tr style=\"text-align: right;\">\n",
       "      <th></th>\n",
       "      <th>record_id</th>\n",
       "      <th>item_topic</th>\n",
       "      <th>source_topic</th>\n",
       "      <th>age_segment</th>\n",
       "      <th>dt</th>\n",
       "      <th>visits</th>\n",
       "    </tr>\n",
       "  </thead>\n",
       "  <tbody>\n",
       "    <tr>\n",
       "      <th>0</th>\n",
       "      <td>1040597</td>\n",
       "      <td>Деньги</td>\n",
       "      <td>Авто</td>\n",
       "      <td>18-25</td>\n",
       "      <td>2019-09-24 18:32:00</td>\n",
       "      <td>3</td>\n",
       "    </tr>\n",
       "    <tr>\n",
       "      <th>1</th>\n",
       "      <td>1040598</td>\n",
       "      <td>Деньги</td>\n",
       "      <td>Авто</td>\n",
       "      <td>18-25</td>\n",
       "      <td>2019-09-24 18:35:00</td>\n",
       "      <td>1</td>\n",
       "    </tr>\n",
       "    <tr>\n",
       "      <th>2</th>\n",
       "      <td>1040599</td>\n",
       "      <td>Деньги</td>\n",
       "      <td>Авто</td>\n",
       "      <td>18-25</td>\n",
       "      <td>2019-09-24 18:54:00</td>\n",
       "      <td>4</td>\n",
       "    </tr>\n",
       "    <tr>\n",
       "      <th>3</th>\n",
       "      <td>1040600</td>\n",
       "      <td>Деньги</td>\n",
       "      <td>Авто</td>\n",
       "      <td>18-25</td>\n",
       "      <td>2019-09-24 18:55:00</td>\n",
       "      <td>17</td>\n",
       "    </tr>\n",
       "    <tr>\n",
       "      <th>4</th>\n",
       "      <td>1040601</td>\n",
       "      <td>Деньги</td>\n",
       "      <td>Авто</td>\n",
       "      <td>18-25</td>\n",
       "      <td>2019-09-24 18:56:00</td>\n",
       "      <td>27</td>\n",
       "    </tr>\n",
       "  </tbody>\n",
       "</table>\n",
       "</div>"
      ],
      "text/plain": [
       "   record_id item_topic source_topic age_segment                  dt  visits\n",
       "0    1040597     Деньги         Авто       18-25 2019-09-24 18:32:00       3\n",
       "1    1040598     Деньги         Авто       18-25 2019-09-24 18:35:00       1\n",
       "2    1040599     Деньги         Авто       18-25 2019-09-24 18:54:00       4\n",
       "3    1040600     Деньги         Авто       18-25 2019-09-24 18:55:00      17\n",
       "4    1040601     Деньги         Авто       18-25 2019-09-24 18:56:00      27"
      ]
     },
     "execution_count": 3,
     "metadata": {},
     "output_type": "execute_result"
    }
   ],
   "source": [
    "import pandas as pd\n",
    "\n",
    "from sqlalchemy import create_engine\n",
    "\n",
    "\n",
    "# Храним конфигурацию подключения к БД в отдельной переменной, чтобы её можно было редактировать централизованно\n",
    "#  или заменить на загрузку и конфигурационного файла\n",
    "\n",
    "db_config = {'user': 'praktikum_student', # Имя пользователя\n",
    "            'pwd': 'Sdf4$2;d-d30pp', # Пароль\n",
    "            'host': 'rc1b-wcoijxj3yxfsf3fs.mdb.yandexcloud.net',\n",
    "            'port': 6432, # Порт подключения\n",
    "            'db': 'data-analyst-zen-project-db'} # Название базы данных\n",
    "\n",
    "# Запрашиваем сырые данные\n",
    "\n",
    "engine = create_engine(\n",
    "    'postgresql://{}:{}@{}:{}/{}'.format(\n",
    "        db_config['user'],\n",
    "        db_config['pwd'],\n",
    "        db_config['host'],\n",
    "        db_config['port'],\n",
    "        db_config['db'],\n",
    "    )\n",
    ")\n",
    "query = '''\n",
    "           SELECT *\n",
    "           FROM dash_visits\n",
    "        '''\n",
    "\n",
    "dash_visits = pd.io.sql.read_sql(query, con=engine)\n",
    "\n",
    "dash_visits.to_csv('dash_visits.csv', index=False)\n",
    "\n",
    "# Выводим первые пять строк нашей таблицы\n",
    "\n",
    "dash_visits.head(5)"
   ]
  },
  {
   "cell_type": "markdown",
   "id": "5b9628b4",
   "metadata": {},
   "source": [
    "Ссылка на дашборд, опубликованный в Tableau Public:\n",
    "https://public.tableau.com/views/Zen_dashboard_16811125417510/Zen_dashboard?:language=en-US&:display_count=n&:origin=viz_share_link"
   ]
  },
  {
   "cell_type": "markdown",
   "id": "45b44c0f",
   "metadata": {},
   "source": [
    "Ссылка на файл с презентацией: https://disk.yandex.ru/i/wvFhgPNKl-LUtA\n"
   ]
  }
 ],
 "metadata": {
  "kernelspec": {
   "display_name": "Python 3 (ipykernel)",
   "language": "python",
   "name": "python3"
  },
  "language_info": {
   "codemirror_mode": {
    "name": "ipython",
    "version": 3
   },
   "file_extension": ".py",
   "mimetype": "text/x-python",
   "name": "python",
   "nbconvert_exporter": "python",
   "pygments_lexer": "ipython3",
   "version": "3.9.13"
  }
 },
 "nbformat": 4,
 "nbformat_minor": 5
}
