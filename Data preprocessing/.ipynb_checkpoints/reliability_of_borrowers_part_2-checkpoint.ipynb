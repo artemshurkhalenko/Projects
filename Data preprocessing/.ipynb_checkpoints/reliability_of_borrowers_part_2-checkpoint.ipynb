{
 "cells": [
  {
   "cell_type": "markdown",
   "id": "7f02d8db",
   "metadata": {
    "deletable": false,
    "editable": false,
    "id": "c81daeeb"
   },
   "source": [
    "# Исследование надежности заемщиков\n"
   ]
  },
  {
   "cell_type": "markdown",
   "id": "6bf6320f",
   "metadata": {
    "deletable": false,
    "editable": false,
    "id": "827c20bf"
   },
   "source": [
    "Во второй части проекта вы выполните шаги 3 и 4. Их вручную проверит ревьюер.\n",
    "Чтобы вам не пришлось писать код заново для шагов 1 и 2, мы добавили авторские решения в ячейки с кодом. \n",
    "\n"
   ]
  },
  {
   "cell_type": "markdown",
   "id": "f9ae8994",
   "metadata": {
    "deletable": false,
    "editable": false,
    "id": "744d7639"
   },
   "source": [
    "## Откройте таблицу и изучите общую информацию о данных"
   ]
  },
  {
   "cell_type": "markdown",
   "id": "6c4424f0",
   "metadata": {
    "deletable": false,
    "editable": false,
    "id": "e7a14c31"
   },
   "source": [
    "**Задание 1. Импортируйте библиотеку pandas. Считайте данные из csv-файла в датафрейм и сохраните в переменную `data`. Путь к файлу:**\n",
    "\n",
    "`/datasets/data.csv`"
   ]
  },
  {
   "cell_type": "code",
   "execution_count": 6,
   "id": "d437212e",
   "metadata": {
    "deletable": false,
    "id": "7bcf75c9"
   },
   "outputs": [],
   "source": [
    "import pandas as pd\n",
    "\n",
    "try:\n",
    "    data = pd.read_csv('/datasets/data.csv')\n",
    "except:\n",
    "    data = pd.read_csv('https://code.s3.yandex.net/datasets/data.csv')"
   ]
  },
  {
   "cell_type": "markdown",
   "id": "5c927920",
   "metadata": {
    "deletable": false,
    "editable": false,
    "id": "b8038fe3"
   },
   "source": [
    "**Задание 2. Выведите первые 20 строчек датафрейма `data` на экран.**"
   ]
  },
  {
   "cell_type": "code",
   "execution_count": 11,
   "id": "7f3695d4",
   "metadata": {
    "deletable": false,
    "id": "2a7cab99",
    "outputId": "1a8f3ef2-d323-4ec2-ddf7-89670b5944c4"
   },
   "outputs": [
    {
     "data": {
      "text/html": [
       "<div>\n",
       "<style scoped>\n",
       "    .dataframe tbody tr th:only-of-type {\n",
       "        vertical-align: middle;\n",
       "    }\n",
       "\n",
       "    .dataframe tbody tr th {\n",
       "        vertical-align: top;\n",
       "    }\n",
       "\n",
       "    .dataframe thead th {\n",
       "        text-align: right;\n",
       "    }\n",
       "</style>\n",
       "<table border=\"1\" class=\"dataframe\">\n",
       "  <thead>\n",
       "    <tr style=\"text-align: right;\">\n",
       "      <th></th>\n",
       "      <th>children</th>\n",
       "      <th>days_employed</th>\n",
       "      <th>dob_years</th>\n",
       "      <th>education</th>\n",
       "      <th>education_id</th>\n",
       "      <th>family_status</th>\n",
       "      <th>family_status_id</th>\n",
       "      <th>gender</th>\n",
       "      <th>income_type</th>\n",
       "      <th>debt</th>\n",
       "      <th>total_income</th>\n",
       "      <th>purpose</th>\n",
       "    </tr>\n",
       "  </thead>\n",
       "  <tbody>\n",
       "    <tr>\n",
       "      <th>0</th>\n",
       "      <td>1</td>\n",
       "      <td>-8437.673028</td>\n",
       "      <td>42</td>\n",
       "      <td>высшее</td>\n",
       "      <td>0</td>\n",
       "      <td>женат / замужем</td>\n",
       "      <td>0</td>\n",
       "      <td>F</td>\n",
       "      <td>сотрудник</td>\n",
       "      <td>0</td>\n",
       "      <td>253875.639453</td>\n",
       "      <td>покупка жилья</td>\n",
       "    </tr>\n",
       "    <tr>\n",
       "      <th>1</th>\n",
       "      <td>1</td>\n",
       "      <td>-4024.803754</td>\n",
       "      <td>36</td>\n",
       "      <td>среднее</td>\n",
       "      <td>1</td>\n",
       "      <td>женат / замужем</td>\n",
       "      <td>0</td>\n",
       "      <td>F</td>\n",
       "      <td>сотрудник</td>\n",
       "      <td>0</td>\n",
       "      <td>112080.014102</td>\n",
       "      <td>приобретение автомобиля</td>\n",
       "    </tr>\n",
       "    <tr>\n",
       "      <th>2</th>\n",
       "      <td>0</td>\n",
       "      <td>-5623.422610</td>\n",
       "      <td>33</td>\n",
       "      <td>Среднее</td>\n",
       "      <td>1</td>\n",
       "      <td>женат / замужем</td>\n",
       "      <td>0</td>\n",
       "      <td>M</td>\n",
       "      <td>сотрудник</td>\n",
       "      <td>0</td>\n",
       "      <td>145885.952297</td>\n",
       "      <td>покупка жилья</td>\n",
       "    </tr>\n",
       "    <tr>\n",
       "      <th>3</th>\n",
       "      <td>3</td>\n",
       "      <td>-4124.747207</td>\n",
       "      <td>32</td>\n",
       "      <td>среднее</td>\n",
       "      <td>1</td>\n",
       "      <td>женат / замужем</td>\n",
       "      <td>0</td>\n",
       "      <td>M</td>\n",
       "      <td>сотрудник</td>\n",
       "      <td>0</td>\n",
       "      <td>267628.550329</td>\n",
       "      <td>дополнительное образование</td>\n",
       "    </tr>\n",
       "    <tr>\n",
       "      <th>4</th>\n",
       "      <td>0</td>\n",
       "      <td>340266.072047</td>\n",
       "      <td>53</td>\n",
       "      <td>среднее</td>\n",
       "      <td>1</td>\n",
       "      <td>гражданский брак</td>\n",
       "      <td>1</td>\n",
       "      <td>F</td>\n",
       "      <td>пенсионер</td>\n",
       "      <td>0</td>\n",
       "      <td>158616.077870</td>\n",
       "      <td>сыграть свадьбу</td>\n",
       "    </tr>\n",
       "    <tr>\n",
       "      <th>5</th>\n",
       "      <td>0</td>\n",
       "      <td>-926.185831</td>\n",
       "      <td>27</td>\n",
       "      <td>высшее</td>\n",
       "      <td>0</td>\n",
       "      <td>гражданский брак</td>\n",
       "      <td>1</td>\n",
       "      <td>M</td>\n",
       "      <td>компаньон</td>\n",
       "      <td>0</td>\n",
       "      <td>255763.565419</td>\n",
       "      <td>покупка жилья</td>\n",
       "    </tr>\n",
       "    <tr>\n",
       "      <th>6</th>\n",
       "      <td>0</td>\n",
       "      <td>-2879.202052</td>\n",
       "      <td>43</td>\n",
       "      <td>высшее</td>\n",
       "      <td>0</td>\n",
       "      <td>женат / замужем</td>\n",
       "      <td>0</td>\n",
       "      <td>F</td>\n",
       "      <td>компаньон</td>\n",
       "      <td>0</td>\n",
       "      <td>240525.971920</td>\n",
       "      <td>операции с жильем</td>\n",
       "    </tr>\n",
       "    <tr>\n",
       "      <th>7</th>\n",
       "      <td>0</td>\n",
       "      <td>-152.779569</td>\n",
       "      <td>50</td>\n",
       "      <td>СРЕДНЕЕ</td>\n",
       "      <td>1</td>\n",
       "      <td>женат / замужем</td>\n",
       "      <td>0</td>\n",
       "      <td>M</td>\n",
       "      <td>сотрудник</td>\n",
       "      <td>0</td>\n",
       "      <td>135823.934197</td>\n",
       "      <td>образование</td>\n",
       "    </tr>\n",
       "    <tr>\n",
       "      <th>8</th>\n",
       "      <td>2</td>\n",
       "      <td>-6929.865299</td>\n",
       "      <td>35</td>\n",
       "      <td>ВЫСШЕЕ</td>\n",
       "      <td>0</td>\n",
       "      <td>гражданский брак</td>\n",
       "      <td>1</td>\n",
       "      <td>F</td>\n",
       "      <td>сотрудник</td>\n",
       "      <td>0</td>\n",
       "      <td>95856.832424</td>\n",
       "      <td>на проведение свадьбы</td>\n",
       "    </tr>\n",
       "    <tr>\n",
       "      <th>9</th>\n",
       "      <td>0</td>\n",
       "      <td>-2188.756445</td>\n",
       "      <td>41</td>\n",
       "      <td>среднее</td>\n",
       "      <td>1</td>\n",
       "      <td>женат / замужем</td>\n",
       "      <td>0</td>\n",
       "      <td>M</td>\n",
       "      <td>сотрудник</td>\n",
       "      <td>0</td>\n",
       "      <td>144425.938277</td>\n",
       "      <td>покупка жилья для семьи</td>\n",
       "    </tr>\n",
       "    <tr>\n",
       "      <th>10</th>\n",
       "      <td>2</td>\n",
       "      <td>-4171.483647</td>\n",
       "      <td>36</td>\n",
       "      <td>высшее</td>\n",
       "      <td>0</td>\n",
       "      <td>женат / замужем</td>\n",
       "      <td>0</td>\n",
       "      <td>M</td>\n",
       "      <td>компаньон</td>\n",
       "      <td>0</td>\n",
       "      <td>113943.491460</td>\n",
       "      <td>покупка недвижимости</td>\n",
       "    </tr>\n",
       "    <tr>\n",
       "      <th>11</th>\n",
       "      <td>0</td>\n",
       "      <td>-792.701887</td>\n",
       "      <td>40</td>\n",
       "      <td>среднее</td>\n",
       "      <td>1</td>\n",
       "      <td>женат / замужем</td>\n",
       "      <td>0</td>\n",
       "      <td>F</td>\n",
       "      <td>сотрудник</td>\n",
       "      <td>0</td>\n",
       "      <td>77069.234271</td>\n",
       "      <td>покупка коммерческой недвижимости</td>\n",
       "    </tr>\n",
       "    <tr>\n",
       "      <th>12</th>\n",
       "      <td>0</td>\n",
       "      <td>NaN</td>\n",
       "      <td>65</td>\n",
       "      <td>среднее</td>\n",
       "      <td>1</td>\n",
       "      <td>гражданский брак</td>\n",
       "      <td>1</td>\n",
       "      <td>M</td>\n",
       "      <td>пенсионер</td>\n",
       "      <td>0</td>\n",
       "      <td>NaN</td>\n",
       "      <td>сыграть свадьбу</td>\n",
       "    </tr>\n",
       "    <tr>\n",
       "      <th>13</th>\n",
       "      <td>0</td>\n",
       "      <td>-1846.641941</td>\n",
       "      <td>54</td>\n",
       "      <td>неоконченное высшее</td>\n",
       "      <td>2</td>\n",
       "      <td>женат / замужем</td>\n",
       "      <td>0</td>\n",
       "      <td>F</td>\n",
       "      <td>сотрудник</td>\n",
       "      <td>0</td>\n",
       "      <td>130458.228857</td>\n",
       "      <td>приобретение автомобиля</td>\n",
       "    </tr>\n",
       "    <tr>\n",
       "      <th>14</th>\n",
       "      <td>0</td>\n",
       "      <td>-1844.956182</td>\n",
       "      <td>56</td>\n",
       "      <td>высшее</td>\n",
       "      <td>0</td>\n",
       "      <td>гражданский брак</td>\n",
       "      <td>1</td>\n",
       "      <td>F</td>\n",
       "      <td>компаньон</td>\n",
       "      <td>1</td>\n",
       "      <td>165127.911772</td>\n",
       "      <td>покупка жилой недвижимости</td>\n",
       "    </tr>\n",
       "    <tr>\n",
       "      <th>15</th>\n",
       "      <td>1</td>\n",
       "      <td>-972.364419</td>\n",
       "      <td>26</td>\n",
       "      <td>среднее</td>\n",
       "      <td>1</td>\n",
       "      <td>женат / замужем</td>\n",
       "      <td>0</td>\n",
       "      <td>F</td>\n",
       "      <td>сотрудник</td>\n",
       "      <td>0</td>\n",
       "      <td>116820.904450</td>\n",
       "      <td>строительство собственной недвижимости</td>\n",
       "    </tr>\n",
       "    <tr>\n",
       "      <th>16</th>\n",
       "      <td>0</td>\n",
       "      <td>-1719.934226</td>\n",
       "      <td>35</td>\n",
       "      <td>среднее</td>\n",
       "      <td>1</td>\n",
       "      <td>женат / замужем</td>\n",
       "      <td>0</td>\n",
       "      <td>F</td>\n",
       "      <td>сотрудник</td>\n",
       "      <td>0</td>\n",
       "      <td>289202.704229</td>\n",
       "      <td>недвижимость</td>\n",
       "    </tr>\n",
       "    <tr>\n",
       "      <th>17</th>\n",
       "      <td>0</td>\n",
       "      <td>-2369.999720</td>\n",
       "      <td>33</td>\n",
       "      <td>высшее</td>\n",
       "      <td>0</td>\n",
       "      <td>гражданский брак</td>\n",
       "      <td>1</td>\n",
       "      <td>M</td>\n",
       "      <td>сотрудник</td>\n",
       "      <td>0</td>\n",
       "      <td>90410.586745</td>\n",
       "      <td>строительство недвижимости</td>\n",
       "    </tr>\n",
       "    <tr>\n",
       "      <th>18</th>\n",
       "      <td>0</td>\n",
       "      <td>400281.136913</td>\n",
       "      <td>53</td>\n",
       "      <td>среднее</td>\n",
       "      <td>1</td>\n",
       "      <td>вдовец / вдова</td>\n",
       "      <td>2</td>\n",
       "      <td>F</td>\n",
       "      <td>пенсионер</td>\n",
       "      <td>0</td>\n",
       "      <td>56823.777243</td>\n",
       "      <td>на покупку подержанного автомобиля</td>\n",
       "    </tr>\n",
       "    <tr>\n",
       "      <th>19</th>\n",
       "      <td>0</td>\n",
       "      <td>-10038.818549</td>\n",
       "      <td>48</td>\n",
       "      <td>СРЕДНЕЕ</td>\n",
       "      <td>1</td>\n",
       "      <td>в разводе</td>\n",
       "      <td>3</td>\n",
       "      <td>F</td>\n",
       "      <td>сотрудник</td>\n",
       "      <td>0</td>\n",
       "      <td>242831.107982</td>\n",
       "      <td>на покупку своего автомобиля</td>\n",
       "    </tr>\n",
       "  </tbody>\n",
       "</table>\n",
       "</div>"
      ],
      "text/plain": [
       "    children  days_employed  dob_years            education  education_id  \\\n",
       "0          1   -8437.673028         42               высшее             0   \n",
       "1          1   -4024.803754         36              среднее             1   \n",
       "2          0   -5623.422610         33              Среднее             1   \n",
       "3          3   -4124.747207         32              среднее             1   \n",
       "4          0  340266.072047         53              среднее             1   \n",
       "5          0    -926.185831         27               высшее             0   \n",
       "6          0   -2879.202052         43               высшее             0   \n",
       "7          0    -152.779569         50              СРЕДНЕЕ             1   \n",
       "8          2   -6929.865299         35               ВЫСШЕЕ             0   \n",
       "9          0   -2188.756445         41              среднее             1   \n",
       "10         2   -4171.483647         36               высшее             0   \n",
       "11         0    -792.701887         40              среднее             1   \n",
       "12         0            NaN         65              среднее             1   \n",
       "13         0   -1846.641941         54  неоконченное высшее             2   \n",
       "14         0   -1844.956182         56               высшее             0   \n",
       "15         1    -972.364419         26              среднее             1   \n",
       "16         0   -1719.934226         35              среднее             1   \n",
       "17         0   -2369.999720         33               высшее             0   \n",
       "18         0  400281.136913         53              среднее             1   \n",
       "19         0  -10038.818549         48              СРЕДНЕЕ             1   \n",
       "\n",
       "       family_status  family_status_id gender income_type  debt  \\\n",
       "0    женат / замужем                 0      F   сотрудник     0   \n",
       "1    женат / замужем                 0      F   сотрудник     0   \n",
       "2    женат / замужем                 0      M   сотрудник     0   \n",
       "3    женат / замужем                 0      M   сотрудник     0   \n",
       "4   гражданский брак                 1      F   пенсионер     0   \n",
       "5   гражданский брак                 1      M   компаньон     0   \n",
       "6    женат / замужем                 0      F   компаньон     0   \n",
       "7    женат / замужем                 0      M   сотрудник     0   \n",
       "8   гражданский брак                 1      F   сотрудник     0   \n",
       "9    женат / замужем                 0      M   сотрудник     0   \n",
       "10   женат / замужем                 0      M   компаньон     0   \n",
       "11   женат / замужем                 0      F   сотрудник     0   \n",
       "12  гражданский брак                 1      M   пенсионер     0   \n",
       "13   женат / замужем                 0      F   сотрудник     0   \n",
       "14  гражданский брак                 1      F   компаньон     1   \n",
       "15   женат / замужем                 0      F   сотрудник     0   \n",
       "16   женат / замужем                 0      F   сотрудник     0   \n",
       "17  гражданский брак                 1      M   сотрудник     0   \n",
       "18    вдовец / вдова                 2      F   пенсионер     0   \n",
       "19         в разводе                 3      F   сотрудник     0   \n",
       "\n",
       "     total_income                                 purpose  \n",
       "0   253875.639453                           покупка жилья  \n",
       "1   112080.014102                 приобретение автомобиля  \n",
       "2   145885.952297                           покупка жилья  \n",
       "3   267628.550329              дополнительное образование  \n",
       "4   158616.077870                         сыграть свадьбу  \n",
       "5   255763.565419                           покупка жилья  \n",
       "6   240525.971920                       операции с жильем  \n",
       "7   135823.934197                             образование  \n",
       "8    95856.832424                   на проведение свадьбы  \n",
       "9   144425.938277                 покупка жилья для семьи  \n",
       "10  113943.491460                    покупка недвижимости  \n",
       "11   77069.234271       покупка коммерческой недвижимости  \n",
       "12            NaN                         сыграть свадьбу  \n",
       "13  130458.228857                 приобретение автомобиля  \n",
       "14  165127.911772              покупка жилой недвижимости  \n",
       "15  116820.904450  строительство собственной недвижимости  \n",
       "16  289202.704229                            недвижимость  \n",
       "17   90410.586745              строительство недвижимости  \n",
       "18   56823.777243      на покупку подержанного автомобиля  \n",
       "19  242831.107982            на покупку своего автомобиля  "
      ]
     },
     "execution_count": 11,
     "metadata": {},
     "output_type": "execute_result"
    }
   ],
   "source": [
    "data.head(20)"
   ]
  },
  {
   "cell_type": "markdown",
   "id": "775e5fe3",
   "metadata": {
    "deletable": false,
    "editable": false,
    "id": "1c12e233"
   },
   "source": [
    "**Задание 3. Выведите основную информацию о датафрейме с помощью метода `info()`.**"
   ]
  },
  {
   "cell_type": "code",
   "execution_count": 8,
   "id": "4ff77c15",
   "metadata": {
    "deletable": false,
    "id": "2b757bca",
    "outputId": "15376089-8dad-46c9-b520-c05248d43158"
   },
   "outputs": [
    {
     "name": "stdout",
     "output_type": "stream",
     "text": [
      "<class 'pandas.core.frame.DataFrame'>\n",
      "RangeIndex: 21525 entries, 0 to 21524\n",
      "Data columns (total 12 columns):\n",
      " #   Column            Non-Null Count  Dtype  \n",
      "---  ------            --------------  -----  \n",
      " 0   children          21525 non-null  int64  \n",
      " 1   days_employed     19351 non-null  float64\n",
      " 2   dob_years         21525 non-null  int64  \n",
      " 3   education         21525 non-null  object \n",
      " 4   education_id      21525 non-null  int64  \n",
      " 5   family_status     21525 non-null  object \n",
      " 6   family_status_id  21525 non-null  int64  \n",
      " 7   gender            21525 non-null  object \n",
      " 8   income_type       21525 non-null  object \n",
      " 9   debt              21525 non-null  int64  \n",
      " 10  total_income      19351 non-null  float64\n",
      " 11  purpose           21525 non-null  object \n",
      "dtypes: float64(2), int64(5), object(5)\n",
      "memory usage: 2.0+ MB\n"
     ]
    }
   ],
   "source": [
    "data.info()"
   ]
  },
  {
   "cell_type": "markdown",
   "id": "8370f160",
   "metadata": {
    "deletable": false,
    "editable": false,
    "id": "333ec665"
   },
   "source": [
    "## Предобработка данных"
   ]
  },
  {
   "cell_type": "markdown",
   "id": "5c482d37",
   "metadata": {
    "deletable": false,
    "editable": false,
    "id": "02d92d53"
   },
   "source": [
    "### Удаление пропусков"
   ]
  },
  {
   "cell_type": "markdown",
   "id": "864ef502",
   "metadata": {
    "deletable": false,
    "editable": false,
    "id": "cd84967c"
   },
   "source": [
    "**Задание 4. Выведите количество пропущенных значений для каждого столбца. Используйте комбинацию двух методов.**"
   ]
  },
  {
   "cell_type": "code",
   "execution_count": 4,
   "id": "490cf14c",
   "metadata": {
    "deletable": false,
    "id": "7f9b2309",
    "outputId": "81f4d817-781c-465c-ed15-91ce4446810d"
   },
   "outputs": [
    {
     "data": {
      "text/plain": [
       "children               0\n",
       "days_employed       2174\n",
       "dob_years              0\n",
       "education              0\n",
       "education_id           0\n",
       "family_status          0\n",
       "family_status_id       0\n",
       "gender                 0\n",
       "income_type            0\n",
       "debt                   0\n",
       "total_income        2174\n",
       "purpose                0\n",
       "dtype: int64"
      ]
     },
     "execution_count": 4,
     "metadata": {},
     "output_type": "execute_result"
    }
   ],
   "source": [
    "data.isna().sum()"
   ]
  },
  {
   "cell_type": "markdown",
   "id": "2f92c7b4",
   "metadata": {
    "deletable": false,
    "editable": false,
    "id": "db86e27b"
   },
   "source": [
    "**Задание 5. В двух столбцах есть пропущенные значения. Один из них — `days_employed`. Пропуски в этом столбце вы обработаете на следующем этапе. Другой столбец с пропущенными значениями — `total_income` — хранит данные о доходах. На сумму дохода сильнее всего влияет тип занятости, поэтому заполнить пропуски в этом столбце нужно медианным значением по каждому типу из столбца `income_type`. Например, у человека с типом занятости `сотрудник` пропуск в столбце `total_income` должен быть заполнен медианным доходом среди всех записей с тем же типом.**"
   ]
  },
  {
   "cell_type": "code",
   "execution_count": 5,
   "id": "ef921f34",
   "metadata": {
    "deletable": false,
    "id": "42006a93"
   },
   "outputs": [],
   "source": [
    "for t in data['income_type'].unique():\n",
    "    data.loc[(data['income_type'] == t) & (data['total_income'].isna()), 'total_income'] = \\\n",
    "    data.loc[(data['income_type'] == t), 'total_income'].median()"
   ]
  },
  {
   "cell_type": "markdown",
   "id": "7cf86005",
   "metadata": {
    "deletable": false,
    "editable": false,
    "id": "89da5ece"
   },
   "source": [
    "### Обработка аномальных значений"
   ]
  },
  {
   "cell_type": "markdown",
   "id": "14316198",
   "metadata": {
    "deletable": false,
    "editable": false,
    "id": "57964554"
   },
   "source": [
    "**Задание 6. В данных могут встречаться артефакты (аномалии) — значения, которые не отражают действительность и появились по какой-то ошибке. таким артефактом будет отрицательное количество дней трудового стажа в столбце `days_employed`. Для реальных данных это нормально. Обработайте значения в этом столбце: замените все отрицательные значения положительными с помощью метода `abs()`.**"
   ]
  },
  {
   "cell_type": "code",
   "execution_count": 6,
   "id": "dc43fd41",
   "metadata": {
    "deletable": false,
    "id": "f6f055bf"
   },
   "outputs": [],
   "source": [
    "data['days_employed'] = data['days_employed'].abs()"
   ]
  },
  {
   "cell_type": "markdown",
   "id": "c08e70b5",
   "metadata": {
    "deletable": false,
    "editable": false,
    "id": "6107dd2f"
   },
   "source": [
    "**Задание 7. Для каждого типа занятости выведите медианное значение трудового стажа `days_employed` в днях.**"
   ]
  },
  {
   "cell_type": "code",
   "execution_count": 7,
   "id": "7a2d7d98",
   "metadata": {
    "deletable": false,
    "id": "85a5faf6",
    "outputId": "801ef80e-522b-4668-f34e-565af7432bcf"
   },
   "outputs": [
    {
     "data": {
      "text/plain": [
       "income_type\n",
       "безработный        366413.652744\n",
       "в декрете            3296.759962\n",
       "госслужащий          2689.368353\n",
       "компаньон            1547.382223\n",
       "пенсионер          365213.306266\n",
       "предприниматель       520.848083\n",
       "сотрудник            1574.202821\n",
       "студент               578.751554\n",
       "Name: days_employed, dtype: float64"
      ]
     },
     "execution_count": 7,
     "metadata": {},
     "output_type": "execute_result"
    }
   ],
   "source": [
    "data.groupby('income_type')['days_employed'].agg('median')"
   ]
  },
  {
   "cell_type": "markdown",
   "id": "0d7763f6",
   "metadata": {
    "deletable": false,
    "editable": false,
    "id": "38d1a030"
   },
   "source": [
    "У двух типов (безработные и пенсионеры) получатся аномально большие значения. Исправить такие значения сложно, поэтому оставьте их как есть. Тем более этот столбец не понадобится вам для исследования."
   ]
  },
  {
   "cell_type": "markdown",
   "id": "ebf29696",
   "metadata": {
    "deletable": false,
    "editable": false,
    "id": "d8a9f147"
   },
   "source": [
    "**Задание 8. Выведите перечень уникальных значений столбца `children`.**"
   ]
  },
  {
   "cell_type": "code",
   "execution_count": 8,
   "id": "df2ae15f",
   "metadata": {
    "deletable": false,
    "id": "ef5056eb",
    "outputId": "6975b15c-7f95-4697-d16d-a0c79b657b03"
   },
   "outputs": [
    {
     "data": {
      "text/plain": [
       "array([ 1,  0,  3,  2, -1,  4, 20,  5])"
      ]
     },
     "execution_count": 8,
     "metadata": {},
     "output_type": "execute_result"
    }
   ],
   "source": [
    "data['children'].unique()"
   ]
  },
  {
   "cell_type": "markdown",
   "id": "cf995c58",
   "metadata": {
    "deletable": false,
    "editable": false,
    "id": "40b9ebf2"
   },
   "source": [
    "**Задание 9. В столбце `children` есть два аномальных значения. Удалите строки, в которых встречаются такие аномальные значения из датафрейма `data`.**"
   ]
  },
  {
   "cell_type": "code",
   "execution_count": 9,
   "id": "0b7c8fd6",
   "metadata": {
    "deletable": false,
    "id": "3ff9801d"
   },
   "outputs": [],
   "source": [
    "data = data[(data['children'] != -1) & (data['children'] != 20)]"
   ]
  },
  {
   "cell_type": "markdown",
   "id": "b356f946",
   "metadata": {
    "deletable": false,
    "editable": false,
    "id": "bbc4d0ce"
   },
   "source": [
    "**Задание 10. Ещё раз выведите перечень уникальных значений столбца `children`, чтобы убедиться, что артефакты удалены.**"
   ]
  },
  {
   "cell_type": "code",
   "execution_count": 10,
   "id": "3de5b6d8",
   "metadata": {
    "deletable": false,
    "id": "ad4fa8b7",
    "outputId": "b2097101-d49d-44d9-901b-32a65c9463d1"
   },
   "outputs": [
    {
     "data": {
      "text/plain": [
       "array([1, 0, 3, 2, 4, 5])"
      ]
     },
     "execution_count": 10,
     "metadata": {},
     "output_type": "execute_result"
    }
   ],
   "source": [
    "data['children'].unique()"
   ]
  },
  {
   "cell_type": "markdown",
   "id": "5529dfa8",
   "metadata": {
    "deletable": false,
    "editable": false,
    "id": "75440b63"
   },
   "source": [
    "### Удаление пропусков (продолжение)"
   ]
  },
  {
   "cell_type": "markdown",
   "id": "d1419fe8",
   "metadata": {
    "deletable": false,
    "editable": false,
    "id": "f4ea573f"
   },
   "source": [
    "**Задание 11. Заполните пропуски в столбце `days_employed` медианными значениями по каждого типа занятости `income_type`.**"
   ]
  },
  {
   "cell_type": "code",
   "execution_count": 11,
   "id": "a06c980e",
   "metadata": {
    "deletable": false,
    "id": "af6b1a7e"
   },
   "outputs": [],
   "source": [
    "for t in data['income_type'].unique():\n",
    "    data.loc[(data['income_type'] == t) & (data['days_employed'].isna()), 'days_employed'] = \\\n",
    "    data.loc[(data['income_type'] == t), 'days_employed'].median()"
   ]
  },
  {
   "cell_type": "markdown",
   "id": "e3715a2b",
   "metadata": {
    "deletable": false,
    "editable": false,
    "id": "2753f40d"
   },
   "source": [
    "**Задание 12. Убедитесь, что все пропуски заполнены. Проверьте себя и ещё раз выведите количество пропущенных значений для каждого столбца с помощью двух методов.**"
   ]
  },
  {
   "cell_type": "code",
   "execution_count": 12,
   "id": "390f33fa",
   "metadata": {
    "deletable": false,
    "id": "55f78bc2",
    "outputId": "8da1e4e1-358e-4e87-98c9-f261bce0a7b2"
   },
   "outputs": [
    {
     "data": {
      "text/plain": [
       "children            0\n",
       "days_employed       0\n",
       "dob_years           0\n",
       "education           0\n",
       "education_id        0\n",
       "family_status       0\n",
       "family_status_id    0\n",
       "gender              0\n",
       "income_type         0\n",
       "debt                0\n",
       "total_income        0\n",
       "purpose             0\n",
       "dtype: int64"
      ]
     },
     "execution_count": 12,
     "metadata": {},
     "output_type": "execute_result"
    }
   ],
   "source": [
    "data.isna().sum()"
   ]
  },
  {
   "cell_type": "markdown",
   "id": "4f32fec0",
   "metadata": {
    "deletable": false,
    "editable": false,
    "id": "ddc81e43"
   },
   "source": [
    "### Изменение типов данных"
   ]
  },
  {
   "cell_type": "markdown",
   "id": "23a49104",
   "metadata": {
    "deletable": false,
    "editable": false,
    "id": "42d19d24"
   },
   "source": [
    "**Задание 13. Замените вещественный тип данных в столбце `total_income` на целочисленный с помощью метода `astype()`.**"
   ]
  },
  {
   "cell_type": "code",
   "execution_count": 13,
   "id": "2cb01ec0",
   "metadata": {
    "deletable": false,
    "id": "920b65ad"
   },
   "outputs": [],
   "source": [
    "data['total_income'] = data['total_income'].astype(int)"
   ]
  },
  {
   "cell_type": "markdown",
   "id": "42f6915d",
   "metadata": {
    "deletable": false,
    "editable": false,
    "id": "80c420ba"
   },
   "source": [
    "### Обработка дубликатов"
   ]
  },
  {
   "cell_type": "markdown",
   "id": "b95c4f22",
   "metadata": {
    "deletable": false,
    "editable": false
   },
   "source": [
    "**Задание 14. Обработайте неявные дубликаты в столбце `education`. В этом столбце есть одни и те же значения, но записанные по-разному: с использованием заглавных и строчных букв. Приведите их к нижнему регистру. Проверьте остальные столбцы.**"
   ]
  },
  {
   "cell_type": "code",
   "execution_count": 14,
   "id": "14bda675",
   "metadata": {
    "deletable": false
   },
   "outputs": [],
   "source": [
    "data['education'] = data['education'].str.lower()"
   ]
  },
  {
   "cell_type": "markdown",
   "id": "91424f02",
   "metadata": {
    "deletable": false,
    "editable": false,
    "id": "dc587695"
   },
   "source": [
    "**Задание 15. Выведите на экран количество строк-дубликатов в данных. Если такие строки присутствуют, удалите их.**"
   ]
  },
  {
   "cell_type": "code",
   "execution_count": 15,
   "id": "42948139",
   "metadata": {
    "deletable": false,
    "id": "3ee445e4",
    "outputId": "9684deba-1934-42d1-99e1-cda61740f822"
   },
   "outputs": [
    {
     "data": {
      "text/plain": [
       "71"
      ]
     },
     "execution_count": 15,
     "metadata": {},
     "output_type": "execute_result"
    }
   ],
   "source": [
    "data.duplicated().sum()"
   ]
  },
  {
   "cell_type": "code",
   "execution_count": 16,
   "id": "1bb72c16",
   "metadata": {
    "deletable": false,
    "id": "8575fe05"
   },
   "outputs": [],
   "source": [
    "data = data.drop_duplicates()"
   ]
  },
  {
   "cell_type": "markdown",
   "id": "4ffac9a3",
   "metadata": {
    "deletable": false,
    "editable": false,
    "id": "9904cf55"
   },
   "source": [
    "### Категоризация данных"
   ]
  },
  {
   "cell_type": "markdown",
   "id": "88467c2c",
   "metadata": {
    "deletable": false,
    "editable": false,
    "id": "72fcc8a2"
   },
   "source": [
    "**Задание 16. На основании диапазонов, указанных ниже, создайте в датафрейме `data` столбец `total_income_category` с категориями:**\n",
    "\n",
    "- 0–30000 — `'E'`;\n",
    "- 30001–50000 — `'D'`;\n",
    "- 50001–200000 — `'C'`;\n",
    "- 200001–1000000 — `'B'`;\n",
    "- 1000001 и выше — `'A'`.\n",
    "\n",
    "\n",
    "**Например, кредитополучателю с доходом 25000 нужно назначить категорию `'E'`, а клиенту, получающему 235000, — `'B'`. Используйте собственную функцию с именем `categorize_income()` и метод `apply()`.**"
   ]
  },
  {
   "cell_type": "code",
   "execution_count": 17,
   "id": "80b2566f",
   "metadata": {
    "deletable": false,
    "id": "e1771346"
   },
   "outputs": [],
   "source": [
    "def categorize_income(income):\n",
    "    try:\n",
    "        if 0 <= income <= 30000:\n",
    "            return 'E'\n",
    "        elif 30001 <= income <= 50000:\n",
    "            return 'D'\n",
    "        elif 50001 <= income <= 200000:\n",
    "            return 'C'\n",
    "        elif 200001 <= income <= 1000000:\n",
    "            return 'B'\n",
    "        elif income >= 1000001:\n",
    "            return 'A'\n",
    "    except:\n",
    "        pass"
   ]
  },
  {
   "cell_type": "code",
   "execution_count": 18,
   "id": "c362317c",
   "metadata": {
    "deletable": false,
    "id": "d5f3586d"
   },
   "outputs": [],
   "source": [
    "data['total_income_category'] = data['total_income'].apply(categorize_income)"
   ]
  },
  {
   "cell_type": "markdown",
   "id": "d15200f9",
   "metadata": {
    "deletable": false,
    "editable": false,
    "id": "dde49b5c"
   },
   "source": [
    "**Задание 17. Выведите на экран перечень уникальных целей взятия кредита из столбца `purpose`.**"
   ]
  },
  {
   "cell_type": "code",
   "execution_count": 19,
   "id": "15816f3f",
   "metadata": {
    "deletable": false,
    "id": "f67ce9b3",
    "outputId": "673c12d9-7d7e-4ae0-9812-c622c89dd244"
   },
   "outputs": [
    {
     "data": {
      "text/plain": [
       "array(['покупка жилья', 'приобретение автомобиля',\n",
       "       'дополнительное образование', 'сыграть свадьбу',\n",
       "       'операции с жильем', 'образование', 'на проведение свадьбы',\n",
       "       'покупка жилья для семьи', 'покупка недвижимости',\n",
       "       'покупка коммерческой недвижимости', 'покупка жилой недвижимости',\n",
       "       'строительство собственной недвижимости', 'недвижимость',\n",
       "       'строительство недвижимости', 'на покупку подержанного автомобиля',\n",
       "       'на покупку своего автомобиля',\n",
       "       'операции с коммерческой недвижимостью',\n",
       "       'строительство жилой недвижимости', 'жилье',\n",
       "       'операции со своей недвижимостью', 'автомобили',\n",
       "       'заняться образованием', 'сделка с подержанным автомобилем',\n",
       "       'получение образования', 'автомобиль', 'свадьба',\n",
       "       'получение дополнительного образования', 'покупка своего жилья',\n",
       "       'операции с недвижимостью', 'получение высшего образования',\n",
       "       'свой автомобиль', 'сделка с автомобилем',\n",
       "       'профильное образование', 'высшее образование',\n",
       "       'покупка жилья для сдачи', 'на покупку автомобиля', 'ремонт жилью',\n",
       "       'заняться высшим образованием'], dtype=object)"
      ]
     },
     "execution_count": 19,
     "metadata": {},
     "output_type": "execute_result"
    }
   ],
   "source": [
    "data['purpose'].unique()"
   ]
  },
  {
   "cell_type": "markdown",
   "id": "3e21a23d",
   "metadata": {
    "deletable": false,
    "editable": false,
    "id": "85d0aef0"
   },
   "source": [
    "**Задание 18. Создайте функцию, которая на основании данных из столбца `purpose` сформирует новый столбец `purpose_category`, в который войдут следующие категории:**\n",
    "\n",
    "- `'операции с автомобилем'`,\n",
    "- `'операции с недвижимостью'`,\n",
    "- `'проведение свадьбы'`,\n",
    "- `'получение образования'`.\n",
    "\n",
    "**Например, если в столбце `purpose` находится подстрока `'на покупку автомобиля'`, то в столбце `purpose_category` должна появиться строка `'операции с автомобилем'`.**\n",
    "\n",
    "**Используйте собственную функцию с именем `categorize_purpose()` и метод `apply()`. Изучите данные в столбце `purpose` и определите, какие подстроки помогут вам правильно определить категорию.**"
   ]
  },
  {
   "cell_type": "code",
   "execution_count": 20,
   "id": "d4436079",
   "metadata": {
    "deletable": false,
    "id": "e149fab4"
   },
   "outputs": [],
   "source": [
    "def categorize_purpose(row):\n",
    "    try:\n",
    "        if 'автом' in row:\n",
    "            return 'операции с автомобилем'\n",
    "        elif 'жил' in row or 'недвиж' in row:\n",
    "            return 'операции с недвижимостью'\n",
    "        elif 'свад' in row:\n",
    "            return 'проведение свадьбы'\n",
    "        elif 'образов' in row:\n",
    "            return 'получение образования'\n",
    "    except:\n",
    "        return 'нет категории'"
   ]
  },
  {
   "cell_type": "code",
   "execution_count": 21,
   "id": "d9ff27ac",
   "metadata": {
    "deletable": false,
    "id": "bf36e69b"
   },
   "outputs": [],
   "source": [
    "data['purpose_category'] = data['purpose'].apply(categorize_purpose)"
   ]
  },
  {
   "cell_type": "markdown",
   "id": "8195bb1f",
   "metadata": {
    "deletable": false,
    "editable": false,
    "id": "09b242bf"
   },
   "source": [
    "### Шаг 3. Исследуйте данные и ответьте на вопросы"
   ]
  },
  {
   "cell_type": "markdown",
   "id": "a9cf3173",
   "metadata": {
    "deletable": false,
    "editable": false,
    "id": "c5d66278"
   },
   "source": [
    "#### 3.1 Есть ли зависимость между количеством детей и возвратом кредита в срок?"
   ]
  },
  {
   "cell_type": "markdown",
   "id": "5946939c",
   "metadata": {
    "deletable": false,
    "id": "2cacfc4a"
   },
   "source": [
    "# Зависимость между количеством детей и возвратом кредита в срок"
   ]
  },
  {
   "cell_type": "code",
   "execution_count": 22,
   "id": "dbab136b",
   "metadata": {
    "scrolled": true
   },
   "outputs": [
    {
     "data": {
      "text/plain": [
       "children\n",
       "0    14091\n",
       "1     4808\n",
       "2     2052\n",
       "3      330\n",
       "4       41\n",
       "5        9\n",
       "Name: debt, dtype: int64"
      ]
     },
     "execution_count": 22,
     "metadata": {},
     "output_type": "execute_result"
    }
   ],
   "source": [
    "grouped_children = data.groupby('children')['debt'].count()\n",
    "\n",
    "# Сгруппируем долги по количеству детей\n",
    "# Получаем общую разбивку долгов по кол-ву детей\n",
    "\n",
    "grouped_children"
   ]
  },
  {
   "cell_type": "code",
   "execution_count": 23,
   "id": "02725303",
   "metadata": {},
   "outputs": [
    {
     "data": {
      "text/html": [
       "<div>\n",
       "<style scoped>\n",
       "    .dataframe tbody tr th:only-of-type {\n",
       "        vertical-align: middle;\n",
       "    }\n",
       "\n",
       "    .dataframe tbody tr th {\n",
       "        vertical-align: top;\n",
       "    }\n",
       "\n",
       "    .dataframe thead th {\n",
       "        text-align: right;\n",
       "    }\n",
       "</style>\n",
       "<table border=\"1\" class=\"dataframe\">\n",
       "  <thead>\n",
       "    <tr style=\"text-align: right;\">\n",
       "      <th>debt</th>\n",
       "      <th>0</th>\n",
       "      <th>1</th>\n",
       "      <th>ratio</th>\n",
       "    </tr>\n",
       "    <tr>\n",
       "      <th>children</th>\n",
       "      <th></th>\n",
       "      <th></th>\n",
       "      <th></th>\n",
       "    </tr>\n",
       "  </thead>\n",
       "  <tbody>\n",
       "    <tr>\n",
       "      <th>0</th>\n",
       "      <td>13028.0</td>\n",
       "      <td>1063.0</td>\n",
       "      <td>8.159349</td>\n",
       "    </tr>\n",
       "    <tr>\n",
       "      <th>1</th>\n",
       "      <td>4364.0</td>\n",
       "      <td>444.0</td>\n",
       "      <td>10.174152</td>\n",
       "    </tr>\n",
       "    <tr>\n",
       "      <th>2</th>\n",
       "      <td>1858.0</td>\n",
       "      <td>194.0</td>\n",
       "      <td>10.441335</td>\n",
       "    </tr>\n",
       "    <tr>\n",
       "      <th>3</th>\n",
       "      <td>303.0</td>\n",
       "      <td>27.0</td>\n",
       "      <td>8.910891</td>\n",
       "    </tr>\n",
       "    <tr>\n",
       "      <th>4</th>\n",
       "      <td>37.0</td>\n",
       "      <td>4.0</td>\n",
       "      <td>10.810811</td>\n",
       "    </tr>\n",
       "    <tr>\n",
       "      <th>5</th>\n",
       "      <td>9.0</td>\n",
       "      <td>NaN</td>\n",
       "      <td>NaN</td>\n",
       "    </tr>\n",
       "  </tbody>\n",
       "</table>\n",
       "</div>"
      ],
      "text/plain": [
       "debt            0       1      ratio\n",
       "children                            \n",
       "0         13028.0  1063.0   8.159349\n",
       "1          4364.0   444.0  10.174152\n",
       "2          1858.0   194.0  10.441335\n",
       "3           303.0    27.0   8.910891\n",
       "4            37.0     4.0  10.810811\n",
       "5             9.0     NaN        NaN"
      ]
     },
     "execution_count": 23,
     "metadata": {},
     "output_type": "execute_result"
    }
   ],
   "source": [
    "children_pivot = data.pivot_table(index = ['children'], \\\n",
    "                                columns = ['debt'], \\\n",
    "                                values = 'purpose', aggfunc='count')\n",
    "\n",
    "children_pivot['ratio'] = children_pivot[1] / children_pivot[0] * 100\n",
    "children_pivot\n",
    "\n",
    "# Делаем сводную таблицу для большей наглядности\n",
    "# Столбец ratio показывает отношение общего кол-ва людей с долгами к людям без долгов, в зависимости от наличия детей"
   ]
  },
  {
   "cell_type": "markdown",
   "id": "79c1d1b8",
   "metadata": {
    "deletable": false,
    "id": "3a6b99ec"
   },
   "source": [
    "Бездетные люди выплачивают кредиты хуже всего, стоит обратить на это внимание. Так же в строке с кол-вом детей \"5\" отсутствуют данные, но на нашу выборку это не повлияло."
   ]
  },
  {
   "cell_type": "markdown",
   "id": "e9395e1b",
   "metadata": {},
   "source": [
    "**Вывод** : люди выплачивают кредиты примерно на одном уровне, вне зависимости от наличия детей"
   ]
  },
  {
   "cell_type": "markdown",
   "id": "b494cd98",
   "metadata": {
    "deletable": false,
    "editable": false,
    "id": "97be82ca"
   },
   "source": [
    "#### 3.2 Есть ли зависимость между семейным положением и возвратом кредита в срок?"
   ]
  },
  {
   "cell_type": "markdown",
   "id": "8ec8508c",
   "metadata": {},
   "source": [
    "# Зависимость между семейным положением и возвратом кредита в срок"
   ]
  },
  {
   "cell_type": "code",
   "execution_count": 24,
   "id": "d63cd664",
   "metadata": {
    "deletable": false,
    "id": "dc3f7ee8"
   },
   "outputs": [
    {
     "data": {
      "text/plain": [
       "family_status\n",
       "Не женат / не замужем    9.763948\n",
       "в разводе                7.064760\n",
       "вдовец / вдова           6.624606\n",
       "гражданский брак         9.313014\n",
       "женат / замужем          7.560558\n",
       "Name: debt, dtype: float64"
      ]
     },
     "execution_count": 24,
     "metadata": {},
     "output_type": "execute_result"
    }
   ],
   "source": [
    "family_status_set = data.groupby('family_status')['debt'].sum() / data.groupby('family_status')['debt'].count() * 100\n",
    "family_status_set"
   ]
  },
  {
   "cell_type": "markdown",
   "id": "7dbe2f91",
   "metadata": {},
   "source": [
    "Предварительно можно сказать, что люди со статусом \"в разводе\" и \"вдовец/вдова\" имеют самые низкие показатели"
   ]
  },
  {
   "cell_type": "code",
   "execution_count": 25,
   "id": "c1d58495",
   "metadata": {},
   "outputs": [
    {
     "data": {
      "text/html": [
       "<div>\n",
       "<style scoped>\n",
       "    .dataframe tbody tr th:only-of-type {\n",
       "        vertical-align: middle;\n",
       "    }\n",
       "\n",
       "    .dataframe tbody tr th {\n",
       "        vertical-align: top;\n",
       "    }\n",
       "\n",
       "    .dataframe thead th {\n",
       "        text-align: right;\n",
       "    }\n",
       "</style>\n",
       "<table border=\"1\" class=\"dataframe\">\n",
       "  <thead>\n",
       "    <tr style=\"text-align: right;\">\n",
       "      <th>debt</th>\n",
       "      <th>0</th>\n",
       "      <th>1</th>\n",
       "      <th>ratio</th>\n",
       "    </tr>\n",
       "    <tr>\n",
       "      <th>family_status</th>\n",
       "      <th></th>\n",
       "      <th></th>\n",
       "      <th></th>\n",
       "    </tr>\n",
       "  </thead>\n",
       "  <tbody>\n",
       "    <tr>\n",
       "      <th>Не женат / не замужем</th>\n",
       "      <td>2523</td>\n",
       "      <td>273</td>\n",
       "      <td>10.820452</td>\n",
       "    </tr>\n",
       "    <tr>\n",
       "      <th>в разводе</th>\n",
       "      <td>1105</td>\n",
       "      <td>84</td>\n",
       "      <td>7.601810</td>\n",
       "    </tr>\n",
       "    <tr>\n",
       "      <th>вдовец / вдова</th>\n",
       "      <td>888</td>\n",
       "      <td>63</td>\n",
       "      <td>7.094595</td>\n",
       "    </tr>\n",
       "    <tr>\n",
       "      <th>гражданский брак</th>\n",
       "      <td>3749</td>\n",
       "      <td>385</td>\n",
       "      <td>10.269405</td>\n",
       "    </tr>\n",
       "    <tr>\n",
       "      <th>женат / замужем</th>\n",
       "      <td>11334</td>\n",
       "      <td>927</td>\n",
       "      <td>8.178931</td>\n",
       "    </tr>\n",
       "  </tbody>\n",
       "</table>\n",
       "</div>"
      ],
      "text/plain": [
       "debt                       0    1      ratio\n",
       "family_status                               \n",
       "Не женат / не замужем   2523  273  10.820452\n",
       "в разводе               1105   84   7.601810\n",
       "вдовец / вдова           888   63   7.094595\n",
       "гражданский брак        3749  385  10.269405\n",
       "женат / замужем        11334  927   8.178931"
      ]
     },
     "execution_count": 25,
     "metadata": {},
     "output_type": "execute_result"
    }
   ],
   "source": [
    "family_status_pivot = data.pivot_table(index=['family_status'], columns=['debt'], values='total_income', aggfunc='count')\n",
    "family_status_pivot['ratio'] = family_status_pivot[1] / family_status_pivot[0] * 100\n",
    "family_status_pivot\n",
    "\n",
    "# Постороим сводную таблицу для большей наглядности\n",
    "# Столбец ratio показывает отношение общего кол-ва людей с долгами к людям без долгов, в зависимости от семейного статуса"
   ]
  },
  {
   "cell_type": "markdown",
   "id": "9b6ab9af",
   "metadata": {
    "deletable": false,
    "id": "1cef7837"
   },
   "source": [
    "**Вывод:** семейное положение влияет на вовзрат кредитов. У людей с семейным статусом \"в разводе\" и \"вдовец/вдова\" самые низкие показатели, нужно обратить на это внимание."
   ]
  },
  {
   "cell_type": "markdown",
   "id": "eb746912",
   "metadata": {
    "deletable": false,
    "editable": false,
    "id": "1e8b2fca"
   },
   "source": [
    "#### 3.3 Есть ли зависимость между уровнем дохода и возвратом кредита в срок?"
   ]
  },
  {
   "cell_type": "markdown",
   "id": "d2f8a6bf",
   "metadata": {},
   "source": [
    "# Зависимость между уровнем дохода и возвратом кредита в срок"
   ]
  },
  {
   "cell_type": "code",
   "execution_count": 26,
   "id": "6ec1ffea",
   "metadata": {
    "deletable": false,
    "id": "cd7e3720"
   },
   "outputs": [
    {
     "data": {
      "text/plain": [
       "total_income_category\n",
       "A       25\n",
       "B     5014\n",
       "C    15921\n",
       "D      349\n",
       "E       22\n",
       "Name: debt, dtype: int64"
      ]
     },
     "execution_count": 26,
     "metadata": {},
     "output_type": "execute_result"
    }
   ],
   "source": [
    "income_grouped = data.groupby('total_income_category')['debt'].count()\n",
    "\n",
    "# Группируем долги по категориям, функцию для определения которых мы делали ранее\n",
    "\n",
    "income_grouped"
   ]
  },
  {
   "cell_type": "code",
   "execution_count": 27,
   "id": "ec0b4aeb",
   "metadata": {},
   "outputs": [
    {
     "data": {
      "text/html": [
       "<div>\n",
       "<style scoped>\n",
       "    .dataframe tbody tr th:only-of-type {\n",
       "        vertical-align: middle;\n",
       "    }\n",
       "\n",
       "    .dataframe tbody tr th {\n",
       "        vertical-align: top;\n",
       "    }\n",
       "\n",
       "    .dataframe thead th {\n",
       "        text-align: right;\n",
       "    }\n",
       "</style>\n",
       "<table border=\"1\" class=\"dataframe\">\n",
       "  <thead>\n",
       "    <tr style=\"text-align: right;\">\n",
       "      <th>debt</th>\n",
       "      <th>0</th>\n",
       "      <th>1</th>\n",
       "      <th>ratio</th>\n",
       "    </tr>\n",
       "    <tr>\n",
       "      <th>total_income_category</th>\n",
       "      <th></th>\n",
       "      <th></th>\n",
       "      <th></th>\n",
       "    </tr>\n",
       "  </thead>\n",
       "  <tbody>\n",
       "    <tr>\n",
       "      <th>A</th>\n",
       "      <td>23</td>\n",
       "      <td>2</td>\n",
       "      <td>8.695652</td>\n",
       "    </tr>\n",
       "    <tr>\n",
       "      <th>B</th>\n",
       "      <td>4660</td>\n",
       "      <td>354</td>\n",
       "      <td>7.596567</td>\n",
       "    </tr>\n",
       "    <tr>\n",
       "      <th>C</th>\n",
       "      <td>14568</td>\n",
       "      <td>1353</td>\n",
       "      <td>9.287479</td>\n",
       "    </tr>\n",
       "    <tr>\n",
       "      <th>D</th>\n",
       "      <td>328</td>\n",
       "      <td>21</td>\n",
       "      <td>6.402439</td>\n",
       "    </tr>\n",
       "    <tr>\n",
       "      <th>E</th>\n",
       "      <td>20</td>\n",
       "      <td>2</td>\n",
       "      <td>10.000000</td>\n",
       "    </tr>\n",
       "  </tbody>\n",
       "</table>\n",
       "</div>"
      ],
      "text/plain": [
       "debt                       0     1      ratio\n",
       "total_income_category                        \n",
       "A                         23     2   8.695652\n",
       "B                       4660   354   7.596567\n",
       "C                      14568  1353   9.287479\n",
       "D                        328    21   6.402439\n",
       "E                         20     2  10.000000"
      ]
     },
     "execution_count": 27,
     "metadata": {},
     "output_type": "execute_result"
    }
   ],
   "source": [
    "income_pivot = data.pivot_table(index=['total_income_category'], columns=['debt'], values='education', aggfunc='count')\n",
    "income_pivot['ratio'] = income_pivot[1] / income_pivot[0] * 100\n",
    "income_pivot\n",
    "\n",
    "# Построим сводную таблицу для большей наглядности\n",
    "# Столбец ratio показывает отношение общего кол-ва людей с долгами к людям без долгов, в зависимости от уровня дохода"
   ]
  },
  {
   "cell_type": "markdown",
   "id": "1ff212fb",
   "metadata": {
    "deletable": false,
    "id": "e8593def"
   },
   "source": [
    "**Вывод:** самые низкие показатели у людей с категорией \"D\" и \"B\". Если с категорией \"D\" все более менее очевидно, то насчет \"B\" пока затрудняюсь сказать. Возможно, у людей с высоким уровнем дохода больше непогашенных кредитов."
   ]
  },
  {
   "cell_type": "markdown",
   "id": "639d5f2a",
   "metadata": {
    "deletable": false,
    "editable": false,
    "id": "99ecbd1f"
   },
   "source": [
    "#### 3.4 Как разные цели кредита влияют на его возврат в срок?"
   ]
  },
  {
   "cell_type": "code",
   "execution_count": 28,
   "id": "bf9e66aa",
   "metadata": {
    "deletable": false,
    "id": "2b687290"
   },
   "outputs": [
    {
     "data": {
      "text/html": [
       "<div>\n",
       "<style scoped>\n",
       "    .dataframe tbody tr th:only-of-type {\n",
       "        vertical-align: middle;\n",
       "    }\n",
       "\n",
       "    .dataframe tbody tr th {\n",
       "        vertical-align: top;\n",
       "    }\n",
       "\n",
       "    .dataframe thead th {\n",
       "        text-align: right;\n",
       "    }\n",
       "</style>\n",
       "<table border=\"1\" class=\"dataframe\">\n",
       "  <thead>\n",
       "    <tr style=\"text-align: right;\">\n",
       "      <th>debt</th>\n",
       "      <th>0</th>\n",
       "      <th>1</th>\n",
       "      <th>ratio</th>\n",
       "    </tr>\n",
       "    <tr>\n",
       "      <th>purpose_category</th>\n",
       "      <th></th>\n",
       "      <th></th>\n",
       "      <th></th>\n",
       "    </tr>\n",
       "  </thead>\n",
       "  <tbody>\n",
       "    <tr>\n",
       "      <th>операции с автомобилем</th>\n",
       "      <td>3879</td>\n",
       "      <td>400</td>\n",
       "      <td>10.311936</td>\n",
       "    </tr>\n",
       "    <tr>\n",
       "      <th>операции с недвижимостью</th>\n",
       "      <td>9971</td>\n",
       "      <td>780</td>\n",
       "      <td>7.822686</td>\n",
       "    </tr>\n",
       "    <tr>\n",
       "      <th>получение образования</th>\n",
       "      <td>3619</td>\n",
       "      <td>369</td>\n",
       "      <td>10.196187</td>\n",
       "    </tr>\n",
       "    <tr>\n",
       "      <th>проведение свадьбы</th>\n",
       "      <td>2130</td>\n",
       "      <td>183</td>\n",
       "      <td>8.591549</td>\n",
       "    </tr>\n",
       "  </tbody>\n",
       "</table>\n",
       "</div>"
      ],
      "text/plain": [
       "debt                         0    1      ratio\n",
       "purpose_category                              \n",
       "операции с автомобилем    3879  400  10.311936\n",
       "операции с недвижимостью  9971  780   7.822686\n",
       "получение образования     3619  369  10.196187\n",
       "проведение свадьбы        2130  183   8.591549"
      ]
     },
     "execution_count": 28,
     "metadata": {},
     "output_type": "execute_result"
    }
   ],
   "source": [
    "purpose_pivot = data.pivot_table(index=['purpose_category'], columns=['debt'], values='education', aggfunc='count')\n",
    "purpose_pivot['ratio'] = purpose_pivot[1] / purpose_pivot[0] * 100\n",
    "purpose_pivot\n",
    "\n",
    "# Составим сводную таблицу по данным из столбца purpose_category, функцию для которго мы делали ранее\n",
    "# Столбец ratio показывает отношение общего кол-ва людей с долгами к людям без долгов, в зависимости от цели кредита"
   ]
  },
  {
   "cell_type": "markdown",
   "id": "93f1a1f7",
   "metadata": {
    "deletable": false,
    "id": "b4bb2ce6"
   },
   "source": [
    "**Вывод:** можно сказать, что кредиты на операции с недвижимостью и проведение свадьбы имеют наименьшие показатели. Так как ипотека - большая и рисованная сделка для физ. лица, а проведение свадьбы - неликвидный кредит."
   ]
  },
  {
   "cell_type": "markdown",
   "id": "e23fb35f",
   "metadata": {
    "deletable": false,
    "editable": false,
    "id": "09c3ac4c"
   },
   "source": [
    "#### 3.5 Приведите возможные причины появления пропусков в исходных данных."
   ]
  },
  {
   "cell_type": "markdown",
   "id": "6d718e91",
   "metadata": {
    "deletable": false,
    "id": "9da2ceda"
   },
   "source": [
    "*Ответ:* \n",
    "- Человеческий фактор (сотрудник банка по невнимательности не внес данные, либо внес с ошибкой)\n",
    "- Технологические ошибки (при выгрузке/загрузке базы, часть данных могла быть утеряна)"
   ]
  },
  {
   "cell_type": "markdown",
   "id": "60fd2479",
   "metadata": {
    "deletable": false,
    "editable": false,
    "id": "7b0487d6"
   },
   "source": [
    "#### 3.6 Объясните, почему заполнить пропуски медианным значением — лучшее решение для количественных переменных."
   ]
  },
  {
   "cell_type": "markdown",
   "id": "c9e8a139",
   "metadata": {
    "deletable": false,
    "id": "7ecf2b8e"
   },
   "source": [
    "*Ответ:* Заполнять пропуски стоит не средним, медианным занчением, потому что если в выборке есть результаты, сильно отличающиеся от остальных, они могут сместить баланс в одну из сторон при подсчете методом mean(). Медианное же значение располагается ровно посередине: в одной половине значения меньше медианного, в другом больше."
   ]
  },
  {
   "cell_type": "markdown",
   "id": "d96ba0b7",
   "metadata": {
    "deletable": false,
    "editable": false,
    "id": "6db5255a"
   },
   "source": [
    "### Шаг 4: общий вывод."
   ]
  },
  {
   "cell_type": "markdown",
   "id": "ae26287d",
   "metadata": {
    "deletable": false,
    "id": "bad65432"
   },
   "source": []
  },
  {
   "cell_type": "markdown",
   "id": "10d36a25",
   "metadata": {},
   "source": [
    "# Общий вывод:\n",
    "    \n",
    "  Перед вами результаты исследования, проведенного на основании полученных данных о платежеспособности клиентов банка. Результаты исследования будут учтены при построении модели кредитного скоринга - специальной системы, которая оценивает способность потенциального заемщика вернуть кредит банку.\n",
    "    \n",
    "Перед проведением исследования было выдвинуто несколько гипотез:\n",
    "    \n",
    "- гипотеза 1: количество детей влияет на возврат кредита в срок\n",
    "- гипотеза 2: семейное положение влияет на возврат кредита в срок\n",
    "- гипотеза 3: уровень дохода влияет на возврат кредина в срок\n",
    "- гипотеза 4: цель кредита влияет на возврат кредита в срок\n",
    "    \n",
    "**Гипотеза 1** - **частично подтверждена**\n",
    "    \n",
    "- 8,2% - доля просроченных кредитов у клиентов без детей\n",
    "- 8,9% - доля просроченных кредитов у клиентов с тремя детьми\n",
    "- 10,2% - доля просроченных кредитов у клиентов с одним ребенком\n",
    "- 10,4% - доля просроченных кредитов у клиентов с двумя детьми\n",
    "- 10,8% - доля просроченных кредитов у клиентов с четырьмя детьми\n",
    "    \n",
    "    Клиенты без детей выглядят лучшими заемщиками для банка. По остальным группам нужна более обширная выборка.\n",
    "   \n",
    "*Рекомендация:* собрать данные по клиентам, имеющих пять детей, для анализа данных и добавления их в таблицу.\n",
    "    \n",
    "    \n",
    "**Гипотеза 2** - **подтверждена**\n",
    "    \n",
    "- 7,1% - доля непогашенных кредитов у клиентов с семейным статусом \"вдовец/вдова\".\n",
    "- 7,6% - доля непогашенных кредитов у клиентов с семейным статусом \"в разводе\".\n",
    "- 8,2% - доля непогашенных кредитов у клиентов с семейным статусом \"женат/замужем\".\n",
    "- 10,3% - доля непогашенных кредитов у клиентов с семейным положением \"в гражданском браке\".\n",
    "- 10,8% - доля непогашенных кредитов у клиентов с семейным положением \"не женат/ не замужем\".\n",
    "    \n",
    "    У не женатых клиентов, а так же у клиентов, состоящих в гражданском браке, вероятность стать должниками выше.\n",
    "    Те, кто в разводе, женаты/замужем или вдова/вдовец менее вероятно становятся должниками.\n",
    "    \n",
    "**Гипотеза 3** - **частично подтверждена**\n",
    "    \n",
    "- 6,4% - доля просроченных кредитов у клиентов с доходом 30.000 - 50.000\n",
    "- 7,6% - доля просроченных кредитов у клиентов с доходом 200.000 - 1.000.000\n",
    "- 8,7% - доля просроченных кредитов у клиентов с доходом более 1.000.000\n",
    "- 9,3% - доля просроченных кредитов у клиентов с доходом 50.000 - 200.000\n",
    "- 10%  - доля просроченных кредитов у клиентов с доходом до 30.000\n",
    "    \n",
    "    Клиенты с низким уровнем дохода имеют больше всего непогашенных кредитов, при этом количество должников в категории людей с доходом более миллиона отличаются от первых всего на 1,3%\n",
    "    \n",
    "*Рекомендация:* провести более углубленное исследование на большей выборке данных по доходам клиентов.\n",
    "    \n",
    "**Гипотеза 4** - **подтверждена**\n",
    "    \n",
    "- 7,8% - доля непогашенных кредитов, которые брали на операции с недвижимостью.\n",
    "- 8,6% - доля непогашенных кредитов, которые брали на проведение свадеб.\n",
    "- 10,2% - доля непогашенных кредитов, которые брали на получение образования.\n",
    "- 10,3% - доля непогашенных кредитов, которые брали на операции с автомобилем.\n",
    "    \n",
    "    Клиенты, оформляющие кредит на покупку недвижимости или проведение свадьбы - более надежные заемщики. \n",
    "    Те, кто берет кредит на получение образования и операции с автомобилем с большей вероятностью не вернут займ в срок.\n",
    "    \n",
    "*Общие рекомендации:* \n",
    "    \n",
    "Специалистам из раздела по разработке ПО нужно передать информацию о частых случаях пропусков данных, дубликатов, сверхнизких/сверхвысоких значений. \n",
    "Необходимо провести более обширную выборку, чтобы полностью доказать гипотезы 1 и 3."
   ]
  }
 ],
 "metadata": {
  "ExecuteTimeLog": [
   {
    "duration": 590,
    "start_time": "2022-11-13T06:44:07.468Z"
   },
   {
    "duration": 32,
    "start_time": "2022-11-13T06:44:08.060Z"
   },
   {
    "duration": 20,
    "start_time": "2022-11-13T06:44:08.094Z"
   },
   {
    "duration": 27,
    "start_time": "2022-11-13T06:44:08.116Z"
   },
   {
    "duration": 58,
    "start_time": "2022-11-13T06:44:08.146Z"
   },
   {
    "duration": 5,
    "start_time": "2022-11-13T06:44:08.205Z"
   },
   {
    "duration": 23,
    "start_time": "2022-11-13T06:44:08.212Z"
   },
   {
    "duration": 5,
    "start_time": "2022-11-13T06:44:08.238Z"
   },
   {
    "duration": 9,
    "start_time": "2022-11-13T06:44:08.245Z"
   },
   {
    "duration": 24,
    "start_time": "2022-11-13T06:44:08.256Z"
   },
   {
    "duration": 63,
    "start_time": "2022-11-13T06:44:08.287Z"
   },
   {
    "duration": 12,
    "start_time": "2022-11-13T06:44:08.353Z"
   },
   {
    "duration": 12,
    "start_time": "2022-11-13T06:44:08.380Z"
   },
   {
    "duration": 24,
    "start_time": "2022-11-13T06:44:08.395Z"
   },
   {
    "duration": 23,
    "start_time": "2022-11-13T06:44:08.422Z"
   },
   {
    "duration": 19,
    "start_time": "2022-11-13T06:44:08.447Z"
   },
   {
    "duration": 14,
    "start_time": "2022-11-13T06:44:08.468Z"
   },
   {
    "duration": 24,
    "start_time": "2022-11-13T06:44:08.483Z"
   },
   {
    "duration": 8,
    "start_time": "2022-11-13T06:44:08.510Z"
   },
   {
    "duration": 4,
    "start_time": "2022-11-13T06:44:08.520Z"
   },
   {
    "duration": 15,
    "start_time": "2022-11-13T06:44:08.526Z"
   },
   {
    "duration": 6,
    "start_time": "2022-11-13T06:44:08.543Z"
   },
   {
    "duration": 7,
    "start_time": "2022-11-13T06:44:08.550Z"
   },
   {
    "duration": 6,
    "start_time": "2022-11-13T06:44:08.559Z"
   },
   {
    "duration": 31,
    "start_time": "2022-11-13T06:44:08.566Z"
   },
   {
    "duration": 71,
    "start_time": "2022-11-13T08:23:03.091Z"
   },
   {
    "duration": 117,
    "start_time": "2022-11-13T08:23:15.175Z"
   },
   {
    "duration": 19,
    "start_time": "2022-11-13T08:23:15.294Z"
   },
   {
    "duration": 31,
    "start_time": "2022-11-13T08:23:15.315Z"
   },
   {
    "duration": 26,
    "start_time": "2022-11-13T08:23:15.349Z"
   },
   {
    "duration": 84,
    "start_time": "2022-11-13T08:23:15.378Z"
   },
   {
    "duration": 4,
    "start_time": "2022-11-13T08:23:15.464Z"
   },
   {
    "duration": 52,
    "start_time": "2022-11-13T08:23:15.470Z"
   },
   {
    "duration": 17,
    "start_time": "2022-11-13T08:23:15.525Z"
   },
   {
    "duration": 24,
    "start_time": "2022-11-13T08:23:15.544Z"
   },
   {
    "duration": 41,
    "start_time": "2022-11-13T08:23:15.569Z"
   },
   {
    "duration": 57,
    "start_time": "2022-11-13T08:23:15.612Z"
   },
   {
    "duration": 19,
    "start_time": "2022-11-13T08:23:15.671Z"
   },
   {
    "duration": 11,
    "start_time": "2022-11-13T08:23:15.697Z"
   },
   {
    "duration": 26,
    "start_time": "2022-11-13T08:23:15.711Z"
   },
   {
    "duration": 38,
    "start_time": "2022-11-13T08:23:15.738Z"
   },
   {
    "duration": 48,
    "start_time": "2022-11-13T08:23:15.778Z"
   },
   {
    "duration": 5,
    "start_time": "2022-11-13T08:23:15.829Z"
   },
   {
    "duration": 24,
    "start_time": "2022-11-13T08:23:15.836Z"
   },
   {
    "duration": 23,
    "start_time": "2022-11-13T08:23:15.862Z"
   },
   {
    "duration": 11,
    "start_time": "2022-11-13T08:23:15.893Z"
   },
   {
    "duration": 15,
    "start_time": "2022-11-13T08:23:15.906Z"
   },
   {
    "duration": 14,
    "start_time": "2022-11-13T08:23:15.923Z"
   },
   {
    "duration": 0,
    "start_time": "2022-11-13T08:23:15.940Z"
   },
   {
    "duration": 0,
    "start_time": "2022-11-13T08:23:15.941Z"
   },
   {
    "duration": 0,
    "start_time": "2022-11-13T08:23:15.942Z"
   },
   {
    "duration": 0,
    "start_time": "2022-11-13T08:23:15.944Z"
   },
   {
    "duration": 8,
    "start_time": "2022-11-13T08:23:51.645Z"
   },
   {
    "duration": 7,
    "start_time": "2022-11-13T08:24:00.032Z"
   },
   {
    "duration": 6,
    "start_time": "2022-11-13T08:25:09.641Z"
   },
   {
    "duration": 5,
    "start_time": "2022-11-13T08:27:43.361Z"
   },
   {
    "duration": 6,
    "start_time": "2022-11-13T08:27:45.945Z"
   },
   {
    "duration": 31,
    "start_time": "2022-11-13T08:29:53.872Z"
   },
   {
    "duration": 7,
    "start_time": "2022-11-13T09:12:42.774Z"
   },
   {
    "duration": 7,
    "start_time": "2022-11-13T09:12:53.876Z"
   },
   {
    "duration": 10,
    "start_time": "2022-11-13T09:13:28.302Z"
   },
   {
    "duration": 84,
    "start_time": "2022-11-13T09:13:38.524Z"
   },
   {
    "duration": 12,
    "start_time": "2022-11-13T09:14:00.442Z"
   },
   {
    "duration": 15,
    "start_time": "2022-11-13T09:14:16.084Z"
   },
   {
    "duration": 5,
    "start_time": "2022-11-13T09:14:59.214Z"
   },
   {
    "duration": 7,
    "start_time": "2022-11-13T09:15:10.535Z"
   },
   {
    "duration": 8,
    "start_time": "2022-11-13T09:31:16.516Z"
   },
   {
    "duration": 6,
    "start_time": "2022-11-13T09:32:13.228Z"
   },
   {
    "duration": 6,
    "start_time": "2022-11-13T09:32:31.336Z"
   },
   {
    "duration": 85,
    "start_time": "2022-11-13T09:33:03.796Z"
   },
   {
    "duration": 1219,
    "start_time": "2022-11-13T09:33:15.237Z"
   },
   {
    "duration": 79,
    "start_time": "2022-11-13T09:33:37.164Z"
   },
   {
    "duration": 1230,
    "start_time": "2022-11-13T09:33:43.261Z"
   },
   {
    "duration": 7,
    "start_time": "2022-11-13T09:34:23.134Z"
   },
   {
    "duration": 6,
    "start_time": "2022-11-13T09:34:38.437Z"
   },
   {
    "duration": 11,
    "start_time": "2022-11-13T09:35:09.455Z"
   },
   {
    "duration": 5,
    "start_time": "2022-11-13T09:35:22.938Z"
   },
   {
    "duration": 6,
    "start_time": "2022-11-13T09:35:34.448Z"
   },
   {
    "duration": 7,
    "start_time": "2022-11-13T09:52:44.403Z"
   },
   {
    "duration": 11,
    "start_time": "2022-11-13T10:04:24.671Z"
   },
   {
    "duration": 10,
    "start_time": "2022-11-13T10:04:29.391Z"
   },
   {
    "duration": 14,
    "start_time": "2022-11-13T10:04:51.609Z"
   },
   {
    "duration": 31,
    "start_time": "2022-11-13T10:20:10.193Z"
   },
   {
    "duration": 22,
    "start_time": "2022-11-13T10:37:18.810Z"
   },
   {
    "duration": 7,
    "start_time": "2022-11-13T10:38:01.872Z"
   },
   {
    "duration": 22,
    "start_time": "2022-11-13T10:38:14.451Z"
   },
   {
    "duration": 18,
    "start_time": "2022-11-13T10:38:26.009Z"
   },
   {
    "duration": 12,
    "start_time": "2022-11-13T10:44:02.771Z"
   },
   {
    "duration": 10,
    "start_time": "2022-11-13T10:44:59.792Z"
   },
   {
    "duration": 7,
    "start_time": "2022-11-13T10:45:21.391Z"
   },
   {
    "duration": 7,
    "start_time": "2022-11-13T10:46:47.812Z"
   },
   {
    "duration": 21,
    "start_time": "2022-11-13T10:48:36.592Z"
   },
   {
    "duration": 21,
    "start_time": "2022-11-13T11:43:57.427Z"
   },
   {
    "duration": 22,
    "start_time": "2022-11-13T11:56:51.474Z"
   },
   {
    "duration": 23,
    "start_time": "2022-11-13T11:57:06.187Z"
   },
   {
    "duration": 22,
    "start_time": "2022-11-13T11:57:20.867Z"
   },
   {
    "duration": 12,
    "start_time": "2022-11-13T12:56:35.489Z"
   },
   {
    "duration": 505,
    "start_time": "2022-11-13T13:17:32.809Z"
   },
   {
    "duration": 23,
    "start_time": "2022-11-13T13:17:33.316Z"
   },
   {
    "duration": 15,
    "start_time": "2022-11-13T13:17:33.341Z"
   },
   {
    "duration": 10,
    "start_time": "2022-11-13T13:17:33.357Z"
   },
   {
    "duration": 68,
    "start_time": "2022-11-13T13:17:33.369Z"
   },
   {
    "duration": 4,
    "start_time": "2022-11-13T13:17:33.439Z"
   },
   {
    "duration": 18,
    "start_time": "2022-11-13T13:17:33.444Z"
   },
   {
    "duration": 6,
    "start_time": "2022-11-13T13:17:33.464Z"
   },
   {
    "duration": 14,
    "start_time": "2022-11-13T13:17:33.472Z"
   },
   {
    "duration": 5,
    "start_time": "2022-11-13T13:17:33.488Z"
   },
   {
    "duration": 65,
    "start_time": "2022-11-13T13:17:33.495Z"
   },
   {
    "duration": 13,
    "start_time": "2022-11-13T13:17:33.562Z"
   },
   {
    "duration": 7,
    "start_time": "2022-11-13T13:17:33.577Z"
   },
   {
    "duration": 15,
    "start_time": "2022-11-13T13:17:33.619Z"
   },
   {
    "duration": 25,
    "start_time": "2022-11-13T13:17:33.636Z"
   },
   {
    "duration": 18,
    "start_time": "2022-11-13T13:17:33.663Z"
   },
   {
    "duration": 4,
    "start_time": "2022-11-13T13:17:33.683Z"
   },
   {
    "duration": 38,
    "start_time": "2022-11-13T13:17:33.689Z"
   },
   {
    "duration": 6,
    "start_time": "2022-11-13T13:17:33.728Z"
   },
   {
    "duration": 8,
    "start_time": "2022-11-13T13:17:33.736Z"
   },
   {
    "duration": 12,
    "start_time": "2022-11-13T13:17:33.746Z"
   },
   {
    "duration": 12,
    "start_time": "2022-11-13T13:17:33.760Z"
   },
   {
    "duration": 53,
    "start_time": "2022-11-13T13:17:33.773Z"
   },
   {
    "duration": 11,
    "start_time": "2022-11-13T13:17:33.828Z"
   },
   {
    "duration": 21,
    "start_time": "2022-11-13T13:17:33.841Z"
   },
   {
    "duration": 7,
    "start_time": "2022-11-13T13:17:33.863Z"
   },
   {
    "duration": 61,
    "start_time": "2022-11-13T13:17:33.872Z"
   },
   {
    "duration": 21,
    "start_time": "2022-11-13T13:17:33.935Z"
   }
  ],
  "celltoolbar": "Отсутствует",
  "colab": {
   "name": "dpp_template_part2.ipynb",
   "provenance": []
  },
  "kernelspec": {
   "display_name": "Python 3 (ipykernel)",
   "language": "python",
   "name": "python3"
  },
  "language_info": {
   "codemirror_mode": {
    "name": "ipython",
    "version": 3
   },
   "file_extension": ".py",
   "mimetype": "text/x-python",
   "name": "python",
   "nbconvert_exporter": "python",
   "pygments_lexer": "ipython3",
   "version": "3.9.13"
  },
  "toc": {
   "base_numbering": 1,
   "nav_menu": {},
   "number_sections": true,
   "sideBar": true,
   "skip_h1_title": true,
   "title_cell": "Table of Contents",
   "title_sidebar": "Contents",
   "toc_cell": false,
   "toc_position": {},
   "toc_section_display": true,
   "toc_window_display": true
  }
 },
 "nbformat": 4,
 "nbformat_minor": 5
}
