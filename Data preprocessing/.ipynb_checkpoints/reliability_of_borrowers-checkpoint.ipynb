{
 "cells": [
  {
   "cell_type": "markdown",
   "id": "c81daeeb",
   "metadata": {
    "deletable": false,
    "editable": false,
    "id": "c81daeeb"
   },
   "source": [
    "# Исследование надежности заемщиков"
   ]
  },
  {
   "cell_type": "markdown",
   "id": "-G3EJWzf62s6",
   "metadata": {
    "deletable": false,
    "editable": false,
    "id": "-G3EJWzf62s6"
   },
   "source": [
    "Это первая часть проекта, она будет проверена автоматически. Вторую часть проверит ревьюер. "
   ]
  },
  {
   "cell_type": "markdown",
   "id": "744d7639",
   "metadata": {
    "deletable": false,
    "editable": false,
    "id": "744d7639"
   },
   "source": [
    "## Откройте таблицу и изучите общую информацию о данных"
   ]
  },
  {
   "cell_type": "markdown",
   "id": "e7a14c31",
   "metadata": {
    "deletable": false,
    "editable": false,
    "id": "e7a14c31",
    "tags": [
     "start_task"
    ]
   },
   "source": [
    "**Задание 1. Импортируйте библиотеку pandas. Считайте данные из csv-файла в датафрейм и сохраните в переменную `data`. Путь к файлу:**\n",
    "\n",
    "`/datasets/data.csv`"
   ]
  },
  {
   "cell_type": "code",
   "execution_count": 47,
   "id": "7bcf75c9",
   "metadata": {
    "id": "7bcf75c9"
   },
   "outputs": [],
   "source": [
    "import pandas as pd# импортируйте библиотеку pandas"
   ]
  },
  {
   "cell_type": "code",
   "execution_count": 48,
   "id": "4d240ee2",
   "metadata": {
    "id": "4d240ee2"
   },
   "outputs": [],
   "source": [
    "data = pd.read_csv('/datasets/data.csv')# прочитайте csv-файл"
   ]
  },
  {
   "cell_type": "markdown",
   "id": "b8038fe3",
   "metadata": {
    "deletable": false,
    "editable": false,
    "id": "b8038fe3",
    "tags": [
     "start_task"
    ]
   },
   "source": [
    "**Задание 2. Выведите первые 20 строчек датафрейма `data` на экран.**"
   ]
  },
  {
   "cell_type": "code",
   "execution_count": 49,
   "id": "2a7cab99",
   "metadata": {
    "id": "2a7cab99"
   },
   "outputs": [
    {
     "data": {
      "text/html": [
       "<div>\n",
       "<style scoped>\n",
       "    .dataframe tbody tr th:only-of-type {\n",
       "        vertical-align: middle;\n",
       "    }\n",
       "\n",
       "    .dataframe tbody tr th {\n",
       "        vertical-align: top;\n",
       "    }\n",
       "\n",
       "    .dataframe thead th {\n",
       "        text-align: right;\n",
       "    }\n",
       "</style>\n",
       "<table border=\"1\" class=\"dataframe\">\n",
       "  <thead>\n",
       "    <tr style=\"text-align: right;\">\n",
       "      <th></th>\n",
       "      <th>children</th>\n",
       "      <th>days_employed</th>\n",
       "      <th>dob_years</th>\n",
       "      <th>education</th>\n",
       "      <th>education_id</th>\n",
       "      <th>family_status</th>\n",
       "      <th>family_status_id</th>\n",
       "      <th>gender</th>\n",
       "      <th>income_type</th>\n",
       "      <th>debt</th>\n",
       "      <th>total_income</th>\n",
       "      <th>purpose</th>\n",
       "    </tr>\n",
       "  </thead>\n",
       "  <tbody>\n",
       "    <tr>\n",
       "      <th>0</th>\n",
       "      <td>1</td>\n",
       "      <td>-8437.673028</td>\n",
       "      <td>42</td>\n",
       "      <td>высшее</td>\n",
       "      <td>0</td>\n",
       "      <td>женат / замужем</td>\n",
       "      <td>0</td>\n",
       "      <td>F</td>\n",
       "      <td>сотрудник</td>\n",
       "      <td>0</td>\n",
       "      <td>253875.639453</td>\n",
       "      <td>покупка жилья</td>\n",
       "    </tr>\n",
       "    <tr>\n",
       "      <th>1</th>\n",
       "      <td>1</td>\n",
       "      <td>-4024.803754</td>\n",
       "      <td>36</td>\n",
       "      <td>среднее</td>\n",
       "      <td>1</td>\n",
       "      <td>женат / замужем</td>\n",
       "      <td>0</td>\n",
       "      <td>F</td>\n",
       "      <td>сотрудник</td>\n",
       "      <td>0</td>\n",
       "      <td>112080.014102</td>\n",
       "      <td>приобретение автомобиля</td>\n",
       "    </tr>\n",
       "    <tr>\n",
       "      <th>2</th>\n",
       "      <td>0</td>\n",
       "      <td>-5623.422610</td>\n",
       "      <td>33</td>\n",
       "      <td>Среднее</td>\n",
       "      <td>1</td>\n",
       "      <td>женат / замужем</td>\n",
       "      <td>0</td>\n",
       "      <td>M</td>\n",
       "      <td>сотрудник</td>\n",
       "      <td>0</td>\n",
       "      <td>145885.952297</td>\n",
       "      <td>покупка жилья</td>\n",
       "    </tr>\n",
       "    <tr>\n",
       "      <th>3</th>\n",
       "      <td>3</td>\n",
       "      <td>-4124.747207</td>\n",
       "      <td>32</td>\n",
       "      <td>среднее</td>\n",
       "      <td>1</td>\n",
       "      <td>женат / замужем</td>\n",
       "      <td>0</td>\n",
       "      <td>M</td>\n",
       "      <td>сотрудник</td>\n",
       "      <td>0</td>\n",
       "      <td>267628.550329</td>\n",
       "      <td>дополнительное образование</td>\n",
       "    </tr>\n",
       "    <tr>\n",
       "      <th>4</th>\n",
       "      <td>0</td>\n",
       "      <td>340266.072047</td>\n",
       "      <td>53</td>\n",
       "      <td>среднее</td>\n",
       "      <td>1</td>\n",
       "      <td>гражданский брак</td>\n",
       "      <td>1</td>\n",
       "      <td>F</td>\n",
       "      <td>пенсионер</td>\n",
       "      <td>0</td>\n",
       "      <td>158616.077870</td>\n",
       "      <td>сыграть свадьбу</td>\n",
       "    </tr>\n",
       "    <tr>\n",
       "      <th>5</th>\n",
       "      <td>0</td>\n",
       "      <td>-926.185831</td>\n",
       "      <td>27</td>\n",
       "      <td>высшее</td>\n",
       "      <td>0</td>\n",
       "      <td>гражданский брак</td>\n",
       "      <td>1</td>\n",
       "      <td>M</td>\n",
       "      <td>компаньон</td>\n",
       "      <td>0</td>\n",
       "      <td>255763.565419</td>\n",
       "      <td>покупка жилья</td>\n",
       "    </tr>\n",
       "    <tr>\n",
       "      <th>6</th>\n",
       "      <td>0</td>\n",
       "      <td>-2879.202052</td>\n",
       "      <td>43</td>\n",
       "      <td>высшее</td>\n",
       "      <td>0</td>\n",
       "      <td>женат / замужем</td>\n",
       "      <td>0</td>\n",
       "      <td>F</td>\n",
       "      <td>компаньон</td>\n",
       "      <td>0</td>\n",
       "      <td>240525.971920</td>\n",
       "      <td>операции с жильем</td>\n",
       "    </tr>\n",
       "    <tr>\n",
       "      <th>7</th>\n",
       "      <td>0</td>\n",
       "      <td>-152.779569</td>\n",
       "      <td>50</td>\n",
       "      <td>СРЕДНЕЕ</td>\n",
       "      <td>1</td>\n",
       "      <td>женат / замужем</td>\n",
       "      <td>0</td>\n",
       "      <td>M</td>\n",
       "      <td>сотрудник</td>\n",
       "      <td>0</td>\n",
       "      <td>135823.934197</td>\n",
       "      <td>образование</td>\n",
       "    </tr>\n",
       "    <tr>\n",
       "      <th>8</th>\n",
       "      <td>2</td>\n",
       "      <td>-6929.865299</td>\n",
       "      <td>35</td>\n",
       "      <td>ВЫСШЕЕ</td>\n",
       "      <td>0</td>\n",
       "      <td>гражданский брак</td>\n",
       "      <td>1</td>\n",
       "      <td>F</td>\n",
       "      <td>сотрудник</td>\n",
       "      <td>0</td>\n",
       "      <td>95856.832424</td>\n",
       "      <td>на проведение свадьбы</td>\n",
       "    </tr>\n",
       "    <tr>\n",
       "      <th>9</th>\n",
       "      <td>0</td>\n",
       "      <td>-2188.756445</td>\n",
       "      <td>41</td>\n",
       "      <td>среднее</td>\n",
       "      <td>1</td>\n",
       "      <td>женат / замужем</td>\n",
       "      <td>0</td>\n",
       "      <td>M</td>\n",
       "      <td>сотрудник</td>\n",
       "      <td>0</td>\n",
       "      <td>144425.938277</td>\n",
       "      <td>покупка жилья для семьи</td>\n",
       "    </tr>\n",
       "    <tr>\n",
       "      <th>10</th>\n",
       "      <td>2</td>\n",
       "      <td>-4171.483647</td>\n",
       "      <td>36</td>\n",
       "      <td>высшее</td>\n",
       "      <td>0</td>\n",
       "      <td>женат / замужем</td>\n",
       "      <td>0</td>\n",
       "      <td>M</td>\n",
       "      <td>компаньон</td>\n",
       "      <td>0</td>\n",
       "      <td>113943.491460</td>\n",
       "      <td>покупка недвижимости</td>\n",
       "    </tr>\n",
       "    <tr>\n",
       "      <th>11</th>\n",
       "      <td>0</td>\n",
       "      <td>-792.701887</td>\n",
       "      <td>40</td>\n",
       "      <td>среднее</td>\n",
       "      <td>1</td>\n",
       "      <td>женат / замужем</td>\n",
       "      <td>0</td>\n",
       "      <td>F</td>\n",
       "      <td>сотрудник</td>\n",
       "      <td>0</td>\n",
       "      <td>77069.234271</td>\n",
       "      <td>покупка коммерческой недвижимости</td>\n",
       "    </tr>\n",
       "    <tr>\n",
       "      <th>12</th>\n",
       "      <td>0</td>\n",
       "      <td>NaN</td>\n",
       "      <td>65</td>\n",
       "      <td>среднее</td>\n",
       "      <td>1</td>\n",
       "      <td>гражданский брак</td>\n",
       "      <td>1</td>\n",
       "      <td>M</td>\n",
       "      <td>пенсионер</td>\n",
       "      <td>0</td>\n",
       "      <td>NaN</td>\n",
       "      <td>сыграть свадьбу</td>\n",
       "    </tr>\n",
       "    <tr>\n",
       "      <th>13</th>\n",
       "      <td>0</td>\n",
       "      <td>-1846.641941</td>\n",
       "      <td>54</td>\n",
       "      <td>неоконченное высшее</td>\n",
       "      <td>2</td>\n",
       "      <td>женат / замужем</td>\n",
       "      <td>0</td>\n",
       "      <td>F</td>\n",
       "      <td>сотрудник</td>\n",
       "      <td>0</td>\n",
       "      <td>130458.228857</td>\n",
       "      <td>приобретение автомобиля</td>\n",
       "    </tr>\n",
       "    <tr>\n",
       "      <th>14</th>\n",
       "      <td>0</td>\n",
       "      <td>-1844.956182</td>\n",
       "      <td>56</td>\n",
       "      <td>высшее</td>\n",
       "      <td>0</td>\n",
       "      <td>гражданский брак</td>\n",
       "      <td>1</td>\n",
       "      <td>F</td>\n",
       "      <td>компаньон</td>\n",
       "      <td>1</td>\n",
       "      <td>165127.911772</td>\n",
       "      <td>покупка жилой недвижимости</td>\n",
       "    </tr>\n",
       "    <tr>\n",
       "      <th>15</th>\n",
       "      <td>1</td>\n",
       "      <td>-972.364419</td>\n",
       "      <td>26</td>\n",
       "      <td>среднее</td>\n",
       "      <td>1</td>\n",
       "      <td>женат / замужем</td>\n",
       "      <td>0</td>\n",
       "      <td>F</td>\n",
       "      <td>сотрудник</td>\n",
       "      <td>0</td>\n",
       "      <td>116820.904450</td>\n",
       "      <td>строительство собственной недвижимости</td>\n",
       "    </tr>\n",
       "    <tr>\n",
       "      <th>16</th>\n",
       "      <td>0</td>\n",
       "      <td>-1719.934226</td>\n",
       "      <td>35</td>\n",
       "      <td>среднее</td>\n",
       "      <td>1</td>\n",
       "      <td>женат / замужем</td>\n",
       "      <td>0</td>\n",
       "      <td>F</td>\n",
       "      <td>сотрудник</td>\n",
       "      <td>0</td>\n",
       "      <td>289202.704229</td>\n",
       "      <td>недвижимость</td>\n",
       "    </tr>\n",
       "    <tr>\n",
       "      <th>17</th>\n",
       "      <td>0</td>\n",
       "      <td>-2369.999720</td>\n",
       "      <td>33</td>\n",
       "      <td>высшее</td>\n",
       "      <td>0</td>\n",
       "      <td>гражданский брак</td>\n",
       "      <td>1</td>\n",
       "      <td>M</td>\n",
       "      <td>сотрудник</td>\n",
       "      <td>0</td>\n",
       "      <td>90410.586745</td>\n",
       "      <td>строительство недвижимости</td>\n",
       "    </tr>\n",
       "    <tr>\n",
       "      <th>18</th>\n",
       "      <td>0</td>\n",
       "      <td>400281.136913</td>\n",
       "      <td>53</td>\n",
       "      <td>среднее</td>\n",
       "      <td>1</td>\n",
       "      <td>вдовец / вдова</td>\n",
       "      <td>2</td>\n",
       "      <td>F</td>\n",
       "      <td>пенсионер</td>\n",
       "      <td>0</td>\n",
       "      <td>56823.777243</td>\n",
       "      <td>на покупку подержанного автомобиля</td>\n",
       "    </tr>\n",
       "    <tr>\n",
       "      <th>19</th>\n",
       "      <td>0</td>\n",
       "      <td>-10038.818549</td>\n",
       "      <td>48</td>\n",
       "      <td>СРЕДНЕЕ</td>\n",
       "      <td>1</td>\n",
       "      <td>в разводе</td>\n",
       "      <td>3</td>\n",
       "      <td>F</td>\n",
       "      <td>сотрудник</td>\n",
       "      <td>0</td>\n",
       "      <td>242831.107982</td>\n",
       "      <td>на покупку своего автомобиля</td>\n",
       "    </tr>\n",
       "  </tbody>\n",
       "</table>\n",
       "</div>"
      ],
      "text/plain": [
       "    children  days_employed  dob_years            education  education_id  \\\n",
       "0          1   -8437.673028         42               высшее             0   \n",
       "1          1   -4024.803754         36              среднее             1   \n",
       "2          0   -5623.422610         33              Среднее             1   \n",
       "3          3   -4124.747207         32              среднее             1   \n",
       "4          0  340266.072047         53              среднее             1   \n",
       "5          0    -926.185831         27               высшее             0   \n",
       "6          0   -2879.202052         43               высшее             0   \n",
       "7          0    -152.779569         50              СРЕДНЕЕ             1   \n",
       "8          2   -6929.865299         35               ВЫСШЕЕ             0   \n",
       "9          0   -2188.756445         41              среднее             1   \n",
       "10         2   -4171.483647         36               высшее             0   \n",
       "11         0    -792.701887         40              среднее             1   \n",
       "12         0            NaN         65              среднее             1   \n",
       "13         0   -1846.641941         54  неоконченное высшее             2   \n",
       "14         0   -1844.956182         56               высшее             0   \n",
       "15         1    -972.364419         26              среднее             1   \n",
       "16         0   -1719.934226         35              среднее             1   \n",
       "17         0   -2369.999720         33               высшее             0   \n",
       "18         0  400281.136913         53              среднее             1   \n",
       "19         0  -10038.818549         48              СРЕДНЕЕ             1   \n",
       "\n",
       "       family_status  family_status_id gender income_type  debt  \\\n",
       "0    женат / замужем                 0      F   сотрудник     0   \n",
       "1    женат / замужем                 0      F   сотрудник     0   \n",
       "2    женат / замужем                 0      M   сотрудник     0   \n",
       "3    женат / замужем                 0      M   сотрудник     0   \n",
       "4   гражданский брак                 1      F   пенсионер     0   \n",
       "5   гражданский брак                 1      M   компаньон     0   \n",
       "6    женат / замужем                 0      F   компаньон     0   \n",
       "7    женат / замужем                 0      M   сотрудник     0   \n",
       "8   гражданский брак                 1      F   сотрудник     0   \n",
       "9    женат / замужем                 0      M   сотрудник     0   \n",
       "10   женат / замужем                 0      M   компаньон     0   \n",
       "11   женат / замужем                 0      F   сотрудник     0   \n",
       "12  гражданский брак                 1      M   пенсионер     0   \n",
       "13   женат / замужем                 0      F   сотрудник     0   \n",
       "14  гражданский брак                 1      F   компаньон     1   \n",
       "15   женат / замужем                 0      F   сотрудник     0   \n",
       "16   женат / замужем                 0      F   сотрудник     0   \n",
       "17  гражданский брак                 1      M   сотрудник     0   \n",
       "18    вдовец / вдова                 2      F   пенсионер     0   \n",
       "19         в разводе                 3      F   сотрудник     0   \n",
       "\n",
       "     total_income                                 purpose  \n",
       "0   253875.639453                           покупка жилья  \n",
       "1   112080.014102                 приобретение автомобиля  \n",
       "2   145885.952297                           покупка жилья  \n",
       "3   267628.550329              дополнительное образование  \n",
       "4   158616.077870                         сыграть свадьбу  \n",
       "5   255763.565419                           покупка жилья  \n",
       "6   240525.971920                       операции с жильем  \n",
       "7   135823.934197                             образование  \n",
       "8    95856.832424                   на проведение свадьбы  \n",
       "9   144425.938277                 покупка жилья для семьи  \n",
       "10  113943.491460                    покупка недвижимости  \n",
       "11   77069.234271       покупка коммерческой недвижимости  \n",
       "12            NaN                         сыграть свадьбу  \n",
       "13  130458.228857                 приобретение автомобиля  \n",
       "14  165127.911772              покупка жилой недвижимости  \n",
       "15  116820.904450  строительство собственной недвижимости  \n",
       "16  289202.704229                            недвижимость  \n",
       "17   90410.586745              строительство недвижимости  \n",
       "18   56823.777243      на покупку подержанного автомобиля  \n",
       "19  242831.107982            на покупку своего автомобиля  "
      ]
     },
     "execution_count": 49,
     "metadata": {},
     "output_type": "execute_result"
    }
   ],
   "source": [
    "data.head(20)# ваш код здесь"
   ]
  },
  {
   "cell_type": "markdown",
   "id": "1c12e233",
   "metadata": {
    "deletable": false,
    "editable": false,
    "id": "1c12e233",
    "tags": [
     "start_task"
    ]
   },
   "source": [
    "**Задание 3. Выведите основную информацию о датафрейме с помощью метода `info()`.**"
   ]
  },
  {
   "cell_type": "code",
   "execution_count": 50,
   "id": "2b757bca",
   "metadata": {
    "id": "2b757bca"
   },
   "outputs": [
    {
     "name": "stdout",
     "output_type": "stream",
     "text": [
      "<class 'pandas.core.frame.DataFrame'>\n",
      "RangeIndex: 21525 entries, 0 to 21524\n",
      "Data columns (total 12 columns):\n",
      " #   Column            Non-Null Count  Dtype  \n",
      "---  ------            --------------  -----  \n",
      " 0   children          21525 non-null  int64  \n",
      " 1   days_employed     19351 non-null  float64\n",
      " 2   dob_years         21525 non-null  int64  \n",
      " 3   education         21525 non-null  object \n",
      " 4   education_id      21525 non-null  int64  \n",
      " 5   family_status     21525 non-null  object \n",
      " 6   family_status_id  21525 non-null  int64  \n",
      " 7   gender            21525 non-null  object \n",
      " 8   income_type       21525 non-null  object \n",
      " 9   debt              21525 non-null  int64  \n",
      " 10  total_income      19351 non-null  float64\n",
      " 11  purpose           21525 non-null  object \n",
      "dtypes: float64(2), int64(5), object(5)\n",
      "memory usage: 2.0+ MB\n"
     ]
    }
   ],
   "source": [
    "data.info()# ваш код здесь"
   ]
  },
  {
   "cell_type": "markdown",
   "id": "333ec665",
   "metadata": {
    "deletable": false,
    "editable": false,
    "id": "333ec665"
   },
   "source": [
    "## Предобработка данных"
   ]
  },
  {
   "cell_type": "markdown",
   "id": "02d92d53",
   "metadata": {
    "deletable": false,
    "editable": false,
    "id": "02d92d53"
   },
   "source": [
    "### Удаление пропусков"
   ]
  },
  {
   "cell_type": "markdown",
   "id": "cd84967c",
   "metadata": {
    "deletable": false,
    "editable": false,
    "id": "cd84967c",
    "tags": [
     "start_task"
    ]
   },
   "source": [
    "**Задание 4. Выведите количество пропущенных значений для каждого столбца. Используйте комбинацию двух методов.**"
   ]
  },
  {
   "cell_type": "code",
   "execution_count": 51,
   "id": "7f9b2309",
   "metadata": {
    "id": "7f9b2309"
   },
   "outputs": [
    {
     "data": {
      "text/plain": [
       "children               0\n",
       "days_employed       2174\n",
       "dob_years              0\n",
       "education              0\n",
       "education_id           0\n",
       "family_status          0\n",
       "family_status_id       0\n",
       "gender                 0\n",
       "income_type            0\n",
       "debt                   0\n",
       "total_income        2174\n",
       "purpose                0\n",
       "dtype: int64"
      ]
     },
     "execution_count": 51,
     "metadata": {},
     "output_type": "execute_result"
    }
   ],
   "source": [
    "data.isna().sum()# ваш код здесь"
   ]
  },
  {
   "cell_type": "markdown",
   "id": "db86e27b",
   "metadata": {
    "deletable": false,
    "editable": false,
    "id": "db86e27b",
    "tags": [
     "start_task"
    ]
   },
   "source": [
    "**Задание 5. В двух столбцах есть пропущенные значения. Один из них — `days_employed`. Пропуски в этом столбце вы обработаете на следующем этапе. Другой столбец с пропущенными значениями — `total_income` — хранит данные о доходах. На сумму дохода сильнее всего влияет тип занятости, поэтому заполнить пропуски в этом столбце нужно медианным значением по каждому типу из столбца `income_type`. Например, у человека с типом занятости `сотрудник` пропуск в столбце `total_income` должен быть заполнен медианным доходом среди всех записей с тем же типом.**"
   ]
  },
  {
   "cell_type": "code",
   "execution_count": 70,
   "id": "42006a93",
   "metadata": {
    "id": "42006a93"
   },
   "outputs": [],
   "source": [
    "for t in data['income_type'].unique():\n",
    "    data.loc[(data['income_type'] == t) & (data['total_income'].isna()), 'total_income'] = \\\n",
    "    data.loc[(data['income_type'] == t), 'total_income'].median()\n",
    "    \n",
    "    \n",
    "    \n",
    "    \n",
    "    # ваш код здесь"
   ]
  },
  {
   "cell_type": "markdown",
   "id": "89da5ece",
   "metadata": {
    "deletable": false,
    "editable": false,
    "id": "89da5ece"
   },
   "source": [
    "### Обработка аномальных значений"
   ]
  },
  {
   "cell_type": "markdown",
   "id": "57964554",
   "metadata": {
    "deletable": false,
    "editable": false,
    "id": "57964554",
    "tags": [
     "start_task"
    ]
   },
   "source": [
    "**Задание 6. В данных могут встречаться артефакты (аномалии) — значения, которые не отражают действительность и появились по какой-то ошибке. Таким артефактом будет отрицательное количество дней трудового стажа в столбце `days_employed`. Для реальных данных это нормально. Обработайте значения в этом столбце: замените все отрицательные значения положительными с помощью метода `abs()`.**"
   ]
  },
  {
   "cell_type": "code",
   "execution_count": 53,
   "id": "f6f055bf",
   "metadata": {
    "id": "f6f055bf"
   },
   "outputs": [],
   "source": [
    "data['days_employed'] = abs(data['days_employed'])# ваш код здесь"
   ]
  },
  {
   "cell_type": "markdown",
   "id": "6107dd2f",
   "metadata": {
    "deletable": false,
    "editable": false,
    "id": "6107dd2f",
    "tags": [
     "start_task"
    ]
   },
   "source": [
    "**Задание 7. Для каждого типа занятости выведите медианное значение трудового стажа `days_employed` в днях.**"
   ]
  },
  {
   "cell_type": "code",
   "execution_count": 54,
   "id": "85a5faf6",
   "metadata": {
    "id": "85a5faf6"
   },
   "outputs": [
    {
     "data": {
      "text/plain": [
       "income_type\n",
       "безработный        366413.652744\n",
       "в декрете            3296.759962\n",
       "госслужащий          2689.368353\n",
       "компаньон            1547.382223\n",
       "пенсионер          365213.306266\n",
       "предприниматель       520.848083\n",
       "сотрудник            1574.202821\n",
       "студент               578.751554\n",
       "Name: days_employed, dtype: float64"
      ]
     },
     "execution_count": 54,
     "metadata": {},
     "output_type": "execute_result"
    }
   ],
   "source": [
    "data.groupby('income_type')['days_employed'].median()# ваш код здесь"
   ]
  },
  {
   "cell_type": "markdown",
   "id": "38d1a030",
   "metadata": {
    "deletable": false,
    "editable": false,
    "id": "38d1a030"
   },
   "source": [
    "У двух типов (безработные и пенсионеры) получатся аномально большие значения. Исправить такие значения сложно, поэтому оставьте их как есть. Тем более этот столбец не понадобится вам для исследования."
   ]
  },
  {
   "cell_type": "markdown",
   "id": "d8a9f147",
   "metadata": {
    "deletable": false,
    "editable": false,
    "id": "d8a9f147",
    "tags": [
     "start_task"
    ]
   },
   "source": [
    "**Задание 8. Выведите перечень уникальных значений столбца `children`.**"
   ]
  },
  {
   "cell_type": "code",
   "execution_count": 55,
   "id": "ef5056eb",
   "metadata": {
    "id": "ef5056eb"
   },
   "outputs": [
    {
     "data": {
      "text/plain": [
       "array([ 1,  0,  3,  2, -1,  4, 20,  5])"
      ]
     },
     "execution_count": 55,
     "metadata": {},
     "output_type": "execute_result"
    }
   ],
   "source": [
    "data['children'].unique()# ваш код здесь"
   ]
  },
  {
   "cell_type": "markdown",
   "id": "40b9ebf2",
   "metadata": {
    "deletable": false,
    "editable": false,
    "id": "40b9ebf2",
    "tags": [
     "start_task"
    ]
   },
   "source": [
    "**Задание 9. В столбце `children` есть два аномальных значения. Удалите строки, в которых встречаются такие аномальные значения из датафрейма `data`.**"
   ]
  },
  {
   "cell_type": "code",
   "execution_count": 56,
   "id": "3ff9801d",
   "metadata": {
    "id": "3ff9801d"
   },
   "outputs": [],
   "source": [
    "data = data[(data['children'] != -1) & (data['children'] != 20)]# ваш код здесь"
   ]
  },
  {
   "cell_type": "markdown",
   "id": "bbc4d0ce",
   "metadata": {
    "deletable": false,
    "editable": false,
    "id": "bbc4d0ce",
    "tags": [
     "start_task"
    ]
   },
   "source": [
    "**Задание 10. Ещё раз выведите перечень уникальных значений столбца `children`, чтобы убедиться, что артефакты удалены.**"
   ]
  },
  {
   "cell_type": "code",
   "execution_count": 57,
   "id": "ad4fa8b7",
   "metadata": {
    "id": "ad4fa8b7"
   },
   "outputs": [
    {
     "data": {
      "text/plain": [
       "array([1, 0, 3, 2, 4, 5])"
      ]
     },
     "execution_count": 57,
     "metadata": {},
     "output_type": "execute_result"
    }
   ],
   "source": [
    "data['children'].unique()# ваш код здесь"
   ]
  },
  {
   "cell_type": "markdown",
   "id": "75440b63",
   "metadata": {
    "deletable": false,
    "editable": false,
    "id": "75440b63"
   },
   "source": [
    "### Удаление пропусков (продолжение)"
   ]
  },
  {
   "cell_type": "markdown",
   "id": "f4ea573f",
   "metadata": {
    "deletable": false,
    "editable": false,
    "id": "f4ea573f",
    "tags": [
     "start_task"
    ]
   },
   "source": [
    "**Задание 11. Заполните пропуски в столбце `days_employed` медианными значениями по каждому типу занятости `income_type`.**"
   ]
  },
  {
   "cell_type": "code",
   "execution_count": 58,
   "id": "af6b1a7e",
   "metadata": {
    "id": "af6b1a7e"
   },
   "outputs": [],
   "source": [
    "for t in data['income_type'].unique():\n",
    "    data.loc[(data['income_type'] == t) & (data['days_employed'].isna()), 'days_employed'] = \\\n",
    "    data.loc[(data['income_type'] == t), 'days_employed'].median()"
   ]
  },
  {
   "cell_type": "markdown",
   "id": "2753f40d",
   "metadata": {
    "deletable": false,
    "editable": false,
    "id": "2753f40d",
    "tags": [
     "start_task"
    ]
   },
   "source": [
    "**Задание 12. Убедитесь, что все пропуски заполнены. Проверьте себя и ещё раз выведите количество пропущенных значений для каждого столбца с помощью двух методов.**"
   ]
  },
  {
   "cell_type": "code",
   "execution_count": 59,
   "id": "55f78bc2",
   "metadata": {
    "id": "55f78bc2"
   },
   "outputs": [
    {
     "data": {
      "text/plain": [
       "children            0\n",
       "days_employed       0\n",
       "dob_years           0\n",
       "education           0\n",
       "education_id        0\n",
       "family_status       0\n",
       "family_status_id    0\n",
       "gender              0\n",
       "income_type         0\n",
       "debt                0\n",
       "total_income        0\n",
       "purpose             0\n",
       "dtype: int64"
      ]
     },
     "execution_count": 59,
     "metadata": {},
     "output_type": "execute_result"
    }
   ],
   "source": [
    "data.isna().sum()# ваш код здесь"
   ]
  },
  {
   "cell_type": "markdown",
   "id": "ddc81e43",
   "metadata": {
    "deletable": false,
    "editable": false,
    "id": "ddc81e43"
   },
   "source": [
    "### Изменение типов данных"
   ]
  },
  {
   "cell_type": "markdown",
   "id": "42d19d24",
   "metadata": {
    "deletable": false,
    "editable": false,
    "id": "42d19d24",
    "tags": [
     "start_task"
    ]
   },
   "source": [
    "**Задание 13. Замените вещественный тип данных в столбце `total_income` на целочисленный с помощью метода `astype()`.**"
   ]
  },
  {
   "cell_type": "code",
   "execution_count": 60,
   "id": "920b65ad",
   "metadata": {
    "id": "920b65ad"
   },
   "outputs": [],
   "source": [
    "data['total_income'] =  data['total_income'].astype('int') #ваш код здесь"
   ]
  },
  {
   "cell_type": "markdown",
   "id": "80c420ba",
   "metadata": {
    "deletable": false,
    "editable": false,
    "id": "80c420ba"
   },
   "source": [
    "### Обработка дубликатов"
   ]
  },
  {
   "cell_type": "markdown",
   "id": "dc587695",
   "metadata": {
    "deletable": false,
    "editable": false,
    "id": "dc587695",
    "tags": [
     "start_task"
    ]
   },
   "source": [
    "**Задание 14. Обработайте неявные дубликаты в столбце `education`. В этом столбце есть одни и те же значения, но записанные по-разному: с использованием заглавных и строчных букв. Приведите их к нижнему регистру.**"
   ]
  },
  {
   "cell_type": "code",
   "execution_count": 78,
   "id": "a9f8e2bf",
   "metadata": {
    "id": "a9f8e2bf"
   },
   "outputs": [
    {
     "name": "stdout",
     "output_type": "stream",
     "text": [
      "0         высшее\n",
      "1        среднее\n",
      "2        среднее\n",
      "3        среднее\n",
      "4        среднее\n",
      "          ...   \n",
      "21520    среднее\n",
      "21521    среднее\n",
      "21522    среднее\n",
      "21523    среднее\n",
      "21524    среднее\n",
      "Name: education, Length: 21402, dtype: object\n"
     ]
    }
   ],
   "source": [
    "data['education'] = data['education'].str.lower()\n",
    "data['education'] = data['education'].replace(' высшее', 'высшее')\n",
    "print(data['education'])"
   ]
  },
  {
   "cell_type": "markdown",
   "id": "9771a76c",
   "metadata": {
    "deletable": false,
    "editable": false,
    "id": "9771a76c",
    "tags": [
     "start_task"
    ]
   },
   "source": [
    "**Задание 15. Выведите на экран количество строк-дубликатов в данных. Если такие строки присутствуют, удалите их. Сбрасывать индексы после удаления строк дубликатов с помощью `reset_index(drop=True)` здесь не требуется.**"
   ]
  },
  {
   "cell_type": "code",
   "execution_count": 84,
   "id": "3ee445e4",
   "metadata": {
    "id": "3ee445e4"
   },
   "outputs": [
    {
     "data": {
      "text/plain": [
       "0                    высшее\n",
       "1                   среднее\n",
       "13      неоконченное высшее\n",
       "31                начальное\n",
       "2963         ученая степень\n",
       "Name: education, dtype: object"
      ]
     },
     "execution_count": 84,
     "metadata": {},
     "output_type": "execute_result"
    }
   ],
   "source": [
    "data['education'].duplicated().sum()\n",
    "data['education'].drop_duplicates()# посчитайте дубликаты"
   ]
  },
  {
   "cell_type": "code",
   "execution_count": 63,
   "id": "8575fe05",
   "metadata": {
    "id": "8575fe05"
   },
   "outputs": [],
   "source": [
    "# удалите дубликаты"
   ]
  },
  {
   "cell_type": "markdown",
   "id": "9904cf55",
   "metadata": {
    "deletable": false,
    "editable": false,
    "id": "9904cf55"
   },
   "source": [
    "### Категоризация данных"
   ]
  },
  {
   "cell_type": "markdown",
   "id": "72fcc8a2",
   "metadata": {
    "deletable": false,
    "editable": false,
    "id": "72fcc8a2",
    "tags": [
     "start_task"
    ]
   },
   "source": [
    "**Задание 16. На основании диапазонов, указанных ниже, создайте в датафрейме `data` столбец `total_income_category` с категориями:**\n",
    "\n",
    "- 0–30000 — `'E'`;\n",
    "- 30001–50000 — `'D'`;\n",
    "- 50001–200000 — `'C'`;\n",
    "- 200001–1000000 — `'B'`;\n",
    "- 1000001 и выше — `'A'`.\n",
    "\n",
    "\n",
    "**Например, кредитополучателю с доходом 25000 нужно назначить категорию `'E'`, а клиенту, получающему 235000, — `'B'`. Используйте собственную функцию с именем `categorize_income()` и метод `apply()`.**"
   ]
  },
  {
   "cell_type": "code",
   "execution_count": 24,
   "id": "e1771346",
   "metadata": {
    "id": "e1771346"
   },
   "outputs": [],
   "source": [
    "def categorize_income(income):\n",
    "    if income <= 30000:\n",
    "        return 'E'\n",
    "    if income >= 30001 and income <= 50000:\n",
    "        return 'D'\n",
    "    if income >= 50001 and income <= 200000:\n",
    "        return 'C'\n",
    "    if income >= 200001 and income <= 1000000:\n",
    "        return 'B'\n",
    "    if income >= 1000001:\n",
    "        return 'A'\n",
    "data['total_income_category'] = data['total_income'].apply(categorize_income)\n",
    "  \n"
   ]
  },
  {
   "cell_type": "code",
   "execution_count": 25,
   "id": "d5f3586d",
   "metadata": {
    "id": "d5f3586d"
   },
   "outputs": [],
   "source": [
    "data['total_income_category'] = data['total_income'].apply(categorize_income)# примените функцию методом apply()"
   ]
  },
  {
   "cell_type": "markdown",
   "id": "dde49b5c",
   "metadata": {
    "deletable": false,
    "editable": false,
    "id": "dde49b5c",
    "tags": [
     "start_task"
    ]
   },
   "source": [
    "**Задание 17. Выведите на экран перечень уникальных целей взятия кредита из столбца `purpose`.**"
   ]
  },
  {
   "cell_type": "code",
   "execution_count": 26,
   "id": "f67ce9b3",
   "metadata": {
    "id": "f67ce9b3"
   },
   "outputs": [
    {
     "data": {
      "text/plain": [
       "array(['покупка жилья', 'приобретение автомобиля',\n",
       "       'дополнительное образование', 'сыграть свадьбу',\n",
       "       'операции с жильем', 'образование', 'на проведение свадьбы',\n",
       "       'покупка жилья для семьи', 'покупка недвижимости',\n",
       "       'покупка коммерческой недвижимости', 'покупка жилой недвижимости',\n",
       "       'строительство собственной недвижимости', 'недвижимость',\n",
       "       'строительство недвижимости', 'на покупку подержанного автомобиля',\n",
       "       'на покупку своего автомобиля',\n",
       "       'операции с коммерческой недвижимостью',\n",
       "       'строительство жилой недвижимости', 'жилье',\n",
       "       'операции со своей недвижимостью', 'автомобили',\n",
       "       'заняться образованием', 'сделка с подержанным автомобилем',\n",
       "       'получение образования', 'автомобиль', 'свадьба',\n",
       "       'получение дополнительного образования', 'покупка своего жилья',\n",
       "       'операции с недвижимостью', 'получение высшего образования',\n",
       "       'свой автомобиль', 'сделка с автомобилем',\n",
       "       'профильное образование', 'высшее образование',\n",
       "       'покупка жилья для сдачи', 'на покупку автомобиля', 'ремонт жилью',\n",
       "       'заняться высшим образованием'], dtype=object)"
      ]
     },
     "execution_count": 26,
     "metadata": {},
     "output_type": "execute_result"
    }
   ],
   "source": [
    "data['purpose'].unique()# ваш код здесь"
   ]
  },
  {
   "cell_type": "markdown",
   "id": "85d0aef0",
   "metadata": {
    "deletable": false,
    "editable": false,
    "id": "85d0aef0",
    "tags": [
     "start_task"
    ]
   },
   "source": [
    "**Задание 18. Создайте функцию, которая на основании данных из столбца `purpose` сформирует новый столбец `purpose_category`, в который войдут следующие категории:**\n",
    "\n",
    "- `'операции с автомобилем'`,\n",
    "- `'операции с недвижимостью'`,\n",
    "- `'проведение свадьбы'`,\n",
    "- `'получение образования'`.\n",
    "\n",
    "**Например, если в столбце `purpose` находится подстрока `'на покупку автомобиля'`, то в столбце `purpose_category` должна появиться строка `'операции с автомобилем'`.**\n",
    "\n",
    "**Используйте собственную функцию с именем `categorize_purpose()` и метод `apply()`. Изучите данные в столбце `purpose` и определите, какие подстроки помогут вам правильно определить категорию.**"
   ]
  },
  {
   "cell_type": "code",
   "execution_count": 27,
   "id": "e149fab4",
   "metadata": {
    "id": "e149fab4"
   },
   "outputs": [],
   "source": [
    "def categorize_purpose(reason):\n",
    "    try:\n",
    "        if 'автом' in reason:\n",
    "            return 'операции с автомобилем'\n",
    "        elif 'жил' in reason or 'недвиж' in reason:\n",
    "            return 'операции с недвижимостью'\n",
    "        if 'свад' in reason:\n",
    "            return 'проведение свадьбы'\n",
    "        if 'образов' in reason:\n",
    "            return 'получение образования'\n",
    "    except: \n",
    "            return 'нет категории'\n",
    "\n",
    "  # создайте функцию categorize_purpose()"
   ]
  },
  {
   "cell_type": "code",
   "execution_count": 68,
   "id": "bf36e69b",
   "metadata": {
    "id": "bf36e69b"
   },
   "outputs": [],
   "source": [
    "data['purpose_category'] = data['purpose'].apply(categorize_purpose)# примените функцию методом apply()"
   ]
  }
 ],
 "metadata": {
  "ExecuteTimeLog": [
   {
    "duration": 54,
    "start_time": "2022-11-10T20:53:53.471Z"
   },
   {
    "duration": 464,
    "start_time": "2022-11-10T20:54:08.607Z"
   },
   {
    "duration": 141,
    "start_time": "2022-11-10T20:54:10.193Z"
   },
   {
    "duration": 84,
    "start_time": "2022-11-10T20:54:13.624Z"
   },
   {
    "duration": 23,
    "start_time": "2022-11-10T20:54:23.064Z"
   },
   {
    "duration": 17,
    "start_time": "2022-11-10T20:55:04.902Z"
   },
   {
    "duration": 42,
    "start_time": "2022-11-10T20:55:56.032Z"
   },
   {
    "duration": 27,
    "start_time": "2022-11-10T20:56:07.871Z"
   },
   {
    "duration": 12,
    "start_time": "2022-11-10T20:56:54.204Z"
   },
   {
    "duration": 42,
    "start_time": "2022-11-10T20:57:02.031Z"
   },
   {
    "duration": 53,
    "start_time": "2022-11-11T07:11:03.807Z"
   },
   {
    "duration": 327,
    "start_time": "2022-11-11T07:11:10.889Z"
   },
   {
    "duration": 312,
    "start_time": "2022-11-11T07:11:11.867Z"
   },
   {
    "duration": 27,
    "start_time": "2022-11-11T07:11:14.813Z"
   },
   {
    "duration": 14,
    "start_time": "2022-11-11T07:11:20.827Z"
   },
   {
    "duration": 38,
    "start_time": "2022-11-11T07:11:24.039Z"
   },
   {
    "duration": 17,
    "start_time": "2022-11-11T07:12:14.463Z"
   },
   {
    "duration": 17,
    "start_time": "2022-11-11T07:13:04.724Z"
   },
   {
    "duration": 16,
    "start_time": "2022-11-11T07:13:13.583Z"
   },
   {
    "duration": 28,
    "start_time": "2022-11-11T07:17:28.507Z"
   },
   {
    "duration": 30,
    "start_time": "2022-11-11T07:17:41.387Z"
   },
   {
    "duration": 740,
    "start_time": "2022-11-11T07:20:53.036Z"
   },
   {
    "duration": 15,
    "start_time": "2022-11-11T07:21:09.076Z"
   },
   {
    "duration": 10,
    "start_time": "2022-11-11T07:22:44.187Z"
   },
   {
    "duration": 9,
    "start_time": "2022-11-11T07:22:53.603Z"
   },
   {
    "duration": 7,
    "start_time": "2022-11-11T07:23:05.307Z"
   },
   {
    "duration": 8,
    "start_time": "2022-11-11T07:23:27.388Z"
   },
   {
    "duration": 22,
    "start_time": "2022-11-11T07:24:19.763Z"
   },
   {
    "duration": 16,
    "start_time": "2022-11-11T07:24:51.938Z"
   },
   {
    "duration": 11,
    "start_time": "2022-11-11T07:28:55.627Z"
   },
   {
    "duration": 15,
    "start_time": "2022-11-11T07:29:14.106Z"
   },
   {
    "duration": 497,
    "start_time": "2022-11-11T14:17:01.974Z"
   },
   {
    "duration": 136,
    "start_time": "2022-11-11T14:17:02.473Z"
   },
   {
    "duration": 23,
    "start_time": "2022-11-11T14:17:02.611Z"
   },
   {
    "duration": 16,
    "start_time": "2022-11-11T14:17:02.636Z"
   },
   {
    "duration": 11,
    "start_time": "2022-11-11T14:17:02.654Z"
   },
   {
    "duration": 13,
    "start_time": "2022-11-11T14:17:02.666Z"
   },
   {
    "duration": 9,
    "start_time": "2022-11-11T14:17:02.680Z"
   },
   {
    "duration": 7,
    "start_time": "2022-11-11T14:17:02.691Z"
   },
   {
    "duration": 5,
    "start_time": "2022-11-11T14:17:02.700Z"
   },
   {
    "duration": 4,
    "start_time": "2022-11-11T14:17:02.707Z"
   },
   {
    "duration": 7,
    "start_time": "2022-11-11T14:17:02.713Z"
   },
   {
    "duration": 7,
    "start_time": "2022-11-11T14:17:02.721Z"
   },
   {
    "duration": 5,
    "start_time": "2022-11-11T14:17:02.730Z"
   },
   {
    "duration": 8,
    "start_time": "2022-11-11T14:17:02.738Z"
   },
   {
    "duration": 6,
    "start_time": "2022-11-11T14:17:02.747Z"
   },
   {
    "duration": 5,
    "start_time": "2022-11-11T14:17:02.754Z"
   },
   {
    "duration": 17,
    "start_time": "2022-11-11T14:17:02.761Z"
   },
   {
    "duration": 3,
    "start_time": "2022-11-11T14:17:02.779Z"
   },
   {
    "duration": 14,
    "start_time": "2022-11-11T14:17:02.783Z"
   },
   {
    "duration": 5,
    "start_time": "2022-11-11T14:17:02.799Z"
   },
   {
    "duration": 5,
    "start_time": "2022-11-11T14:17:02.806Z"
   },
   {
    "duration": 4,
    "start_time": "2022-11-11T14:17:02.813Z"
   },
   {
    "duration": 39,
    "start_time": "2022-11-11T14:17:13.520Z"
   },
   {
    "duration": 11,
    "start_time": "2022-11-11T14:34:41.066Z"
   },
   {
    "duration": 4,
    "start_time": "2022-11-11T14:34:47.549Z"
   },
   {
    "duration": 3,
    "start_time": "2022-11-11T14:35:48.192Z"
   },
   {
    "duration": 12,
    "start_time": "2022-11-11T14:35:53.945Z"
   },
   {
    "duration": 6,
    "start_time": "2022-11-11T14:36:47.785Z"
   },
   {
    "duration": 75,
    "start_time": "2022-11-11T14:43:52.725Z"
   },
   {
    "duration": 9,
    "start_time": "2022-11-11T14:44:39.385Z"
   },
   {
    "duration": 76,
    "start_time": "2022-11-11T14:52:51.861Z"
   },
   {
    "duration": 7,
    "start_time": "2022-11-11T14:54:38.862Z"
   },
   {
    "duration": 7,
    "start_time": "2022-11-11T14:54:45.478Z"
   },
   {
    "duration": 1119,
    "start_time": "2022-11-11T14:55:20.801Z"
   },
   {
    "duration": 6,
    "start_time": "2022-11-11T14:55:28.369Z"
   },
   {
    "duration": 31,
    "start_time": "2022-11-11T15:03:30.317Z"
   },
   {
    "duration": 17,
    "start_time": "2022-11-11T15:09:39.940Z"
   },
   {
    "duration": 417,
    "start_time": "2022-11-12T06:53:53.140Z"
   },
   {
    "duration": 304,
    "start_time": "2022-11-12T06:53:53.560Z"
   },
   {
    "duration": 30,
    "start_time": "2022-11-12T06:53:53.866Z"
   },
   {
    "duration": 20,
    "start_time": "2022-11-12T06:53:53.899Z"
   },
   {
    "duration": 12,
    "start_time": "2022-11-12T06:53:53.922Z"
   },
   {
    "duration": 49,
    "start_time": "2022-11-12T06:53:53.936Z"
   },
   {
    "duration": 4,
    "start_time": "2022-11-12T06:53:53.987Z"
   },
   {
    "duration": 27,
    "start_time": "2022-11-12T06:53:53.993Z"
   },
   {
    "duration": 5,
    "start_time": "2022-11-12T06:53:54.022Z"
   },
   {
    "duration": 12,
    "start_time": "2022-11-12T06:53:54.028Z"
   },
   {
    "duration": 5,
    "start_time": "2022-11-12T06:53:54.041Z"
   },
   {
    "duration": 106,
    "start_time": "2022-11-12T06:53:54.048Z"
   },
   {
    "duration": 0,
    "start_time": "2022-11-12T06:53:54.156Z"
   },
   {
    "duration": 0,
    "start_time": "2022-11-12T06:53:54.158Z"
   },
   {
    "duration": 0,
    "start_time": "2022-11-12T06:53:54.159Z"
   },
   {
    "duration": 0,
    "start_time": "2022-11-12T06:53:54.160Z"
   },
   {
    "duration": 0,
    "start_time": "2022-11-12T06:53:54.161Z"
   },
   {
    "duration": 0,
    "start_time": "2022-11-12T06:53:54.162Z"
   },
   {
    "duration": 0,
    "start_time": "2022-11-12T06:53:54.164Z"
   },
   {
    "duration": 0,
    "start_time": "2022-11-12T06:53:54.165Z"
   },
   {
    "duration": 0,
    "start_time": "2022-11-12T06:53:54.166Z"
   },
   {
    "duration": 0,
    "start_time": "2022-11-12T06:53:54.168Z"
   },
   {
    "duration": 16,
    "start_time": "2022-11-12T06:53:59.669Z"
   },
   {
    "duration": 9,
    "start_time": "2022-11-12T06:56:36.007Z"
   },
   {
    "duration": 4,
    "start_time": "2022-11-12T07:00:34.720Z"
   },
   {
    "duration": 115,
    "start_time": "2022-11-12T07:00:34.726Z"
   },
   {
    "duration": 16,
    "start_time": "2022-11-12T07:00:34.843Z"
   },
   {
    "duration": 17,
    "start_time": "2022-11-12T07:00:34.861Z"
   },
   {
    "duration": 20,
    "start_time": "2022-11-12T07:00:34.880Z"
   },
   {
    "duration": 49,
    "start_time": "2022-11-12T07:00:34.901Z"
   },
   {
    "duration": 3,
    "start_time": "2022-11-12T07:00:34.952Z"
   },
   {
    "duration": 18,
    "start_time": "2022-11-12T07:00:34.957Z"
   },
   {
    "duration": 6,
    "start_time": "2022-11-12T07:00:34.978Z"
   },
   {
    "duration": 7,
    "start_time": "2022-11-12T07:00:34.986Z"
   },
   {
    "duration": 26,
    "start_time": "2022-11-12T07:00:34.995Z"
   },
   {
    "duration": 11,
    "start_time": "2022-11-12T07:00:35.026Z"
   },
   {
    "duration": 8,
    "start_time": "2022-11-12T07:00:35.041Z"
   },
   {
    "duration": 13,
    "start_time": "2022-11-12T07:00:35.051Z"
   },
   {
    "duration": 15,
    "start_time": "2022-11-12T07:00:35.066Z"
   },
   {
    "duration": 7,
    "start_time": "2022-11-12T07:00:35.083Z"
   },
   {
    "duration": 8,
    "start_time": "2022-11-12T07:00:35.092Z"
   },
   {
    "duration": 8,
    "start_time": "2022-11-12T07:00:35.102Z"
   },
   {
    "duration": 22,
    "start_time": "2022-11-12T07:00:35.112Z"
   },
   {
    "duration": 10,
    "start_time": "2022-11-12T07:00:35.136Z"
   },
   {
    "duration": 4,
    "start_time": "2022-11-12T07:00:35.148Z"
   },
   {
    "duration": 11,
    "start_time": "2022-11-12T07:00:35.154Z"
   },
   {
    "duration": 63,
    "start_time": "2022-11-12T07:01:13.204Z"
   },
   {
    "duration": 21,
    "start_time": "2022-11-12T07:01:58.226Z"
   },
   {
    "duration": 73,
    "start_time": "2022-11-12T07:02:51.813Z"
   },
   {
    "duration": 109,
    "start_time": "2022-11-12T07:04:04.159Z"
   },
   {
    "duration": 5,
    "start_time": "2022-11-12T07:06:37.982Z"
   },
   {
    "duration": 18,
    "start_time": "2022-11-12T07:13:34.135Z"
   },
   {
    "duration": 34,
    "start_time": "2022-11-12T07:14:43.425Z"
   },
   {
    "duration": 11,
    "start_time": "2022-11-12T07:15:25.582Z"
   },
   {
    "duration": 20,
    "start_time": "2022-11-12T07:15:28.848Z"
   },
   {
    "duration": 23,
    "start_time": "2022-11-12T07:16:00.836Z"
   },
   {
    "duration": 3,
    "start_time": "2022-11-12T07:24:53.068Z"
   },
   {
    "duration": 119,
    "start_time": "2022-11-12T07:24:53.072Z"
   },
   {
    "duration": 16,
    "start_time": "2022-11-12T07:24:53.193Z"
   },
   {
    "duration": 26,
    "start_time": "2022-11-12T07:24:53.211Z"
   },
   {
    "duration": 19,
    "start_time": "2022-11-12T07:24:53.240Z"
   },
   {
    "duration": 33,
    "start_time": "2022-11-12T07:24:53.260Z"
   },
   {
    "duration": 3,
    "start_time": "2022-11-12T07:24:53.295Z"
   },
   {
    "duration": 14,
    "start_time": "2022-11-12T07:24:53.300Z"
   },
   {
    "duration": 10,
    "start_time": "2022-11-12T07:24:53.315Z"
   },
   {
    "duration": 16,
    "start_time": "2022-11-12T07:24:53.329Z"
   },
   {
    "duration": 5,
    "start_time": "2022-11-12T07:24:53.347Z"
   },
   {
    "duration": 35,
    "start_time": "2022-11-12T07:24:53.354Z"
   },
   {
    "duration": 9,
    "start_time": "2022-11-12T07:24:53.391Z"
   },
   {
    "duration": 21,
    "start_time": "2022-11-12T07:24:53.403Z"
   },
   {
    "duration": 45,
    "start_time": "2022-11-12T07:24:53.428Z"
   },
   {
    "duration": 18,
    "start_time": "2022-11-12T07:24:53.475Z"
   },
   {
    "duration": 8,
    "start_time": "2022-11-12T07:24:53.494Z"
   },
   {
    "duration": 9,
    "start_time": "2022-11-12T07:24:53.503Z"
   },
   {
    "duration": 22,
    "start_time": "2022-11-12T07:24:53.513Z"
   },
   {
    "duration": 20,
    "start_time": "2022-11-12T07:24:53.538Z"
   },
   {
    "duration": 7,
    "start_time": "2022-11-12T07:24:53.560Z"
   },
   {
    "duration": 14,
    "start_time": "2022-11-12T07:24:53.568Z"
   },
   {
    "duration": 21,
    "start_time": "2022-11-12T07:24:58.818Z"
   },
   {
    "duration": 34,
    "start_time": "2022-11-12T07:25:07.380Z"
   },
   {
    "duration": 12,
    "start_time": "2022-11-12T07:25:23.160Z"
   },
   {
    "duration": 18,
    "start_time": "2022-11-12T07:25:47.941Z"
   },
   {
    "duration": 14,
    "start_time": "2022-11-12T07:26:02.139Z"
   },
   {
    "duration": 16,
    "start_time": "2022-11-12T07:27:04.160Z"
   },
   {
    "duration": 26,
    "start_time": "2022-11-12T07:27:20.432Z"
   },
   {
    "duration": 23,
    "start_time": "2022-11-12T07:27:32.441Z"
   },
   {
    "duration": 15,
    "start_time": "2022-11-12T07:30:37.541Z"
   },
   {
    "duration": 16,
    "start_time": "2022-11-12T07:31:03.267Z"
   },
   {
    "duration": 7,
    "start_time": "2022-11-12T07:32:01.343Z"
   },
   {
    "duration": 14,
    "start_time": "2022-11-12T07:32:45.720Z"
   },
   {
    "duration": 9,
    "start_time": "2022-11-12T07:33:05.787Z"
   },
   {
    "duration": 7,
    "start_time": "2022-11-12T07:33:43.749Z"
   },
   {
    "duration": 8,
    "start_time": "2022-11-12T07:34:29.573Z"
   },
   {
    "duration": 9,
    "start_time": "2022-11-12T07:34:46.935Z"
   },
   {
    "duration": 3,
    "start_time": "2022-11-12T12:04:37.016Z"
   },
   {
    "duration": 10,
    "start_time": "2022-11-12T12:11:03.155Z"
   },
   {
    "duration": 10,
    "start_time": "2022-11-12T12:11:50.915Z"
   },
   {
    "duration": 6,
    "start_time": "2022-11-12T12:12:24.973Z"
   },
   {
    "duration": 11,
    "start_time": "2022-11-12T12:37:02.692Z"
   }
  ],
  "colab": {
   "provenance": []
  },
  "kernelspec": {
   "display_name": "Python 3 (ipykernel)",
   "language": "python",
   "name": "python3"
  },
  "language_info": {
   "codemirror_mode": {
    "name": "ipython",
    "version": 3
   },
   "file_extension": ".py",
   "mimetype": "text/x-python",
   "name": "python",
   "nbconvert_exporter": "python",
   "pygments_lexer": "ipython3",
   "version": "3.9.13"
  },
  "toc": {
   "base_numbering": 1,
   "nav_menu": {},
   "number_sections": true,
   "sideBar": true,
   "skip_h1_title": true,
   "title_cell": "Table of Contents",
   "title_sidebar": "Contents",
   "toc_cell": false,
   "toc_position": {},
   "toc_section_display": true,
   "toc_window_display": false
  }
 },
 "nbformat": 4,
 "nbformat_minor": 5
}
